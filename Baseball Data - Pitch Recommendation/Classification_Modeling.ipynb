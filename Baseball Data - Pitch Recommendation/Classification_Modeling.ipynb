{
 "cells": [
  {
   "cell_type": "markdown",
   "metadata": {},
   "source": [
    "** Testing with the games from the entire season ** <br>\n"
   ]
  },
  {
   "cell_type": "markdown",
   "metadata": {
    "heading_collapsed": true
   },
   "source": [
    "# Imports "
   ]
  },
  {
   "cell_type": "code",
   "execution_count": 1,
   "metadata": {
    "hidden": true
   },
   "outputs": [
    {
     "name": "stderr",
     "output_type": "stream",
     "text": [
      "/Users/vicky/anaconda3/lib/python3.6/site-packages/sklearn/cross_validation.py:41: DeprecationWarning: This module was deprecated in version 0.18 in favor of the model_selection module into which all the refactored classes and functions are moved. Also note that the interface of the new CV iterators are different from that of this module. This module will be removed in 0.20.\n",
      "  \"This module will be removed in 0.20.\", DeprecationWarning)\n"
     ]
    }
   ],
   "source": [
    "import pandas as pd\n",
    "from sklearn.model_selection import train_test_split\n",
    "from sklearn.metrics import accuracy_score\n",
    "from __future__ import print_function\n",
    "from sklearn.neighbors import KNeighborsClassifier\n",
    "from sklearn import metrics\n",
    "\n",
    "import numpy as np\n",
    "import seaborn as sns\n",
    "\n",
    "import matplotlib.pyplot as plt\n",
    "%matplotlib inline\n",
    "\n",
    "from __future__ import division\n",
    "pd.set_option('display.width',5000)\n",
    "\n",
    "from sklearn import linear_model as lm\n",
    "from sklearn.linear_model import LogisticRegression\n",
    "from sklearn import cross_validation\n",
    "from sklearn import metrics\n",
    "from sklearn.metrics import confusion_matrix"
   ]
  },
  {
   "cell_type": "markdown",
   "metadata": {
    "heading_collapsed": true
   },
   "source": [
    "# Load and Prep Data"
   ]
  },
  {
   "cell_type": "markdown",
   "metadata": {
    "hidden": true
   },
   "source": [
    "#### Loading"
   ]
  },
  {
   "cell_type": "code",
   "execution_count": 2,
   "metadata": {
    "hidden": true
   },
   "outputs": [],
   "source": [
    "carddata = pd.read_csv('AllSeason.csv').drop('Unnamed: 0',1)"
   ]
  },
  {
   "cell_type": "code",
   "execution_count": 3,
   "metadata": {
    "hidden": true
   },
   "outputs": [
    {
     "data": {
      "text/plain": [
       "Carpenter    586\n",
       "Fowler       561\n",
       "Martinez     549\n",
       "DeJong       541\n",
       "Ozuna        514\n",
       "Pham         465\n",
       "Molina       457\n",
       "Wong         375\n",
       "Bader        265\n",
       "Gyorko       186\n",
       "García       168\n",
       "Munoz         74\n",
       "Wacha         59\n",
       "Martínez      57\n",
       "Weaver        55\n",
       "Peña          54\n",
       "Mikolas       51\n",
       "Name: hitter.last_name, dtype: int64"
      ]
     },
     "execution_count": 3,
     "metadata": {},
     "output_type": "execute_result"
    }
   ],
   "source": [
    "carddata['hitter.last_name'].value_counts()"
   ]
  },
  {
   "cell_type": "code",
   "execution_count": 4,
   "metadata": {
    "hidden": true
   },
   "outputs": [],
   "source": [
    "##Selecting out final inputs. \n",
    "carddata_input = carddata.filter(items = [\n",
    "       'hitter.last_name', \n",
    "       'pitcher.pitch_type',\n",
    "       'pitcher.pitch_zone',  \n",
    "    'hit_type'])   "
   ]
  },
  {
   "cell_type": "code",
   "execution_count": 5,
   "metadata": {
    "hidden": true
   },
   "outputs": [],
   "source": [
    "carddata_input = carddata_input[carddata_input['hitter.last_name'] != 'Martínez'] "
   ]
  },
  {
   "cell_type": "code",
   "execution_count": 6,
   "metadata": {
    "hidden": true,
    "scrolled": true
   },
   "outputs": [],
   "source": [
    "carddata_input.to_csv('pitchpredict')"
   ]
  },
  {
   "cell_type": "markdown",
   "metadata": {
    "heading_collapsed": true,
    "hidden": true
   },
   "source": [
    "#### Creating Dummy variables"
   ]
  },
  {
   "cell_type": "code",
   "execution_count": 53,
   "metadata": {
    "hidden": true
   },
   "outputs": [],
   "source": [
    "carddata_dum = pd.get_dummies(carddata_input, columns= ['hitter.last_name','pitcher.pitch_type'])"
   ]
  },
  {
   "cell_type": "code",
   "execution_count": 54,
   "metadata": {
    "hidden": true,
    "scrolled": true
   },
   "outputs": [
    {
     "data": {
      "text/plain": [
       "0     4153\n",
       "GB     362\n",
       "FB     202\n",
       "LD     192\n",
       "PU      51\n",
       "Name: hit_type, dtype: int64"
      ]
     },
     "execution_count": 54,
     "metadata": {},
     "output_type": "execute_result"
    }
   ],
   "source": [
    "carddata_dum['hit_type'].value_counts()"
   ]
  },
  {
   "cell_type": "code",
   "execution_count": 55,
   "metadata": {
    "hidden": true
   },
   "outputs": [],
   "source": [
    "carddata_dum.to_csv('pitchpredict')"
   ]
  },
  {
   "cell_type": "markdown",
   "metadata": {
    "hidden": true
   },
   "source": [
    "#### Creating binary result (assigning all hit types to \"1\"). "
   ]
  },
  {
   "cell_type": "code",
   "execution_count": 7,
   "metadata": {
    "hidden": true
   },
   "outputs": [],
   "source": [
    "## Combining all types of contact\n",
    "mapper = {'0': 0, 'FB': 1 , 'LD': 1, 'PU':1, 'GB': 1}"
   ]
  },
  {
   "cell_type": "markdown",
   "metadata": {
    "hidden": true
   },
   "source": [
    "#### Split into X&y (input and predicted target)"
   ]
  },
  {
   "cell_type": "code",
   "execution_count": 57,
   "metadata": {
    "hidden": true
   },
   "outputs": [],
   "source": [
    "y = carddata_dum['hit_type'] \n",
    "X = carddata_dum.drop('hit_type',1)"
   ]
  },
  {
   "cell_type": "code",
   "execution_count": 58,
   "metadata": {
    "hidden": true,
    "scrolled": true
   },
   "outputs": [
    {
     "data": {
      "text/plain": [
       "0    4153\n",
       "1     807\n",
       "Name: hit_type, dtype: int64"
      ]
     },
     "execution_count": 58,
     "metadata": {},
     "output_type": "execute_result"
    }
   ],
   "source": [
    "y2 = y.map(mapper)\n",
    "y2.value_counts()"
   ]
  },
  {
   "cell_type": "markdown",
   "metadata": {
    "hidden": true
   },
   "source": [
    "#### Train - Test - Split"
   ]
  },
  {
   "cell_type": "code",
   "execution_count": 59,
   "metadata": {
    "hidden": true
   },
   "outputs": [],
   "source": [
    "X_train, X_test, Y_train, Y_test = train_test_split(X, y, test_size=0.3, stratify = y)"
   ]
  },
  {
   "cell_type": "code",
   "execution_count": 61,
   "metadata": {
    "hidden": true
   },
   "outputs": [
    {
     "data": {
      "text/plain": [
       "1488"
      ]
     },
     "execution_count": 61,
     "metadata": {},
     "output_type": "execute_result"
    }
   ],
   "source": [
    "len(Y_test)"
   ]
  },
  {
   "cell_type": "markdown",
   "metadata": {
    "hidden": true
   },
   "source": [
    "Type of pitches: <br>\n",
    "- CH = Changeup\n",
    "- CT = Cutter\n",
    "- CU = Curveball\n",
    "- FA = Fastball\n",
    "- SI = Fast ball (Sinker)\n",
    "- SL = Slider\n",
    "- SP = Splitter\n",
    "\n",
    "\n",
    "Additional Possible Pitch types (but none in my sample, so unable to train on these):\n",
    "- KN = Knuckleball\n",
    "- SC = Screwball\n",
    "- FO = Forkball\n",
    "- IB = Intentional Ball\n",
    "- PI = Pitchout"
   ]
  },
  {
   "cell_type": "markdown",
   "metadata": {
    "heading_collapsed": true
   },
   "source": [
    "# Predicting Binary Outcome (Hit/Put in Play)"
   ]
  },
  {
   "cell_type": "markdown",
   "metadata": {
    "hidden": true
   },
   "source": [
    "Random Forests"
   ]
  },
  {
   "cell_type": "markdown",
   "metadata": {
    "heading_collapsed": true,
    "hidden": true
   },
   "source": [
    "## Random Forest"
   ]
  },
  {
   "cell_type": "code",
   "execution_count": 11,
   "metadata": {
    "hidden": true
   },
   "outputs": [],
   "source": [
    "from sklearn.ensemble import RandomForestClassifier"
   ]
  },
  {
   "cell_type": "code",
   "execution_count": 12,
   "metadata": {
    "hidden": true
   },
   "outputs": [],
   "source": [
    "def quick_test(model, X, y):\n",
    "    model.fit(X_train, Y_train)\n",
    "    return model.score(X_test, Y_test)\n",
    "    \n",
    "\n",
    "def quick_test_afew_times(model, X, y, n=10):\n",
    "    print( np.mean([quick_test(model, X, y) for j in range(n)]))"
   ]
  },
  {
   "cell_type": "code",
   "execution_count": 132,
   "metadata": {
    "hidden": true
   },
   "outputs": [
    {
     "name": "stdout",
     "output_type": "stream",
     "text": [
      "0.7200531208499336\n"
     ]
    }
   ],
   "source": [
    "RF = RandomForestClassifier(n_estimators=10, class_weight = {0:1, 1:6})\n",
    "RF.fit(X_train,Y_train)\n",
    "RF.score(X_test, Y_test)\n",
    "\n",
    "quick_test_afew_times(RF, X_train, Y_train)"
   ]
  },
  {
   "cell_type": "markdown",
   "metadata": {
    "heading_collapsed": true,
    "hidden": true
   },
   "source": [
    "#### Classification Error Testing"
   ]
  },
  {
   "cell_type": "code",
   "execution_count": 28,
   "metadata": {
    "hidden": true
   },
   "outputs": [],
   "source": [
    "# Generate a confusion matrix plot: \n",
    "\n",
    "def plot_confusion_matrix(cm,title='Confusion matrix', cmap=plt.cm.Reds):\n",
    "    plt.imshow(cm, interpolation='nearest',cmap=cmap)\n",
    "    plt.title(title)\n",
    "    plt.colorbar()\n",
    "    plt.tight_layout()\n",
    "    plt.ylabel('True label')\n",
    "    plt.xlabel('Predicted label')\n",
    "\n",
    "def train_score(classifier,X_train, Y_train, X_test, Y_test):\n",
    "    clf = classifier.fit(X_train, Y_train)\n",
    "    # accuracy for test & train:\n",
    "    train_acc=clf.score(X_train, Y_train)\n",
    "    test_acc=clf.score(X_test,Y_test)\n",
    "    print(\"Training Data Accuracy: %0.2f\" %(train_acc))\n",
    "    print(\"Test Data Accuracy:     %0.2f\" %(test_acc))\n",
    "    \n",
    "    y_true = Y_test\n",
    "    y_pred = clf.predict(X_test)\n",
    "\n",
    "\n",
    "    conf = confusion_matrix(y_true, y_pred)\n",
    "    print(conf)\n",
    "\n",
    "    #In this instance, 1 stands for people who died. \n",
    "    print ('\\n')\n",
    "    print (\"Precision:              %0.2f\" %(conf[0, 0] / (conf[0, 0] + conf[1, 0])))\n",
    "    print (\"Recall:                 %0.2f\"% (conf[0, 0] / (conf[0, 0] + conf[0, 1])))\n",
    "    \n",
    "    cm=confusion_matrix(y_true, y_pred, labels=None)\n",
    "    \n",
    "    plt.figure()\n",
    "    plot_confusion_matrix(cm)"
   ]
  },
  {
   "cell_type": "code",
   "execution_count": 133,
   "metadata": {
    "hidden": true,
    "scrolled": false
   },
   "outputs": [
    {
     "name": "stdout",
     "output_type": "stream",
     "text": [
      "Training Data Accuracy: 0.78\n",
      "Test Data Accuracy:     0.72\n",
      "[[953 307]\n",
      " [120 126]]\n",
      "\n",
      "\n",
      "Precision:              0.89\n",
      "Recall:                 0.76\n"
     ]
    },
    {
     "data": {
      "image/png": "[encoded data removed]",
      "text/plain": [
       "<matplotlib.figure.Figure at 0x101f12400>"
      ]
     },
     "metadata": {},
     "output_type": "display_data"
    }
   ],
   "source": [
    "train_score(RF,X_train,Y_train,X_test,Y_test)"
   ]
  },
  {
   "cell_type": "code",
   "execution_count": 134,
   "metadata": {
    "hidden": true
   },
   "outputs": [],
   "source": [
    "y_pred = RF.predict(X_test)"
   ]
  },
  {
   "cell_type": "code",
   "execution_count": 135,
   "metadata": {
    "hidden": true
   },
   "outputs": [
    {
     "data": {
      "text/plain": [
       "0.7906181729693132"
      ]
     },
     "execution_count": 135,
     "metadata": {},
     "output_type": "execute_result"
    }
   ],
   "source": [
    "metrics.precision_score(Y_test, y_pred, average='weighted')"
   ]
  },
  {
   "cell_type": "code",
   "execution_count": 136,
   "metadata": {
    "hidden": true
   },
   "outputs": [
    {
     "data": {
      "text/plain": [
       "0.7164674634794157"
      ]
     },
     "execution_count": 136,
     "metadata": {},
     "output_type": "execute_result"
    }
   ],
   "source": [
    "metrics.recall_score(Y_test, y_pred, average='weighted')"
   ]
  },
  {
   "cell_type": "code",
   "execution_count": 137,
   "metadata": {
    "hidden": true,
    "scrolled": true
   },
   "outputs": [
    {
     "data": {
      "text/plain": [
       "array([[953, 307],\n",
       "       [120, 126]])"
      ]
     },
     "execution_count": 137,
     "metadata": {},
     "output_type": "execute_result"
    }
   ],
   "source": [
    "confusion_matrix(Y_test, y_pred)"
   ]
  },
  {
   "cell_type": "code",
   "execution_count": 21,
   "metadata": {
    "hidden": true,
    "scrolled": true
   },
   "outputs": [
    {
     "data": {
      "text/html": [
       "<div>\n",
       "<style scoped>\n",
       "    .dataframe tbody tr th:only-of-type {\n",
       "        vertical-align: middle;\n",
       "    }\n",
       "\n",
       "    .dataframe tbody tr th {\n",
       "        vertical-align: top;\n",
       "    }\n",
       "\n",
       "    .dataframe thead th {\n",
       "        text-align: right;\n",
       "    }\n",
       "</style>\n",
       "<table border=\"1\" class=\"dataframe\">\n",
       "  <thead>\n",
       "    <tr style=\"text-align: right;\">\n",
       "      <th></th>\n",
       "      <th>pitcher.pitch_zone</th>\n",
       "      <th>hitter.last_name_Bader</th>\n",
       "      <th>hitter.last_name_Carpenter</th>\n",
       "      <th>hitter.last_name_DeJong</th>\n",
       "      <th>hitter.last_name_Fowler</th>\n",
       "      <th>hitter.last_name_García</th>\n",
       "      <th>hitter.last_name_Gyorko</th>\n",
       "      <th>hitter.last_name_Martinez</th>\n",
       "      <th>hitter.last_name_Martínez</th>\n",
       "      <th>hitter.last_name_Mikolas</th>\n",
       "      <th>...</th>\n",
       "      <th>hitter.last_name_Wacha</th>\n",
       "      <th>hitter.last_name_Weaver</th>\n",
       "      <th>hitter.last_name_Wong</th>\n",
       "      <th>pitcher.pitch_type_CH</th>\n",
       "      <th>pitcher.pitch_type_CT</th>\n",
       "      <th>pitcher.pitch_type_CU</th>\n",
       "      <th>pitcher.pitch_type_FA</th>\n",
       "      <th>pitcher.pitch_type_SI</th>\n",
       "      <th>pitcher.pitch_type_SL</th>\n",
       "      <th>pitcher.pitch_type_SP</th>\n",
       "    </tr>\n",
       "  </thead>\n",
       "  <tbody>\n",
       "    <tr>\n",
       "      <th>3153</th>\n",
       "      <td>11.0</td>\n",
       "      <td>0</td>\n",
       "      <td>0</td>\n",
       "      <td>0</td>\n",
       "      <td>0</td>\n",
       "      <td>0</td>\n",
       "      <td>0</td>\n",
       "      <td>1</td>\n",
       "      <td>0</td>\n",
       "      <td>0</td>\n",
       "      <td>...</td>\n",
       "      <td>0</td>\n",
       "      <td>0</td>\n",
       "      <td>0</td>\n",
       "      <td>0</td>\n",
       "      <td>1</td>\n",
       "      <td>0</td>\n",
       "      <td>0</td>\n",
       "      <td>0</td>\n",
       "      <td>0</td>\n",
       "      <td>0</td>\n",
       "    </tr>\n",
       "    <tr>\n",
       "      <th>2984</th>\n",
       "      <td>11.0</td>\n",
       "      <td>0</td>\n",
       "      <td>0</td>\n",
       "      <td>0</td>\n",
       "      <td>0</td>\n",
       "      <td>0</td>\n",
       "      <td>0</td>\n",
       "      <td>0</td>\n",
       "      <td>0</td>\n",
       "      <td>0</td>\n",
       "      <td>...</td>\n",
       "      <td>0</td>\n",
       "      <td>0</td>\n",
       "      <td>1</td>\n",
       "      <td>0</td>\n",
       "      <td>0</td>\n",
       "      <td>0</td>\n",
       "      <td>1</td>\n",
       "      <td>0</td>\n",
       "      <td>0</td>\n",
       "      <td>0</td>\n",
       "    </tr>\n",
       "    <tr>\n",
       "      <th>2599</th>\n",
       "      <td>11.0</td>\n",
       "      <td>1</td>\n",
       "      <td>0</td>\n",
       "      <td>0</td>\n",
       "      <td>0</td>\n",
       "      <td>0</td>\n",
       "      <td>0</td>\n",
       "      <td>0</td>\n",
       "      <td>0</td>\n",
       "      <td>0</td>\n",
       "      <td>...</td>\n",
       "      <td>0</td>\n",
       "      <td>0</td>\n",
       "      <td>0</td>\n",
       "      <td>0</td>\n",
       "      <td>0</td>\n",
       "      <td>0</td>\n",
       "      <td>1</td>\n",
       "      <td>0</td>\n",
       "      <td>0</td>\n",
       "      <td>0</td>\n",
       "    </tr>\n",
       "    <tr>\n",
       "      <th>3977</th>\n",
       "      <td>12.0</td>\n",
       "      <td>0</td>\n",
       "      <td>0</td>\n",
       "      <td>0</td>\n",
       "      <td>0</td>\n",
       "      <td>0</td>\n",
       "      <td>0</td>\n",
       "      <td>0</td>\n",
       "      <td>0</td>\n",
       "      <td>0</td>\n",
       "      <td>...</td>\n",
       "      <td>0</td>\n",
       "      <td>0</td>\n",
       "      <td>1</td>\n",
       "      <td>0</td>\n",
       "      <td>0</td>\n",
       "      <td>0</td>\n",
       "      <td>1</td>\n",
       "      <td>0</td>\n",
       "      <td>0</td>\n",
       "      <td>0</td>\n",
       "    </tr>\n",
       "    <tr>\n",
       "      <th>2327</th>\n",
       "      <td>11.0</td>\n",
       "      <td>0</td>\n",
       "      <td>0</td>\n",
       "      <td>0</td>\n",
       "      <td>0</td>\n",
       "      <td>0</td>\n",
       "      <td>0</td>\n",
       "      <td>1</td>\n",
       "      <td>0</td>\n",
       "      <td>0</td>\n",
       "      <td>...</td>\n",
       "      <td>0</td>\n",
       "      <td>0</td>\n",
       "      <td>0</td>\n",
       "      <td>0</td>\n",
       "      <td>0</td>\n",
       "      <td>0</td>\n",
       "      <td>0</td>\n",
       "      <td>0</td>\n",
       "      <td>0</td>\n",
       "      <td>1</td>\n",
       "    </tr>\n",
       "    <tr>\n",
       "      <th>4396</th>\n",
       "      <td>11.0</td>\n",
       "      <td>0</td>\n",
       "      <td>0</td>\n",
       "      <td>0</td>\n",
       "      <td>0</td>\n",
       "      <td>0</td>\n",
       "      <td>0</td>\n",
       "      <td>0</td>\n",
       "      <td>0</td>\n",
       "      <td>0</td>\n",
       "      <td>...</td>\n",
       "      <td>0</td>\n",
       "      <td>0</td>\n",
       "      <td>0</td>\n",
       "      <td>0</td>\n",
       "      <td>0</td>\n",
       "      <td>0</td>\n",
       "      <td>1</td>\n",
       "      <td>0</td>\n",
       "      <td>0</td>\n",
       "      <td>0</td>\n",
       "    </tr>\n",
       "    <tr>\n",
       "      <th>3507</th>\n",
       "      <td>11.0</td>\n",
       "      <td>0</td>\n",
       "      <td>1</td>\n",
       "      <td>0</td>\n",
       "      <td>0</td>\n",
       "      <td>0</td>\n",
       "      <td>0</td>\n",
       "      <td>0</td>\n",
       "      <td>0</td>\n",
       "      <td>0</td>\n",
       "      <td>...</td>\n",
       "      <td>0</td>\n",
       "      <td>0</td>\n",
       "      <td>0</td>\n",
       "      <td>0</td>\n",
       "      <td>0</td>\n",
       "      <td>1</td>\n",
       "      <td>0</td>\n",
       "      <td>0</td>\n",
       "      <td>0</td>\n",
       "      <td>0</td>\n",
       "    </tr>\n",
       "    <tr>\n",
       "      <th>286</th>\n",
       "      <td>7.0</td>\n",
       "      <td>0</td>\n",
       "      <td>0</td>\n",
       "      <td>1</td>\n",
       "      <td>0</td>\n",
       "      <td>0</td>\n",
       "      <td>0</td>\n",
       "      <td>0</td>\n",
       "      <td>0</td>\n",
       "      <td>0</td>\n",
       "      <td>...</td>\n",
       "      <td>0</td>\n",
       "      <td>0</td>\n",
       "      <td>0</td>\n",
       "      <td>0</td>\n",
       "      <td>0</td>\n",
       "      <td>0</td>\n",
       "      <td>1</td>\n",
       "      <td>0</td>\n",
       "      <td>0</td>\n",
       "      <td>0</td>\n",
       "    </tr>\n",
       "    <tr>\n",
       "      <th>971</th>\n",
       "      <td>12.0</td>\n",
       "      <td>0</td>\n",
       "      <td>0</td>\n",
       "      <td>0</td>\n",
       "      <td>0</td>\n",
       "      <td>0</td>\n",
       "      <td>0</td>\n",
       "      <td>1</td>\n",
       "      <td>0</td>\n",
       "      <td>0</td>\n",
       "      <td>...</td>\n",
       "      <td>0</td>\n",
       "      <td>0</td>\n",
       "      <td>0</td>\n",
       "      <td>0</td>\n",
       "      <td>0</td>\n",
       "      <td>0</td>\n",
       "      <td>1</td>\n",
       "      <td>0</td>\n",
       "      <td>0</td>\n",
       "      <td>0</td>\n",
       "    </tr>\n",
       "    <tr>\n",
       "      <th>2905</th>\n",
       "      <td>11.0</td>\n",
       "      <td>0</td>\n",
       "      <td>0</td>\n",
       "      <td>0</td>\n",
       "      <td>0</td>\n",
       "      <td>0</td>\n",
       "      <td>0</td>\n",
       "      <td>0</td>\n",
       "      <td>0</td>\n",
       "      <td>0</td>\n",
       "      <td>...</td>\n",
       "      <td>0</td>\n",
       "      <td>0</td>\n",
       "      <td>0</td>\n",
       "      <td>0</td>\n",
       "      <td>0</td>\n",
       "      <td>0</td>\n",
       "      <td>0</td>\n",
       "      <td>1</td>\n",
       "      <td>0</td>\n",
       "      <td>0</td>\n",
       "    </tr>\n",
       "    <tr>\n",
       "      <th>903</th>\n",
       "      <td>11.0</td>\n",
       "      <td>0</td>\n",
       "      <td>0</td>\n",
       "      <td>0</td>\n",
       "      <td>0</td>\n",
       "      <td>0</td>\n",
       "      <td>0</td>\n",
       "      <td>0</td>\n",
       "      <td>0</td>\n",
       "      <td>0</td>\n",
       "      <td>...</td>\n",
       "      <td>0</td>\n",
       "      <td>0</td>\n",
       "      <td>1</td>\n",
       "      <td>1</td>\n",
       "      <td>0</td>\n",
       "      <td>0</td>\n",
       "      <td>0</td>\n",
       "      <td>0</td>\n",
       "      <td>0</td>\n",
       "      <td>0</td>\n",
       "    </tr>\n",
       "    <tr>\n",
       "      <th>3085</th>\n",
       "      <td>3.0</td>\n",
       "      <td>0</td>\n",
       "      <td>0</td>\n",
       "      <td>0</td>\n",
       "      <td>1</td>\n",
       "      <td>0</td>\n",
       "      <td>0</td>\n",
       "      <td>0</td>\n",
       "      <td>0</td>\n",
       "      <td>0</td>\n",
       "      <td>...</td>\n",
       "      <td>0</td>\n",
       "      <td>0</td>\n",
       "      <td>0</td>\n",
       "      <td>0</td>\n",
       "      <td>0</td>\n",
       "      <td>0</td>\n",
       "      <td>1</td>\n",
       "      <td>0</td>\n",
       "      <td>0</td>\n",
       "      <td>0</td>\n",
       "    </tr>\n",
       "    <tr>\n",
       "      <th>2864</th>\n",
       "      <td>13.0</td>\n",
       "      <td>0</td>\n",
       "      <td>1</td>\n",
       "      <td>0</td>\n",
       "      <td>0</td>\n",
       "      <td>0</td>\n",
       "      <td>0</td>\n",
       "      <td>0</td>\n",
       "      <td>0</td>\n",
       "      <td>0</td>\n",
       "      <td>...</td>\n",
       "      <td>0</td>\n",
       "      <td>0</td>\n",
       "      <td>0</td>\n",
       "      <td>0</td>\n",
       "      <td>0</td>\n",
       "      <td>0</td>\n",
       "      <td>0</td>\n",
       "      <td>0</td>\n",
       "      <td>1</td>\n",
       "      <td>0</td>\n",
       "    </tr>\n",
       "    <tr>\n",
       "      <th>580</th>\n",
       "      <td>10.0</td>\n",
       "      <td>0</td>\n",
       "      <td>1</td>\n",
       "      <td>0</td>\n",
       "      <td>0</td>\n",
       "      <td>0</td>\n",
       "      <td>0</td>\n",
       "      <td>0</td>\n",
       "      <td>0</td>\n",
       "      <td>0</td>\n",
       "      <td>...</td>\n",
       "      <td>0</td>\n",
       "      <td>0</td>\n",
       "      <td>0</td>\n",
       "      <td>0</td>\n",
       "      <td>0</td>\n",
       "      <td>0</td>\n",
       "      <td>1</td>\n",
       "      <td>0</td>\n",
       "      <td>0</td>\n",
       "      <td>0</td>\n",
       "    </tr>\n",
       "    <tr>\n",
       "      <th>1355</th>\n",
       "      <td>11.0</td>\n",
       "      <td>0</td>\n",
       "      <td>0</td>\n",
       "      <td>0</td>\n",
       "      <td>0</td>\n",
       "      <td>0</td>\n",
       "      <td>0</td>\n",
       "      <td>0</td>\n",
       "      <td>0</td>\n",
       "      <td>0</td>\n",
       "      <td>...</td>\n",
       "      <td>0</td>\n",
       "      <td>0</td>\n",
       "      <td>0</td>\n",
       "      <td>0</td>\n",
       "      <td>0</td>\n",
       "      <td>0</td>\n",
       "      <td>1</td>\n",
       "      <td>0</td>\n",
       "      <td>0</td>\n",
       "      <td>0</td>\n",
       "    </tr>\n",
       "    <tr>\n",
       "      <th>1204</th>\n",
       "      <td>9.0</td>\n",
       "      <td>0</td>\n",
       "      <td>0</td>\n",
       "      <td>0</td>\n",
       "      <td>0</td>\n",
       "      <td>0</td>\n",
       "      <td>0</td>\n",
       "      <td>0</td>\n",
       "      <td>0</td>\n",
       "      <td>0</td>\n",
       "      <td>...</td>\n",
       "      <td>1</td>\n",
       "      <td>0</td>\n",
       "      <td>0</td>\n",
       "      <td>0</td>\n",
       "      <td>0</td>\n",
       "      <td>0</td>\n",
       "      <td>1</td>\n",
       "      <td>0</td>\n",
       "      <td>0</td>\n",
       "      <td>0</td>\n",
       "    </tr>\n",
       "    <tr>\n",
       "      <th>2222</th>\n",
       "      <td>8.0</td>\n",
       "      <td>0</td>\n",
       "      <td>0</td>\n",
       "      <td>0</td>\n",
       "      <td>0</td>\n",
       "      <td>0</td>\n",
       "      <td>0</td>\n",
       "      <td>0</td>\n",
       "      <td>0</td>\n",
       "      <td>0</td>\n",
       "      <td>...</td>\n",
       "      <td>0</td>\n",
       "      <td>0</td>\n",
       "      <td>1</td>\n",
       "      <td>0</td>\n",
       "      <td>0</td>\n",
       "      <td>0</td>\n",
       "      <td>1</td>\n",
       "      <td>0</td>\n",
       "      <td>0</td>\n",
       "      <td>0</td>\n",
       "    </tr>\n",
       "    <tr>\n",
       "      <th>947</th>\n",
       "      <td>13.0</td>\n",
       "      <td>0</td>\n",
       "      <td>0</td>\n",
       "      <td>0</td>\n",
       "      <td>0</td>\n",
       "      <td>0</td>\n",
       "      <td>1</td>\n",
       "      <td>0</td>\n",
       "      <td>0</td>\n",
       "      <td>0</td>\n",
       "      <td>...</td>\n",
       "      <td>0</td>\n",
       "      <td>0</td>\n",
       "      <td>0</td>\n",
       "      <td>0</td>\n",
       "      <td>0</td>\n",
       "      <td>0</td>\n",
       "      <td>1</td>\n",
       "      <td>0</td>\n",
       "      <td>0</td>\n",
       "      <td>0</td>\n",
       "    </tr>\n",
       "    <tr>\n",
       "      <th>3979</th>\n",
       "      <td>11.0</td>\n",
       "      <td>0</td>\n",
       "      <td>0</td>\n",
       "      <td>0</td>\n",
       "      <td>0</td>\n",
       "      <td>0</td>\n",
       "      <td>0</td>\n",
       "      <td>0</td>\n",
       "      <td>0</td>\n",
       "      <td>0</td>\n",
       "      <td>...</td>\n",
       "      <td>0</td>\n",
       "      <td>0</td>\n",
       "      <td>1</td>\n",
       "      <td>0</td>\n",
       "      <td>0</td>\n",
       "      <td>0</td>\n",
       "      <td>1</td>\n",
       "      <td>0</td>\n",
       "      <td>0</td>\n",
       "      <td>0</td>\n",
       "    </tr>\n",
       "    <tr>\n",
       "      <th>1857</th>\n",
       "      <td>5.0</td>\n",
       "      <td>0</td>\n",
       "      <td>0</td>\n",
       "      <td>0</td>\n",
       "      <td>0</td>\n",
       "      <td>0</td>\n",
       "      <td>0</td>\n",
       "      <td>0</td>\n",
       "      <td>0</td>\n",
       "      <td>0</td>\n",
       "      <td>...</td>\n",
       "      <td>0</td>\n",
       "      <td>0</td>\n",
       "      <td>0</td>\n",
       "      <td>0</td>\n",
       "      <td>0</td>\n",
       "      <td>0</td>\n",
       "      <td>1</td>\n",
       "      <td>0</td>\n",
       "      <td>0</td>\n",
       "      <td>0</td>\n",
       "    </tr>\n",
       "    <tr>\n",
       "      <th>835</th>\n",
       "      <td>8.0</td>\n",
       "      <td>0</td>\n",
       "      <td>0</td>\n",
       "      <td>0</td>\n",
       "      <td>0</td>\n",
       "      <td>0</td>\n",
       "      <td>0</td>\n",
       "      <td>1</td>\n",
       "      <td>0</td>\n",
       "      <td>0</td>\n",
       "      <td>...</td>\n",
       "      <td>0</td>\n",
       "      <td>0</td>\n",
       "      <td>0</td>\n",
       "      <td>0</td>\n",
       "      <td>0</td>\n",
       "      <td>0</td>\n",
       "      <td>1</td>\n",
       "      <td>0</td>\n",
       "      <td>0</td>\n",
       "      <td>0</td>\n",
       "    </tr>\n",
       "    <tr>\n",
       "      <th>3549</th>\n",
       "      <td>13.0</td>\n",
       "      <td>0</td>\n",
       "      <td>0</td>\n",
       "      <td>0</td>\n",
       "      <td>0</td>\n",
       "      <td>0</td>\n",
       "      <td>0</td>\n",
       "      <td>0</td>\n",
       "      <td>0</td>\n",
       "      <td>0</td>\n",
       "      <td>...</td>\n",
       "      <td>0</td>\n",
       "      <td>0</td>\n",
       "      <td>0</td>\n",
       "      <td>0</td>\n",
       "      <td>0</td>\n",
       "      <td>0</td>\n",
       "      <td>0</td>\n",
       "      <td>1</td>\n",
       "      <td>0</td>\n",
       "      <td>0</td>\n",
       "    </tr>\n",
       "    <tr>\n",
       "      <th>2677</th>\n",
       "      <td>11.0</td>\n",
       "      <td>0</td>\n",
       "      <td>0</td>\n",
       "      <td>0</td>\n",
       "      <td>0</td>\n",
       "      <td>0</td>\n",
       "      <td>0</td>\n",
       "      <td>0</td>\n",
       "      <td>0</td>\n",
       "      <td>0</td>\n",
       "      <td>...</td>\n",
       "      <td>0</td>\n",
       "      <td>0</td>\n",
       "      <td>0</td>\n",
       "      <td>0</td>\n",
       "      <td>0</td>\n",
       "      <td>0</td>\n",
       "      <td>1</td>\n",
       "      <td>0</td>\n",
       "      <td>0</td>\n",
       "      <td>0</td>\n",
       "    </tr>\n",
       "    <tr>\n",
       "      <th>750</th>\n",
       "      <td>7.0</td>\n",
       "      <td>0</td>\n",
       "      <td>0</td>\n",
       "      <td>0</td>\n",
       "      <td>0</td>\n",
       "      <td>0</td>\n",
       "      <td>0</td>\n",
       "      <td>0</td>\n",
       "      <td>0</td>\n",
       "      <td>0</td>\n",
       "      <td>...</td>\n",
       "      <td>0</td>\n",
       "      <td>0</td>\n",
       "      <td>0</td>\n",
       "      <td>0</td>\n",
       "      <td>0</td>\n",
       "      <td>1</td>\n",
       "      <td>0</td>\n",
       "      <td>0</td>\n",
       "      <td>0</td>\n",
       "      <td>0</td>\n",
       "    </tr>\n",
       "    <tr>\n",
       "      <th>198</th>\n",
       "      <td>11.0</td>\n",
       "      <td>0</td>\n",
       "      <td>0</td>\n",
       "      <td>0</td>\n",
       "      <td>1</td>\n",
       "      <td>0</td>\n",
       "      <td>0</td>\n",
       "      <td>0</td>\n",
       "      <td>0</td>\n",
       "      <td>0</td>\n",
       "      <td>...</td>\n",
       "      <td>0</td>\n",
       "      <td>0</td>\n",
       "      <td>0</td>\n",
       "      <td>0</td>\n",
       "      <td>0</td>\n",
       "      <td>0</td>\n",
       "      <td>1</td>\n",
       "      <td>0</td>\n",
       "      <td>0</td>\n",
       "      <td>0</td>\n",
       "    </tr>\n",
       "    <tr>\n",
       "      <th>2671</th>\n",
       "      <td>11.0</td>\n",
       "      <td>0</td>\n",
       "      <td>0</td>\n",
       "      <td>1</td>\n",
       "      <td>0</td>\n",
       "      <td>0</td>\n",
       "      <td>0</td>\n",
       "      <td>0</td>\n",
       "      <td>0</td>\n",
       "      <td>0</td>\n",
       "      <td>...</td>\n",
       "      <td>0</td>\n",
       "      <td>0</td>\n",
       "      <td>0</td>\n",
       "      <td>1</td>\n",
       "      <td>0</td>\n",
       "      <td>0</td>\n",
       "      <td>0</td>\n",
       "      <td>0</td>\n",
       "      <td>0</td>\n",
       "      <td>0</td>\n",
       "    </tr>\n",
       "    <tr>\n",
       "      <th>2418</th>\n",
       "      <td>13.0</td>\n",
       "      <td>0</td>\n",
       "      <td>0</td>\n",
       "      <td>1</td>\n",
       "      <td>0</td>\n",
       "      <td>0</td>\n",
       "      <td>0</td>\n",
       "      <td>0</td>\n",
       "      <td>0</td>\n",
       "      <td>0</td>\n",
       "      <td>...</td>\n",
       "      <td>0</td>\n",
       "      <td>0</td>\n",
       "      <td>0</td>\n",
       "      <td>0</td>\n",
       "      <td>0</td>\n",
       "      <td>1</td>\n",
       "      <td>0</td>\n",
       "      <td>0</td>\n",
       "      <td>0</td>\n",
       "      <td>0</td>\n",
       "    </tr>\n",
       "    <tr>\n",
       "      <th>4971</th>\n",
       "      <td>7.0</td>\n",
       "      <td>0</td>\n",
       "      <td>0</td>\n",
       "      <td>0</td>\n",
       "      <td>0</td>\n",
       "      <td>0</td>\n",
       "      <td>0</td>\n",
       "      <td>1</td>\n",
       "      <td>0</td>\n",
       "      <td>0</td>\n",
       "      <td>...</td>\n",
       "      <td>0</td>\n",
       "      <td>0</td>\n",
       "      <td>0</td>\n",
       "      <td>0</td>\n",
       "      <td>0</td>\n",
       "      <td>0</td>\n",
       "      <td>1</td>\n",
       "      <td>0</td>\n",
       "      <td>0</td>\n",
       "      <td>0</td>\n",
       "    </tr>\n",
       "    <tr>\n",
       "      <th>2553</th>\n",
       "      <td>2.0</td>\n",
       "      <td>0</td>\n",
       "      <td>0</td>\n",
       "      <td>0</td>\n",
       "      <td>0</td>\n",
       "      <td>0</td>\n",
       "      <td>0</td>\n",
       "      <td>1</td>\n",
       "      <td>0</td>\n",
       "      <td>0</td>\n",
       "      <td>...</td>\n",
       "      <td>0</td>\n",
       "      <td>0</td>\n",
       "      <td>0</td>\n",
       "      <td>0</td>\n",
       "      <td>0</td>\n",
       "      <td>0</td>\n",
       "      <td>1</td>\n",
       "      <td>0</td>\n",
       "      <td>0</td>\n",
       "      <td>0</td>\n",
       "    </tr>\n",
       "    <tr>\n",
       "      <th>2284</th>\n",
       "      <td>4.0</td>\n",
       "      <td>0</td>\n",
       "      <td>1</td>\n",
       "      <td>0</td>\n",
       "      <td>0</td>\n",
       "      <td>0</td>\n",
       "      <td>0</td>\n",
       "      <td>0</td>\n",
       "      <td>0</td>\n",
       "      <td>0</td>\n",
       "      <td>...</td>\n",
       "      <td>0</td>\n",
       "      <td>0</td>\n",
       "      <td>0</td>\n",
       "      <td>0</td>\n",
       "      <td>0</td>\n",
       "      <td>0</td>\n",
       "      <td>1</td>\n",
       "      <td>0</td>\n",
       "      <td>0</td>\n",
       "      <td>0</td>\n",
       "    </tr>\n",
       "    <tr>\n",
       "      <th>...</th>\n",
       "      <td>...</td>\n",
       "      <td>...</td>\n",
       "      <td>...</td>\n",
       "      <td>...</td>\n",
       "      <td>...</td>\n",
       "      <td>...</td>\n",
       "      <td>...</td>\n",
       "      <td>...</td>\n",
       "      <td>...</td>\n",
       "      <td>...</td>\n",
       "      <td>...</td>\n",
       "      <td>...</td>\n",
       "      <td>...</td>\n",
       "      <td>...</td>\n",
       "      <td>...</td>\n",
       "      <td>...</td>\n",
       "      <td>...</td>\n",
       "      <td>...</td>\n",
       "      <td>...</td>\n",
       "      <td>...</td>\n",
       "      <td>...</td>\n",
       "    </tr>\n",
       "    <tr>\n",
       "      <th>3412</th>\n",
       "      <td>11.0</td>\n",
       "      <td>0</td>\n",
       "      <td>0</td>\n",
       "      <td>0</td>\n",
       "      <td>0</td>\n",
       "      <td>0</td>\n",
       "      <td>0</td>\n",
       "      <td>0</td>\n",
       "      <td>0</td>\n",
       "      <td>0</td>\n",
       "      <td>...</td>\n",
       "      <td>0</td>\n",
       "      <td>0</td>\n",
       "      <td>0</td>\n",
       "      <td>1</td>\n",
       "      <td>0</td>\n",
       "      <td>0</td>\n",
       "      <td>0</td>\n",
       "      <td>0</td>\n",
       "      <td>0</td>\n",
       "      <td>0</td>\n",
       "    </tr>\n",
       "    <tr>\n",
       "      <th>3435</th>\n",
       "      <td>1.0</td>\n",
       "      <td>0</td>\n",
       "      <td>0</td>\n",
       "      <td>1</td>\n",
       "      <td>0</td>\n",
       "      <td>0</td>\n",
       "      <td>0</td>\n",
       "      <td>0</td>\n",
       "      <td>0</td>\n",
       "      <td>0</td>\n",
       "      <td>...</td>\n",
       "      <td>0</td>\n",
       "      <td>0</td>\n",
       "      <td>0</td>\n",
       "      <td>0</td>\n",
       "      <td>1</td>\n",
       "      <td>0</td>\n",
       "      <td>0</td>\n",
       "      <td>0</td>\n",
       "      <td>0</td>\n",
       "      <td>0</td>\n",
       "    </tr>\n",
       "    <tr>\n",
       "      <th>1664</th>\n",
       "      <td>11.0</td>\n",
       "      <td>0</td>\n",
       "      <td>0</td>\n",
       "      <td>0</td>\n",
       "      <td>0</td>\n",
       "      <td>0</td>\n",
       "      <td>0</td>\n",
       "      <td>1</td>\n",
       "      <td>0</td>\n",
       "      <td>0</td>\n",
       "      <td>...</td>\n",
       "      <td>0</td>\n",
       "      <td>0</td>\n",
       "      <td>0</td>\n",
       "      <td>0</td>\n",
       "      <td>0</td>\n",
       "      <td>0</td>\n",
       "      <td>1</td>\n",
       "      <td>0</td>\n",
       "      <td>0</td>\n",
       "      <td>0</td>\n",
       "    </tr>\n",
       "    <tr>\n",
       "      <th>3126</th>\n",
       "      <td>6.0</td>\n",
       "      <td>1</td>\n",
       "      <td>0</td>\n",
       "      <td>0</td>\n",
       "      <td>0</td>\n",
       "      <td>0</td>\n",
       "      <td>0</td>\n",
       "      <td>0</td>\n",
       "      <td>0</td>\n",
       "      <td>0</td>\n",
       "      <td>...</td>\n",
       "      <td>0</td>\n",
       "      <td>0</td>\n",
       "      <td>0</td>\n",
       "      <td>0</td>\n",
       "      <td>0</td>\n",
       "      <td>1</td>\n",
       "      <td>0</td>\n",
       "      <td>0</td>\n",
       "      <td>0</td>\n",
       "      <td>0</td>\n",
       "    </tr>\n",
       "    <tr>\n",
       "      <th>2863</th>\n",
       "      <td>9.0</td>\n",
       "      <td>0</td>\n",
       "      <td>1</td>\n",
       "      <td>0</td>\n",
       "      <td>0</td>\n",
       "      <td>0</td>\n",
       "      <td>0</td>\n",
       "      <td>0</td>\n",
       "      <td>0</td>\n",
       "      <td>0</td>\n",
       "      <td>...</td>\n",
       "      <td>0</td>\n",
       "      <td>0</td>\n",
       "      <td>0</td>\n",
       "      <td>1</td>\n",
       "      <td>0</td>\n",
       "      <td>0</td>\n",
       "      <td>0</td>\n",
       "      <td>0</td>\n",
       "      <td>0</td>\n",
       "      <td>0</td>\n",
       "    </tr>\n",
       "    <tr>\n",
       "      <th>1042</th>\n",
       "      <td>12.0</td>\n",
       "      <td>0</td>\n",
       "      <td>0</td>\n",
       "      <td>0</td>\n",
       "      <td>1</td>\n",
       "      <td>0</td>\n",
       "      <td>0</td>\n",
       "      <td>0</td>\n",
       "      <td>0</td>\n",
       "      <td>0</td>\n",
       "      <td>...</td>\n",
       "      <td>0</td>\n",
       "      <td>0</td>\n",
       "      <td>0</td>\n",
       "      <td>1</td>\n",
       "      <td>0</td>\n",
       "      <td>0</td>\n",
       "      <td>0</td>\n",
       "      <td>0</td>\n",
       "      <td>0</td>\n",
       "      <td>0</td>\n",
       "    </tr>\n",
       "    <tr>\n",
       "      <th>3778</th>\n",
       "      <td>11.0</td>\n",
       "      <td>0</td>\n",
       "      <td>0</td>\n",
       "      <td>0</td>\n",
       "      <td>0</td>\n",
       "      <td>0</td>\n",
       "      <td>0</td>\n",
       "      <td>0</td>\n",
       "      <td>0</td>\n",
       "      <td>0</td>\n",
       "      <td>...</td>\n",
       "      <td>0</td>\n",
       "      <td>0</td>\n",
       "      <td>0</td>\n",
       "      <td>0</td>\n",
       "      <td>0</td>\n",
       "      <td>0</td>\n",
       "      <td>1</td>\n",
       "      <td>0</td>\n",
       "      <td>0</td>\n",
       "      <td>0</td>\n",
       "    </tr>\n",
       "    <tr>\n",
       "      <th>4085</th>\n",
       "      <td>12.0</td>\n",
       "      <td>0</td>\n",
       "      <td>0</td>\n",
       "      <td>0</td>\n",
       "      <td>1</td>\n",
       "      <td>0</td>\n",
       "      <td>0</td>\n",
       "      <td>0</td>\n",
       "      <td>0</td>\n",
       "      <td>0</td>\n",
       "      <td>...</td>\n",
       "      <td>0</td>\n",
       "      <td>0</td>\n",
       "      <td>0</td>\n",
       "      <td>0</td>\n",
       "      <td>0</td>\n",
       "      <td>0</td>\n",
       "      <td>0</td>\n",
       "      <td>0</td>\n",
       "      <td>1</td>\n",
       "      <td>0</td>\n",
       "    </tr>\n",
       "    <tr>\n",
       "      <th>4588</th>\n",
       "      <td>13.0</td>\n",
       "      <td>0</td>\n",
       "      <td>0</td>\n",
       "      <td>0</td>\n",
       "      <td>0</td>\n",
       "      <td>0</td>\n",
       "      <td>1</td>\n",
       "      <td>0</td>\n",
       "      <td>0</td>\n",
       "      <td>0</td>\n",
       "      <td>...</td>\n",
       "      <td>0</td>\n",
       "      <td>0</td>\n",
       "      <td>0</td>\n",
       "      <td>0</td>\n",
       "      <td>0</td>\n",
       "      <td>0</td>\n",
       "      <td>1</td>\n",
       "      <td>0</td>\n",
       "      <td>0</td>\n",
       "      <td>0</td>\n",
       "    </tr>\n",
       "    <tr>\n",
       "      <th>1027</th>\n",
       "      <td>4.0</td>\n",
       "      <td>0</td>\n",
       "      <td>1</td>\n",
       "      <td>0</td>\n",
       "      <td>0</td>\n",
       "      <td>0</td>\n",
       "      <td>0</td>\n",
       "      <td>0</td>\n",
       "      <td>0</td>\n",
       "      <td>0</td>\n",
       "      <td>...</td>\n",
       "      <td>0</td>\n",
       "      <td>0</td>\n",
       "      <td>0</td>\n",
       "      <td>0</td>\n",
       "      <td>0</td>\n",
       "      <td>0</td>\n",
       "      <td>1</td>\n",
       "      <td>0</td>\n",
       "      <td>0</td>\n",
       "      <td>0</td>\n",
       "    </tr>\n",
       "    <tr>\n",
       "      <th>3241</th>\n",
       "      <td>13.0</td>\n",
       "      <td>0</td>\n",
       "      <td>0</td>\n",
       "      <td>0</td>\n",
       "      <td>1</td>\n",
       "      <td>0</td>\n",
       "      <td>0</td>\n",
       "      <td>0</td>\n",
       "      <td>0</td>\n",
       "      <td>0</td>\n",
       "      <td>...</td>\n",
       "      <td>0</td>\n",
       "      <td>0</td>\n",
       "      <td>0</td>\n",
       "      <td>0</td>\n",
       "      <td>1</td>\n",
       "      <td>0</td>\n",
       "      <td>0</td>\n",
       "      <td>0</td>\n",
       "      <td>0</td>\n",
       "      <td>0</td>\n",
       "    </tr>\n",
       "    <tr>\n",
       "      <th>277</th>\n",
       "      <td>4.0</td>\n",
       "      <td>0</td>\n",
       "      <td>0</td>\n",
       "      <td>0</td>\n",
       "      <td>0</td>\n",
       "      <td>0</td>\n",
       "      <td>1</td>\n",
       "      <td>0</td>\n",
       "      <td>0</td>\n",
       "      <td>0</td>\n",
       "      <td>...</td>\n",
       "      <td>0</td>\n",
       "      <td>0</td>\n",
       "      <td>0</td>\n",
       "      <td>0</td>\n",
       "      <td>0</td>\n",
       "      <td>0</td>\n",
       "      <td>1</td>\n",
       "      <td>0</td>\n",
       "      <td>0</td>\n",
       "      <td>0</td>\n",
       "    </tr>\n",
       "    <tr>\n",
       "      <th>3836</th>\n",
       "      <td>12.0</td>\n",
       "      <td>0</td>\n",
       "      <td>0</td>\n",
       "      <td>0</td>\n",
       "      <td>0</td>\n",
       "      <td>0</td>\n",
       "      <td>0</td>\n",
       "      <td>0</td>\n",
       "      <td>0</td>\n",
       "      <td>0</td>\n",
       "      <td>...</td>\n",
       "      <td>0</td>\n",
       "      <td>0</td>\n",
       "      <td>0</td>\n",
       "      <td>1</td>\n",
       "      <td>0</td>\n",
       "      <td>0</td>\n",
       "      <td>0</td>\n",
       "      <td>0</td>\n",
       "      <td>0</td>\n",
       "      <td>0</td>\n",
       "    </tr>\n",
       "    <tr>\n",
       "      <th>2332</th>\n",
       "      <td>13.0</td>\n",
       "      <td>0</td>\n",
       "      <td>0</td>\n",
       "      <td>0</td>\n",
       "      <td>0</td>\n",
       "      <td>0</td>\n",
       "      <td>0</td>\n",
       "      <td>0</td>\n",
       "      <td>0</td>\n",
       "      <td>0</td>\n",
       "      <td>...</td>\n",
       "      <td>0</td>\n",
       "      <td>0</td>\n",
       "      <td>0</td>\n",
       "      <td>0</td>\n",
       "      <td>0</td>\n",
       "      <td>0</td>\n",
       "      <td>1</td>\n",
       "      <td>0</td>\n",
       "      <td>0</td>\n",
       "      <td>0</td>\n",
       "    </tr>\n",
       "    <tr>\n",
       "      <th>1691</th>\n",
       "      <td>3.0</td>\n",
       "      <td>0</td>\n",
       "      <td>0</td>\n",
       "      <td>0</td>\n",
       "      <td>0</td>\n",
       "      <td>0</td>\n",
       "      <td>0</td>\n",
       "      <td>0</td>\n",
       "      <td>0</td>\n",
       "      <td>0</td>\n",
       "      <td>...</td>\n",
       "      <td>1</td>\n",
       "      <td>0</td>\n",
       "      <td>0</td>\n",
       "      <td>0</td>\n",
       "      <td>0</td>\n",
       "      <td>0</td>\n",
       "      <td>0</td>\n",
       "      <td>0</td>\n",
       "      <td>1</td>\n",
       "      <td>0</td>\n",
       "    </tr>\n",
       "    <tr>\n",
       "      <th>4998</th>\n",
       "      <td>9.0</td>\n",
       "      <td>0</td>\n",
       "      <td>1</td>\n",
       "      <td>0</td>\n",
       "      <td>0</td>\n",
       "      <td>0</td>\n",
       "      <td>0</td>\n",
       "      <td>0</td>\n",
       "      <td>0</td>\n",
       "      <td>0</td>\n",
       "      <td>...</td>\n",
       "      <td>0</td>\n",
       "      <td>0</td>\n",
       "      <td>0</td>\n",
       "      <td>0</td>\n",
       "      <td>0</td>\n",
       "      <td>0</td>\n",
       "      <td>0</td>\n",
       "      <td>0</td>\n",
       "      <td>1</td>\n",
       "      <td>0</td>\n",
       "    </tr>\n",
       "    <tr>\n",
       "      <th>4984</th>\n",
       "      <td>8.0</td>\n",
       "      <td>0</td>\n",
       "      <td>0</td>\n",
       "      <td>0</td>\n",
       "      <td>0</td>\n",
       "      <td>0</td>\n",
       "      <td>0</td>\n",
       "      <td>0</td>\n",
       "      <td>0</td>\n",
       "      <td>0</td>\n",
       "      <td>...</td>\n",
       "      <td>0</td>\n",
       "      <td>0</td>\n",
       "      <td>0</td>\n",
       "      <td>0</td>\n",
       "      <td>0</td>\n",
       "      <td>0</td>\n",
       "      <td>0</td>\n",
       "      <td>0</td>\n",
       "      <td>1</td>\n",
       "      <td>0</td>\n",
       "    </tr>\n",
       "    <tr>\n",
       "      <th>4385</th>\n",
       "      <td>8.0</td>\n",
       "      <td>0</td>\n",
       "      <td>0</td>\n",
       "      <td>1</td>\n",
       "      <td>0</td>\n",
       "      <td>0</td>\n",
       "      <td>0</td>\n",
       "      <td>0</td>\n",
       "      <td>0</td>\n",
       "      <td>0</td>\n",
       "      <td>...</td>\n",
       "      <td>0</td>\n",
       "      <td>0</td>\n",
       "      <td>0</td>\n",
       "      <td>0</td>\n",
       "      <td>0</td>\n",
       "      <td>0</td>\n",
       "      <td>1</td>\n",
       "      <td>0</td>\n",
       "      <td>0</td>\n",
       "      <td>0</td>\n",
       "    </tr>\n",
       "    <tr>\n",
       "      <th>4456</th>\n",
       "      <td>11.0</td>\n",
       "      <td>0</td>\n",
       "      <td>0</td>\n",
       "      <td>0</td>\n",
       "      <td>1</td>\n",
       "      <td>0</td>\n",
       "      <td>0</td>\n",
       "      <td>0</td>\n",
       "      <td>0</td>\n",
       "      <td>0</td>\n",
       "      <td>...</td>\n",
       "      <td>0</td>\n",
       "      <td>0</td>\n",
       "      <td>0</td>\n",
       "      <td>0</td>\n",
       "      <td>0</td>\n",
       "      <td>0</td>\n",
       "      <td>1</td>\n",
       "      <td>0</td>\n",
       "      <td>0</td>\n",
       "      <td>0</td>\n",
       "    </tr>\n",
       "    <tr>\n",
       "      <th>1864</th>\n",
       "      <td>12.0</td>\n",
       "      <td>0</td>\n",
       "      <td>0</td>\n",
       "      <td>0</td>\n",
       "      <td>0</td>\n",
       "      <td>0</td>\n",
       "      <td>0</td>\n",
       "      <td>0</td>\n",
       "      <td>0</td>\n",
       "      <td>0</td>\n",
       "      <td>...</td>\n",
       "      <td>0</td>\n",
       "      <td>0</td>\n",
       "      <td>0</td>\n",
       "      <td>0</td>\n",
       "      <td>0</td>\n",
       "      <td>0</td>\n",
       "      <td>1</td>\n",
       "      <td>0</td>\n",
       "      <td>0</td>\n",
       "      <td>0</td>\n",
       "    </tr>\n",
       "    <tr>\n",
       "      <th>3054</th>\n",
       "      <td>12.0</td>\n",
       "      <td>0</td>\n",
       "      <td>0</td>\n",
       "      <td>0</td>\n",
       "      <td>0</td>\n",
       "      <td>0</td>\n",
       "      <td>0</td>\n",
       "      <td>0</td>\n",
       "      <td>0</td>\n",
       "      <td>1</td>\n",
       "      <td>...</td>\n",
       "      <td>0</td>\n",
       "      <td>0</td>\n",
       "      <td>0</td>\n",
       "      <td>0</td>\n",
       "      <td>0</td>\n",
       "      <td>0</td>\n",
       "      <td>1</td>\n",
       "      <td>0</td>\n",
       "      <td>0</td>\n",
       "      <td>0</td>\n",
       "    </tr>\n",
       "    <tr>\n",
       "      <th>2874</th>\n",
       "      <td>13.0</td>\n",
       "      <td>0</td>\n",
       "      <td>0</td>\n",
       "      <td>0</td>\n",
       "      <td>1</td>\n",
       "      <td>0</td>\n",
       "      <td>0</td>\n",
       "      <td>0</td>\n",
       "      <td>0</td>\n",
       "      <td>0</td>\n",
       "      <td>...</td>\n",
       "      <td>0</td>\n",
       "      <td>0</td>\n",
       "      <td>0</td>\n",
       "      <td>0</td>\n",
       "      <td>0</td>\n",
       "      <td>0</td>\n",
       "      <td>1</td>\n",
       "      <td>0</td>\n",
       "      <td>0</td>\n",
       "      <td>0</td>\n",
       "    </tr>\n",
       "    <tr>\n",
       "      <th>4672</th>\n",
       "      <td>10.0</td>\n",
       "      <td>0</td>\n",
       "      <td>0</td>\n",
       "      <td>0</td>\n",
       "      <td>0</td>\n",
       "      <td>0</td>\n",
       "      <td>1</td>\n",
       "      <td>0</td>\n",
       "      <td>0</td>\n",
       "      <td>0</td>\n",
       "      <td>...</td>\n",
       "      <td>0</td>\n",
       "      <td>0</td>\n",
       "      <td>0</td>\n",
       "      <td>0</td>\n",
       "      <td>0</td>\n",
       "      <td>0</td>\n",
       "      <td>1</td>\n",
       "      <td>0</td>\n",
       "      <td>0</td>\n",
       "      <td>0</td>\n",
       "    </tr>\n",
       "    <tr>\n",
       "      <th>1826</th>\n",
       "      <td>12.0</td>\n",
       "      <td>0</td>\n",
       "      <td>1</td>\n",
       "      <td>0</td>\n",
       "      <td>0</td>\n",
       "      <td>0</td>\n",
       "      <td>0</td>\n",
       "      <td>0</td>\n",
       "      <td>0</td>\n",
       "      <td>0</td>\n",
       "      <td>...</td>\n",
       "      <td>0</td>\n",
       "      <td>0</td>\n",
       "      <td>0</td>\n",
       "      <td>0</td>\n",
       "      <td>0</td>\n",
       "      <td>0</td>\n",
       "      <td>1</td>\n",
       "      <td>0</td>\n",
       "      <td>0</td>\n",
       "      <td>0</td>\n",
       "    </tr>\n",
       "    <tr>\n",
       "      <th>2609</th>\n",
       "      <td>9.0</td>\n",
       "      <td>0</td>\n",
       "      <td>0</td>\n",
       "      <td>0</td>\n",
       "      <td>0</td>\n",
       "      <td>0</td>\n",
       "      <td>0</td>\n",
       "      <td>0</td>\n",
       "      <td>0</td>\n",
       "      <td>0</td>\n",
       "      <td>...</td>\n",
       "      <td>0</td>\n",
       "      <td>0</td>\n",
       "      <td>0</td>\n",
       "      <td>0</td>\n",
       "      <td>0</td>\n",
       "      <td>1</td>\n",
       "      <td>0</td>\n",
       "      <td>0</td>\n",
       "      <td>0</td>\n",
       "      <td>0</td>\n",
       "    </tr>\n",
       "    <tr>\n",
       "      <th>3935</th>\n",
       "      <td>6.0</td>\n",
       "      <td>0</td>\n",
       "      <td>0</td>\n",
       "      <td>0</td>\n",
       "      <td>0</td>\n",
       "      <td>0</td>\n",
       "      <td>0</td>\n",
       "      <td>0</td>\n",
       "      <td>0</td>\n",
       "      <td>0</td>\n",
       "      <td>...</td>\n",
       "      <td>0</td>\n",
       "      <td>0</td>\n",
       "      <td>0</td>\n",
       "      <td>0</td>\n",
       "      <td>0</td>\n",
       "      <td>0</td>\n",
       "      <td>0</td>\n",
       "      <td>0</td>\n",
       "      <td>1</td>\n",
       "      <td>0</td>\n",
       "    </tr>\n",
       "    <tr>\n",
       "      <th>3355</th>\n",
       "      <td>13.0</td>\n",
       "      <td>0</td>\n",
       "      <td>0</td>\n",
       "      <td>0</td>\n",
       "      <td>0</td>\n",
       "      <td>0</td>\n",
       "      <td>0</td>\n",
       "      <td>0</td>\n",
       "      <td>0</td>\n",
       "      <td>0</td>\n",
       "      <td>...</td>\n",
       "      <td>0</td>\n",
       "      <td>0</td>\n",
       "      <td>1</td>\n",
       "      <td>0</td>\n",
       "      <td>0</td>\n",
       "      <td>0</td>\n",
       "      <td>0</td>\n",
       "      <td>0</td>\n",
       "      <td>1</td>\n",
       "      <td>0</td>\n",
       "    </tr>\n",
       "    <tr>\n",
       "      <th>4681</th>\n",
       "      <td>5.0</td>\n",
       "      <td>0</td>\n",
       "      <td>0</td>\n",
       "      <td>0</td>\n",
       "      <td>1</td>\n",
       "      <td>0</td>\n",
       "      <td>0</td>\n",
       "      <td>0</td>\n",
       "      <td>0</td>\n",
       "      <td>0</td>\n",
       "      <td>...</td>\n",
       "      <td>0</td>\n",
       "      <td>0</td>\n",
       "      <td>0</td>\n",
       "      <td>0</td>\n",
       "      <td>0</td>\n",
       "      <td>0</td>\n",
       "      <td>0</td>\n",
       "      <td>1</td>\n",
       "      <td>0</td>\n",
       "      <td>0</td>\n",
       "    </tr>\n",
       "    <tr>\n",
       "      <th>4921</th>\n",
       "      <td>8.0</td>\n",
       "      <td>0</td>\n",
       "      <td>0</td>\n",
       "      <td>0</td>\n",
       "      <td>1</td>\n",
       "      <td>0</td>\n",
       "      <td>0</td>\n",
       "      <td>0</td>\n",
       "      <td>0</td>\n",
       "      <td>0</td>\n",
       "      <td>...</td>\n",
       "      <td>0</td>\n",
       "      <td>0</td>\n",
       "      <td>0</td>\n",
       "      <td>0</td>\n",
       "      <td>0</td>\n",
       "      <td>0</td>\n",
       "      <td>0</td>\n",
       "      <td>1</td>\n",
       "      <td>0</td>\n",
       "      <td>0</td>\n",
       "    </tr>\n",
       "    <tr>\n",
       "      <th>1383</th>\n",
       "      <td>6.0</td>\n",
       "      <td>0</td>\n",
       "      <td>0</td>\n",
       "      <td>0</td>\n",
       "      <td>0</td>\n",
       "      <td>0</td>\n",
       "      <td>0</td>\n",
       "      <td>0</td>\n",
       "      <td>0</td>\n",
       "      <td>0</td>\n",
       "      <td>...</td>\n",
       "      <td>0</td>\n",
       "      <td>0</td>\n",
       "      <td>0</td>\n",
       "      <td>0</td>\n",
       "      <td>0</td>\n",
       "      <td>0</td>\n",
       "      <td>1</td>\n",
       "      <td>0</td>\n",
       "      <td>0</td>\n",
       "      <td>0</td>\n",
       "    </tr>\n",
       "  </tbody>\n",
       "</table>\n",
       "<p>1506 rows × 25 columns</p>\n",
       "</div>"
      ],
      "text/plain": [
       "      pitcher.pitch_zone  hitter.last_name_Bader  hitter.last_name_Carpenter  hitter.last_name_DeJong  hitter.last_name_Fowler  hitter.last_name_García  hitter.last_name_Gyorko  hitter.last_name_Martinez  hitter.last_name_Martínez  hitter.last_name_Mikolas          ...            hitter.last_name_Wacha  hitter.last_name_Weaver  hitter.last_name_Wong  pitcher.pitch_type_CH  pitcher.pitch_type_CT  pitcher.pitch_type_CU  pitcher.pitch_type_FA  pitcher.pitch_type_SI  pitcher.pitch_type_SL  pitcher.pitch_type_SP\n",
       "3153                11.0                       0                           0                        0                        0                        0                        0                          1                          0                         0          ...                                 0                        0                      0                      0                      1                      0                      0                      0                      0                      0\n",
       "2984                11.0                       0                           0                        0                        0                        0                        0                          0                          0                         0          ...                                 0                        0                      1                      0                      0                      0                      1                      0                      0                      0\n",
       "2599                11.0                       1                           0                        0                        0                        0                        0                          0                          0                         0          ...                                 0                        0                      0                      0                      0                      0                      1                      0                      0                      0\n",
       "3977                12.0                       0                           0                        0                        0                        0                        0                          0                          0                         0          ...                                 0                        0                      1                      0                      0                      0                      1                      0                      0                      0\n",
       "2327                11.0                       0                           0                        0                        0                        0                        0                          1                          0                         0          ...                                 0                        0                      0                      0                      0                      0                      0                      0                      0                      1\n",
       "4396                11.0                       0                           0                        0                        0                        0                        0                          0                          0                         0          ...                                 0                        0                      0                      0                      0                      0                      1                      0                      0                      0\n",
       "3507                11.0                       0                           1                        0                        0                        0                        0                          0                          0                         0          ...                                 0                        0                      0                      0                      0                      1                      0                      0                      0                      0\n",
       "286                  7.0                       0                           0                        1                        0                        0                        0                          0                          0                         0          ...                                 0                        0                      0                      0                      0                      0                      1                      0                      0                      0\n",
       "971                 12.0                       0                           0                        0                        0                        0                        0                          1                          0                         0          ...                                 0                        0                      0                      0                      0                      0                      1                      0                      0                      0\n",
       "2905                11.0                       0                           0                        0                        0                        0                        0                          0                          0                         0          ...                                 0                        0                      0                      0                      0                      0                      0                      1                      0                      0\n",
       "903                 11.0                       0                           0                        0                        0                        0                        0                          0                          0                         0          ...                                 0                        0                      1                      1                      0                      0                      0                      0                      0                      0\n",
       "3085                 3.0                       0                           0                        0                        1                        0                        0                          0                          0                         0          ...                                 0                        0                      0                      0                      0                      0                      1                      0                      0                      0\n",
       "2864                13.0                       0                           1                        0                        0                        0                        0                          0                          0                         0          ...                                 0                        0                      0                      0                      0                      0                      0                      0                      1                      0\n",
       "580                 10.0                       0                           1                        0                        0                        0                        0                          0                          0                         0          ...                                 0                        0                      0                      0                      0                      0                      1                      0                      0                      0\n",
       "1355                11.0                       0                           0                        0                        0                        0                        0                          0                          0                         0          ...                                 0                        0                      0                      0                      0                      0                      1                      0                      0                      0\n",
       "1204                 9.0                       0                           0                        0                        0                        0                        0                          0                          0                         0          ...                                 1                        0                      0                      0                      0                      0                      1                      0                      0                      0\n",
       "2222                 8.0                       0                           0                        0                        0                        0                        0                          0                          0                         0          ...                                 0                        0                      1                      0                      0                      0                      1                      0                      0                      0\n",
       "947                 13.0                       0                           0                        0                        0                        0                        1                          0                          0                         0          ...                                 0                        0                      0                      0                      0                      0                      1                      0                      0                      0\n",
       "3979                11.0                       0                           0                        0                        0                        0                        0                          0                          0                         0          ...                                 0                        0                      1                      0                      0                      0                      1                      0                      0                      0\n",
       "1857                 5.0                       0                           0                        0                        0                        0                        0                          0                          0                         0          ...                                 0                        0                      0                      0                      0                      0                      1                      0                      0                      0\n",
       "835                  8.0                       0                           0                        0                        0                        0                        0                          1                          0                         0          ...                                 0                        0                      0                      0                      0                      0                      1                      0                      0                      0\n",
       "3549                13.0                       0                           0                        0                        0                        0                        0                          0                          0                         0          ...                                 0                        0                      0                      0                      0                      0                      0                      1                      0                      0\n",
       "2677                11.0                       0                           0                        0                        0                        0                        0                          0                          0                         0          ...                                 0                        0                      0                      0                      0                      0                      1                      0                      0                      0\n",
       "750                  7.0                       0                           0                        0                        0                        0                        0                          0                          0                         0          ...                                 0                        0                      0                      0                      0                      1                      0                      0                      0                      0\n",
       "198                 11.0                       0                           0                        0                        1                        0                        0                          0                          0                         0          ...                                 0                        0                      0                      0                      0                      0                      1                      0                      0                      0\n",
       "2671                11.0                       0                           0                        1                        0                        0                        0                          0                          0                         0          ...                                 0                        0                      0                      1                      0                      0                      0                      0                      0                      0\n",
       "2418                13.0                       0                           0                        1                        0                        0                        0                          0                          0                         0          ...                                 0                        0                      0                      0                      0                      1                      0                      0                      0                      0\n",
       "4971                 7.0                       0                           0                        0                        0                        0                        0                          1                          0                         0          ...                                 0                        0                      0                      0                      0                      0                      1                      0                      0                      0\n",
       "2553                 2.0                       0                           0                        0                        0                        0                        0                          1                          0                         0          ...                                 0                        0                      0                      0                      0                      0                      1                      0                      0                      0\n",
       "2284                 4.0                       0                           1                        0                        0                        0                        0                          0                          0                         0          ...                                 0                        0                      0                      0                      0                      0                      1                      0                      0                      0\n",
       "...                  ...                     ...                         ...                      ...                      ...                      ...                      ...                        ...                        ...                       ...          ...                               ...                      ...                    ...                    ...                    ...                    ...                    ...                    ...                    ...                    ...\n",
       "3412                11.0                       0                           0                        0                        0                        0                        0                          0                          0                         0          ...                                 0                        0                      0                      1                      0                      0                      0                      0                      0                      0\n",
       "3435                 1.0                       0                           0                        1                        0                        0                        0                          0                          0                         0          ...                                 0                        0                      0                      0                      1                      0                      0                      0                      0                      0\n",
       "1664                11.0                       0                           0                        0                        0                        0                        0                          1                          0                         0          ...                                 0                        0                      0                      0                      0                      0                      1                      0                      0                      0\n",
       "3126                 6.0                       1                           0                        0                        0                        0                        0                          0                          0                         0          ...                                 0                        0                      0                      0                      0                      1                      0                      0                      0                      0\n",
       "2863                 9.0                       0                           1                        0                        0                        0                        0                          0                          0                         0          ...                                 0                        0                      0                      1                      0                      0                      0                      0                      0                      0\n",
       "1042                12.0                       0                           0                        0                        1                        0                        0                          0                          0                         0          ...                                 0                        0                      0                      1                      0                      0                      0                      0                      0                      0\n",
       "3778                11.0                       0                           0                        0                        0                        0                        0                          0                          0                         0          ...                                 0                        0                      0                      0                      0                      0                      1                      0                      0                      0\n",
       "4085                12.0                       0                           0                        0                        1                        0                        0                          0                          0                         0          ...                                 0                        0                      0                      0                      0                      0                      0                      0                      1                      0\n",
       "4588                13.0                       0                           0                        0                        0                        0                        1                          0                          0                         0          ...                                 0                        0                      0                      0                      0                      0                      1                      0                      0                      0\n",
       "1027                 4.0                       0                           1                        0                        0                        0                        0                          0                          0                         0          ...                                 0                        0                      0                      0                      0                      0                      1                      0                      0                      0\n",
       "3241                13.0                       0                           0                        0                        1                        0                        0                          0                          0                         0          ...                                 0                        0                      0                      0                      1                      0                      0                      0                      0                      0\n",
       "277                  4.0                       0                           0                        0                        0                        0                        1                          0                          0                         0          ...                                 0                        0                      0                      0                      0                      0                      1                      0                      0                      0\n",
       "3836                12.0                       0                           0                        0                        0                        0                        0                          0                          0                         0          ...                                 0                        0                      0                      1                      0                      0                      0                      0                      0                      0\n",
       "2332                13.0                       0                           0                        0                        0                        0                        0                          0                          0                         0          ...                                 0                        0                      0                      0                      0                      0                      1                      0                      0                      0\n",
       "1691                 3.0                       0                           0                        0                        0                        0                        0                          0                          0                         0          ...                                 1                        0                      0                      0                      0                      0                      0                      0                      1                      0\n",
       "4998                 9.0                       0                           1                        0                        0                        0                        0                          0                          0                         0          ...                                 0                        0                      0                      0                      0                      0                      0                      0                      1                      0\n",
       "4984                 8.0                       0                           0                        0                        0                        0                        0                          0                          0                         0          ...                                 0                        0                      0                      0                      0                      0                      0                      0                      1                      0\n",
       "4385                 8.0                       0                           0                        1                        0                        0                        0                          0                          0                         0          ...                                 0                        0                      0                      0                      0                      0                      1                      0                      0                      0\n",
       "4456                11.0                       0                           0                        0                        1                        0                        0                          0                          0                         0          ...                                 0                        0                      0                      0                      0                      0                      1                      0                      0                      0\n",
       "1864                12.0                       0                           0                        0                        0                        0                        0                          0                          0                         0          ...                                 0                        0                      0                      0                      0                      0                      1                      0                      0                      0\n",
       "3054                12.0                       0                           0                        0                        0                        0                        0                          0                          0                         1          ...                                 0                        0                      0                      0                      0                      0                      1                      0                      0                      0\n",
       "2874                13.0                       0                           0                        0                        1                        0                        0                          0                          0                         0          ...                                 0                        0                      0                      0                      0                      0                      1                      0                      0                      0\n",
       "4672                10.0                       0                           0                        0                        0                        0                        1                          0                          0                         0          ...                                 0                        0                      0                      0                      0                      0                      1                      0                      0                      0\n",
       "1826                12.0                       0                           1                        0                        0                        0                        0                          0                          0                         0          ...                                 0                        0                      0                      0                      0                      0                      1                      0                      0                      0\n",
       "2609                 9.0                       0                           0                        0                        0                        0                        0                          0                          0                         0          ...                                 0                        0                      0                      0                      0                      1                      0                      0                      0                      0\n",
       "3935                 6.0                       0                           0                        0                        0                        0                        0                          0                          0                         0          ...                                 0                        0                      0                      0                      0                      0                      0                      0                      1                      0\n",
       "3355                13.0                       0                           0                        0                        0                        0                        0                          0                          0                         0          ...                                 0                        0                      1                      0                      0                      0                      0                      0                      1                      0\n",
       "4681                 5.0                       0                           0                        0                        1                        0                        0                          0                          0                         0          ...                                 0                        0                      0                      0                      0                      0                      0                      1                      0                      0\n",
       "4921                 8.0                       0                           0                        0                        1                        0                        0                          0                          0                         0          ...                                 0                        0                      0                      0                      0                      0                      0                      1                      0                      0\n",
       "1383                 6.0                       0                           0                        0                        0                        0                        0                          0                          0                         0          ...                                 0                        0                      0                      0                      0                      0                      1                      0                      0                      0\n",
       "\n",
       "[1506 rows x 25 columns]"
      ]
     },
     "execution_count": 21,
     "metadata": {},
     "output_type": "execute_result"
    }
   ],
   "source": [
    "X_test"
   ]
  },
  {
   "cell_type": "code",
   "execution_count": 20,
   "metadata": {
    "hidden": true
   },
   "outputs": [
    {
     "data": {
      "text/plain": [
       "array([[1.        , 0.        ],\n",
       "       [0.82027638, 0.17972362],\n",
       "       [1.        , 0.        ],\n",
       "       ...,\n",
       "       [0.25568182, 0.74431818],\n",
       "       [0.9       , 0.1       ],\n",
       "       [0.24431231, 0.75568769]])"
      ]
     },
     "execution_count": 20,
     "metadata": {},
     "output_type": "execute_result"
    }
   ],
   "source": [
    "RF.predict_proba(X_test)"
   ]
  },
  {
   "cell_type": "markdown",
   "metadata": {
    "heading_collapsed": true,
    "hidden": true
   },
   "source": [
    "## Log Regression"
   ]
  },
  {
   "cell_type": "markdown",
   "metadata": {
    "hidden": true
   },
   "source": [
    "#### Seeing how it will do training on the whole set"
   ]
  },
  {
   "cell_type": "code",
   "execution_count": 278,
   "metadata": {
    "hidden": true
   },
   "outputs": [],
   "source": [
    "from sklearn.linear_model import LogisticRegression"
   ]
  },
  {
   "cell_type": "code",
   "execution_count": 279,
   "metadata": {
    "hidden": true
   },
   "outputs": [
    {
     "name": "stdout",
     "output_type": "stream",
     "text": [
      "0.7002688172043011\n"
     ]
    }
   ],
   "source": [
    "LRall = LogisticRegression(class_weight = {0:1,1:5})\n",
    "LRall.fit(X,y)\n",
    "LRall.score(X, y)\n",
    "\n",
    "quick_test_afew_times(LRall, X, y)\n"
   ]
  },
  {
   "cell_type": "code",
   "execution_count": 182,
   "metadata": {
    "hidden": true
   },
   "outputs": [
    {
     "data": {
      "text/plain": [
       "array([[2898, 1301],\n",
       "       [ 303,  515]])"
      ]
     },
     "execution_count": 182,
     "metadata": {},
     "output_type": "execute_result"
    }
   ],
   "source": [
    "y_predLRall = LRall.predict(X)\n",
    "metrics.confusion_matrix(y, y_predLRall)"
   ]
  },
  {
   "cell_type": "markdown",
   "metadata": {
    "hidden": true
   },
   "source": [
    "#### Seeing how it will do T-T-S"
   ]
  },
  {
   "cell_type": "code",
   "execution_count": 183,
   "metadata": {
    "hidden": true
   },
   "outputs": [
    {
     "name": "stdout",
     "output_type": "stream",
     "text": [
      "0.6759628154050465\n"
     ]
    }
   ],
   "source": [
    "LR = LogisticRegression(class_weight = {0:1,1:5})\n",
    "LR.fit(X_train,Y_train)\n",
    "LR.score(X_test, Y_test)\n",
    "\n",
    "quick_test_afew_times(LR, X_train, Y_train)"
   ]
  },
  {
   "cell_type": "code",
   "execution_count": 184,
   "metadata": {
    "hidden": true
   },
   "outputs": [],
   "source": [
    "y_predLR = LR.predict(X_test)"
   ]
  },
  {
   "cell_type": "code",
   "execution_count": 186,
   "metadata": {
    "hidden": true
   },
   "outputs": [
    {
     "data": {
      "text/plain": [
       "array([[865, 395],\n",
       "       [ 93, 153]])"
      ]
     },
     "execution_count": 186,
     "metadata": {},
     "output_type": "execute_result"
    }
   ],
   "source": [
    "metrics.confusion_matrix(Y_test, y_predLR)"
   ]
  },
  {
   "cell_type": "markdown",
   "metadata": {
    "hidden": true
   },
   "source": [
    "#### Predict Proba Exploration"
   ]
  },
  {
   "cell_type": "markdown",
   "metadata": {
    "hidden": true
   },
   "source": [
    "** Practicing Predic_proba for the purposes of the flask app.** "
   ]
  },
  {
   "cell_type": "code",
   "execution_count": 215,
   "metadata": {
    "hidden": true
   },
   "outputs": [],
   "source": [
    "score = LR.predict_proba(X_test)"
   ]
  },
  {
   "cell_type": "code",
   "execution_count": 216,
   "metadata": {
    "hidden": true
   },
   "outputs": [
    {
     "data": {
      "text/plain": [
       "array([[0.68174696, 0.31825304],\n",
       "       [0.65038304, 0.34961696],\n",
       "       [0.60811309, 0.39188691],\n",
       "       ...,\n",
       "       [0.14598361, 0.85401639],\n",
       "       [0.31630842, 0.68369158],\n",
       "       [0.49108751, 0.50891249]])"
      ]
     },
     "execution_count": 216,
     "metadata": {},
     "output_type": "execute_result"
    }
   ],
   "source": [
    "score"
   ]
  },
  {
   "cell_type": "code",
   "execution_count": 224,
   "metadata": {
    "hidden": true
   },
   "outputs": [],
   "source": [
    "results = {\"score\": score[0,0]}"
   ]
  },
  {
   "cell_type": "code",
   "execution_count": 226,
   "metadata": {
    "hidden": true
   },
   "outputs": [
    {
     "data": {
      "text/plain": [
       "{'score': 0.681746958655565}"
      ]
     },
     "execution_count": 226,
     "metadata": {},
     "output_type": "execute_result"
    }
   ],
   "source": [
    "#### If the proba that it will be a hit is over 50% it will predict hit. \n",
    "results"
   ]
  },
  {
   "cell_type": "code",
   "execution_count": 221,
   "metadata": {
    "hidden": true
   },
   "outputs": [
    {
     "data": {
      "text/plain": [
       "array([0, 0, 0, ..., 1, 1, 1])"
      ]
     },
     "execution_count": 221,
     "metadata": {},
     "output_type": "execute_result"
    }
   ],
   "source": [
    "LR.predict(X_test)"
   ]
  },
  {
   "cell_type": "markdown",
   "metadata": {
    "hidden": true
   },
   "source": [
    "#### Format for Flask App exploration"
   ]
  },
  {
   "cell_type": "code",
   "execution_count": 295,
   "metadata": {
    "hidden": true
   },
   "outputs": [],
   "source": [
    "trying = [{\"pitcher.pitch_zone\":10.0,\"hitter.last_name_Bader\":1,\"hitter.last_name_Carpenter\":0,\"hitter.last_name_DeJong\":0,\"hitter.last_name_Fowler\":0,\"hitter.last_name_Garc\\\\u00eda\":0,\"hitter.last_name_Gyorko\":0,\"hitter.last_name_Martinez\":0,\"hitter.last_name_Mikolas\":0,\"hitter.last_name_Molina\":0,\"hitter.last_name_Munoz\":0,\"hitter.last_name_Ozuna\":0,\"hitter.last_name_Pe\\\\u00f1a\":0,\"hitter.last_name_Pham\":0,\"hitter.last_name_Wacha\":0,\"hitter.last_name_Weaver\":0,\"hitter.last_name_Wong\":0,\"pitcher.pitch_type_CH\":1,\"pitcher.pitch_type_CT\":0,\"pitcher.pitch_type_CU\":0,\"pitcher.pitch_type_FA\":0,\"pitcher.pitch_type_SI\":0,\"pitcher.pitch_type_SL\":0,\"pitcher.pitch_type_SP\":0}]"
   ]
  },
  {
   "cell_type": "code",
   "execution_count": 396,
   "metadata": {
    "hidden": true
   },
   "outputs": [],
   "source": [
    "data= {\"example\": [14.0,0,1,0,0,0,0,0,0,0,0,0,0,0,0,0,0,1,0,0,0,0,0,0,0]}\n",
    "\n",
    "trying2 = np.matrix(data[\"example\"])"
   ]
  },
  {
   "cell_type": "code",
   "execution_count": 397,
   "metadata": {
    "hidden": true
   },
   "outputs": [
    {
     "data": {
      "text/plain": [
       "matrix([[14.,  0.,  1.,  0.,  0.,  0.,  0.,  0.,  0.,  0.,  0.,  0.,  0.,\n",
       "          0.,  0.,  0.,  0.,  1.,  0.,  0.,  0.,  0.,  0.,  0.,  0.]])"
      ]
     },
     "execution_count": 397,
     "metadata": {},
     "output_type": "execute_result"
    }
   ],
   "source": [
    "trying2"
   ]
  },
  {
   "cell_type": "code",
   "execution_count": 398,
   "metadata": {
    "hidden": true
   },
   "outputs": [
    {
     "data": {
      "text/plain": [
       "array([[0.80821791, 0.19178209]])"
      ]
     },
     "execution_count": 398,
     "metadata": {},
     "output_type": "execute_result"
    }
   ],
   "source": [
    "LR.predict_proba(trying2)"
   ]
  },
  {
   "cell_type": "code",
   "execution_count": 290,
   "metadata": {
    "hidden": true
   },
   "outputs": [],
   "source": [
    "p = X_test.to_json(orient = 'records')"
   ]
  },
  {
   "cell_type": "markdown",
   "metadata": {
    "heading_collapsed": true,
    "hidden": true
   },
   "source": [
    "## Catboost"
   ]
  },
  {
   "cell_type": "markdown",
   "metadata": {
    "hidden": true
   },
   "source": [
    "#### New X and Y that aren't dummified"
   ]
  },
  {
   "cell_type": "code",
   "execution_count": 8,
   "metadata": {
    "hidden": true
   },
   "outputs": [],
   "source": [
    "ycat = carddata_input['hit_type'] \n",
    "Xcat = carddata_input.drop('hit_type',1)"
   ]
  },
  {
   "cell_type": "code",
   "execution_count": 9,
   "metadata": {
    "hidden": true
   },
   "outputs": [],
   "source": [
    "ycat2 = ycat.map(mapper)"
   ]
  },
  {
   "cell_type": "markdown",
   "metadata": {
    "hidden": true
   },
   "source": [
    "#### New T-T-S"
   ]
  },
  {
   "cell_type": "code",
   "execution_count": 26,
   "metadata": {
    "hidden": true
   },
   "outputs": [],
   "source": [
    "X_trainc, X_testc, y_trainc, y_testc = train_test_split(Xcat, ycat2, test_size=0.3, random_state=42, stratify = ycat2)"
   ]
  },
  {
   "cell_type": "code",
   "execution_count": 27,
   "metadata": {
    "hidden": true
   },
   "outputs": [
    {
     "name": "stdout",
     "output_type": "stream",
     "text": [
      "0:\tlearn: 0.6874085\ttotal: 21.9ms\tremaining: 21.9s\n",
      "1:\tlearn: 0.6816234\ttotal: 45.8ms\tremaining: 22.8s\n",
      "2:\tlearn: 0.6763999\ttotal: 68.1ms\tremaining: 22.6s\n",
      "3:\tlearn: 0.6715431\ttotal: 80ms\tremaining: 19.9s\n",
      "4:\tlearn: 0.6669390\ttotal: 89.8ms\tremaining: 17.9s\n",
      "5:\tlearn: 0.6627330\ttotal: 96.9ms\tremaining: 16.1s\n",
      "6:\tlearn: 0.6584311\ttotal: 109ms\tremaining: 15.5s\n",
      "7:\tlearn: 0.6550480\ttotal: 127ms\tremaining: 15.7s\n",
      "8:\tlearn: 0.6515609\ttotal: 135ms\tremaining: 14.8s\n",
      "9:\tlearn: 0.6486289\ttotal: 143ms\tremaining: 14.2s\n",
      "10:\tlearn: 0.6455965\ttotal: 151ms\tremaining: 13.6s\n",
      "11:\tlearn: 0.6425139\ttotal: 161ms\tremaining: 13.2s\n",
      "12:\tlearn: 0.6401661\ttotal: 168ms\tremaining: 12.8s\n",
      "13:\tlearn: 0.6374332\ttotal: 176ms\tremaining: 12.4s\n",
      "14:\tlearn: 0.6349751\ttotal: 184ms\tremaining: 12.1s\n",
      "15:\tlearn: 0.6321403\ttotal: 193ms\tremaining: 11.9s\n",
      "16:\tlearn: 0.6299879\ttotal: 202ms\tremaining: 11.7s\n",
      "17:\tlearn: 0.6279853\ttotal: 210ms\tremaining: 11.4s\n",
      "18:\tlearn: 0.6261491\ttotal: 216ms\tremaining: 11.2s\n",
      "19:\tlearn: 0.6244279\ttotal: 238ms\tremaining: 11.7s\n",
      "20:\tlearn: 0.6226446\ttotal: 251ms\tremaining: 11.7s\n",
      "21:\tlearn: 0.6208963\ttotal: 261ms\tremaining: 11.6s\n",
      "22:\tlearn: 0.6185653\ttotal: 271ms\tremaining: 11.5s\n",
      "23:\tlearn: 0.6173994\ttotal: 280ms\tremaining: 11.4s\n",
      "24:\tlearn: 0.6162514\ttotal: 289ms\tremaining: 11.3s\n",
      "25:\tlearn: 0.6148326\ttotal: 301ms\tremaining: 11.3s\n",
      "26:\tlearn: 0.6137177\ttotal: 309ms\tremaining: 11.2s\n",
      "27:\tlearn: 0.6125944\ttotal: 321ms\tremaining: 11.1s\n",
      "28:\tlearn: 0.6117444\ttotal: 327ms\tremaining: 11s\n",
      "29:\tlearn: 0.6108559\ttotal: 336ms\tremaining: 10.9s\n",
      "30:\tlearn: 0.6097639\ttotal: 343ms\tremaining: 10.7s\n",
      "31:\tlearn: 0.6091691\ttotal: 350ms\tremaining: 10.6s\n",
      "32:\tlearn: 0.6081162\ttotal: 360ms\tremaining: 10.5s\n",
      "33:\tlearn: 0.6064525\ttotal: 370ms\tremaining: 10.5s\n",
      "34:\tlearn: 0.6050187\ttotal: 389ms\tremaining: 10.7s\n",
      "35:\tlearn: 0.6043422\ttotal: 401ms\tremaining: 10.7s\n",
      "36:\tlearn: 0.6036987\ttotal: 409ms\tremaining: 10.7s\n",
      "37:\tlearn: 0.6032047\ttotal: 418ms\tremaining: 10.6s\n",
      "38:\tlearn: 0.6026350\ttotal: 427ms\tremaining: 10.5s\n",
      "39:\tlearn: 0.6019884\ttotal: 436ms\tremaining: 10.5s\n",
      "40:\tlearn: 0.6016753\ttotal: 456ms\tremaining: 10.7s\n",
      "41:\tlearn: 0.6010339\ttotal: 468ms\tremaining: 10.7s\n",
      "42:\tlearn: 0.6003326\ttotal: 475ms\tremaining: 10.6s\n",
      "43:\tlearn: 0.5997677\ttotal: 482ms\tremaining: 10.5s\n",
      "44:\tlearn: 0.5988693\ttotal: 491ms\tremaining: 10.4s\n",
      "45:\tlearn: 0.5982769\ttotal: 498ms\tremaining: 10.3s\n",
      "46:\tlearn: 0.5979961\ttotal: 505ms\tremaining: 10.2s\n",
      "47:\tlearn: 0.5975516\ttotal: 511ms\tremaining: 10.1s\n",
      "48:\tlearn: 0.5969601\ttotal: 519ms\tremaining: 10.1s\n",
      "49:\tlearn: 0.5964695\ttotal: 527ms\tremaining: 10s\n",
      "50:\tlearn: 0.5958270\ttotal: 535ms\tremaining: 9.96s\n",
      "51:\tlearn: 0.5953776\ttotal: 543ms\tremaining: 9.9s\n",
      "52:\tlearn: 0.5951892\ttotal: 550ms\tremaining: 9.82s\n",
      "53:\tlearn: 0.5950104\ttotal: 556ms\tremaining: 9.75s\n",
      "54:\tlearn: 0.5943656\ttotal: 564ms\tremaining: 9.7s\n",
      "55:\tlearn: 0.5939890\ttotal: 573ms\tremaining: 9.66s\n",
      "56:\tlearn: 0.5935581\ttotal: 582ms\tremaining: 9.63s\n",
      "57:\tlearn: 0.5933245\ttotal: 588ms\tremaining: 9.55s\n",
      "58:\tlearn: 0.5932802\ttotal: 595ms\tremaining: 9.48s\n",
      "59:\tlearn: 0.5929727\ttotal: 602ms\tremaining: 9.43s\n",
      "60:\tlearn: 0.5929679\ttotal: 608ms\tremaining: 9.36s\n",
      "61:\tlearn: 0.5924490\ttotal: 617ms\tremaining: 9.33s\n",
      "62:\tlearn: 0.5923507\ttotal: 624ms\tremaining: 9.28s\n",
      "63:\tlearn: 0.5917594\ttotal: 635ms\tremaining: 9.29s\n",
      "64:\tlearn: 0.5913294\ttotal: 646ms\tremaining: 9.29s\n",
      "65:\tlearn: 0.5906527\ttotal: 664ms\tremaining: 9.4s\n",
      "66:\tlearn: 0.5900679\ttotal: 678ms\tremaining: 9.44s\n",
      "67:\tlearn: 0.5898308\ttotal: 688ms\tremaining: 9.43s\n",
      "68:\tlearn: 0.5897830\ttotal: 697ms\tremaining: 9.4s\n",
      "69:\tlearn: 0.5894831\ttotal: 710ms\tremaining: 9.43s\n",
      "70:\tlearn: 0.5892858\ttotal: 719ms\tremaining: 9.41s\n",
      "71:\tlearn: 0.5890453\ttotal: 728ms\tremaining: 9.39s\n",
      "72:\tlearn: 0.5887683\ttotal: 737ms\tremaining: 9.36s\n",
      "73:\tlearn: 0.5885442\ttotal: 748ms\tremaining: 9.36s\n",
      "74:\tlearn: 0.5879758\ttotal: 784ms\tremaining: 9.67s\n",
      "75:\tlearn: 0.5874280\ttotal: 824ms\tremaining: 10s\n",
      "76:\tlearn: 0.5874256\ttotal: 838ms\tremaining: 10s\n",
      "77:\tlearn: 0.5870385\ttotal: 846ms\tremaining: 10s\n",
      "78:\tlearn: 0.5869096\ttotal: 853ms\tremaining: 9.94s\n",
      "79:\tlearn: 0.5866254\ttotal: 860ms\tremaining: 9.89s\n",
      "80:\tlearn: 0.5861442\ttotal: 880ms\tremaining: 9.98s\n",
      "81:\tlearn: 0.5860334\ttotal: 888ms\tremaining: 9.94s\n",
      "82:\tlearn: 0.5856079\ttotal: 896ms\tremaining: 9.9s\n",
      "83:\tlearn: 0.5851596\ttotal: 906ms\tremaining: 9.88s\n",
      "84:\tlearn: 0.5851519\ttotal: 912ms\tremaining: 9.82s\n",
      "85:\tlearn: 0.5849076\ttotal: 919ms\tremaining: 9.76s\n",
      "86:\tlearn: 0.5845518\ttotal: 926ms\tremaining: 9.72s\n",
      "87:\tlearn: 0.5840430\ttotal: 934ms\tremaining: 9.68s\n",
      "88:\tlearn: 0.5838757\ttotal: 943ms\tremaining: 9.65s\n",
      "89:\tlearn: 0.5836185\ttotal: 955ms\tremaining: 9.65s\n",
      "90:\tlearn: 0.5836173\ttotal: 961ms\tremaining: 9.6s\n",
      "91:\tlearn: 0.5833424\ttotal: 970ms\tremaining: 9.57s\n",
      "92:\tlearn: 0.5826852\ttotal: 978ms\tremaining: 9.54s\n",
      "93:\tlearn: 0.5825780\ttotal: 985ms\tremaining: 9.49s\n",
      "94:\tlearn: 0.5825757\ttotal: 991ms\tremaining: 9.44s\n",
      "95:\tlearn: 0.5824818\ttotal: 999ms\tremaining: 9.41s\n",
      "96:\tlearn: 0.5820713\ttotal: 1.02s\tremaining: 9.53s\n",
      "97:\tlearn: 0.5820651\ttotal: 1.04s\tremaining: 9.62s\n",
      "98:\tlearn: 0.5818430\ttotal: 1.07s\tremaining: 9.76s\n",
      "99:\tlearn: 0.5818277\ttotal: 1.1s\tremaining: 9.87s\n",
      "100:\tlearn: 0.5816136\ttotal: 1.12s\tremaining: 9.97s\n",
      "101:\tlearn: 0.5812437\ttotal: 1.14s\tremaining: 10s\n",
      "102:\tlearn: 0.5807344\ttotal: 1.15s\tremaining: 10s\n",
      "103:\tlearn: 0.5804824\ttotal: 1.17s\tremaining: 10.1s\n",
      "104:\tlearn: 0.5804823\ttotal: 1.18s\tremaining: 10.1s\n",
      "105:\tlearn: 0.5804690\ttotal: 1.19s\tremaining: 10s\n",
      "106:\tlearn: 0.5802994\ttotal: 1.2s\tremaining: 10s\n",
      "107:\tlearn: 0.5800227\ttotal: 1.21s\tremaining: 10s\n",
      "108:\tlearn: 0.5800187\ttotal: 1.22s\tremaining: 10s\n",
      "109:\tlearn: 0.5799400\ttotal: 1.23s\tremaining: 9.98s\n",
      "110:\tlearn: 0.5796772\ttotal: 1.25s\tremaining: 9.99s\n",
      "111:\tlearn: 0.5796723\ttotal: 1.26s\tremaining: 9.96s\n",
      "112:\tlearn: 0.5795894\ttotal: 1.26s\tremaining: 9.94s\n",
      "113:\tlearn: 0.5795894\ttotal: 1.28s\tremaining: 9.94s\n",
      "114:\tlearn: 0.5795860\ttotal: 1.28s\tremaining: 9.89s\n",
      "115:\tlearn: 0.5795858\ttotal: 1.3s\tremaining: 9.89s\n",
      "116:\tlearn: 0.5795154\ttotal: 1.32s\tremaining: 9.99s\n",
      "117:\tlearn: 0.5794543\ttotal: 1.34s\tremaining: 10s\n",
      "118:\tlearn: 0.5789586\ttotal: 1.35s\tremaining: 9.99s\n",
      "119:\tlearn: 0.5789585\ttotal: 1.35s\tremaining: 9.94s\n",
      "120:\tlearn: 0.5789415\ttotal: 1.36s\tremaining: 9.9s\n",
      "121:\tlearn: 0.5788222\ttotal: 1.37s\tremaining: 9.87s\n",
      "122:\tlearn: 0.5788222\ttotal: 1.38s\tremaining: 9.82s\n",
      "123:\tlearn: 0.5787921\ttotal: 1.39s\tremaining: 9.79s\n",
      "124:\tlearn: 0.5787729\ttotal: 1.4s\tremaining: 9.77s\n",
      "125:\tlearn: 0.5787521\ttotal: 1.42s\tremaining: 9.82s\n",
      "126:\tlearn: 0.5787495\ttotal: 1.44s\tremaining: 9.89s\n",
      "127:\tlearn: 0.5787466\ttotal: 1.46s\tremaining: 9.96s\n",
      "128:\tlearn: 0.5787458\ttotal: 1.48s\tremaining: 10s\n",
      "129:\tlearn: 0.5783228\ttotal: 1.51s\tremaining: 10.1s\n",
      "130:\tlearn: 0.5783220\ttotal: 1.54s\tremaining: 10.2s\n",
      "131:\tlearn: 0.5781836\ttotal: 1.56s\tremaining: 10.3s\n",
      "132:\tlearn: 0.5778542\ttotal: 1.57s\tremaining: 10.3s\n",
      "133:\tlearn: 0.5770897\ttotal: 1.59s\tremaining: 10.3s\n",
      "134:\tlearn: 0.5769963\ttotal: 1.6s\tremaining: 10.3s\n",
      "135:\tlearn: 0.5769937\ttotal: 1.61s\tremaining: 10.3s\n",
      "136:\tlearn: 0.5764673\ttotal: 1.63s\tremaining: 10.2s\n",
      "137:\tlearn: 0.5764587\ttotal: 1.64s\tremaining: 10.2s\n",
      "138:\tlearn: 0.5764549\ttotal: 1.65s\tremaining: 10.2s\n",
      "139:\tlearn: 0.5764249\ttotal: 1.67s\tremaining: 10.2s\n",
      "140:\tlearn: 0.5764249\ttotal: 1.67s\tremaining: 10.2s\n",
      "141:\tlearn: 0.5764249\ttotal: 1.69s\tremaining: 10.2s\n",
      "142:\tlearn: 0.5763721\ttotal: 1.7s\tremaining: 10.2s\n",
      "143:\tlearn: 0.5763488\ttotal: 1.74s\tremaining: 10.3s\n",
      "144:\tlearn: 0.5763482\ttotal: 1.75s\tremaining: 10.3s\n",
      "145:\tlearn: 0.5759356\ttotal: 1.76s\tremaining: 10.3s\n",
      "146:\tlearn: 0.5759160\ttotal: 1.77s\tremaining: 10.3s\n",
      "147:\tlearn: 0.5759160\ttotal: 1.77s\tremaining: 10.2s\n",
      "148:\tlearn: 0.5759137\ttotal: 1.79s\tremaining: 10.2s\n",
      "149:\tlearn: 0.5759137\ttotal: 1.81s\tremaining: 10.3s\n",
      "150:\tlearn: 0.5759137\ttotal: 1.83s\tremaining: 10.3s\n",
      "151:\tlearn: 0.5758574\ttotal: 1.85s\tremaining: 10.3s\n",
      "152:\tlearn: 0.5758574\ttotal: 1.88s\tremaining: 10.4s\n",
      "153:\tlearn: 0.5754773\ttotal: 1.9s\tremaining: 10.5s\n",
      "154:\tlearn: 0.5753375\ttotal: 1.93s\tremaining: 10.5s\n",
      "155:\tlearn: 0.5753375\ttotal: 1.96s\tremaining: 10.6s\n",
      "156:\tlearn: 0.5753375\ttotal: 1.98s\tremaining: 10.6s\n",
      "157:\tlearn: 0.5753338\ttotal: 1.99s\tremaining: 10.6s\n",
      "158:\tlearn: 0.5753260\ttotal: 2s\tremaining: 10.6s\n",
      "159:\tlearn: 0.5753228\ttotal: 2.01s\tremaining: 10.6s\n",
      "160:\tlearn: 0.5753228\ttotal: 2.03s\tremaining: 10.6s\n",
      "161:\tlearn: 0.5753186\ttotal: 2.04s\tremaining: 10.6s\n",
      "162:\tlearn: 0.5753107\ttotal: 2.05s\tremaining: 10.5s\n",
      "163:\tlearn: 0.5753106\ttotal: 2.06s\tremaining: 10.5s\n",
      "164:\tlearn: 0.5753084\ttotal: 2.07s\tremaining: 10.5s\n",
      "165:\tlearn: 0.5752691\ttotal: 2.08s\tremaining: 10.4s\n",
      "166:\tlearn: 0.5752691\ttotal: 2.08s\tremaining: 10.4s\n",
      "167:\tlearn: 0.5752042\ttotal: 2.09s\tremaining: 10.3s\n",
      "168:\tlearn: 0.5752004\ttotal: 2.1s\tremaining: 10.3s\n",
      "169:\tlearn: 0.5751999\ttotal: 2.11s\tremaining: 10.3s\n",
      "170:\tlearn: 0.5751992\ttotal: 2.13s\tremaining: 10.3s\n",
      "171:\tlearn: 0.5751992\ttotal: 2.15s\tremaining: 10.3s\n"
     ]
    },
    {
     "name": "stdout",
     "output_type": "stream",
     "text": [
      "172:\tlearn: 0.5751992\ttotal: 2.18s\tremaining: 10.4s\n",
      "173:\tlearn: 0.5751992\ttotal: 2.21s\tremaining: 10.5s\n",
      "174:\tlearn: 0.5751957\ttotal: 2.23s\tremaining: 10.5s\n",
      "175:\tlearn: 0.5751925\ttotal: 2.24s\tremaining: 10.5s\n",
      "176:\tlearn: 0.5751920\ttotal: 2.24s\tremaining: 10.4s\n",
      "177:\tlearn: 0.5751920\ttotal: 2.25s\tremaining: 10.4s\n",
      "178:\tlearn: 0.5751900\ttotal: 2.26s\tremaining: 10.3s\n",
      "179:\tlearn: 0.5747970\ttotal: 2.27s\tremaining: 10.3s\n",
      "180:\tlearn: 0.5747924\ttotal: 2.27s\tremaining: 10.3s\n",
      "181:\tlearn: 0.5747870\ttotal: 2.28s\tremaining: 10.3s\n",
      "182:\tlearn: 0.5747802\ttotal: 2.29s\tremaining: 10.2s\n",
      "183:\tlearn: 0.5747216\ttotal: 2.29s\tremaining: 10.2s\n",
      "184:\tlearn: 0.5747196\ttotal: 2.3s\tremaining: 10.1s\n",
      "185:\tlearn: 0.5744270\ttotal: 2.31s\tremaining: 10.1s\n",
      "186:\tlearn: 0.5743467\ttotal: 2.32s\tremaining: 10.1s\n",
      "187:\tlearn: 0.5740146\ttotal: 2.32s\tremaining: 10s\n",
      "188:\tlearn: 0.5740053\ttotal: 2.33s\tremaining: 10s\n",
      "189:\tlearn: 0.5740050\ttotal: 2.34s\tremaining: 9.97s\n",
      "190:\tlearn: 0.5740035\ttotal: 2.34s\tremaining: 9.93s\n",
      "191:\tlearn: 0.5739943\ttotal: 2.35s\tremaining: 9.91s\n",
      "192:\tlearn: 0.5737106\ttotal: 2.37s\tremaining: 9.92s\n",
      "193:\tlearn: 0.5737036\ttotal: 2.39s\tremaining: 9.94s\n",
      "194:\tlearn: 0.5737036\ttotal: 2.4s\tremaining: 9.92s\n",
      "195:\tlearn: 0.5736997\ttotal: 2.41s\tremaining: 9.89s\n",
      "196:\tlearn: 0.5736997\ttotal: 2.42s\tremaining: 9.86s\n",
      "197:\tlearn: 0.5736997\ttotal: 2.42s\tremaining: 9.82s\n",
      "198:\tlearn: 0.5736994\ttotal: 2.43s\tremaining: 9.8s\n",
      "199:\tlearn: 0.5736956\ttotal: 2.44s\tremaining: 9.77s\n",
      "200:\tlearn: 0.5736926\ttotal: 2.45s\tremaining: 9.73s\n",
      "201:\tlearn: 0.5736846\ttotal: 2.46s\tremaining: 9.7s\n",
      "202:\tlearn: 0.5732652\ttotal: 2.47s\tremaining: 9.69s\n",
      "203:\tlearn: 0.5732652\ttotal: 2.47s\tremaining: 9.65s\n",
      "204:\tlearn: 0.5732650\ttotal: 2.48s\tremaining: 9.62s\n",
      "205:\tlearn: 0.5732615\ttotal: 2.49s\tremaining: 9.59s\n",
      "206:\tlearn: 0.5732585\ttotal: 2.5s\tremaining: 9.56s\n",
      "207:\tlearn: 0.5730203\ttotal: 2.5s\tremaining: 9.54s\n",
      "208:\tlearn: 0.5730203\ttotal: 2.51s\tremaining: 9.5s\n",
      "209:\tlearn: 0.5730200\ttotal: 2.52s\tremaining: 9.47s\n",
      "210:\tlearn: 0.5730198\ttotal: 2.53s\tremaining: 9.45s\n",
      "211:\tlearn: 0.5730128\ttotal: 2.53s\tremaining: 9.42s\n",
      "212:\tlearn: 0.5730104\ttotal: 2.54s\tremaining: 9.39s\n",
      "213:\tlearn: 0.5730100\ttotal: 2.55s\tremaining: 9.36s\n",
      "214:\tlearn: 0.5730077\ttotal: 2.56s\tremaining: 9.34s\n",
      "215:\tlearn: 0.5730045\ttotal: 2.56s\tremaining: 9.31s\n",
      "216:\tlearn: 0.5730044\ttotal: 2.57s\tremaining: 9.29s\n",
      "217:\tlearn: 0.5729725\ttotal: 2.58s\tremaining: 9.26s\n",
      "218:\tlearn: 0.5729725\ttotal: 2.59s\tremaining: 9.23s\n",
      "219:\tlearn: 0.5729721\ttotal: 2.61s\tremaining: 9.25s\n",
      "220:\tlearn: 0.5729134\ttotal: 2.62s\tremaining: 9.22s\n",
      "221:\tlearn: 0.5729112\ttotal: 2.62s\tremaining: 9.19s\n",
      "222:\tlearn: 0.5724817\ttotal: 2.63s\tremaining: 9.17s\n",
      "223:\tlearn: 0.5724797\ttotal: 2.64s\tremaining: 9.14s\n",
      "224:\tlearn: 0.5723378\ttotal: 2.65s\tremaining: 9.12s\n",
      "225:\tlearn: 0.5723377\ttotal: 2.65s\tremaining: 9.09s\n",
      "226:\tlearn: 0.5723377\ttotal: 2.66s\tremaining: 9.06s\n",
      "227:\tlearn: 0.5723366\ttotal: 2.67s\tremaining: 9.03s\n",
      "228:\tlearn: 0.5723338\ttotal: 2.67s\tremaining: 9s\n",
      "229:\tlearn: 0.5722453\ttotal: 2.68s\tremaining: 8.98s\n",
      "230:\tlearn: 0.5721945\ttotal: 2.69s\tremaining: 8.95s\n",
      "231:\tlearn: 0.5721943\ttotal: 2.7s\tremaining: 8.93s\n",
      "232:\tlearn: 0.5721617\ttotal: 2.7s\tremaining: 8.9s\n",
      "233:\tlearn: 0.5719670\ttotal: 2.71s\tremaining: 8.87s\n",
      "234:\tlearn: 0.5719666\ttotal: 2.72s\tremaining: 8.84s\n",
      "235:\tlearn: 0.5719666\ttotal: 2.72s\tremaining: 8.82s\n",
      "236:\tlearn: 0.5719662\ttotal: 2.73s\tremaining: 8.79s\n",
      "237:\tlearn: 0.5719641\ttotal: 2.74s\tremaining: 8.77s\n",
      "238:\tlearn: 0.5715060\ttotal: 2.75s\tremaining: 8.74s\n",
      "239:\tlearn: 0.5715056\ttotal: 2.75s\tremaining: 8.72s\n",
      "240:\tlearn: 0.5715056\ttotal: 2.76s\tremaining: 8.7s\n",
      "241:\tlearn: 0.5715039\ttotal: 2.8s\tremaining: 8.77s\n",
      "242:\tlearn: 0.5715037\ttotal: 2.86s\tremaining: 8.92s\n",
      "243:\tlearn: 0.5714733\ttotal: 2.89s\tremaining: 8.95s\n",
      "244:\tlearn: 0.5714729\ttotal: 2.9s\tremaining: 8.93s\n",
      "245:\tlearn: 0.5714728\ttotal: 2.9s\tremaining: 8.9s\n",
      "246:\tlearn: 0.5714449\ttotal: 2.91s\tremaining: 8.88s\n",
      "247:\tlearn: 0.5714444\ttotal: 2.92s\tremaining: 8.85s\n",
      "248:\tlearn: 0.5714245\ttotal: 2.93s\tremaining: 8.83s\n",
      "249:\tlearn: 0.5714245\ttotal: 2.93s\tremaining: 8.8s\n",
      "250:\tlearn: 0.5714239\ttotal: 2.94s\tremaining: 8.78s\n",
      "251:\tlearn: 0.5711361\ttotal: 2.95s\tremaining: 8.76s\n",
      "252:\tlearn: 0.5711345\ttotal: 2.96s\tremaining: 8.73s\n",
      "253:\tlearn: 0.5706920\ttotal: 2.97s\tremaining: 8.71s\n",
      "254:\tlearn: 0.5704827\ttotal: 2.98s\tremaining: 8.7s\n",
      "255:\tlearn: 0.5704095\ttotal: 2.98s\tremaining: 8.67s\n",
      "256:\tlearn: 0.5700810\ttotal: 3s\tremaining: 8.66s\n",
      "257:\tlearn: 0.5699961\ttotal: 3s\tremaining: 8.64s\n",
      "258:\tlearn: 0.5697072\ttotal: 3.01s\tremaining: 8.62s\n",
      "259:\tlearn: 0.5696934\ttotal: 3.02s\tremaining: 8.59s\n",
      "260:\tlearn: 0.5696934\ttotal: 3.03s\tremaining: 8.57s\n",
      "261:\tlearn: 0.5696360\ttotal: 3.03s\tremaining: 8.54s\n",
      "262:\tlearn: 0.5695930\ttotal: 3.04s\tremaining: 8.52s\n",
      "263:\tlearn: 0.5691630\ttotal: 3.05s\tremaining: 8.5s\n",
      "264:\tlearn: 0.5691553\ttotal: 3.05s\tremaining: 8.47s\n",
      "265:\tlearn: 0.5691541\ttotal: 3.06s\tremaining: 8.45s\n",
      "266:\tlearn: 0.5691474\ttotal: 3.08s\tremaining: 8.44s\n",
      "267:\tlearn: 0.5691034\ttotal: 3.08s\tremaining: 8.42s\n",
      "268:\tlearn: 0.5687689\ttotal: 3.09s\tremaining: 8.4s\n",
      "269:\tlearn: 0.5687661\ttotal: 3.1s\tremaining: 8.38s\n",
      "270:\tlearn: 0.5685289\ttotal: 3.1s\tremaining: 8.35s\n",
      "271:\tlearn: 0.5685232\ttotal: 3.11s\tremaining: 8.33s\n",
      "272:\tlearn: 0.5685086\ttotal: 3.12s\tremaining: 8.3s\n",
      "273:\tlearn: 0.5684103\ttotal: 3.13s\tremaining: 8.28s\n",
      "274:\tlearn: 0.5683019\ttotal: 3.13s\tremaining: 8.26s\n",
      "275:\tlearn: 0.5682948\ttotal: 3.14s\tremaining: 8.23s\n",
      "276:\tlearn: 0.5682934\ttotal: 3.15s\tremaining: 8.21s\n",
      "277:\tlearn: 0.5682929\ttotal: 3.15s\tremaining: 8.19s\n",
      "278:\tlearn: 0.5681814\ttotal: 3.16s\tremaining: 8.17s\n",
      "279:\tlearn: 0.5681082\ttotal: 3.17s\tremaining: 8.14s\n",
      "280:\tlearn: 0.5681047\ttotal: 3.17s\tremaining: 8.12s\n",
      "281:\tlearn: 0.5681035\ttotal: 3.18s\tremaining: 8.1s\n",
      "282:\tlearn: 0.5681002\ttotal: 3.19s\tremaining: 8.08s\n",
      "283:\tlearn: 0.5678120\ttotal: 3.2s\tremaining: 8.06s\n",
      "284:\tlearn: 0.5678108\ttotal: 3.2s\tremaining: 8.04s\n",
      "285:\tlearn: 0.5678108\ttotal: 3.21s\tremaining: 8.01s\n",
      "286:\tlearn: 0.5675109\ttotal: 3.22s\tremaining: 7.99s\n",
      "287:\tlearn: 0.5675061\ttotal: 3.23s\tremaining: 7.97s\n",
      "288:\tlearn: 0.5673989\ttotal: 3.23s\tremaining: 7.95s\n",
      "289:\tlearn: 0.5673924\ttotal: 3.24s\tremaining: 7.93s\n",
      "290:\tlearn: 0.5673900\ttotal: 3.25s\tremaining: 7.91s\n",
      "291:\tlearn: 0.5672690\ttotal: 3.25s\tremaining: 7.89s\n",
      "292:\tlearn: 0.5672679\ttotal: 3.26s\tremaining: 7.87s\n",
      "293:\tlearn: 0.5670209\ttotal: 3.27s\tremaining: 7.86s\n",
      "294:\tlearn: 0.5670209\ttotal: 3.28s\tremaining: 7.84s\n",
      "295:\tlearn: 0.5670203\ttotal: 3.29s\tremaining: 7.82s\n",
      "296:\tlearn: 0.5670198\ttotal: 3.29s\tremaining: 7.8s\n",
      "297:\tlearn: 0.5665851\ttotal: 3.3s\tremaining: 7.78s\n",
      "298:\tlearn: 0.5665851\ttotal: 3.31s\tremaining: 7.76s\n",
      "299:\tlearn: 0.5664945\ttotal: 3.32s\tremaining: 7.74s\n",
      "300:\tlearn: 0.5664945\ttotal: 3.34s\tremaining: 7.75s\n",
      "301:\tlearn: 0.5664891\ttotal: 3.35s\tremaining: 7.75s\n",
      "302:\tlearn: 0.5662843\ttotal: 3.37s\tremaining: 7.76s\n",
      "303:\tlearn: 0.5662838\ttotal: 3.39s\tremaining: 7.77s\n",
      "304:\tlearn: 0.5661708\ttotal: 3.41s\tremaining: 7.78s\n",
      "305:\tlearn: 0.5661648\ttotal: 3.42s\tremaining: 7.76s\n",
      "306:\tlearn: 0.5661641\ttotal: 3.43s\tremaining: 7.74s\n",
      "307:\tlearn: 0.5661519\ttotal: 3.44s\tremaining: 7.72s\n",
      "308:\tlearn: 0.5661464\ttotal: 3.45s\tremaining: 7.71s\n",
      "309:\tlearn: 0.5661463\ttotal: 3.45s\tremaining: 7.69s\n",
      "310:\tlearn: 0.5661443\ttotal: 3.46s\tremaining: 7.67s\n",
      "311:\tlearn: 0.5661442\ttotal: 3.48s\tremaining: 7.67s\n",
      "312:\tlearn: 0.5655191\ttotal: 3.48s\tremaining: 7.65s\n",
      "313:\tlearn: 0.5654681\ttotal: 3.49s\tremaining: 7.63s\n",
      "314:\tlearn: 0.5654680\ttotal: 3.5s\tremaining: 7.61s\n",
      "315:\tlearn: 0.5654668\ttotal: 3.5s\tremaining: 7.59s\n",
      "316:\tlearn: 0.5654663\ttotal: 3.51s\tremaining: 7.56s\n",
      "317:\tlearn: 0.5654652\ttotal: 3.52s\tremaining: 7.54s\n",
      "318:\tlearn: 0.5647991\ttotal: 3.52s\tremaining: 7.52s\n",
      "319:\tlearn: 0.5647159\ttotal: 3.53s\tremaining: 7.5s\n",
      "320:\tlearn: 0.5647155\ttotal: 3.54s\tremaining: 7.48s\n",
      "321:\tlearn: 0.5647147\ttotal: 3.54s\tremaining: 7.46s\n",
      "322:\tlearn: 0.5646198\ttotal: 3.55s\tremaining: 7.44s\n",
      "323:\tlearn: 0.5644203\ttotal: 3.56s\tremaining: 7.43s\n",
      "324:\tlearn: 0.5642081\ttotal: 3.57s\tremaining: 7.41s\n",
      "325:\tlearn: 0.5637569\ttotal: 3.58s\tremaining: 7.39s\n",
      "326:\tlearn: 0.5637540\ttotal: 3.58s\tremaining: 7.37s\n",
      "327:\tlearn: 0.5637513\ttotal: 3.59s\tremaining: 7.35s\n",
      "328:\tlearn: 0.5637511\ttotal: 3.59s\tremaining: 7.33s\n",
      "329:\tlearn: 0.5637502\ttotal: 3.6s\tremaining: 7.31s\n",
      "330:\tlearn: 0.5634632\ttotal: 3.61s\tremaining: 7.29s\n",
      "331:\tlearn: 0.5634517\ttotal: 3.61s\tremaining: 7.27s\n",
      "332:\tlearn: 0.5629283\ttotal: 3.62s\tremaining: 7.25s\n",
      "333:\tlearn: 0.5626623\ttotal: 3.63s\tremaining: 7.24s\n",
      "334:\tlearn: 0.5626603\ttotal: 3.63s\tremaining: 7.22s\n",
      "335:\tlearn: 0.5626297\ttotal: 3.64s\tremaining: 7.2s\n",
      "336:\tlearn: 0.5621179\ttotal: 3.65s\tremaining: 7.18s\n",
      "337:\tlearn: 0.5621073\ttotal: 3.66s\tremaining: 7.16s\n"
     ]
    },
    {
     "name": "stdout",
     "output_type": "stream",
     "text": [
      "338:\tlearn: 0.5621027\ttotal: 3.67s\tremaining: 7.16s\n",
      "339:\tlearn: 0.5616931\ttotal: 3.68s\tremaining: 7.15s\n",
      "340:\tlearn: 0.5616883\ttotal: 3.69s\tremaining: 7.14s\n",
      "341:\tlearn: 0.5612993\ttotal: 3.72s\tremaining: 7.16s\n",
      "342:\tlearn: 0.5612950\ttotal: 3.74s\tremaining: 7.16s\n",
      "343:\tlearn: 0.5608847\ttotal: 3.75s\tremaining: 7.14s\n",
      "344:\tlearn: 0.5606353\ttotal: 3.75s\tremaining: 7.13s\n",
      "345:\tlearn: 0.5604930\ttotal: 3.76s\tremaining: 7.11s\n",
      "346:\tlearn: 0.5604919\ttotal: 3.77s\tremaining: 7.09s\n",
      "347:\tlearn: 0.5596221\ttotal: 3.77s\tremaining: 7.07s\n",
      "348:\tlearn: 0.5596220\ttotal: 3.78s\tremaining: 7.05s\n",
      "349:\tlearn: 0.5589685\ttotal: 3.79s\tremaining: 7.04s\n",
      "350:\tlearn: 0.5589663\ttotal: 3.79s\tremaining: 7.02s\n",
      "351:\tlearn: 0.5587460\ttotal: 3.8s\tremaining: 7s\n",
      "352:\tlearn: 0.5583757\ttotal: 3.81s\tremaining: 6.98s\n",
      "353:\tlearn: 0.5580147\ttotal: 3.82s\tremaining: 6.97s\n",
      "354:\tlearn: 0.5580146\ttotal: 3.83s\tremaining: 6.95s\n",
      "355:\tlearn: 0.5575963\ttotal: 3.83s\tremaining: 6.94s\n",
      "356:\tlearn: 0.5575741\ttotal: 3.84s\tremaining: 6.92s\n",
      "357:\tlearn: 0.5575700\ttotal: 3.85s\tremaining: 6.9s\n",
      "358:\tlearn: 0.5572739\ttotal: 3.85s\tremaining: 6.88s\n",
      "359:\tlearn: 0.5572734\ttotal: 3.86s\tremaining: 6.87s\n",
      "360:\tlearn: 0.5572621\ttotal: 3.87s\tremaining: 6.85s\n",
      "361:\tlearn: 0.5568124\ttotal: 3.89s\tremaining: 6.85s\n",
      "362:\tlearn: 0.5565566\ttotal: 3.9s\tremaining: 6.83s\n",
      "363:\tlearn: 0.5565566\ttotal: 3.9s\tremaining: 6.82s\n",
      "364:\tlearn: 0.5562879\ttotal: 3.92s\tremaining: 6.82s\n",
      "365:\tlearn: 0.5562874\ttotal: 3.94s\tremaining: 6.82s\n",
      "366:\tlearn: 0.5560567\ttotal: 3.96s\tremaining: 6.83s\n",
      "367:\tlearn: 0.5560130\ttotal: 3.98s\tremaining: 6.83s\n",
      "368:\tlearn: 0.5560126\ttotal: 3.99s\tremaining: 6.82s\n",
      "369:\tlearn: 0.5555887\ttotal: 4s\tremaining: 6.81s\n",
      "370:\tlearn: 0.5555778\ttotal: 4.01s\tremaining: 6.79s\n",
      "371:\tlearn: 0.5555745\ttotal: 4.01s\tremaining: 6.78s\n",
      "372:\tlearn: 0.5555690\ttotal: 4.02s\tremaining: 6.76s\n",
      "373:\tlearn: 0.5555686\ttotal: 4.03s\tremaining: 6.74s\n",
      "374:\tlearn: 0.5555653\ttotal: 4.03s\tremaining: 6.72s\n",
      "375:\tlearn: 0.5552229\ttotal: 4.04s\tremaining: 6.71s\n",
      "376:\tlearn: 0.5549492\ttotal: 4.05s\tremaining: 6.69s\n",
      "377:\tlearn: 0.5549341\ttotal: 4.06s\tremaining: 6.68s\n",
      "378:\tlearn: 0.5549341\ttotal: 4.06s\tremaining: 6.66s\n",
      "379:\tlearn: 0.5548845\ttotal: 4.07s\tremaining: 6.64s\n",
      "380:\tlearn: 0.5548813\ttotal: 4.08s\tremaining: 6.63s\n",
      "381:\tlearn: 0.5546517\ttotal: 4.08s\tremaining: 6.61s\n",
      "382:\tlearn: 0.5546445\ttotal: 4.1s\tremaining: 6.61s\n",
      "383:\tlearn: 0.5544101\ttotal: 4.11s\tremaining: 6.59s\n",
      "384:\tlearn: 0.5541489\ttotal: 4.12s\tremaining: 6.58s\n",
      "385:\tlearn: 0.5540973\ttotal: 4.13s\tremaining: 6.56s\n",
      "386:\tlearn: 0.5540893\ttotal: 4.13s\tremaining: 6.54s\n",
      "387:\tlearn: 0.5539337\ttotal: 4.14s\tremaining: 6.53s\n",
      "388:\tlearn: 0.5537545\ttotal: 4.15s\tremaining: 6.51s\n",
      "389:\tlearn: 0.5537102\ttotal: 4.16s\tremaining: 6.5s\n",
      "390:\tlearn: 0.5536792\ttotal: 4.16s\tremaining: 6.48s\n",
      "391:\tlearn: 0.5534020\ttotal: 4.17s\tremaining: 6.47s\n",
      "392:\tlearn: 0.5529550\ttotal: 4.18s\tremaining: 6.45s\n",
      "393:\tlearn: 0.5529488\ttotal: 4.19s\tremaining: 6.44s\n",
      "394:\tlearn: 0.5529462\ttotal: 4.19s\tremaining: 6.42s\n",
      "395:\tlearn: 0.5528502\ttotal: 4.2s\tremaining: 6.41s\n",
      "396:\tlearn: 0.5526333\ttotal: 4.21s\tremaining: 6.39s\n",
      "397:\tlearn: 0.5526252\ttotal: 4.22s\tremaining: 6.38s\n",
      "398:\tlearn: 0.5525466\ttotal: 4.22s\tremaining: 6.36s\n",
      "399:\tlearn: 0.5522258\ttotal: 4.23s\tremaining: 6.35s\n",
      "400:\tlearn: 0.5521940\ttotal: 4.24s\tremaining: 6.33s\n",
      "401:\tlearn: 0.5516916\ttotal: 4.25s\tremaining: 6.32s\n",
      "402:\tlearn: 0.5515501\ttotal: 4.25s\tremaining: 6.3s\n",
      "403:\tlearn: 0.5515062\ttotal: 4.26s\tremaining: 6.29s\n",
      "404:\tlearn: 0.5512416\ttotal: 4.27s\tremaining: 6.27s\n",
      "405:\tlearn: 0.5510014\ttotal: 4.28s\tremaining: 6.26s\n",
      "406:\tlearn: 0.5509303\ttotal: 4.29s\tremaining: 6.24s\n",
      "407:\tlearn: 0.5508740\ttotal: 4.29s\tremaining: 6.23s\n",
      "408:\tlearn: 0.5508476\ttotal: 4.31s\tremaining: 6.23s\n",
      "409:\tlearn: 0.5507015\ttotal: 4.32s\tremaining: 6.22s\n",
      "410:\tlearn: 0.5507012\ttotal: 4.33s\tremaining: 6.2s\n",
      "411:\tlearn: 0.5504648\ttotal: 4.33s\tremaining: 6.19s\n",
      "412:\tlearn: 0.5502885\ttotal: 4.34s\tremaining: 6.17s\n",
      "413:\tlearn: 0.5502808\ttotal: 4.35s\tremaining: 6.16s\n",
      "414:\tlearn: 0.5502424\ttotal: 4.36s\tremaining: 6.14s\n",
      "415:\tlearn: 0.5500925\ttotal: 4.37s\tremaining: 6.13s\n",
      "416:\tlearn: 0.5500861\ttotal: 4.37s\tremaining: 6.11s\n",
      "417:\tlearn: 0.5500837\ttotal: 4.38s\tremaining: 6.1s\n",
      "418:\tlearn: 0.5500834\ttotal: 4.38s\tremaining: 6.08s\n",
      "419:\tlearn: 0.5500049\ttotal: 4.39s\tremaining: 6.07s\n",
      "420:\tlearn: 0.5497069\ttotal: 4.4s\tremaining: 6.05s\n",
      "421:\tlearn: 0.5491170\ttotal: 4.41s\tremaining: 6.04s\n",
      "422:\tlearn: 0.5490005\ttotal: 4.42s\tremaining: 6.03s\n",
      "423:\tlearn: 0.5485498\ttotal: 4.43s\tremaining: 6.01s\n",
      "424:\tlearn: 0.5485456\ttotal: 4.43s\tremaining: 6s\n",
      "425:\tlearn: 0.5484134\ttotal: 4.44s\tremaining: 5.98s\n",
      "426:\tlearn: 0.5482073\ttotal: 4.45s\tremaining: 5.97s\n",
      "427:\tlearn: 0.5482070\ttotal: 4.45s\tremaining: 5.95s\n",
      "428:\tlearn: 0.5482009\ttotal: 4.46s\tremaining: 5.94s\n",
      "429:\tlearn: 0.5481992\ttotal: 4.47s\tremaining: 5.92s\n",
      "430:\tlearn: 0.5481388\ttotal: 4.47s\tremaining: 5.91s\n",
      "431:\tlearn: 0.5478358\ttotal: 4.48s\tremaining: 5.89s\n",
      "432:\tlearn: 0.5477111\ttotal: 4.49s\tremaining: 5.88s\n",
      "433:\tlearn: 0.5477106\ttotal: 4.5s\tremaining: 5.87s\n",
      "434:\tlearn: 0.5472805\ttotal: 4.5s\tremaining: 5.85s\n",
      "435:\tlearn: 0.5471401\ttotal: 4.52s\tremaining: 5.85s\n",
      "436:\tlearn: 0.5468315\ttotal: 4.53s\tremaining: 5.84s\n",
      "437:\tlearn: 0.5463846\ttotal: 4.54s\tremaining: 5.83s\n",
      "438:\tlearn: 0.5463329\ttotal: 4.55s\tremaining: 5.81s\n",
      "439:\tlearn: 0.5456509\ttotal: 4.56s\tremaining: 5.8s\n",
      "440:\tlearn: 0.5456504\ttotal: 4.56s\tremaining: 5.79s\n",
      "441:\tlearn: 0.5452748\ttotal: 4.57s\tremaining: 5.77s\n",
      "442:\tlearn: 0.5452747\ttotal: 4.58s\tremaining: 5.75s\n",
      "443:\tlearn: 0.5452741\ttotal: 4.58s\tremaining: 5.74s\n",
      "444:\tlearn: 0.5452355\ttotal: 4.59s\tremaining: 5.73s\n",
      "445:\tlearn: 0.5447706\ttotal: 4.6s\tremaining: 5.71s\n",
      "446:\tlearn: 0.5447156\ttotal: 4.61s\tremaining: 5.7s\n",
      "447:\tlearn: 0.5447151\ttotal: 4.62s\tremaining: 5.69s\n",
      "448:\tlearn: 0.5445726\ttotal: 4.62s\tremaining: 5.67s\n",
      "449:\tlearn: 0.5441702\ttotal: 4.63s\tremaining: 5.66s\n",
      "450:\tlearn: 0.5440550\ttotal: 4.64s\tremaining: 5.65s\n",
      "451:\tlearn: 0.5438961\ttotal: 4.65s\tremaining: 5.63s\n",
      "452:\tlearn: 0.5438956\ttotal: 4.65s\tremaining: 5.62s\n",
      "453:\tlearn: 0.5438951\ttotal: 4.66s\tremaining: 5.61s\n",
      "454:\tlearn: 0.5438919\ttotal: 4.67s\tremaining: 5.59s\n",
      "455:\tlearn: 0.5436829\ttotal: 4.7s\tremaining: 5.61s\n",
      "456:\tlearn: 0.5434958\ttotal: 4.75s\tremaining: 5.64s\n",
      "457:\tlearn: 0.5434422\ttotal: 4.76s\tremaining: 5.63s\n",
      "458:\tlearn: 0.5431592\ttotal: 4.76s\tremaining: 5.62s\n",
      "459:\tlearn: 0.5431507\ttotal: 4.77s\tremaining: 5.6s\n",
      "460:\tlearn: 0.5429113\ttotal: 4.78s\tremaining: 5.59s\n",
      "461:\tlearn: 0.5428325\ttotal: 4.79s\tremaining: 5.58s\n",
      "462:\tlearn: 0.5428320\ttotal: 4.8s\tremaining: 5.56s\n",
      "463:\tlearn: 0.5424859\ttotal: 4.8s\tremaining: 5.55s\n",
      "464:\tlearn: 0.5424824\ttotal: 4.81s\tremaining: 5.53s\n",
      "465:\tlearn: 0.5424588\ttotal: 4.82s\tremaining: 5.52s\n",
      "466:\tlearn: 0.5423560\ttotal: 4.83s\tremaining: 5.51s\n",
      "467:\tlearn: 0.5422733\ttotal: 4.83s\tremaining: 5.49s\n",
      "468:\tlearn: 0.5422728\ttotal: 4.84s\tremaining: 5.48s\n",
      "469:\tlearn: 0.5422012\ttotal: 4.85s\tremaining: 5.47s\n",
      "470:\tlearn: 0.5420540\ttotal: 4.86s\tremaining: 5.45s\n",
      "471:\tlearn: 0.5420397\ttotal: 4.86s\tremaining: 5.44s\n",
      "472:\tlearn: 0.5420230\ttotal: 4.87s\tremaining: 5.43s\n",
      "473:\tlearn: 0.5419086\ttotal: 4.88s\tremaining: 5.42s\n",
      "474:\tlearn: 0.5417967\ttotal: 4.89s\tremaining: 5.4s\n",
      "475:\tlearn: 0.5417961\ttotal: 4.89s\tremaining: 5.39s\n",
      "476:\tlearn: 0.5417422\ttotal: 4.9s\tremaining: 5.38s\n",
      "477:\tlearn: 0.5416041\ttotal: 4.91s\tremaining: 5.36s\n",
      "478:\tlearn: 0.5416035\ttotal: 4.92s\tremaining: 5.35s\n",
      "479:\tlearn: 0.5413109\ttotal: 4.92s\tremaining: 5.33s\n",
      "480:\tlearn: 0.5413086\ttotal: 4.93s\tremaining: 5.32s\n",
      "481:\tlearn: 0.5412767\ttotal: 4.94s\tremaining: 5.31s\n",
      "482:\tlearn: 0.5411675\ttotal: 4.95s\tremaining: 5.3s\n",
      "483:\tlearn: 0.5410167\ttotal: 4.96s\tremaining: 5.29s\n",
      "484:\tlearn: 0.5409947\ttotal: 4.97s\tremaining: 5.28s\n",
      "485:\tlearn: 0.5409279\ttotal: 4.98s\tremaining: 5.27s\n",
      "486:\tlearn: 0.5409094\ttotal: 4.99s\tremaining: 5.25s\n",
      "487:\tlearn: 0.5409072\ttotal: 5s\tremaining: 5.24s\n",
      "488:\tlearn: 0.5406284\ttotal: 5s\tremaining: 5.23s\n",
      "489:\tlearn: 0.5406219\ttotal: 5.01s\tremaining: 5.21s\n",
      "490:\tlearn: 0.5406199\ttotal: 5.02s\tremaining: 5.2s\n",
      "491:\tlearn: 0.5401182\ttotal: 5.03s\tremaining: 5.19s\n",
      "492:\tlearn: 0.5396850\ttotal: 5.03s\tremaining: 5.18s\n",
      "493:\tlearn: 0.5396832\ttotal: 5.04s\tremaining: 5.16s\n",
      "494:\tlearn: 0.5396457\ttotal: 5.05s\tremaining: 5.15s\n",
      "495:\tlearn: 0.5396145\ttotal: 5.05s\tremaining: 5.14s\n",
      "496:\tlearn: 0.5396139\ttotal: 5.06s\tremaining: 5.12s\n",
      "497:\tlearn: 0.5395834\ttotal: 5.07s\tremaining: 5.11s\n",
      "498:\tlearn: 0.5395289\ttotal: 5.08s\tremaining: 5.1s\n",
      "499:\tlearn: 0.5395260\ttotal: 5.08s\tremaining: 5.08s\n",
      "500:\tlearn: 0.5393518\ttotal: 5.09s\tremaining: 5.07s\n",
      "501:\tlearn: 0.5393243\ttotal: 5.1s\tremaining: 5.06s\n",
      "502:\tlearn: 0.5393204\ttotal: 5.11s\tremaining: 5.05s\n",
      "503:\tlearn: 0.5390740\ttotal: 5.12s\tremaining: 5.03s\n",
      "504:\tlearn: 0.5386965\ttotal: 5.12s\tremaining: 5.02s\n",
      "505:\tlearn: 0.5386825\ttotal: 5.13s\tremaining: 5.01s\n",
      "506:\tlearn: 0.5386820\ttotal: 5.14s\tremaining: 5s\n",
      "507:\tlearn: 0.5386683\ttotal: 5.15s\tremaining: 4.99s\n"
     ]
    },
    {
     "name": "stdout",
     "output_type": "stream",
     "text": [
      "508:\tlearn: 0.5386678\ttotal: 5.16s\tremaining: 4.98s\n",
      "509:\tlearn: 0.5384673\ttotal: 5.17s\tremaining: 4.97s\n",
      "510:\tlearn: 0.5384657\ttotal: 5.18s\tremaining: 4.96s\n",
      "511:\tlearn: 0.5384652\ttotal: 5.19s\tremaining: 4.94s\n",
      "512:\tlearn: 0.5381079\ttotal: 5.2s\tremaining: 4.93s\n",
      "513:\tlearn: 0.5380462\ttotal: 5.2s\tremaining: 4.92s\n",
      "514:\tlearn: 0.5380444\ttotal: 5.21s\tremaining: 4.91s\n",
      "515:\tlearn: 0.5380432\ttotal: 5.22s\tremaining: 4.89s\n",
      "516:\tlearn: 0.5377626\ttotal: 5.22s\tremaining: 4.88s\n",
      "517:\tlearn: 0.5374293\ttotal: 5.23s\tremaining: 4.87s\n",
      "518:\tlearn: 0.5374066\ttotal: 5.24s\tremaining: 4.86s\n",
      "519:\tlearn: 0.5373548\ttotal: 5.25s\tremaining: 4.84s\n",
      "520:\tlearn: 0.5373536\ttotal: 5.25s\tremaining: 4.83s\n",
      "521:\tlearn: 0.5373532\ttotal: 5.26s\tremaining: 4.82s\n",
      "522:\tlearn: 0.5372994\ttotal: 5.27s\tremaining: 4.81s\n",
      "523:\tlearn: 0.5370757\ttotal: 5.28s\tremaining: 4.79s\n",
      "524:\tlearn: 0.5370311\ttotal: 5.29s\tremaining: 4.78s\n",
      "525:\tlearn: 0.5370300\ttotal: 5.29s\tremaining: 4.77s\n",
      "526:\tlearn: 0.5369155\ttotal: 5.3s\tremaining: 4.76s\n",
      "527:\tlearn: 0.5367366\ttotal: 5.31s\tremaining: 4.75s\n",
      "528:\tlearn: 0.5364403\ttotal: 5.32s\tremaining: 4.73s\n",
      "529:\tlearn: 0.5362785\ttotal: 5.32s\tremaining: 4.72s\n",
      "530:\tlearn: 0.5362769\ttotal: 5.33s\tremaining: 4.71s\n",
      "531:\tlearn: 0.5360116\ttotal: 5.34s\tremaining: 4.7s\n",
      "532:\tlearn: 0.5356816\ttotal: 5.35s\tremaining: 4.68s\n",
      "533:\tlearn: 0.5355081\ttotal: 5.36s\tremaining: 4.67s\n",
      "534:\tlearn: 0.5354941\ttotal: 5.37s\tremaining: 4.67s\n",
      "535:\tlearn: 0.5354536\ttotal: 5.38s\tremaining: 4.66s\n",
      "536:\tlearn: 0.5350321\ttotal: 5.39s\tremaining: 4.65s\n",
      "537:\tlearn: 0.5350080\ttotal: 5.4s\tremaining: 4.64s\n",
      "538:\tlearn: 0.5349346\ttotal: 5.41s\tremaining: 4.62s\n",
      "539:\tlearn: 0.5346522\ttotal: 5.41s\tremaining: 4.61s\n",
      "540:\tlearn: 0.5346510\ttotal: 5.42s\tremaining: 4.6s\n",
      "541:\tlearn: 0.5346499\ttotal: 5.43s\tremaining: 4.59s\n",
      "542:\tlearn: 0.5344614\ttotal: 5.43s\tremaining: 4.57s\n",
      "543:\tlearn: 0.5340489\ttotal: 5.44s\tremaining: 4.56s\n",
      "544:\tlearn: 0.5339964\ttotal: 5.45s\tremaining: 4.55s\n",
      "545:\tlearn: 0.5337630\ttotal: 5.46s\tremaining: 4.54s\n",
      "546:\tlearn: 0.5337487\ttotal: 5.47s\tremaining: 4.53s\n",
      "547:\tlearn: 0.5334452\ttotal: 5.47s\tremaining: 4.52s\n",
      "548:\tlearn: 0.5334246\ttotal: 5.48s\tremaining: 4.5s\n",
      "549:\tlearn: 0.5331320\ttotal: 5.49s\tremaining: 4.49s\n",
      "550:\tlearn: 0.5331219\ttotal: 5.5s\tremaining: 4.48s\n",
      "551:\tlearn: 0.5330135\ttotal: 5.51s\tremaining: 4.47s\n",
      "552:\tlearn: 0.5324454\ttotal: 5.51s\tremaining: 4.46s\n",
      "553:\tlearn: 0.5324443\ttotal: 5.52s\tremaining: 4.45s\n",
      "554:\tlearn: 0.5322127\ttotal: 5.53s\tremaining: 4.43s\n",
      "555:\tlearn: 0.5321991\ttotal: 5.54s\tremaining: 4.42s\n",
      "556:\tlearn: 0.5321840\ttotal: 5.55s\tremaining: 4.41s\n",
      "557:\tlearn: 0.5320548\ttotal: 5.55s\tremaining: 4.4s\n",
      "558:\tlearn: 0.5320515\ttotal: 5.56s\tremaining: 4.39s\n",
      "559:\tlearn: 0.5320505\ttotal: 5.57s\tremaining: 4.38s\n",
      "560:\tlearn: 0.5320495\ttotal: 5.58s\tremaining: 4.37s\n",
      "561:\tlearn: 0.5317374\ttotal: 5.59s\tremaining: 4.36s\n",
      "562:\tlearn: 0.5315316\ttotal: 5.6s\tremaining: 4.35s\n",
      "563:\tlearn: 0.5315305\ttotal: 5.61s\tremaining: 4.34s\n",
      "564:\tlearn: 0.5315126\ttotal: 5.62s\tremaining: 4.32s\n",
      "565:\tlearn: 0.5314958\ttotal: 5.62s\tremaining: 4.31s\n",
      "566:\tlearn: 0.5314934\ttotal: 5.63s\tremaining: 4.3s\n",
      "567:\tlearn: 0.5314924\ttotal: 5.64s\tremaining: 4.29s\n",
      "568:\tlearn: 0.5314557\ttotal: 5.65s\tremaining: 4.28s\n",
      "569:\tlearn: 0.5314164\ttotal: 5.66s\tremaining: 4.27s\n",
      "570:\tlearn: 0.5313814\ttotal: 5.66s\tremaining: 4.25s\n",
      "571:\tlearn: 0.5313805\ttotal: 5.68s\tremaining: 4.25s\n",
      "572:\tlearn: 0.5311987\ttotal: 5.71s\tremaining: 4.25s\n",
      "573:\tlearn: 0.5308001\ttotal: 5.74s\tremaining: 4.26s\n",
      "574:\tlearn: 0.5304672\ttotal: 5.76s\tremaining: 4.26s\n",
      "575:\tlearn: 0.5303331\ttotal: 5.77s\tremaining: 4.25s\n",
      "576:\tlearn: 0.5301709\ttotal: 5.78s\tremaining: 4.24s\n",
      "577:\tlearn: 0.5298808\ttotal: 5.79s\tremaining: 4.23s\n",
      "578:\tlearn: 0.5298064\ttotal: 5.8s\tremaining: 4.22s\n",
      "579:\tlearn: 0.5296453\ttotal: 5.81s\tremaining: 4.21s\n",
      "580:\tlearn: 0.5294560\ttotal: 5.82s\tremaining: 4.2s\n",
      "581:\tlearn: 0.5293187\ttotal: 5.83s\tremaining: 4.18s\n",
      "582:\tlearn: 0.5292995\ttotal: 5.83s\tremaining: 4.17s\n",
      "583:\tlearn: 0.5292673\ttotal: 5.84s\tremaining: 4.16s\n",
      "584:\tlearn: 0.5291074\ttotal: 5.85s\tremaining: 4.15s\n",
      "585:\tlearn: 0.5290723\ttotal: 5.86s\tremaining: 4.14s\n",
      "586:\tlearn: 0.5288663\ttotal: 5.86s\tremaining: 4.13s\n",
      "587:\tlearn: 0.5287230\ttotal: 5.87s\tremaining: 4.12s\n",
      "588:\tlearn: 0.5286342\ttotal: 5.88s\tremaining: 4.1s\n",
      "589:\tlearn: 0.5282452\ttotal: 5.89s\tremaining: 4.09s\n",
      "590:\tlearn: 0.5282442\ttotal: 5.9s\tremaining: 4.08s\n",
      "591:\tlearn: 0.5281579\ttotal: 5.91s\tremaining: 4.07s\n",
      "592:\tlearn: 0.5281570\ttotal: 5.91s\tremaining: 4.06s\n",
      "593:\tlearn: 0.5280630\ttotal: 5.92s\tremaining: 4.05s\n",
      "594:\tlearn: 0.5280593\ttotal: 5.93s\tremaining: 4.04s\n",
      "595:\tlearn: 0.5279634\ttotal: 5.94s\tremaining: 4.02s\n",
      "596:\tlearn: 0.5279266\ttotal: 5.95s\tremaining: 4.01s\n",
      "597:\tlearn: 0.5279022\ttotal: 5.95s\tremaining: 4s\n",
      "598:\tlearn: 0.5275973\ttotal: 5.96s\tremaining: 3.99s\n",
      "599:\tlearn: 0.5275940\ttotal: 5.97s\tremaining: 3.98s\n",
      "600:\tlearn: 0.5271738\ttotal: 5.99s\tremaining: 3.97s\n",
      "601:\tlearn: 0.5271729\ttotal: 5.99s\tremaining: 3.96s\n",
      "602:\tlearn: 0.5271620\ttotal: 6s\tremaining: 3.95s\n",
      "603:\tlearn: 0.5271613\ttotal: 6.01s\tremaining: 3.94s\n",
      "604:\tlearn: 0.5271344\ttotal: 6.02s\tremaining: 3.93s\n",
      "605:\tlearn: 0.5271150\ttotal: 6.02s\tremaining: 3.92s\n",
      "606:\tlearn: 0.5267519\ttotal: 6.03s\tremaining: 3.9s\n",
      "607:\tlearn: 0.5266342\ttotal: 6.04s\tremaining: 3.89s\n",
      "608:\tlearn: 0.5264401\ttotal: 6.05s\tremaining: 3.88s\n",
      "609:\tlearn: 0.5263481\ttotal: 6.05s\tremaining: 3.87s\n",
      "610:\tlearn: 0.5261653\ttotal: 6.06s\tremaining: 3.86s\n",
      "611:\tlearn: 0.5259870\ttotal: 6.07s\tremaining: 3.85s\n",
      "612:\tlearn: 0.5256273\ttotal: 6.08s\tremaining: 3.84s\n",
      "613:\tlearn: 0.5256262\ttotal: 6.09s\tremaining: 3.83s\n",
      "614:\tlearn: 0.5255956\ttotal: 6.09s\tremaining: 3.81s\n",
      "615:\tlearn: 0.5253020\ttotal: 6.1s\tremaining: 3.8s\n",
      "616:\tlearn: 0.5251999\ttotal: 6.11s\tremaining: 3.79s\n",
      "617:\tlearn: 0.5251991\ttotal: 6.12s\tremaining: 3.78s\n",
      "618:\tlearn: 0.5251875\ttotal: 6.13s\tremaining: 3.77s\n",
      "619:\tlearn: 0.5251151\ttotal: 6.13s\tremaining: 3.76s\n",
      "620:\tlearn: 0.5251144\ttotal: 6.14s\tremaining: 3.75s\n",
      "621:\tlearn: 0.5251136\ttotal: 6.15s\tremaining: 3.73s\n",
      "622:\tlearn: 0.5249352\ttotal: 6.16s\tremaining: 3.73s\n",
      "623:\tlearn: 0.5249343\ttotal: 6.16s\tremaining: 3.71s\n",
      "624:\tlearn: 0.5246917\ttotal: 6.18s\tremaining: 3.71s\n",
      "625:\tlearn: 0.5242963\ttotal: 6.19s\tremaining: 3.7s\n",
      "626:\tlearn: 0.5241149\ttotal: 6.2s\tremaining: 3.69s\n",
      "627:\tlearn: 0.5240942\ttotal: 6.21s\tremaining: 3.68s\n",
      "628:\tlearn: 0.5240935\ttotal: 6.21s\tremaining: 3.66s\n",
      "629:\tlearn: 0.5240860\ttotal: 6.22s\tremaining: 3.65s\n",
      "630:\tlearn: 0.5240477\ttotal: 6.23s\tremaining: 3.64s\n",
      "631:\tlearn: 0.5239964\ttotal: 6.24s\tremaining: 3.63s\n",
      "632:\tlearn: 0.5239857\ttotal: 6.24s\tremaining: 3.62s\n",
      "633:\tlearn: 0.5235384\ttotal: 6.25s\tremaining: 3.61s\n",
      "634:\tlearn: 0.5234495\ttotal: 6.26s\tremaining: 3.6s\n",
      "635:\tlearn: 0.5233985\ttotal: 6.27s\tremaining: 3.59s\n",
      "636:\tlearn: 0.5233949\ttotal: 6.28s\tremaining: 3.58s\n",
      "637:\tlearn: 0.5231395\ttotal: 6.28s\tremaining: 3.57s\n",
      "638:\tlearn: 0.5230704\ttotal: 6.29s\tremaining: 3.55s\n",
      "639:\tlearn: 0.5229673\ttotal: 6.3s\tremaining: 3.54s\n",
      "640:\tlearn: 0.5229625\ttotal: 6.31s\tremaining: 3.53s\n",
      "641:\tlearn: 0.5229384\ttotal: 6.32s\tremaining: 3.52s\n",
      "642:\tlearn: 0.5229372\ttotal: 6.32s\tremaining: 3.51s\n",
      "643:\tlearn: 0.5227487\ttotal: 6.33s\tremaining: 3.5s\n",
      "644:\tlearn: 0.5225557\ttotal: 6.34s\tremaining: 3.49s\n",
      "645:\tlearn: 0.5220969\ttotal: 6.35s\tremaining: 3.48s\n",
      "646:\tlearn: 0.5220958\ttotal: 6.36s\tremaining: 3.47s\n",
      "647:\tlearn: 0.5220714\ttotal: 6.36s\tremaining: 3.46s\n",
      "648:\tlearn: 0.5220595\ttotal: 6.37s\tremaining: 3.44s\n",
      "649:\tlearn: 0.5220453\ttotal: 6.38s\tremaining: 3.44s\n",
      "650:\tlearn: 0.5217938\ttotal: 6.39s\tremaining: 3.43s\n",
      "651:\tlearn: 0.5211665\ttotal: 6.4s\tremaining: 3.42s\n",
      "652:\tlearn: 0.5208308\ttotal: 6.41s\tremaining: 3.41s\n",
      "653:\tlearn: 0.5206353\ttotal: 6.42s\tremaining: 3.4s\n",
      "654:\tlearn: 0.5206315\ttotal: 6.43s\tremaining: 3.38s\n",
      "655:\tlearn: 0.5203665\ttotal: 6.43s\tremaining: 3.37s\n",
      "656:\tlearn: 0.5200864\ttotal: 6.44s\tremaining: 3.36s\n",
      "657:\tlearn: 0.5199853\ttotal: 6.45s\tremaining: 3.35s\n",
      "658:\tlearn: 0.5199769\ttotal: 6.46s\tremaining: 3.34s\n",
      "659:\tlearn: 0.5196745\ttotal: 6.47s\tremaining: 3.33s\n",
      "660:\tlearn: 0.5196330\ttotal: 6.48s\tremaining: 3.32s\n",
      "661:\tlearn: 0.5193798\ttotal: 6.48s\tremaining: 3.31s\n",
      "662:\tlearn: 0.5193745\ttotal: 6.49s\tremaining: 3.3s\n",
      "663:\tlearn: 0.5192091\ttotal: 6.5s\tremaining: 3.29s\n",
      "664:\tlearn: 0.5191519\ttotal: 6.51s\tremaining: 3.28s\n",
      "665:\tlearn: 0.5190598\ttotal: 6.51s\tremaining: 3.27s\n",
      "666:\tlearn: 0.5187124\ttotal: 6.52s\tremaining: 3.26s\n",
      "667:\tlearn: 0.5185893\ttotal: 6.53s\tremaining: 3.25s\n",
      "668:\tlearn: 0.5183655\ttotal: 6.54s\tremaining: 3.23s\n",
      "669:\tlearn: 0.5182723\ttotal: 6.55s\tremaining: 3.23s\n",
      "670:\tlearn: 0.5182239\ttotal: 6.56s\tremaining: 3.21s\n",
      "671:\tlearn: 0.5182139\ttotal: 6.56s\tremaining: 3.2s\n",
      "672:\tlearn: 0.5180309\ttotal: 6.57s\tremaining: 3.19s\n",
      "673:\tlearn: 0.5179668\ttotal: 6.58s\tremaining: 3.18s\n"
     ]
    },
    {
     "name": "stdout",
     "output_type": "stream",
     "text": [
      "674:\tlearn: 0.5178285\ttotal: 6.6s\tremaining: 3.18s\n",
      "675:\tlearn: 0.5176730\ttotal: 6.61s\tremaining: 3.17s\n",
      "676:\tlearn: 0.5176623\ttotal: 6.63s\tremaining: 3.17s\n",
      "677:\tlearn: 0.5174246\ttotal: 6.64s\tremaining: 3.15s\n",
      "678:\tlearn: 0.5172236\ttotal: 6.65s\tremaining: 3.14s\n",
      "679:\tlearn: 0.5171901\ttotal: 6.66s\tremaining: 3.13s\n",
      "680:\tlearn: 0.5171789\ttotal: 6.67s\tremaining: 3.12s\n",
      "681:\tlearn: 0.5168565\ttotal: 6.68s\tremaining: 3.11s\n",
      "682:\tlearn: 0.5167412\ttotal: 6.68s\tremaining: 3.1s\n",
      "683:\tlearn: 0.5167232\ttotal: 6.69s\tremaining: 3.09s\n",
      "684:\tlearn: 0.5166949\ttotal: 6.7s\tremaining: 3.08s\n",
      "685:\tlearn: 0.5166704\ttotal: 6.71s\tremaining: 3.07s\n",
      "686:\tlearn: 0.5164771\ttotal: 6.72s\tremaining: 3.06s\n",
      "687:\tlearn: 0.5160448\ttotal: 6.72s\tremaining: 3.05s\n",
      "688:\tlearn: 0.5158781\ttotal: 6.73s\tremaining: 3.04s\n",
      "689:\tlearn: 0.5156604\ttotal: 6.74s\tremaining: 3.03s\n",
      "690:\tlearn: 0.5156489\ttotal: 6.75s\tremaining: 3.02s\n",
      "691:\tlearn: 0.5156477\ttotal: 6.76s\tremaining: 3.01s\n",
      "692:\tlearn: 0.5153394\ttotal: 6.76s\tremaining: 3s\n",
      "693:\tlearn: 0.5149690\ttotal: 6.77s\tremaining: 2.99s\n",
      "694:\tlearn: 0.5149660\ttotal: 6.78s\tremaining: 2.98s\n",
      "695:\tlearn: 0.5149350\ttotal: 6.79s\tremaining: 2.96s\n",
      "696:\tlearn: 0.5149252\ttotal: 6.8s\tremaining: 2.96s\n",
      "697:\tlearn: 0.5148553\ttotal: 6.81s\tremaining: 2.95s\n",
      "698:\tlearn: 0.5148479\ttotal: 6.82s\tremaining: 2.94s\n",
      "699:\tlearn: 0.5146433\ttotal: 6.83s\tremaining: 2.93s\n",
      "700:\tlearn: 0.5145354\ttotal: 6.84s\tremaining: 2.92s\n",
      "701:\tlearn: 0.5144889\ttotal: 6.84s\tremaining: 2.9s\n",
      "702:\tlearn: 0.5144715\ttotal: 6.85s\tremaining: 2.9s\n",
      "703:\tlearn: 0.5144479\ttotal: 6.86s\tremaining: 2.88s\n",
      "704:\tlearn: 0.5144271\ttotal: 6.87s\tremaining: 2.87s\n",
      "705:\tlearn: 0.5144257\ttotal: 6.88s\tremaining: 2.86s\n",
      "706:\tlearn: 0.5144010\ttotal: 6.89s\tremaining: 2.85s\n",
      "707:\tlearn: 0.5143732\ttotal: 6.89s\tremaining: 2.84s\n",
      "708:\tlearn: 0.5143585\ttotal: 6.9s\tremaining: 2.83s\n",
      "709:\tlearn: 0.5143573\ttotal: 6.91s\tremaining: 2.82s\n",
      "710:\tlearn: 0.5143562\ttotal: 6.92s\tremaining: 2.81s\n",
      "711:\tlearn: 0.5143550\ttotal: 6.93s\tremaining: 2.8s\n",
      "712:\tlearn: 0.5143539\ttotal: 6.93s\tremaining: 2.79s\n",
      "713:\tlearn: 0.5140090\ttotal: 6.94s\tremaining: 2.78s\n",
      "714:\tlearn: 0.5139458\ttotal: 6.95s\tremaining: 2.77s\n",
      "715:\tlearn: 0.5139385\ttotal: 6.96s\tremaining: 2.76s\n",
      "716:\tlearn: 0.5137420\ttotal: 6.97s\tremaining: 2.75s\n",
      "717:\tlearn: 0.5137007\ttotal: 6.97s\tremaining: 2.74s\n",
      "718:\tlearn: 0.5136061\ttotal: 6.98s\tremaining: 2.73s\n",
      "719:\tlearn: 0.5135881\ttotal: 6.99s\tremaining: 2.72s\n",
      "720:\tlearn: 0.5135871\ttotal: 7s\tremaining: 2.71s\n",
      "721:\tlearn: 0.5134315\ttotal: 7.01s\tremaining: 2.7s\n",
      "722:\tlearn: 0.5133273\ttotal: 7.02s\tremaining: 2.69s\n",
      "723:\tlearn: 0.5133262\ttotal: 7.03s\tremaining: 2.68s\n",
      "724:\tlearn: 0.5133122\ttotal: 7.04s\tremaining: 2.67s\n",
      "725:\tlearn: 0.5133112\ttotal: 7.04s\tremaining: 2.66s\n",
      "726:\tlearn: 0.5133102\ttotal: 7.05s\tremaining: 2.65s\n",
      "727:\tlearn: 0.5133018\ttotal: 7.06s\tremaining: 2.64s\n",
      "728:\tlearn: 0.5133011\ttotal: 7.07s\tremaining: 2.63s\n",
      "729:\tlearn: 0.5133004\ttotal: 7.07s\tremaining: 2.62s\n",
      "730:\tlearn: 0.5132441\ttotal: 7.08s\tremaining: 2.61s\n",
      "731:\tlearn: 0.5132322\ttotal: 7.09s\tremaining: 2.6s\n",
      "732:\tlearn: 0.5132259\ttotal: 7.1s\tremaining: 2.58s\n",
      "733:\tlearn: 0.5131901\ttotal: 7.11s\tremaining: 2.58s\n",
      "734:\tlearn: 0.5129763\ttotal: 7.12s\tremaining: 2.56s\n",
      "735:\tlearn: 0.5127141\ttotal: 7.12s\tremaining: 2.56s\n",
      "736:\tlearn: 0.5126058\ttotal: 7.13s\tremaining: 2.54s\n",
      "737:\tlearn: 0.5125588\ttotal: 7.14s\tremaining: 2.53s\n",
      "738:\tlearn: 0.5125465\ttotal: 7.15s\tremaining: 2.52s\n",
      "739:\tlearn: 0.5125456\ttotal: 7.15s\tremaining: 2.51s\n",
      "740:\tlearn: 0.5125300\ttotal: 7.16s\tremaining: 2.5s\n",
      "741:\tlearn: 0.5125211\ttotal: 7.17s\tremaining: 2.49s\n",
      "742:\tlearn: 0.5124000\ttotal: 7.18s\tremaining: 2.48s\n",
      "743:\tlearn: 0.5122787\ttotal: 7.18s\tremaining: 2.47s\n",
      "744:\tlearn: 0.5118981\ttotal: 7.19s\tremaining: 2.46s\n",
      "745:\tlearn: 0.5118923\ttotal: 7.21s\tremaining: 2.46s\n",
      "746:\tlearn: 0.5118857\ttotal: 7.22s\tremaining: 2.44s\n",
      "747:\tlearn: 0.5118847\ttotal: 7.23s\tremaining: 2.44s\n",
      "748:\tlearn: 0.5118761\ttotal: 7.24s\tremaining: 2.42s\n",
      "749:\tlearn: 0.5114823\ttotal: 7.25s\tremaining: 2.42s\n",
      "750:\tlearn: 0.5114713\ttotal: 7.25s\tremaining: 2.4s\n",
      "751:\tlearn: 0.5114647\ttotal: 7.26s\tremaining: 2.39s\n",
      "752:\tlearn: 0.5114583\ttotal: 7.27s\tremaining: 2.38s\n",
      "753:\tlearn: 0.5113041\ttotal: 7.28s\tremaining: 2.37s\n",
      "754:\tlearn: 0.5110915\ttotal: 7.28s\tremaining: 2.36s\n",
      "755:\tlearn: 0.5110749\ttotal: 7.29s\tremaining: 2.35s\n",
      "756:\tlearn: 0.5110700\ttotal: 7.3s\tremaining: 2.34s\n",
      "757:\tlearn: 0.5110628\ttotal: 7.31s\tremaining: 2.33s\n",
      "758:\tlearn: 0.5106995\ttotal: 7.32s\tremaining: 2.32s\n",
      "759:\tlearn: 0.5106989\ttotal: 7.32s\tremaining: 2.31s\n",
      "760:\tlearn: 0.5105987\ttotal: 7.33s\tremaining: 2.3s\n",
      "761:\tlearn: 0.5105844\ttotal: 7.34s\tremaining: 2.29s\n",
      "762:\tlearn: 0.5105797\ttotal: 7.35s\tremaining: 2.28s\n",
      "763:\tlearn: 0.5105715\ttotal: 7.36s\tremaining: 2.27s\n",
      "764:\tlearn: 0.5105398\ttotal: 7.36s\tremaining: 2.26s\n",
      "765:\tlearn: 0.5105391\ttotal: 7.37s\tremaining: 2.25s\n",
      "766:\tlearn: 0.5105199\ttotal: 7.38s\tremaining: 2.24s\n",
      "767:\tlearn: 0.5105153\ttotal: 7.39s\tremaining: 2.23s\n",
      "768:\tlearn: 0.5105080\ttotal: 7.39s\tremaining: 2.22s\n",
      "769:\tlearn: 0.5104899\ttotal: 7.4s\tremaining: 2.21s\n",
      "770:\tlearn: 0.5104818\ttotal: 7.41s\tremaining: 2.2s\n",
      "771:\tlearn: 0.5104778\ttotal: 7.43s\tremaining: 2.19s\n",
      "772:\tlearn: 0.5104340\ttotal: 7.44s\tremaining: 2.18s\n",
      "773:\tlearn: 0.5104333\ttotal: 7.44s\tremaining: 2.17s\n",
      "774:\tlearn: 0.5101835\ttotal: 7.45s\tremaining: 2.16s\n",
      "775:\tlearn: 0.5101701\ttotal: 7.46s\tremaining: 2.15s\n",
      "776:\tlearn: 0.5098564\ttotal: 7.47s\tremaining: 2.14s\n",
      "777:\tlearn: 0.5098524\ttotal: 7.47s\tremaining: 2.13s\n",
      "778:\tlearn: 0.5097210\ttotal: 7.48s\tremaining: 2.12s\n",
      "779:\tlearn: 0.5093114\ttotal: 7.49s\tremaining: 2.11s\n",
      "780:\tlearn: 0.5093053\ttotal: 7.5s\tremaining: 2.1s\n",
      "781:\tlearn: 0.5091539\ttotal: 7.51s\tremaining: 2.09s\n",
      "782:\tlearn: 0.5091333\ttotal: 7.51s\tremaining: 2.08s\n",
      "783:\tlearn: 0.5091141\ttotal: 7.52s\tremaining: 2.07s\n",
      "784:\tlearn: 0.5091077\ttotal: 7.53s\tremaining: 2.06s\n",
      "785:\tlearn: 0.5088333\ttotal: 7.54s\tremaining: 2.05s\n",
      "786:\tlearn: 0.5088298\ttotal: 7.55s\tremaining: 2.04s\n",
      "787:\tlearn: 0.5088177\ttotal: 7.55s\tremaining: 2.03s\n",
      "788:\tlearn: 0.5088122\ttotal: 7.56s\tremaining: 2.02s\n",
      "789:\tlearn: 0.5088119\ttotal: 7.57s\tremaining: 2.01s\n",
      "790:\tlearn: 0.5088031\ttotal: 7.58s\tremaining: 2s\n",
      "791:\tlearn: 0.5088028\ttotal: 7.58s\tremaining: 1.99s\n",
      "792:\tlearn: 0.5086514\ttotal: 7.59s\tremaining: 1.98s\n",
      "793:\tlearn: 0.5086481\ttotal: 7.6s\tremaining: 1.97s\n",
      "794:\tlearn: 0.5086476\ttotal: 7.61s\tremaining: 1.96s\n",
      "795:\tlearn: 0.5086466\ttotal: 7.62s\tremaining: 1.95s\n",
      "796:\tlearn: 0.5084035\ttotal: 7.63s\tremaining: 1.94s\n",
      "797:\tlearn: 0.5081617\ttotal: 7.64s\tremaining: 1.93s\n",
      "798:\tlearn: 0.5081566\ttotal: 7.65s\tremaining: 1.92s\n",
      "799:\tlearn: 0.5081559\ttotal: 7.66s\tremaining: 1.91s\n",
      "800:\tlearn: 0.5081420\ttotal: 7.66s\tremaining: 1.9s\n",
      "801:\tlearn: 0.5079445\ttotal: 7.67s\tremaining: 1.89s\n",
      "802:\tlearn: 0.5079439\ttotal: 7.68s\tremaining: 1.88s\n",
      "803:\tlearn: 0.5079301\ttotal: 7.69s\tremaining: 1.87s\n",
      "804:\tlearn: 0.5077218\ttotal: 7.69s\tremaining: 1.86s\n",
      "805:\tlearn: 0.5075367\ttotal: 7.7s\tremaining: 1.85s\n",
      "806:\tlearn: 0.5075310\ttotal: 7.71s\tremaining: 1.84s\n",
      "807:\tlearn: 0.5074505\ttotal: 7.72s\tremaining: 1.83s\n",
      "808:\tlearn: 0.5073537\ttotal: 7.73s\tremaining: 1.82s\n",
      "809:\tlearn: 0.5073529\ttotal: 7.74s\tremaining: 1.81s\n",
      "810:\tlearn: 0.5073409\ttotal: 7.74s\tremaining: 1.8s\n",
      "811:\tlearn: 0.5071859\ttotal: 7.75s\tremaining: 1.79s\n",
      "812:\tlearn: 0.5070221\ttotal: 7.76s\tremaining: 1.78s\n",
      "813:\tlearn: 0.5070134\ttotal: 7.77s\tremaining: 1.77s\n",
      "814:\tlearn: 0.5068352\ttotal: 7.77s\tremaining: 1.76s\n",
      "815:\tlearn: 0.5065706\ttotal: 7.78s\tremaining: 1.75s\n",
      "816:\tlearn: 0.5064995\ttotal: 7.79s\tremaining: 1.75s\n",
      "817:\tlearn: 0.5064933\ttotal: 7.8s\tremaining: 1.74s\n",
      "818:\tlearn: 0.5063029\ttotal: 7.81s\tremaining: 1.73s\n",
      "819:\tlearn: 0.5061155\ttotal: 7.81s\tremaining: 1.72s\n",
      "820:\tlearn: 0.5060713\ttotal: 7.83s\tremaining: 1.71s\n",
      "821:\tlearn: 0.5060544\ttotal: 7.84s\tremaining: 1.7s\n",
      "822:\tlearn: 0.5060361\ttotal: 7.85s\tremaining: 1.69s\n",
      "823:\tlearn: 0.5056615\ttotal: 7.86s\tremaining: 1.68s\n",
      "824:\tlearn: 0.5054177\ttotal: 7.86s\tremaining: 1.67s\n",
      "825:\tlearn: 0.5052792\ttotal: 7.87s\tremaining: 1.66s\n",
      "826:\tlearn: 0.5052532\ttotal: 7.88s\tremaining: 1.65s\n",
      "827:\tlearn: 0.5052492\ttotal: 7.89s\tremaining: 1.64s\n",
      "828:\tlearn: 0.5052208\ttotal: 7.9s\tremaining: 1.63s\n",
      "829:\tlearn: 0.5048819\ttotal: 7.91s\tremaining: 1.62s\n",
      "830:\tlearn: 0.5048524\ttotal: 7.92s\tremaining: 1.61s\n",
      "831:\tlearn: 0.5046475\ttotal: 7.93s\tremaining: 1.6s\n",
      "832:\tlearn: 0.5044440\ttotal: 7.94s\tremaining: 1.59s\n",
      "833:\tlearn: 0.5043131\ttotal: 7.95s\tremaining: 1.58s\n",
      "834:\tlearn: 0.5043019\ttotal: 7.96s\tremaining: 1.57s\n",
      "835:\tlearn: 0.5042930\ttotal: 7.96s\tremaining: 1.56s\n",
      "836:\tlearn: 0.5038846\ttotal: 7.97s\tremaining: 1.55s\n",
      "837:\tlearn: 0.5037286\ttotal: 7.98s\tremaining: 1.54s\n",
      "838:\tlearn: 0.5037157\ttotal: 7.99s\tremaining: 1.53s\n",
      "839:\tlearn: 0.5037118\ttotal: 8s\tremaining: 1.52s\n",
      "840:\tlearn: 0.5034943\ttotal: 8.01s\tremaining: 1.51s\n",
      "841:\tlearn: 0.5034821\ttotal: 8.01s\tremaining: 1.5s\n",
      "842:\tlearn: 0.5033387\ttotal: 8.02s\tremaining: 1.49s\n"
     ]
    },
    {
     "name": "stdout",
     "output_type": "stream",
     "text": [
      "843:\tlearn: 0.5033079\ttotal: 8.04s\tremaining: 1.49s\n",
      "844:\tlearn: 0.5032447\ttotal: 8.05s\tremaining: 1.48s\n",
      "845:\tlearn: 0.5031133\ttotal: 8.06s\tremaining: 1.47s\n",
      "846:\tlearn: 0.5029839\ttotal: 8.07s\tremaining: 1.46s\n",
      "847:\tlearn: 0.5029717\ttotal: 8.07s\tremaining: 1.45s\n",
      "848:\tlearn: 0.5026462\ttotal: 8.08s\tremaining: 1.44s\n",
      "849:\tlearn: 0.5025736\ttotal: 8.09s\tremaining: 1.43s\n",
      "850:\tlearn: 0.5023610\ttotal: 8.1s\tremaining: 1.42s\n",
      "851:\tlearn: 0.5023546\ttotal: 8.11s\tremaining: 1.41s\n",
      "852:\tlearn: 0.5023508\ttotal: 8.12s\tremaining: 1.4s\n",
      "853:\tlearn: 0.5022841\ttotal: 8.12s\tremaining: 1.39s\n",
      "854:\tlearn: 0.5022186\ttotal: 8.13s\tremaining: 1.38s\n",
      "855:\tlearn: 0.5021989\ttotal: 8.14s\tremaining: 1.37s\n",
      "856:\tlearn: 0.5020916\ttotal: 8.15s\tremaining: 1.36s\n",
      "857:\tlearn: 0.5019621\ttotal: 8.15s\tremaining: 1.35s\n",
      "858:\tlearn: 0.5018246\ttotal: 8.16s\tremaining: 1.34s\n",
      "859:\tlearn: 0.5015352\ttotal: 8.17s\tremaining: 1.33s\n",
      "860:\tlearn: 0.5014970\ttotal: 8.18s\tremaining: 1.32s\n",
      "861:\tlearn: 0.5014966\ttotal: 8.19s\tremaining: 1.31s\n",
      "862:\tlearn: 0.5013650\ttotal: 8.19s\tremaining: 1.3s\n",
      "863:\tlearn: 0.5011774\ttotal: 8.2s\tremaining: 1.29s\n",
      "864:\tlearn: 0.5011040\ttotal: 8.21s\tremaining: 1.28s\n",
      "865:\tlearn: 0.5010952\ttotal: 8.22s\tremaining: 1.27s\n",
      "866:\tlearn: 0.5006823\ttotal: 8.23s\tremaining: 1.26s\n",
      "867:\tlearn: 0.5004272\ttotal: 8.23s\tremaining: 1.25s\n",
      "868:\tlearn: 0.5004130\ttotal: 8.25s\tremaining: 1.24s\n",
      "869:\tlearn: 0.5002149\ttotal: 8.26s\tremaining: 1.23s\n",
      "870:\tlearn: 0.5001094\ttotal: 8.27s\tremaining: 1.23s\n",
      "871:\tlearn: 0.5000474\ttotal: 8.28s\tremaining: 1.22s\n",
      "872:\tlearn: 0.5000429\ttotal: 8.29s\tremaining: 1.21s\n",
      "873:\tlearn: 0.5000399\ttotal: 8.29s\tremaining: 1.2s\n",
      "874:\tlearn: 0.5000375\ttotal: 8.3s\tremaining: 1.19s\n",
      "875:\tlearn: 0.4997349\ttotal: 8.31s\tremaining: 1.18s\n",
      "876:\tlearn: 0.4994583\ttotal: 8.32s\tremaining: 1.17s\n",
      "877:\tlearn: 0.4992000\ttotal: 8.33s\tremaining: 1.16s\n",
      "878:\tlearn: 0.4989531\ttotal: 8.34s\tremaining: 1.15s\n",
      "879:\tlearn: 0.4989420\ttotal: 8.34s\tremaining: 1.14s\n",
      "880:\tlearn: 0.4988982\ttotal: 8.35s\tremaining: 1.13s\n",
      "881:\tlearn: 0.4988791\ttotal: 8.36s\tremaining: 1.12s\n",
      "882:\tlearn: 0.4988707\ttotal: 8.37s\tremaining: 1.11s\n",
      "883:\tlearn: 0.4988685\ttotal: 8.38s\tremaining: 1.1s\n",
      "884:\tlearn: 0.4988597\ttotal: 8.38s\tremaining: 1.09s\n",
      "885:\tlearn: 0.4988569\ttotal: 8.39s\tremaining: 1.08s\n",
      "886:\tlearn: 0.4987272\ttotal: 8.4s\tremaining: 1.07s\n",
      "887:\tlearn: 0.4987242\ttotal: 8.41s\tremaining: 1.06s\n",
      "888:\tlearn: 0.4986572\ttotal: 8.41s\tremaining: 1.05s\n",
      "889:\tlearn: 0.4985670\ttotal: 8.42s\tremaining: 1.04s\n",
      "890:\tlearn: 0.4983286\ttotal: 8.43s\tremaining: 1.03s\n",
      "891:\tlearn: 0.4983165\ttotal: 8.44s\tremaining: 1.02s\n",
      "892:\tlearn: 0.4981092\ttotal: 8.45s\tremaining: 1.01s\n",
      "893:\tlearn: 0.4976676\ttotal: 8.46s\tremaining: 1s\n",
      "894:\tlearn: 0.4976656\ttotal: 8.47s\tremaining: 994ms\n",
      "895:\tlearn: 0.4974456\ttotal: 8.48s\tremaining: 984ms\n",
      "896:\tlearn: 0.4974428\ttotal: 8.49s\tremaining: 975ms\n",
      "897:\tlearn: 0.4972135\ttotal: 8.49s\tremaining: 965ms\n",
      "898:\tlearn: 0.4970478\ttotal: 8.5s\tremaining: 955ms\n",
      "899:\tlearn: 0.4963581\ttotal: 8.51s\tremaining: 946ms\n",
      "900:\tlearn: 0.4963544\ttotal: 8.52s\tremaining: 936ms\n",
      "901:\tlearn: 0.4963444\ttotal: 8.53s\tremaining: 927ms\n",
      "902:\tlearn: 0.4963356\ttotal: 8.54s\tremaining: 917ms\n",
      "903:\tlearn: 0.4963101\ttotal: 8.54s\tremaining: 907ms\n",
      "904:\tlearn: 0.4963071\ttotal: 8.55s\tremaining: 898ms\n",
      "905:\tlearn: 0.4962247\ttotal: 8.56s\tremaining: 888ms\n",
      "906:\tlearn: 0.4961576\ttotal: 8.59s\tremaining: 881ms\n",
      "907:\tlearn: 0.4961560\ttotal: 8.61s\tremaining: 872ms\n",
      "908:\tlearn: 0.4959935\ttotal: 8.62s\tremaining: 863ms\n",
      "909:\tlearn: 0.4958242\ttotal: 8.62s\tremaining: 853ms\n",
      "910:\tlearn: 0.4955897\ttotal: 8.63s\tremaining: 843ms\n",
      "911:\tlearn: 0.4953557\ttotal: 8.64s\tremaining: 834ms\n",
      "912:\tlearn: 0.4953370\ttotal: 8.65s\tremaining: 824ms\n",
      "913:\tlearn: 0.4953005\ttotal: 8.66s\tremaining: 815ms\n",
      "914:\tlearn: 0.4952784\ttotal: 8.67s\tremaining: 806ms\n",
      "915:\tlearn: 0.4948456\ttotal: 8.68s\tremaining: 796ms\n",
      "916:\tlearn: 0.4944974\ttotal: 8.69s\tremaining: 787ms\n",
      "917:\tlearn: 0.4944835\ttotal: 8.7s\tremaining: 777ms\n",
      "918:\tlearn: 0.4943873\ttotal: 8.71s\tremaining: 767ms\n",
      "919:\tlearn: 0.4943847\ttotal: 8.71s\tremaining: 758ms\n",
      "920:\tlearn: 0.4941415\ttotal: 8.72s\tremaining: 748ms\n",
      "921:\tlearn: 0.4938773\ttotal: 8.73s\tremaining: 739ms\n",
      "922:\tlearn: 0.4938098\ttotal: 8.74s\tremaining: 729ms\n",
      "923:\tlearn: 0.4935466\ttotal: 8.75s\tremaining: 719ms\n",
      "924:\tlearn: 0.4933105\ttotal: 8.76s\tremaining: 710ms\n",
      "925:\tlearn: 0.4932927\ttotal: 8.76s\tremaining: 700ms\n",
      "926:\tlearn: 0.4931002\ttotal: 8.77s\tremaining: 691ms\n",
      "927:\tlearn: 0.4929024\ttotal: 8.78s\tremaining: 681ms\n",
      "928:\tlearn: 0.4926378\ttotal: 8.79s\tremaining: 672ms\n",
      "929:\tlearn: 0.4926284\ttotal: 8.8s\tremaining: 662ms\n",
      "930:\tlearn: 0.4921166\ttotal: 8.8s\tremaining: 653ms\n",
      "931:\tlearn: 0.4919336\ttotal: 8.81s\tremaining: 643ms\n",
      "932:\tlearn: 0.4918537\ttotal: 8.82s\tremaining: 633ms\n",
      "933:\tlearn: 0.4916946\ttotal: 8.83s\tremaining: 624ms\n",
      "934:\tlearn: 0.4915773\ttotal: 8.84s\tremaining: 614ms\n",
      "935:\tlearn: 0.4915622\ttotal: 8.84s\tremaining: 605ms\n",
      "936:\tlearn: 0.4915236\ttotal: 8.85s\tremaining: 595ms\n",
      "937:\tlearn: 0.4914763\ttotal: 8.86s\tremaining: 586ms\n",
      "938:\tlearn: 0.4914697\ttotal: 8.87s\tremaining: 576ms\n",
      "939:\tlearn: 0.4914430\ttotal: 8.88s\tremaining: 567ms\n",
      "940:\tlearn: 0.4912512\ttotal: 8.89s\tremaining: 558ms\n",
      "941:\tlearn: 0.4912390\ttotal: 8.9s\tremaining: 548ms\n",
      "942:\tlearn: 0.4911719\ttotal: 8.91s\tremaining: 539ms\n",
      "943:\tlearn: 0.4911633\ttotal: 8.92s\tremaining: 529ms\n",
      "944:\tlearn: 0.4911564\ttotal: 8.93s\tremaining: 520ms\n",
      "945:\tlearn: 0.4911321\ttotal: 8.94s\tremaining: 510ms\n",
      "946:\tlearn: 0.4909794\ttotal: 8.94s\tremaining: 501ms\n",
      "947:\tlearn: 0.4909020\ttotal: 8.95s\tremaining: 491ms\n",
      "948:\tlearn: 0.4906786\ttotal: 8.96s\tremaining: 482ms\n",
      "949:\tlearn: 0.4905239\ttotal: 8.97s\tremaining: 472ms\n",
      "950:\tlearn: 0.4904511\ttotal: 8.98s\tremaining: 463ms\n",
      "951:\tlearn: 0.4902878\ttotal: 8.98s\tremaining: 453ms\n",
      "952:\tlearn: 0.4901249\ttotal: 8.99s\tremaining: 443ms\n",
      "953:\tlearn: 0.4901222\ttotal: 9s\tremaining: 434ms\n",
      "954:\tlearn: 0.4901167\ttotal: 9.01s\tremaining: 424ms\n",
      "955:\tlearn: 0.4901130\ttotal: 9.02s\tremaining: 415ms\n",
      "956:\tlearn: 0.4900145\ttotal: 9.02s\tremaining: 405ms\n",
      "957:\tlearn: 0.4899997\ttotal: 9.03s\tremaining: 396ms\n",
      "958:\tlearn: 0.4899923\ttotal: 9.04s\tremaining: 386ms\n",
      "959:\tlearn: 0.4897743\ttotal: 9.05s\tremaining: 377ms\n",
      "960:\tlearn: 0.4897693\ttotal: 9.05s\tremaining: 367ms\n",
      "961:\tlearn: 0.4897647\ttotal: 9.06s\tremaining: 358ms\n",
      "962:\tlearn: 0.4897227\ttotal: 9.07s\tremaining: 348ms\n",
      "963:\tlearn: 0.4896171\ttotal: 9.08s\tremaining: 339ms\n",
      "964:\tlearn: 0.4892149\ttotal: 9.09s\tremaining: 330ms\n",
      "965:\tlearn: 0.4892132\ttotal: 9.1s\tremaining: 320ms\n",
      "966:\tlearn: 0.4892044\ttotal: 9.11s\tremaining: 311ms\n",
      "967:\tlearn: 0.4891990\ttotal: 9.12s\tremaining: 301ms\n",
      "968:\tlearn: 0.4891963\ttotal: 9.13s\tremaining: 292ms\n",
      "969:\tlearn: 0.4890824\ttotal: 9.13s\tremaining: 282ms\n",
      "970:\tlearn: 0.4890764\ttotal: 9.14s\tremaining: 273ms\n",
      "971:\tlearn: 0.4890750\ttotal: 9.15s\tremaining: 264ms\n",
      "972:\tlearn: 0.4890527\ttotal: 9.16s\tremaining: 254ms\n",
      "973:\tlearn: 0.4889271\ttotal: 9.16s\tremaining: 245ms\n",
      "974:\tlearn: 0.4889049\ttotal: 9.17s\tremaining: 235ms\n",
      "975:\tlearn: 0.4889039\ttotal: 9.18s\tremaining: 226ms\n",
      "976:\tlearn: 0.4888983\ttotal: 9.19s\tremaining: 216ms\n",
      "977:\tlearn: 0.4887971\ttotal: 9.2s\tremaining: 207ms\n",
      "978:\tlearn: 0.4887385\ttotal: 9.2s\tremaining: 197ms\n",
      "979:\tlearn: 0.4886690\ttotal: 9.21s\tremaining: 188ms\n",
      "980:\tlearn: 0.4883792\ttotal: 9.22s\tremaining: 179ms\n",
      "981:\tlearn: 0.4883759\ttotal: 9.23s\tremaining: 169ms\n",
      "982:\tlearn: 0.4883117\ttotal: 9.24s\tremaining: 160ms\n",
      "983:\tlearn: 0.4880320\ttotal: 9.24s\tremaining: 150ms\n",
      "984:\tlearn: 0.4880306\ttotal: 9.25s\tremaining: 141ms\n",
      "985:\tlearn: 0.4877476\ttotal: 9.26s\tremaining: 131ms\n",
      "986:\tlearn: 0.4877320\ttotal: 9.27s\tremaining: 122ms\n",
      "987:\tlearn: 0.4870940\ttotal: 9.28s\tremaining: 113ms\n",
      "988:\tlearn: 0.4870894\ttotal: 9.28s\tremaining: 103ms\n",
      "989:\tlearn: 0.4866840\ttotal: 9.3s\tremaining: 93.9ms\n",
      "990:\tlearn: 0.4863178\ttotal: 9.31s\tremaining: 84.5ms\n",
      "991:\tlearn: 0.4863105\ttotal: 9.32s\tremaining: 75.1ms\n",
      "992:\tlearn: 0.4863052\ttotal: 9.32s\tremaining: 65.7ms\n",
      "993:\tlearn: 0.4862739\ttotal: 9.33s\tremaining: 56.3ms\n",
      "994:\tlearn: 0.4859564\ttotal: 9.34s\tremaining: 46.9ms\n",
      "995:\tlearn: 0.4858227\ttotal: 9.35s\tremaining: 37.5ms\n",
      "996:\tlearn: 0.4857122\ttotal: 9.36s\tremaining: 28.2ms\n",
      "997:\tlearn: 0.4856354\ttotal: 9.36s\tremaining: 18.8ms\n",
      "998:\tlearn: 0.4854077\ttotal: 9.37s\tremaining: 9.38ms\n",
      "999:\tlearn: 0.4853986\ttotal: 9.38s\tremaining: 0us\n"
     ]
    }
   ],
   "source": [
    "from catboost import CatBoostRegressor, CatBoostClassifier, Pool\n",
    "\n",
    "categorical_features_indices = np.where(X_trainc.dtypes != np.float)[0]\n",
    "train_pool = Pool(X_trainc, y_trainc, cat_features=categorical_features_indices)\n",
    "\n",
    "Catset=CatBoostClassifier(loss_function = 'Logloss', class_weights = [1,4])\n",
    "Cat = Catset.fit(X_trainc, y_trainc, cat_features=categorical_features_indices);"
   ]
  },
  {
   "cell_type": "code",
   "execution_count": 28,
   "metadata": {
    "hidden": true
   },
   "outputs": [],
   "source": [
    "y_predcat = Cat.predict(X_testc)"
   ]
  },
  {
   "cell_type": "code",
   "execution_count": 29,
   "metadata": {
    "hidden": true
   },
   "outputs": [
    {
     "data": {
      "text/plain": [
       "0.7016129032258065"
      ]
     },
     "execution_count": 29,
     "metadata": {},
     "output_type": "execute_result"
    }
   ],
   "source": [
    "metrics.accuracy_score(y_testc, y_predcat)"
   ]
  },
  {
   "cell_type": "code",
   "execution_count": 30,
   "metadata": {
    "hidden": true,
    "scrolled": false
   },
   "outputs": [
    {
     "data": {
      "text/plain": [
       "array([[888, 358],\n",
       "       [ 86, 156]])"
      ]
     },
     "execution_count": 30,
     "metadata": {},
     "output_type": "execute_result"
    }
   ],
   "source": [
    "metrics.confusion_matrix(y_testc, y_predcat)"
   ]
  },
  {
   "cell_type": "code",
   "execution_count": 31,
   "metadata": {
    "hidden": true
   },
   "outputs": [
    {
     "data": {
      "text/plain": [
       "0.9117043121149897"
      ]
     },
     "execution_count": 31,
     "metadata": {},
     "output_type": "execute_result"
    }
   ],
   "source": [
    "metrics.precision_score(y_testc, y_predcat, pos_label=0)"
   ]
  },
  {
   "cell_type": "code",
   "execution_count": 32,
   "metadata": {
    "hidden": true,
    "scrolled": false
   },
   "outputs": [
    {
     "data": {
      "text/plain": [
       "0.7126805778491172"
      ]
     },
     "execution_count": 32,
     "metadata": {},
     "output_type": "execute_result"
    }
   ],
   "source": [
    "metrics.recall_score(y_testc, y_predcat, pos_label=0)"
   ]
  },
  {
   "cell_type": "markdown",
   "metadata": {
    "hidden": true
   },
   "source": [
    "#### Trial for Flask App"
   ]
  },
  {
   "cell_type": "code",
   "execution_count": 33,
   "metadata": {
    "hidden": true
   },
   "outputs": [
    {
     "data": {
      "text/plain": [
       "['Garcia', 'CU', 11.0]"
      ]
     },
     "execution_count": 33,
     "metadata": {},
     "output_type": "execute_result"
    }
   ],
   "source": [
    "data2= {\"example\": ['Garcia','CU',11.0]}\n",
    "\n",
    "trying3 = np.matrix(data2[\"example\"])\n",
    "\n",
    "trying4 = (data2[\"example\"])\n",
    "trying4"
   ]
  },
  {
   "cell_type": "code",
   "execution_count": 43,
   "metadata": {
    "hidden": true
   },
   "outputs": [],
   "source": [
    "#pool = Pool(data2)"
   ]
  },
  {
   "cell_type": "code",
   "execution_count": 48,
   "metadata": {
    "hidden": true
   },
   "outputs": [
    {
     "data": {
      "text/plain": [
       "array([0.])"
      ]
     },
     "execution_count": 48,
     "metadata": {},
     "output_type": "execute_result"
    }
   ],
   "source": [
    "Cat.predict([['Pena','CU',5]])"
   ]
  },
  {
   "cell_type": "code",
   "execution_count": 49,
   "metadata": {
    "hidden": true
   },
   "outputs": [
    {
     "data": {
      "text/plain": [
       "array([[0.79046252, 0.20953748]])"
      ]
     },
     "execution_count": 49,
     "metadata": {},
     "output_type": "execute_result"
    }
   ],
   "source": [
    "Cat.predict_proba([['Pena','CU',5]])"
   ]
  },
  {
   "cell_type": "markdown",
   "metadata": {
    "hidden": true
   },
   "source": [
    "#### Feature Importance"
   ]
  },
  {
   "cell_type": "code",
   "execution_count": 22,
   "metadata": {
    "hidden": true
   },
   "outputs": [
    {
     "name": "stdout",
     "output_type": "stream",
     "text": [
      "pitcher.pitch_zone: 44.58454783356755\n",
      "hitter.last_name: 32.85102269601051\n",
      "pitcher.pitch_type: 22.564429470421942\n"
     ]
    }
   ],
   "source": [
    "feature_importances = Cat.get_feature_importance(train_pool)\n",
    "feature_names = X_trainc.columns\n",
    "for score, name in sorted(zip(feature_importances, feature_names), reverse=True):\n",
    "    print('{}: {}'.format(name, score))"
   ]
  },
  {
   "cell_type": "markdown",
   "metadata": {
    "heading_collapsed": true,
    "hidden": true
   },
   "source": [
    "## Model 2: KNN"
   ]
  },
  {
   "cell_type": "markdown",
   "metadata": {
    "heading_collapsed": true,
    "hidden": true
   },
   "source": [
    "#### T-T-S"
   ]
  },
  {
   "cell_type": "code",
   "execution_count": null,
   "metadata": {
    "hidden": true
   },
   "outputs": [],
   "source": [
    "# Train on training set, and Test on testing set\n",
    "knn = KNeighborsClassifier(n_neighbors=3)\n",
    "knn.fit(X_train, Y_train)\n",
    "y_pred = knn.predict(X_test)\n",
    "print(metrics.accuracy_score(Y_test, y_pred))\n"
   ]
  },
  {
   "cell_type": "code",
   "execution_count": null,
   "metadata": {
    "hidden": true
   },
   "outputs": [],
   "source": [
    "y_predknn = knn.predict(X_test)"
   ]
  },
  {
   "cell_type": "code",
   "execution_count": null,
   "metadata": {
    "hidden": true
   },
   "outputs": [],
   "source": [
    "confusion_matrix(Y_test, y_predknn)"
   ]
  },
  {
   "cell_type": "markdown",
   "metadata": {
    "heading_collapsed": true,
    "hidden": true
   },
   "source": [
    "#### CV"
   ]
  },
  {
   "cell_type": "code",
   "execution_count": null,
   "metadata": {
    "hidden": true
   },
   "outputs": [],
   "source": [
    "from sklearn.model_selection import cross_val_score\n",
    "\n",
    "# 10-fold cross-validation with K=5 for KNN (the n_neighbors parameter)\n",
    "knn_best = KNeighborsClassifier(n_neighbors=4)\n",
    "scores = cross_val_score(knn_best, X, y, cv=5, scoring='accuracy')\n",
    "print(scores)\n",
    "#10 different numbers. One for each test set. Accuracy for each test set. \n",
    "#Makes sense. Instead of just one test, you get 10! "
   ]
  },
  {
   "cell_type": "code",
   "execution_count": null,
   "metadata": {
    "hidden": true
   },
   "outputs": [],
   "source": [
    "print(scores.mean())"
   ]
  },
  {
   "cell_type": "markdown",
   "metadata": {
    "heading_collapsed": true
   },
   "source": [
    "# Predicting Multi Class Outcome (Is predicting hit type possible?)"
   ]
  },
  {
   "cell_type": "markdown",
   "metadata": {
    "hidden": true
   },
   "source": [
    "** Ultimately, binary outcome was stronger **"
   ]
  },
  {
   "cell_type": "markdown",
   "metadata": {
    "heading_collapsed": true,
    "hidden": true
   },
   "source": [
    "#### Splitting into X&y"
   ]
  },
  {
   "cell_type": "code",
   "execution_count": 39,
   "metadata": {
    "hidden": true
   },
   "outputs": [],
   "source": [
    "## Combining all types of contact\n",
    "mapper2 = {'0': 0, 'FB': 1 , 'LD': 2, 'PU':3, 'GB': 4}"
   ]
  },
  {
   "cell_type": "code",
   "execution_count": 40,
   "metadata": {
    "hidden": true
   },
   "outputs": [],
   "source": [
    "y2 = carddata_dum['hit_type'] \n",
    "X2 = carddata_dum.drop('hit_type',1)"
   ]
  },
  {
   "cell_type": "code",
   "execution_count": 41,
   "metadata": {
    "hidden": true
   },
   "outputs": [],
   "source": [
    "y2 = y2.map(mapper2)"
   ]
  },
  {
   "cell_type": "markdown",
   "metadata": {
    "heading_collapsed": true,
    "hidden": true
   },
   "source": [
    "#### Train - Test - Split"
   ]
  },
  {
   "cell_type": "code",
   "execution_count": 42,
   "metadata": {
    "hidden": true
   },
   "outputs": [],
   "source": [
    "X_train2, X_test2, Y_train2, Y_test2 = train_test_split(X2, y2, test_size=0.3, stratify = y2)"
   ]
  },
  {
   "cell_type": "markdown",
   "metadata": {
    "heading_collapsed": true,
    "hidden": true
   },
   "source": [
    "## KNN"
   ]
  },
  {
   "cell_type": "code",
   "execution_count": null,
   "metadata": {
    "hidden": true
   },
   "outputs": [],
   "source": [
    "# Train on training set, and Test on testing set\n",
    "knnm = KNeighborsClassifier(n_neighbors=2)\n",
    "knnm.fit(X_train2, Y_train2)\n",
    "y_pred2 = knnm.predict(X_test2)\n",
    "print(metrics.accuracy_score(Y_test2, y_pred2))\n",
    "\n",
    "\n",
    "##Could you print the list of predictions? "
   ]
  },
  {
   "cell_type": "code",
   "execution_count": null,
   "metadata": {
    "hidden": true
   },
   "outputs": [],
   "source": [
    "# Generate a confusion matrix plot: \n",
    "\n",
    "def plot_confusion_matrix(cm,title='Confusion matrix', cmap=plt.cm.Reds):\n",
    "    plt.imshow(cm, interpolation='nearest',cmap=cmap)\n",
    "    plt.title(title)\n",
    "    plt.colorbar()\n",
    "    plt.tight_layout()\n",
    "    plt.ylabel('True label')\n",
    "    plt.xlabel('Predicted label')\n",
    "\n",
    "#Could be a typical function for classifying:\n",
    "\n",
    "#Testing how predictive the models are. \n",
    "# Using logistic regression! (See it run them below).\n",
    "\n",
    "def train_score(classifier,X_train, Y_train, X_test, Y_test):\n",
    "    clf = classifier.fit(X_train, Y_train)\n",
    "    # accuracy for test & train:\n",
    "    train_acc=clf.score(X_train, Y_train)\n",
    "    test_acc=clf.score(X_test,Y_test)\n",
    "    print(\"Training Data Accuracy: %0.2f\" %(train_acc))\n",
    "    print(\"Test Data Accuracy:     %0.2f\" %(test_acc))\n",
    "    \n",
    "    y_true = Y_test\n",
    "    y_pred = clf.predict(X_test)\n",
    "\n",
    "\n",
    "    conf = confusion_matrix(y_true, y_pred)\n",
    "    print(conf)\n",
    "\n",
    "    #In this instance, 1 stands for people who died. \n",
    "    print ('\\n')\n",
    "    print (\"Precision:              %0.2f\" %(conf[0, 0] / (conf[0, 0] + conf[1, 0])))\n",
    "    print (\"Recall:                 %0.2f\"% (conf[0, 0] / (conf[0, 0] + conf[0, 1])))\n",
    "    \n",
    "    cm=confusion_matrix(y_true, y_pred, labels=None)\n",
    "    \n",
    "    plt.figure()\n",
    "    plot_confusion_matrix(cm)"
   ]
  },
  {
   "cell_type": "code",
   "execution_count": null,
   "metadata": {
    "hidden": true,
    "scrolled": true
   },
   "outputs": [],
   "source": [
    "train_score(knnm,X_train2,Y_train2,X_test2,Y_test2)"
   ]
  },
  {
   "cell_type": "code",
   "execution_count": null,
   "metadata": {
    "hidden": true
   },
   "outputs": [],
   "source": [
    "y_predknnm = knnm.predict(X_test2)\n",
    "\n",
    "metrics.precision_score(Y_test2, y_predknnm, average='weighted')"
   ]
  },
  {
   "cell_type": "markdown",
   "metadata": {
    "heading_collapsed": true,
    "hidden": true
   },
   "source": [
    "## Logistic Regression"
   ]
  },
  {
   "cell_type": "code",
   "execution_count": 43,
   "metadata": {
    "hidden": true
   },
   "outputs": [
    {
     "name": "stdout",
     "output_type": "stream",
     "text": [
      "0.6965471447543161\n"
     ]
    }
   ],
   "source": [
    "LRm = LogisticRegression(class_weight = {0:1,1:5})\n",
    "LRm.fit(X_train2,Y_train2)\n",
    "LRm.score(X_test2, Y_test2)\n",
    "\n",
    "quick_test_afew_times(LRm, X_train2, Y_train2)"
   ]
  },
  {
   "cell_type": "code",
   "execution_count": 44,
   "metadata": {
    "hidden": true
   },
   "outputs": [],
   "source": [
    "y_predLRm = LRm.predict(X_test2)"
   ]
  },
  {
   "cell_type": "code",
   "execution_count": 45,
   "metadata": {
    "hidden": true,
    "scrolled": true
   },
   "outputs": [
    {
     "data": {
      "text/plain": [
       "array([[852, 408,   0,   0,   0],\n",
       "       [ 15,  46,   0,   0,   0],\n",
       "       [ 19,  39,   0,   0,   0],\n",
       "       [  2,  14,   0,   0,   0],\n",
       "       [ 51,  60,   0,   0,   0]])"
      ]
     },
     "execution_count": 45,
     "metadata": {},
     "output_type": "execute_result"
    }
   ],
   "source": [
    "confusion_matrix(Y_test2, y_predLRm)"
   ]
  },
  {
   "cell_type": "code",
   "execution_count": 46,
   "metadata": {
    "hidden": true
   },
   "outputs": [
    {
     "data": {
      "text/plain": [
       "array([[0.4179607 , 0.5820393 ],\n",
       "       [0.24391909, 0.75608091],\n",
       "       [0.70339639, 0.29660361],\n",
       "       ...,\n",
       "       [0.17795287, 0.82204713],\n",
       "       [0.21594602, 0.78405398],\n",
       "       [0.76924179, 0.23075821]])"
      ]
     },
     "execution_count": 46,
     "metadata": {},
     "output_type": "execute_result"
    }
   ],
   "source": [
    "LRm.predict_proba(X_test2)"
   ]
  },
  {
   "cell_type": "markdown",
   "metadata": {
    "heading_collapsed": true,
    "hidden": true
   },
   "source": [
    "## Random Forest"
   ]
  },
  {
   "cell_type": "code",
   "execution_count": null,
   "metadata": {
    "hidden": true
   },
   "outputs": [],
   "source": [
    "def quick_test(model, X, y):\n",
    "    model.fit(X_train2, Y_train2)\n",
    "    return model.score(X_test2, Y_test2)\n",
    "    \n",
    "\n",
    "def quick_test_afew_times(model, X, y, n=10):\n",
    "    print( np.mean([quick_test(model, X, y) for j in range(n)]))"
   ]
  },
  {
   "cell_type": "code",
   "execution_count": null,
   "metadata": {
    "hidden": true
   },
   "outputs": [],
   "source": [
    "RF = RandomForestClassifier(class_weight = {0:1,1:5})\n",
    "RF.fit(X_train2,Y_train2)\n",
    "RF.score(X_test2, Y_test2)\n",
    "\n",
    "quick_test_afew_times(RF, X_train2, Y_train2)"
   ]
  },
  {
   "cell_type": "code",
   "execution_count": 152,
   "metadata": {
    "hidden": true
   },
   "outputs": [
    {
     "data": {
      "text/plain": [
       "array([[935, 325,   0,   0,   0],\n",
       "       [ 15,  46,   0,   0,   0],\n",
       "       [ 17,  41,   0,   0,   0],\n",
       "       [  6,  10,   0,   0,   0],\n",
       "       [ 41,  70,   0,   0,   0]])"
      ]
     },
     "execution_count": 152,
     "metadata": {},
     "output_type": "execute_result"
    }
   ],
   "source": [
    "from sklearn import metrics \n",
    "\n",
    "### Trying out confusion matrix prediction.\n",
    "\n",
    "y2_pred = RF.predict(X_test2)\n",
    "\n",
    "metrics.confusion_matrix(Y_test2, y2_pred)"
   ]
  },
  {
   "cell_type": "code",
   "execution_count": null,
   "metadata": {
    "hidden": true
   },
   "outputs": [],
   "source": [
    "### Trying out precision score. \n",
    "metrics.precision_score(Y_test2, y2_pred, average='weighted')"
   ]
  },
  {
   "cell_type": "code",
   "execution_count": null,
   "metadata": {
    "hidden": true
   },
   "outputs": [],
   "source": [
    "metrics.f1_score(Y_test2, y2_pred, average = 'weighted')"
   ]
  },
  {
   "cell_type": "code",
   "execution_count": null,
   "metadata": {
    "hidden": true
   },
   "outputs": [],
   "source": [
    "metrics.recall_score(Y_test2, y2_pred, average = 'weighted')"
   ]
  },
  {
   "cell_type": "markdown",
   "metadata": {},
   "source": [
    "# Prepping For Flask App"
   ]
  },
  {
   "cell_type": "code",
   "execution_count": 67,
   "metadata": {},
   "outputs": [],
   "source": [
    "import pickle\n",
    "# save the model to disk\n",
    "filename = 'Baseball_pickle1.sav'\n",
    "pickle.dump(Cat,open(filename, 'wb'),protocol=2)"
   ]
  },
  {
   "cell_type": "code",
   "execution_count": 2,
   "metadata": {},
   "outputs": [
    {
     "name": "stdout",
     "output_type": "stream",
     "text": [
      "[[0.81483237 0.18516763]]\n"
     ]
    }
   ],
   "source": [
    "# practicing loading the model from disk\n",
    "import pickle\n",
    "filename = 'Baseball_pickle1.sav'\n",
    "PREDICT = pickle.load(open(filename, 'rb'))\n",
    "x =[[\"Martinez\", \"CU\", 12]]\n",
    "result = PREDICT.predict_proba(x)\n",
    "print(result)"
   ]
  },
  {
   "cell_type": "code",
   "execution_count": 52,
   "metadata": {},
   "outputs": [],
   "source": [
    "## ALTERNATE WAY\n",
    "with open(\"Baseball_pickle3.sav\", 'rb') as picklefile:\n",
    "    PREDICTOR = pickle.load(picklefile)"
   ]
  },
  {
   "cell_type": "code",
   "execution_count": 53,
   "metadata": {},
   "outputs": [
    {
     "data": {
      "text/plain": [
       "array([[0.96227566, 0.03772434]])"
      ]
     },
     "execution_count": 53,
     "metadata": {},
     "output_type": "execute_result"
    }
   ],
   "source": [
    "PREDICTOR.predict_proba([['Wong','CU',10.0]])"
   ]
  },
  {
   "cell_type": "code",
   "execution_count": 56,
   "metadata": {},
   "outputs": [
    {
     "data": {
      "text/plain": [
       "array([[0.37119569, 0.62880431]])"
      ]
     },
     "execution_count": 56,
     "metadata": {},
     "output_type": "execute_result"
    }
   ],
   "source": [
    "## Double checking it's the same...\n",
    "Cat.predict_proba([[\"Fowler\", \"SI\", 5]])"
   ]
  },
  {
   "cell_type": "code",
   "execution_count": 57,
   "metadata": {},
   "outputs": [],
   "source": [
    "carddata_viz = pd.read_csv('AllSeason.csv').drop('Unnamed: 0',1)"
   ]
  },
  {
   "cell_type": "code",
   "execution_count": 58,
   "metadata": {},
   "outputs": [
    {
     "data": {
      "text/plain": [
       "Index(['hitter.last_name', 'Home?', 'OnFirst', 'OnSecond', 'OnThird', 'OppTeam', 'count.balls', 'count.outs', 'count.pitch_count', 'count.strikes', 'created_at', 'errors', 'fielders', 'flags.is_ab_over', 'flags.is_bunt', 'flags.is_bunt_shown', 'flags.is_double_play', 'flags.is_hit', 'flags.is_passed_ball', 'flags.is_triple_play', 'flags.is_wild_pitch', 'hit_location', 'hit_type', 'hitter.first_name', 'hitter.id', 'hitter.jersey_number', 'hitter.preferred_name', 'id', 'innings', 'outcome_id', 'pitcher.first_name', 'pitcher.hitter_hand', 'pitcher.id', 'pitcher.jersey_number', 'pitcher.last_name', 'pitcher.pitch_count', 'pitcher.pitch_speed', 'pitcher.pitch_type', 'pitcher.pitch_x', 'pitcher.pitch_y', 'pitcher.pitch_zone', 'pitcher.pitcher_hand', 'pitcher.preferred_name', 'runners', 'status', 'temperature', 'type', 'updated_at', 'warming_up.first_name', 'warming_up.id', 'warming_up.jersey_number', 'warming_up.last_name', 'warming_up.player_id', 'warming_up.preferred_name', 'warming_up.team_id', 'weather.direction', 'weather.speed_mph'], dtype='object')"
      ]
     },
     "execution_count": 58,
     "metadata": {},
     "output_type": "execute_result"
    }
   ],
   "source": [
    "carddata_viz.columns"
   ]
  },
  {
   "cell_type": "code",
   "execution_count": 59,
   "metadata": {},
   "outputs": [],
   "source": [
    "carddata_viz = carddata_viz[carddata_viz['hitter.last_name'] != 'Martínez']"
   ]
  },
  {
   "cell_type": "code",
   "execution_count": 60,
   "metadata": {},
   "outputs": [],
   "source": [
    "cardata_viz2 = carddata_viz.drop(labels = 3131)"
   ]
  },
  {
   "cell_type": "code",
   "execution_count": 61,
   "metadata": {},
   "outputs": [],
   "source": [
    "cardata_viz2.to_csv('AllSeasonViz')"
   ]
  }
 ],
 "metadata": {
  "kernelspec": {
   "display_name": "Python 3",
   "language": "python",
   "name": "python3"
  },
  "language_info": {
   "codemirror_mode": {
    "name": "ipython",
    "version": 3
   },
   "file_extension": ".py",
   "mimetype": "text/x-python",
   "name": "python",
   "nbconvert_exporter": "python",
   "pygments_lexer": "ipython3",
   "version": "3.6.4"
  },
  "toc": {
   "base_numbering": 1,
   "nav_menu": {
    "height": "124px",
    "width": "208px"
   },
   "number_sections": true,
   "sideBar": true,
   "skip_h1_title": false,
   "title_cell": "Table of Contents",
   "title_sidebar": "Contents",
   "toc_cell": false,
   "toc_position": {},
   "toc_section_display": true,
   "toc_window_display": false
  }
 },
 "nbformat": 4,
 "nbformat_minor": 2
}
