{
 "cells": [
  {
   "cell_type": "code",
   "execution_count": 1,
   "metadata": {},
   "outputs": [],
   "source": [
    "from selenium import webdriver \n",
    "from selenium.webdriver.common.keys import Keys\n",
    "import requests\n",
    "from bs4 import BeautifulSoup \n",
    "import re\n",
    "import pandas as pd \n",
    "import os \n",
    "import time\n",
    "import datetime\n",
    "import csv\n",
    "import numpy as np\n",
    "import matplotlib.pyplot as plt\n",
    "import seaborn as sns"
   ]
  },
  {
   "cell_type": "markdown",
   "metadata": {},
   "source": [
    "##### Introducing Selenium "
   ]
  },
  {
   "cell_type": "code",
   "execution_count": 2,
   "metadata": {},
   "outputs": [],
   "source": [
    "#The 6th: http://www.santaanita.com/live-racing/4618/ \n",
    "##Race 1 & 5\n"
   ]
  },
  {
   "cell_type": "markdown",
   "metadata": {},
   "source": [
    "## Horses of Interest"
   ]
  },
  {
   "cell_type": "code",
   "execution_count": 3,
   "metadata": {},
   "outputs": [],
   "source": [
    "mainpage = \"https://www.equibase.com/static/chart/summary/SA040618USA-EQB.html\"\n",
    "horselink = BeautifulSoup(requests.get(mainpage).text, \"lxml\")\n"
   ]
  },
  {
   "cell_type": "code",
   "execution_count": 5,
   "metadata": {},
   "outputs": [],
   "source": [
    "###New list of horses!! Race 1 and 5.\n",
    "horsenames = ['Dhafeera','Jazaalah','Meal Ticket','You Missed It','Blossom Trail Miss','Chalky','Beauty Divine','Subic Bay',\n",
    "             'Oh Scatty Oh','Road Test','Hotsy Dotsy','Paddy Jean','Khaleesi','Twirling Apples',\n",
    "             'Lil Bit Dangerous','Pirate Flag']"
   ]
  },
  {
   "cell_type": "code",
   "execution_count": 6,
   "metadata": {},
   "outputs": [],
   "source": [
    "horselinkdic = {}\n",
    "\n",
    "for horse in horsenames:\n",
    "    for a in horselink.find_all(\"a\", text=re.compile(horse)):\n",
    "        for i in a:\n",
    "            a = a['href']\n",
    "            horselinkdic[horse]=a\n",
    "            "
   ]
  },
  {
   "cell_type": "code",
   "execution_count": 7,
   "metadata": {},
   "outputs": [
    {
     "name": "stdout",
     "output_type": "stream",
     "text": [
      "{'Dhafeera': 'http://www.equibase.com/profiles/Results.cfm?type=Horse&refno=9684715&registry=T&rbt=TB', 'Jazaalah': 'http://www.equibase.com/profiles/Results.cfm?type=Horse&refno=9700611&registry=T&rbt=TB', 'Meal Ticket': 'http://www.equibase.com/profiles/Results.cfm?type=Horse&refno=9676708&registry=T&rbt=TB', 'You Missed It': 'http://www.equibase.com/profiles/Results.cfm?type=Horse&refno=9645455&registry=T&rbt=TB', 'Blossom Trail Miss': 'http://www.equibase.com/profiles/Results.cfm?type=Horse&refno=9663458&registry=T&rbt=TB', 'Chalky': 'http://www.equibase.com/profiles/Results.cfm?type=Horse&refno=9819822&registry=T&rbt=TB', 'Beauty Divine': 'http://www.equibase.com/profiles/Results.cfm?type=Horse&refno=9665823&registry=T&rbt=TB', 'Subic Bay': 'http://www.equibase.com/profiles/Results.cfm?type=Horse&refno=9477714&registry=T&rbt=TB', 'Oh Scatty Oh': 'http://www.equibase.com/profiles/Results.cfm?type=Horse&refno=9698092&registry=T&rbt=TB', 'Road Test': 'http://www.equibase.com/profiles/Results.cfm?type=Horse&refno=9650493&registry=T&rbt=TB', 'Hotsy Dotsy': 'http://www.equibase.com/profiles/Results.cfm?type=Horse&refno=9495751&registry=T&rbt=TB', 'Paddy Jean': 'http://www.equibase.com/profiles/Results.cfm?type=Horse&refno=9718957&registry=T&rbt=TB', 'Khaleesi': 'http://www.equibase.com/profiles/Results.cfm?type=Horse&refno=9568807&registry=T&rbt=TB', 'Twirling Apples': 'http://www.equibase.com/profiles/Results.cfm?type=Horse&refno=9736062&registry=T&rbt=TB', 'Lil Bit Dangerous': 'http://www.equibase.com/profiles/Results.cfm?type=Horse&refno=9683185&registry=T&rbt=TB', 'Pirate Flag': 'http://www.equibase.com/profiles/Results.cfm?type=Horse&refno=9470644&registry=T&rbt=TB'}\n"
     ]
    }
   ],
   "source": [
    "print((horselinkdic))"
   ]
  },
  {
   "cell_type": "markdown",
   "metadata": {},
   "source": [
    "## Scraping horsey stats"
   ]
  },
  {
   "cell_type": "markdown",
   "metadata": {},
   "source": [
    "##### Scraping the stats table"
   ]
  },
  {
   "cell_type": "code",
   "execution_count": 8,
   "metadata": {},
   "outputs": [],
   "source": [
    "#launch url\n",
    "chromedriver = \"/Users/vicky/Downloads/chromedriver\" # path to the chromedriver executable\n",
    "os.environ[\"webdriver.chrome.driver\"] = chromedriver\n"
   ]
  },
  {
   "cell_type": "code",
   "execution_count": 12,
   "metadata": {},
   "outputs": [
    {
     "name": "stdout",
     "output_type": "stream",
     "text": [
      "Dhafeera\n",
      "Jazaalah\n",
      "Meal Ticket\n",
      "You Missed It\n",
      "Blossom Trail Miss\n",
      "Chalky\n",
      "Beauty Divine\n",
      "Subic Bay\n",
      "Oh Scatty Oh\n",
      "Road Test\n",
      "Hotsy Dotsy\n",
      "Paddy Jean\n",
      "Khaleesi\n",
      "Twirling Apples\n",
      "Lil Bit Dangerous\n",
      "Pirate Flag\n"
     ]
    }
   ],
   "source": [
    "horseywinnings=[]\n",
    "horseyworkouts=[]\n",
    "\n",
    "for key, value in horselinkdic.items():   \n",
    "    \n",
    "    print(key)\n",
    "    jesustakethewheel = webdriver.Chrome(chromedriver)\n",
    "    jesustakethewheel.get(value)\n",
    "    \n",
    "    soupresults=BeautifulSoup(requests.get(value).text, \"lxml\")\n",
    "    resultstable=soupresults.find_all(class_='table-hover')[1]\n",
    "\n",
    "    rows=[row for row in resultstable.find_all('tr')]\n",
    "    rows=rows[1:5]\n",
    "\n",
    "\n",
    "    horseywins={}\n",
    "    for row in rows:\n",
    "        items=row.find_all('td')\n",
    "        for entries in items:\n",
    "            splitsies = entries.text.split(':')\n",
    "            horseywins[splitsies[0]] = (splitsies[1])\n",
    "            horseywins['Horse Name'] = (key)    \n",
    "    \n",
    "    \n",
    "    horseywinnings.append(horseywins)\n",
    "    \n",
    "    time.sleep(1)\n",
    "    \n",
    "    python_button_Workouts = jesustakethewheel.find_element_by_id('Hworkouts') \n",
    "    python_button_Workouts.click() \n",
    "    time.sleep(.5)\n",
    "    \n",
    "    python_button_seemore = jesustakethewheel.find_element_by_link_text('SEE MORE WORKOUTS')\n",
    "    python_button_seemore.click()\n",
    "    time.sleep(.5)\n",
    "    \n",
    "    soupworkout=BeautifulSoup(jesustakethewheel.page_source, \"lxml\")\n",
    "    \n",
    "    workouttable=soupworkout.find(class_='resultTable') \n",
    "\n",
    "    #horseyworkouts=[]\n",
    "    for row in workouttable.find_all('tr')[1:]:\n",
    "        items=row.find_all('td')\n",
    "        Track = items[0].text\n",
    "        Date = items[1].text\n",
    "        Course = items[2].text\n",
    "        Distance = items[3].text\n",
    "        if len(items[4].text) <6:\n",
    "            tp = datetime.datetime.strptime(items[4].text,'%S.%f')\n",
    "        else:\n",
    "            tp = datetime.datetime.strptime(items[4].text,'%M:%S.%f')\n",
    "        Time = tp.second*10+tp.minute*600+tp.microsecond//100000\n",
    "        Note = items[5].text\n",
    "        Rank = items[6].text\n",
    "        rowdict= {'Horse Name': key,'Course' :Course,'Track' :Track,'Date':Date ,'Course' :Course ,'Distance' :Distance,'Time_tenths_second':Time,'Note':Note,'Rank':Rank}\n",
    "        horseyworkouts.append(rowdict)\n",
    "            \n",
    "    time.sleep(1)"
   ]
  },
  {
   "cell_type": "code",
   "execution_count": 14,
   "metadata": {},
   "outputs": [
    {
     "name": "stdout",
     "output_type": "stream",
     "text": [
      "[{'Starts': ' 6', 'Horse Name': 'Dhafeera', 'Firsts': ' 1', 'Seconds': ' 2', 'Thirds': ' 0'}, {'Starts': ' 5', 'Horse Name': 'Jazaalah', 'Firsts': ' 0', 'Seconds': ' 1', 'Thirds': ' 2'}, {'Starts': ' 7', 'Horse Name': 'Meal Ticket', 'Firsts': ' 0', 'Seconds': ' 2', 'Thirds': ' 1'}, {'Starts': ' 8', 'Horse Name': 'You Missed It', 'Firsts': ' 0', 'Seconds': ' 5', 'Thirds': ' 1'}, {'Starts': ' 4', 'Horse Name': 'Blossom Trail Miss', 'Firsts': ' 0', 'Seconds': ' 0', 'Thirds': ' 1'}, {'Starts': ' 6', 'Horse Name': 'Chalky', 'Firsts': ' 0', 'Seconds': ' 2', 'Thirds': ' 1'}, {'Starts': ' 4', 'Horse Name': 'Beauty Divine', 'Firsts': ' 0', 'Seconds': ' 0', 'Thirds': ' 0'}, {'Starts': ' 10', 'Horse Name': 'Subic Bay', 'Firsts': ' 2', 'Seconds': ' 3', 'Thirds': ' 1'}, {'Starts': ' 15', 'Horse Name': 'Oh Scatty Oh', 'Firsts': ' 1', 'Seconds': ' 4', 'Thirds': ' 1'}, {'Starts': ' 16', 'Horse Name': 'Road Test', 'Firsts': ' 1', 'Seconds': ' 5', 'Thirds': ' 4'}, {'Starts': ' 19', 'Horse Name': 'Hotsy Dotsy', 'Firsts': ' 1', 'Seconds': ' 3', 'Thirds': ' 2'}, {'Starts': ' 14', 'Horse Name': 'Paddy Jean', 'Firsts': ' 1', 'Seconds': ' 3', 'Thirds': ' 4'}, {'Starts': ' 16', 'Horse Name': 'Khaleesi', 'Firsts': ' 1', 'Seconds': ' 3', 'Thirds': ' 1'}, {'Starts': ' 7', 'Horse Name': 'Twirling Apples', 'Firsts': ' 1', 'Seconds': ' 0', 'Thirds': ' 0'}, {'Starts': ' 3', 'Horse Name': 'Lil Bit Dangerous', 'Firsts': ' 1', 'Seconds': ' 0', 'Thirds': ' 0'}, {'Starts': ' 14', 'Horse Name': 'Pirate Flag', 'Firsts': ' 1', 'Seconds': ' 1', 'Thirds': ' 1'}]\n"
     ]
    }
   ],
   "source": [
    "print(horseywinnings)"
   ]
  },
  {
   "cell_type": "code",
   "execution_count": 15,
   "metadata": {},
   "outputs": [],
   "source": [
    "df_stats3 = pd.DataFrame(horseywinnings)\n",
    "dfworkouts3 = pd.DataFrame(horseyworkouts)"
   ]
  },
  {
   "cell_type": "code",
   "execution_count": 16,
   "metadata": {
    "scrolled": true
   },
   "outputs": [],
   "source": [
    "df_stats3.to_csv('stats_csv_3')\n",
    "dfworkouts3.to_csv('workouts_csv_3')"
   ]
  },
  {
   "cell_type": "markdown",
   "metadata": {},
   "source": [
    "## Cleaning up dfworkouts"
   ]
  },
  {
   "cell_type": "code",
   "execution_count": null,
   "metadata": {},
   "outputs": [],
   "source": [
    "dfworkouts['Course'].unique()"
   ]
  },
  {
   "cell_type": "code",
   "execution_count": null,
   "metadata": {
    "scrolled": true
   },
   "outputs": [],
   "source": [
    "dfworkouts_clean = dfworkouts.drop('Note', axis=1 ).drop('Rank',axis=1).drop('Track',axis=1)\n",
    "#new_df = df[df.C != 'XYZ']\n",
    "#dfworkouts_clean = dfworkouts_clean.drop(dfworkouts_clean.loc[dfworkouts_clean['Course'] == 'Turf'])"
   ]
  },
  {
   "cell_type": "code",
   "execution_count": null,
   "metadata": {
    "scrolled": true
   },
   "outputs": [],
   "source": [
    "dfworkouts_clean.head(2)"
   ]
  },
  {
   "cell_type": "markdown",
   "metadata": {},
   "source": [
    "### GROUP BY TO AVERAGE"
   ]
  },
  {
   "cell_type": "code",
   "execution_count": null,
   "metadata": {},
   "outputs": [],
   "source": [
    "dfworkouts_clean.groupby"
   ]
  },
  {
   "cell_type": "markdown",
   "metadata": {},
   "source": [
    "## Cleaning up df_stats"
   ]
  },
  {
   "cell_type": "code",
   "execution_count": null,
   "metadata": {},
   "outputs": [],
   "source": [
    "df_stats"
   ]
  },
  {
   "cell_type": "markdown",
   "metadata": {},
   "source": [
    "## Race times"
   ]
  },
  {
   "cell_type": "code",
   "execution_count": null,
   "metadata": {},
   "outputs": [],
   "source": [
    "resultsofinterest = ['{Horse Name:  , Final_Time}',\n",
    "                    'http://tnetwork.trakus.com/tnet/t_SantaAnita.aspx?EventID=133974&Date=4/14/2018&Type=TBRED&Venue=4&DisplayType=1',\n",
    "                    'http://tnetwork.trakus.com/tnet/t_SantaAnita.aspx?EventID=133976&Date=4/14/2018&Type=TBRED&Venue=4&DisplayType=1']"
   ]
  },
  {
   "cell_type": "code",
   "execution_count": 17,
   "metadata": {},
   "outputs": [],
   "source": [
    "timesdic = [{'Horse Name' : 'Dhfeera', 'Final_Time':'1:40.25'},\n",
    "           {'Horse Name' :'Jazaalah','Final_Time': '1:40.46'},\n",
    "           {'Horse Name' :'Meal Ticket','Final_Time': '1:40.58'},\n",
    "           {'Horse Name' :'You Missed It','Final_Time': '1:40.84'},\n",
    "           {'Horse Name' :'Blossom Trail Miss','Final_Time':'1:40.89'},\n",
    "           {'Horse Name' :'Chalky','Final_Time': '1:40.99'},\n",
    "           {'Horse Name' :'Beauty Divine','Final_Time': '1:41.75'},\n",
    "           {'Horse Name' :'Subic Bay','Final_Time': '1:35.18'},\n",
    "           {'Horse Name' :'Oh Scatty Oh','Final_Time': '1:35.59'},\n",
    "           {'Horse Name' :'Road Test','Final_Time': '1:36.12'},\n",
    "           {'Horse Name' :'Hotsy Dotsy','Final_Time':'1:36.22'},\n",
    "           {'Horse Name' :'Paddy Jean','Final_Time': '1:36.24'},\n",
    "           {'Horse Name' :'Khaleesi','Final_Time': '1:36.35'},\n",
    "           {'Horse Name' :'Twirling Apples','Final_Time':'1:36.67'},\n",
    "           {'Horse Name' :'Lil Bit Dangerous','Final_Time': '1:36.74'},\n",
    "           {'Horse Name' :'Pirate Flag','Final_Time':'1:37.27'}]\n"
   ]
  },
  {
   "cell_type": "code",
   "execution_count": 18,
   "metadata": {},
   "outputs": [
    {
     "name": "stdout",
     "output_type": "stream",
     "text": [
      "[{'Horse Name': 'Dhfeera', 'Final_Time': '1:40.25', 'Final_Time_Hund': 10025}, {'Horse Name': 'Jazaalah', 'Final_Time': '1:40.46', 'Final_Time_Hund': 10046}, {'Horse Name': 'Meal Ticket', 'Final_Time': '1:40.58', 'Final_Time_Hund': 10058}, {'Horse Name': 'You Missed It', 'Final_Time': '1:40.84', 'Final_Time_Hund': 10084}, {'Horse Name': 'Blossom Trail Miss', 'Final_Time': '1:40.89', 'Final_Time_Hund': 10089}, {'Horse Name': 'Chalky', 'Final_Time': '1:40.99', 'Final_Time_Hund': 10099}, {'Horse Name': 'Beauty Divine', 'Final_Time': '1:41.75', 'Final_Time_Hund': 10175}, {'Horse Name': 'Subic Bay', 'Final_Time': '1:35.18', 'Final_Time_Hund': 9518}, {'Horse Name': 'Oh Scatty Oh', 'Final_Time': '1:35.59', 'Final_Time_Hund': 9559}, {'Horse Name': 'Road Test', 'Final_Time': '1:36.12', 'Final_Time_Hund': 9612}, {'Horse Name': 'Hotsy Dotsy', 'Final_Time': '1:36.22', 'Final_Time_Hund': 9622}, {'Horse Name': 'Paddy Jean', 'Final_Time': '1:36.24', 'Final_Time_Hund': 9624}, {'Horse Name': 'Khaleesi', 'Final_Time': '1:36.35', 'Final_Time_Hund': 9635}, {'Horse Name': 'Twirling Apples', 'Final_Time': '1:36.67', 'Final_Time_Hund': 9667}, {'Horse Name': 'Lil Bit Dangerous', 'Final_Time': '1:36.74', 'Final_Time_Hund': 9674}, {'Horse Name': 'Pirate Flag', 'Final_Time': '1:37.27', 'Final_Time_Hund': 9727}]\n"
     ]
    }
   ],
   "source": [
    "##This is right for hundreths??? Double check what you scraped!!!\n",
    "\n",
    "for row in timesdic:\n",
    "    for k,v in row.items():\n",
    "        if k == 'Final_Time':\n",
    "            timing = datetime.datetime.strptime(v,'%M:%S.%f')\n",
    "            value = timing.second*100+timing.minute*6000+timing.microsecond//10000\n",
    "        \n",
    "    \n",
    "    row['Final_Time_Hund'] = value \n",
    "\n",
    "print(timesdic)\n",
    "    \n",
    "    "
   ]
  },
  {
   "cell_type": "code",
   "execution_count": 19,
   "metadata": {},
   "outputs": [
    {
     "data": {
      "text/html": [
       "<div>\n",
       "<style scoped>\n",
       "    .dataframe tbody tr th:only-of-type {\n",
       "        vertical-align: middle;\n",
       "    }\n",
       "\n",
       "    .dataframe tbody tr th {\n",
       "        vertical-align: top;\n",
       "    }\n",
       "\n",
       "    .dataframe thead th {\n",
       "        text-align: right;\n",
       "    }\n",
       "</style>\n",
       "<table border=\"1\" class=\"dataframe\">\n",
       "  <thead>\n",
       "    <tr style=\"text-align: right;\">\n",
       "      <th></th>\n",
       "      <th>Final_Time</th>\n",
       "      <th>Final_Time_Hund</th>\n",
       "      <th>Horse Name</th>\n",
       "    </tr>\n",
       "  </thead>\n",
       "  <tbody>\n",
       "    <tr>\n",
       "      <th>0</th>\n",
       "      <td>1:40.25</td>\n",
       "      <td>10025</td>\n",
       "      <td>Dhfeera</td>\n",
       "    </tr>\n",
       "    <tr>\n",
       "      <th>1</th>\n",
       "      <td>1:40.46</td>\n",
       "      <td>10046</td>\n",
       "      <td>Jazaalah</td>\n",
       "    </tr>\n",
       "    <tr>\n",
       "      <th>2</th>\n",
       "      <td>1:40.58</td>\n",
       "      <td>10058</td>\n",
       "      <td>Meal Ticket</td>\n",
       "    </tr>\n",
       "    <tr>\n",
       "      <th>3</th>\n",
       "      <td>1:40.84</td>\n",
       "      <td>10084</td>\n",
       "      <td>You Missed It</td>\n",
       "    </tr>\n",
       "    <tr>\n",
       "      <th>4</th>\n",
       "      <td>1:40.89</td>\n",
       "      <td>10089</td>\n",
       "      <td>Blossom Trail Miss</td>\n",
       "    </tr>\n",
       "    <tr>\n",
       "      <th>5</th>\n",
       "      <td>1:40.99</td>\n",
       "      <td>10099</td>\n",
       "      <td>Chalky</td>\n",
       "    </tr>\n",
       "    <tr>\n",
       "      <th>6</th>\n",
       "      <td>1:41.75</td>\n",
       "      <td>10175</td>\n",
       "      <td>Beauty Divine</td>\n",
       "    </tr>\n",
       "    <tr>\n",
       "      <th>7</th>\n",
       "      <td>1:35.18</td>\n",
       "      <td>9518</td>\n",
       "      <td>Subic Bay</td>\n",
       "    </tr>\n",
       "    <tr>\n",
       "      <th>8</th>\n",
       "      <td>1:35.59</td>\n",
       "      <td>9559</td>\n",
       "      <td>Oh Scatty Oh</td>\n",
       "    </tr>\n",
       "    <tr>\n",
       "      <th>9</th>\n",
       "      <td>1:36.12</td>\n",
       "      <td>9612</td>\n",
       "      <td>Road Test</td>\n",
       "    </tr>\n",
       "    <tr>\n",
       "      <th>10</th>\n",
       "      <td>1:36.22</td>\n",
       "      <td>9622</td>\n",
       "      <td>Hotsy Dotsy</td>\n",
       "    </tr>\n",
       "    <tr>\n",
       "      <th>11</th>\n",
       "      <td>1:36.24</td>\n",
       "      <td>9624</td>\n",
       "      <td>Paddy Jean</td>\n",
       "    </tr>\n",
       "    <tr>\n",
       "      <th>12</th>\n",
       "      <td>1:36.35</td>\n",
       "      <td>9635</td>\n",
       "      <td>Khaleesi</td>\n",
       "    </tr>\n",
       "    <tr>\n",
       "      <th>13</th>\n",
       "      <td>1:36.67</td>\n",
       "      <td>9667</td>\n",
       "      <td>Twirling Apples</td>\n",
       "    </tr>\n",
       "    <tr>\n",
       "      <th>14</th>\n",
       "      <td>1:36.74</td>\n",
       "      <td>9674</td>\n",
       "      <td>Lil Bit Dangerous</td>\n",
       "    </tr>\n",
       "    <tr>\n",
       "      <th>15</th>\n",
       "      <td>1:37.27</td>\n",
       "      <td>9727</td>\n",
       "      <td>Pirate Flag</td>\n",
       "    </tr>\n",
       "  </tbody>\n",
       "</table>\n",
       "</div>"
      ],
      "text/plain": [
       "   Final_Time  Final_Time_Hund          Horse Name\n",
       "0     1:40.25            10025             Dhfeera\n",
       "1     1:40.46            10046            Jazaalah\n",
       "2     1:40.58            10058         Meal Ticket\n",
       "3     1:40.84            10084       You Missed It\n",
       "4     1:40.89            10089  Blossom Trail Miss\n",
       "5     1:40.99            10099              Chalky\n",
       "6     1:41.75            10175       Beauty Divine\n",
       "7     1:35.18             9518           Subic Bay\n",
       "8     1:35.59             9559        Oh Scatty Oh\n",
       "9     1:36.12             9612           Road Test\n",
       "10    1:36.22             9622         Hotsy Dotsy\n",
       "11    1:36.24             9624          Paddy Jean\n",
       "12    1:36.35             9635            Khaleesi\n",
       "13    1:36.67             9667     Twirling Apples\n",
       "14    1:36.74             9674   Lil Bit Dangerous\n",
       "15    1:37.27             9727         Pirate Flag"
      ]
     },
     "execution_count": 19,
     "metadata": {},
     "output_type": "execute_result"
    }
   ],
   "source": [
    "dffinaltime3 = pd.DataFrame.from_dict(timesdic)\n",
    "\n",
    "#dfpract = dfpract.transpose()\n",
    "dffinaltime3"
   ]
  },
  {
   "cell_type": "code",
   "execution_count": 20,
   "metadata": {},
   "outputs": [],
   "source": [
    "finalmerged3 = pd.merge(dffinaltime3,df_stats3,on='Horse Name', how = 'left')"
   ]
  },
  {
   "cell_type": "code",
   "execution_count": 21,
   "metadata": {},
   "outputs": [],
   "source": [
    "finalmerged3.to_csv('final_merged3')\n"
   ]
  },
  {
   "cell_type": "code",
   "execution_count": null,
   "metadata": {},
   "outputs": [],
   "source": []
  }
 ],
 "metadata": {
  "kernelspec": {
   "display_name": "Python 3",
   "language": "python",
   "name": "python3"
  },
  "language_info": {
   "codemirror_mode": {
    "name": "ipython",
    "version": 3
   },
   "file_extension": ".py",
   "mimetype": "text/x-python",
   "name": "python",
   "nbconvert_exporter": "python",
   "pygments_lexer": "ipython3",
   "version": "3.6.4"
  }
 },
 "nbformat": 4,
 "nbformat_minor": 2
}
