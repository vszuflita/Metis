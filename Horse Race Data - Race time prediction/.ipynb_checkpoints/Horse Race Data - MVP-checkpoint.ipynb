{
 "cells": [
  {
   "cell_type": "code",
   "execution_count": 11,
   "metadata": {},
   "outputs": [],
   "source": [
    "# Python 2 & 3 Compatibility\n",
    "from __future__ import print_function, division\n",
    "\n",
    "# Necessary imports\n",
    "import pandas as pd\n",
    "import numpy as np\n",
    "import statsmodels.api as sm\n",
    "import statsmodels.formula.api as smf\n",
    "import patsy\n",
    "\n",
    "import seaborn as sns\n",
    "import matplotlib.pyplot as plt\n",
    "from sklearn.linear_model import LinearRegression\n",
    "from sklearn.linear_model import RidgeCV\n",
    "import csv\n",
    "%matplotlib inline"
   ]
  },
  {
   "cell_type": "code",
   "execution_count": 5,
   "metadata": {},
   "outputs": [],
   "source": [
    "horsedata = pd.read_csv('finalmerged_clean')"
   ]
  },
  {
   "cell_type": "code",
   "execution_count": 6,
   "metadata": {},
   "outputs": [
    {
     "data": {
      "text/html": [
       "<div>\n",
       "<style scoped>\n",
       "    .dataframe tbody tr th:only-of-type {\n",
       "        vertical-align: middle;\n",
       "    }\n",
       "\n",
       "    .dataframe tbody tr th {\n",
       "        vertical-align: top;\n",
       "    }\n",
       "\n",
       "    .dataframe thead th {\n",
       "        text-align: right;\n",
       "    }\n",
       "</style>\n",
       "<table border=\"1\" class=\"dataframe\">\n",
       "  <thead>\n",
       "    <tr style=\"text-align: right;\">\n",
       "      <th></th>\n",
       "      <th>Unnamed: 0</th>\n",
       "      <th>Final_Time</th>\n",
       "      <th>Final_Time_Hund</th>\n",
       "      <th>Firsts</th>\n",
       "      <th>Horse Name</th>\n",
       "      <th>Seconds</th>\n",
       "      <th>Starts</th>\n",
       "      <th>Thirds</th>\n",
       "      <th>PercentWin</th>\n",
       "      <th>Date</th>\n",
       "      <th>ThreeF</th>\n",
       "      <th>FourF</th>\n",
       "      <th>FiveF</th>\n",
       "    </tr>\n",
       "  </thead>\n",
       "  <tbody>\n",
       "    <tr>\n",
       "      <th>0</th>\n",
       "      <td>0</td>\n",
       "      <td>1:35.11</td>\n",
       "      <td>9511</td>\n",
       "      <td>1</td>\n",
       "      <td>Blame the Rider</td>\n",
       "      <td>0</td>\n",
       "      <td>6</td>\n",
       "      <td>1</td>\n",
       "      <td>0.333333</td>\n",
       "      <td>28</td>\n",
       "      <td>366.500000</td>\n",
       "      <td>490.000000</td>\n",
       "      <td>614.909091</td>\n",
       "    </tr>\n",
       "    <tr>\n",
       "      <th>1</th>\n",
       "      <td>1</td>\n",
       "      <td>1:35.25</td>\n",
       "      <td>9525</td>\n",
       "      <td>0</td>\n",
       "      <td>Majestic Eagle</td>\n",
       "      <td>3</td>\n",
       "      <td>5</td>\n",
       "      <td>0</td>\n",
       "      <td>0.600000</td>\n",
       "      <td>35</td>\n",
       "      <td>386.666667</td>\n",
       "      <td>506.714286</td>\n",
       "      <td>622.666667</td>\n",
       "    </tr>\n",
       "    <tr>\n",
       "      <th>2</th>\n",
       "      <td>2</td>\n",
       "      <td>1:35.39</td>\n",
       "      <td>9539</td>\n",
       "      <td>0</td>\n",
       "      <td>Sellwood</td>\n",
       "      <td>1</td>\n",
       "      <td>3</td>\n",
       "      <td>2</td>\n",
       "      <td>1.000000</td>\n",
       "      <td>28</td>\n",
       "      <td>365.333333</td>\n",
       "      <td>488.666667</td>\n",
       "      <td>619.333333</td>\n",
       "    </tr>\n",
       "    <tr>\n",
       "      <th>3</th>\n",
       "      <td>3</td>\n",
       "      <td>1:35.39</td>\n",
       "      <td>9539</td>\n",
       "      <td>0</td>\n",
       "      <td>Cajun Treasure</td>\n",
       "      <td>0</td>\n",
       "      <td>1</td>\n",
       "      <td>0</td>\n",
       "      <td>0.000000</td>\n",
       "      <td>18</td>\n",
       "      <td>366.500000</td>\n",
       "      <td>496.571429</td>\n",
       "      <td>618.000000</td>\n",
       "    </tr>\n",
       "    <tr>\n",
       "      <th>4</th>\n",
       "      <td>4</td>\n",
       "      <td>1:35.69</td>\n",
       "      <td>9569</td>\n",
       "      <td>0</td>\n",
       "      <td>Friendly Outthedor</td>\n",
       "      <td>1</td>\n",
       "      <td>5</td>\n",
       "      <td>0</td>\n",
       "      <td>0.200000</td>\n",
       "      <td>46</td>\n",
       "      <td>373.142857</td>\n",
       "      <td>493.666667</td>\n",
       "      <td>611.500000</td>\n",
       "    </tr>\n",
       "  </tbody>\n",
       "</table>\n",
       "</div>"
      ],
      "text/plain": [
       "   Unnamed: 0 Final_Time  Final_Time_Hund  Firsts          Horse Name  \\\n",
       "0           0    1:35.11             9511       1     Blame the Rider   \n",
       "1           1    1:35.25             9525       0      Majestic Eagle   \n",
       "2           2    1:35.39             9539       0            Sellwood   \n",
       "3           3    1:35.39             9539       0      Cajun Treasure   \n",
       "4           4    1:35.69             9569       0  Friendly Outthedor   \n",
       "\n",
       "   Seconds  Starts  Thirds  PercentWin  Date      ThreeF       FourF  \\\n",
       "0        0       6       1    0.333333    28  366.500000  490.000000   \n",
       "1        3       5       0    0.600000    35  386.666667  506.714286   \n",
       "2        1       3       2    1.000000    28  365.333333  488.666667   \n",
       "3        0       1       0    0.000000    18  366.500000  496.571429   \n",
       "4        1       5       0    0.200000    46  373.142857  493.666667   \n",
       "\n",
       "        FiveF  \n",
       "0  614.909091  \n",
       "1  622.666667  \n",
       "2  619.333333  \n",
       "3  618.000000  \n",
       "4  611.500000  "
      ]
     },
     "execution_count": 6,
     "metadata": {},
     "output_type": "execute_result"
    }
   ],
   "source": [
    "horsedata.head()"
   ]
  },
  {
   "cell_type": "code",
   "execution_count": 46,
   "metadata": {},
   "outputs": [],
   "source": [
    "#from scipy.stats import linregress\n",
    "\n",
    "#y = horsedata['Final_Time_Hund']\n",
    "#x = horsedata['FiveF']\n",
    "\n",
    "#plt.scatter(x, y, alpha=0.5)\n",
    "#plt.show()\n",
    "#plt.plot(np.unique(x), np.poly1d(np.polyfit(x, y, 1))(np.unique(x)))\n"
   ]
  },
  {
   "cell_type": "code",
   "execution_count": 29,
   "metadata": {},
   "outputs": [],
   "source": [
    "#from sklearn.linear_model import LinearRegression\n",
    "#lin_reg = LinearRegression()\n",
    "#lin_reg.fit(X=horsedata['FiveF'].values[:, np.newaxis], y=horsedata['Final_Time_Hund'].values[:, np.newaxis])\n",
    "\n",
    "# Make predictions w.r.t. 'x' and store it in a column called 'y_pred'\n",
    "#horsedata['y_pred'] = lin_reg.predict(horsedata['FiveF'].values[:, np.newaxis])\n",
    "\n",
    "# Plot 'y' and 'y_pred' vs 'x'\n",
    "#horsedata[['Final_Time_Hund', 'y_pred', 'FiveF']].plot(x='FiveF')  # Remember 'y' is 'Adj Close'"
   ]
  },
  {
   "cell_type": "code",
   "execution_count": 45,
   "metadata": {},
   "outputs": [
    {
     "name": "stderr",
     "output_type": "stream",
     "text": [
      "/Users/vicky/anaconda3/lib/python3.6/site-packages/matplotlib/figure.py:418: UserWarning: matplotlib is currently using a non-GUI backend, so cannot show the figure\n",
      "  \"matplotlib is currently using a non-GUI backend, \"\n"
     ]
    },
    {
     "data": {
      "image/png": "[encoded data removed]",
      "text/plain": [
       "<matplotlib.figure.Figure at 0x1c205e7048>"
      ]
     },
     "metadata": {},
     "output_type": "display_data"
    }
   ],
   "source": [
    "n = 50\n",
    "y = horsedata['Final_Time_Hund']\n",
    "x = horsedata['FiveF']\n",
    "\n",
    "fig, ax = plt.subplots()\n",
    "fit = np.polyfit(x, y, deg=1)\n",
    "ax.plot(x, fit[0] * x + fit[1], color='red')\n",
    "ax.scatter(x, y)\n",
    "\n",
    "fig.show()"
   ]
  },
  {
   "cell_type": "code",
   "execution_count": null,
   "metadata": {},
   "outputs": [],
   "source": [
    "#Find the correlation and R2 for this relationship"
   ]
  }
 ],
 "metadata": {
  "kernelspec": {
   "display_name": "Python 3",
   "language": "python",
   "name": "python3"
  },
  "language_info": {
   "codemirror_mode": {
    "name": "ipython",
    "version": 3
   },
   "file_extension": ".py",
   "mimetype": "text/x-python",
   "name": "python",
   "nbconvert_exporter": "python",
   "pygments_lexer": "ipython3",
   "version": "3.6.4"
  }
 },
 "nbformat": 4,
 "nbformat_minor": 2
}
