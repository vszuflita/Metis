{
 "cells": [
  {
   "cell_type": "markdown",
   "metadata": {
    "heading_collapsed": true
   },
   "source": [
    "## Imports"
   ]
  },
  {
   "cell_type": "code",
   "execution_count": 87,
   "metadata": {
    "hidden": true
   },
   "outputs": [],
   "source": [
    "from __future__ import print_function, division\n",
    "\n",
    "import pandas as pd\n",
    "import numpy as np\n",
    "import statsmodels.api as sm\n",
    "import statsmodels.formula.api as smf\n",
    "import patsy\n",
    "import seaborn as sns\n",
    "import matplotlib.pyplot as plt\n",
    "%matplotlib inline\n",
    "\n",
    "from sklearn.linear_model import LinearRegression\n",
    "from sklearn.linear_model import RidgeCV\n",
    "from sklearn.preprocessing import PolynomialFeatures\n",
    "from sklearn.pipeline import make_pipeline\n",
    "from sklearn.pipeline import Pipeline\n",
    "from sklearn import cross_validation\n",
    "from sklearn.cross_validation import train_test_split\n",
    "from sklearn.cross_validation import cross_val_score\n",
    "from sklearn.cross_validation import KFold\n",
    "from sklearn.linear_model import Ridge\n",
    "from sklearn.linear_model import ElasticNet\n",
    "from sklearn.linear_model import Lasso\n",
    "from sklearn.linear_model import ElasticNetCV\n",
    "from sklearn.linear_model import LassoCV\n",
    "from sklearn.linear_model import RidgeCV"
   ]
  },
  {
   "cell_type": "markdown",
   "metadata": {
    "heading_collapsed": true
   },
   "source": [
    "## Reading and preparing the df"
   ]
  },
  {
   "cell_type": "code",
   "execution_count": 64,
   "metadata": {
    "hidden": true
   },
   "outputs": [
    {
     "data": {
      "text/html": [
       "<div>\n",
       "<style scoped>\n",
       "    .dataframe tbody tr th:only-of-type {\n",
       "        vertical-align: middle;\n",
       "    }\n",
       "\n",
       "    .dataframe tbody tr th {\n",
       "        vertical-align: top;\n",
       "    }\n",
       "\n",
       "    .dataframe thead th {\n",
       "        text-align: right;\n",
       "    }\n",
       "</style>\n",
       "<table border=\"1\" class=\"dataframe\">\n",
       "  <thead>\n",
       "    <tr style=\"text-align: right;\">\n",
       "      <th></th>\n",
       "      <th>Horse Name</th>\n",
       "      <th>Final_Time</th>\n",
       "      <th>Final_Time_Hund</th>\n",
       "      <th>Gender</th>\n",
       "      <th>Firsts</th>\n",
       "      <th>Seconds</th>\n",
       "      <th>Starts</th>\n",
       "      <th>Thirds</th>\n",
       "      <th>PercentWin</th>\n",
       "      <th>Date</th>\n",
       "      <th>ThreeF</th>\n",
       "      <th>FourF</th>\n",
       "      <th>FiveF</th>\n",
       "    </tr>\n",
       "  </thead>\n",
       "  <tbody>\n",
       "    <tr>\n",
       "      <th>0</th>\n",
       "      <td>Blame the Rider</td>\n",
       "      <td>1:35.11</td>\n",
       "      <td>9511</td>\n",
       "      <td>0</td>\n",
       "      <td>0</td>\n",
       "      <td>0</td>\n",
       "      <td>5</td>\n",
       "      <td>1</td>\n",
       "      <td>0.2</td>\n",
       "      <td>28</td>\n",
       "      <td>366.500000</td>\n",
       "      <td>490.000000</td>\n",
       "      <td>614.909091</td>\n",
       "    </tr>\n",
       "    <tr>\n",
       "      <th>1</th>\n",
       "      <td>Majestic Eagle</td>\n",
       "      <td>1:35.25</td>\n",
       "      <td>9525</td>\n",
       "      <td>0</td>\n",
       "      <td>0</td>\n",
       "      <td>2</td>\n",
       "      <td>4</td>\n",
       "      <td>0</td>\n",
       "      <td>0.5</td>\n",
       "      <td>35</td>\n",
       "      <td>386.666667</td>\n",
       "      <td>506.714286</td>\n",
       "      <td>622.666667</td>\n",
       "    </tr>\n",
       "  </tbody>\n",
       "</table>\n",
       "</div>"
      ],
      "text/plain": [
       "        Horse Name Final_Time  Final_Time_Hund  Gender  Firsts  Seconds  \\\n",
       "0  Blame the Rider    1:35.11             9511       0       0        0   \n",
       "1   Majestic Eagle    1:35.25             9525       0       0        2   \n",
       "\n",
       "   Starts  Thirds  PercentWin  Date      ThreeF       FourF       FiveF  \n",
       "0       5       1         0.2    28  366.500000  490.000000  614.909091  \n",
       "1       4       0         0.5    35  386.666667  506.714286  622.666667  "
      ]
     },
     "execution_count": 64,
     "metadata": {},
     "output_type": "execute_result"
    }
   ],
   "source": [
    "horsey = pd.read_csv('finalmerged_clean').drop('Unnamed: 0', axis=1)\n",
    "horsey.head(2)"
   ]
  },
  {
   "cell_type": "markdown",
   "metadata": {
    "heading_collapsed": true
   },
   "source": [
    "## Plotting individual inputs to output"
   ]
  },
  {
   "cell_type": "markdown",
   "metadata": {
    "hidden": true
   },
   "source": [
    "Consistant with what is to be expected. It's still hard not to get distracted by the outliar cluster... will be interesting to see how these interact with gender as a factor. "
   ]
  },
  {
   "cell_type": "code",
   "execution_count": 28,
   "metadata": {
    "hidden": true
   },
   "outputs": [
    {
     "data": {
      "image/png": "[encoded data removed]",
      "text/plain": [
       "<matplotlib.figure.Figure at 0x1c16d998d0>"
      ]
     },
     "metadata": {},
     "output_type": "display_data"
    }
   ],
   "source": [
    "sns.regplot('Gender','Final_Time_Hund', data=horsey);\n",
    "#Makes sense! Male horses tend to be a little faster. "
   ]
  },
  {
   "cell_type": "code",
   "execution_count": 31,
   "metadata": {
    "hidden": true
   },
   "outputs": [
    {
     "data": {
      "image/png": "[encoded data removed]",
      "text/plain": [
       "<matplotlib.figure.Figure at 0x1c18f4c4a8>"
      ]
     },
     "metadata": {},
     "output_type": "display_data"
    }
   ],
   "source": [
    "sns.regplot('Firsts','Final_Time_Hund', data=horsey);\n",
    "#Makes sense! Horses that have won more races tend to be faster. "
   ]
  },
  {
   "cell_type": "code",
   "execution_count": 34,
   "metadata": {
    "hidden": true
   },
   "outputs": [
    {
     "data": {
      "image/png": "[encoded data removed]",
      "text/plain": [
       "<matplotlib.figure.Figure at 0x1c190a7390>"
      ]
     },
     "metadata": {},
     "output_type": "display_data"
    }
   ],
   "source": [
    "sns.regplot('Seconds','Final_Time_Hund', data=horsey);\n",
    "#Similar to the result for \"firsts\", but slightly less apparent."
   ]
  },
  {
   "cell_type": "code",
   "execution_count": 38,
   "metadata": {
    "hidden": true,
    "scrolled": true
   },
   "outputs": [
    {
     "data": {
      "image/png": "[encoded data removed]",
      "text/plain": [
       "<matplotlib.figure.Figure at 0x1c19453470>"
      ]
     },
     "metadata": {},
     "output_type": "display_data"
    }
   ],
   "source": [
    "sns.regplot('Thirds','Final_Time_Hund', data=horsey);\n",
    "#Similar to the results above. "
   ]
  },
  {
   "cell_type": "code",
   "execution_count": 39,
   "metadata": {
    "hidden": true
   },
   "outputs": [
    {
     "data": {
      "image/png": "[encoded data removed]",
      "text/plain": [
       "<matplotlib.figure.Figure at 0x1c194fe3c8>"
      ]
     },
     "metadata": {},
     "output_type": "display_data"
    }
   ],
   "source": [
    "sns.regplot('PercentWin','Final_Time_Hund', data=horsey);\n",
    "#Similar to the results above. "
   ]
  },
  {
   "cell_type": "code",
   "execution_count": 41,
   "metadata": {
    "hidden": true
   },
   "outputs": [
    {
     "data": {
      "image/png": "[encoded data removed]",
      "text/plain": [
       "<matplotlib.figure.Figure at 0x1c196ef048>"
      ]
     },
     "metadata": {},
     "output_type": "display_data"
    }
   ],
   "source": [
    "sns.regplot('Starts','Final_Time_Hund', data=horsey);\n",
    "#Horses with more practice have faster times. "
   ]
  },
  {
   "cell_type": "code",
   "execution_count": 42,
   "metadata": {
    "hidden": true,
    "scrolled": true
   },
   "outputs": [
    {
     "data": {
      "image/png": "[encoded data removed]",
      "text/plain": [
       "<matplotlib.figure.Figure at 0x1c19617550>"
      ]
     },
     "metadata": {},
     "output_type": "display_data"
    }
   ],
   "source": [
    "sns.regplot('Date','Final_Time_Hund', data=horsey);\n",
    "#Horses with more practice have faster times. "
   ]
  },
  {
   "cell_type": "code",
   "execution_count": 43,
   "metadata": {
    "hidden": true
   },
   "outputs": [
    {
     "data": {
      "image/png": "[encoded data removed]",
      "text/plain": [
       "<matplotlib.figure.Figure at 0x1c197b7b00>"
      ]
     },
     "metadata": {},
     "output_type": "display_data"
    }
   ],
   "source": [
    "sns.regplot('ThreeF','Final_Time_Hund', data=horsey);\n",
    "#Slower practice time means slower finaltime"
   ]
  },
  {
   "cell_type": "code",
   "execution_count": 44,
   "metadata": {
    "hidden": true
   },
   "outputs": [
    {
     "data": {
      "image/png": "[encoded data removed]",
      "text/plain": [
       "<matplotlib.figure.Figure at 0x1c19802550>"
      ]
     },
     "metadata": {},
     "output_type": "display_data"
    }
   ],
   "source": [
    "sns.regplot('FourF','Final_Time_Hund', data=horsey);\n",
    "#Slower practice time means slower finaltime"
   ]
  },
  {
   "cell_type": "code",
   "execution_count": 45,
   "metadata": {
    "hidden": true
   },
   "outputs": [
    {
     "data": {
      "image/png": "[encoded data removed]",
      "text/plain": [
       "<matplotlib.figure.Figure at 0x1c19a46320>"
      ]
     },
     "metadata": {},
     "output_type": "display_data"
    }
   ],
   "source": [
    "sns.regplot('FiveF','Final_Time_Hund', data=horsey);\n",
    "#Slower practice time means slower finaltime"
   ]
  },
  {
   "cell_type": "markdown",
   "metadata": {
    "heading_collapsed": true
   },
   "source": [
    "## Splitting the dataframe into inputs and outputs"
   ]
  },
  {
   "cell_type": "code",
   "execution_count": 65,
   "metadata": {
    "hidden": true
   },
   "outputs": [
    {
     "data": {
      "text/html": [
       "<div>\n",
       "<style scoped>\n",
       "    .dataframe tbody tr th:only-of-type {\n",
       "        vertical-align: middle;\n",
       "    }\n",
       "\n",
       "    .dataframe tbody tr th {\n",
       "        vertical-align: top;\n",
       "    }\n",
       "\n",
       "    .dataframe thead th {\n",
       "        text-align: right;\n",
       "    }\n",
       "</style>\n",
       "<table border=\"1\" class=\"dataframe\">\n",
       "  <thead>\n",
       "    <tr style=\"text-align: right;\">\n",
       "      <th></th>\n",
       "      <th>Horse Name</th>\n",
       "      <th>Final_Time</th>\n",
       "      <th>Final_Time_Hund</th>\n",
       "      <th>Gender</th>\n",
       "      <th>Firsts</th>\n",
       "      <th>Seconds</th>\n",
       "      <th>Starts</th>\n",
       "      <th>Thirds</th>\n",
       "      <th>PercentWin</th>\n",
       "      <th>Date</th>\n",
       "      <th>ThreeF</th>\n",
       "      <th>FourF</th>\n",
       "      <th>FiveF</th>\n",
       "    </tr>\n",
       "  </thead>\n",
       "  <tbody>\n",
       "    <tr>\n",
       "      <th>25</th>\n",
       "      <td>Accountability</td>\n",
       "      <td>1:34.39</td>\n",
       "      <td>9439</td>\n",
       "      <td>0</td>\n",
       "      <td>2</td>\n",
       "      <td>0</td>\n",
       "      <td>13</td>\n",
       "      <td>3</td>\n",
       "      <td>0.384615</td>\n",
       "      <td>59</td>\n",
       "      <td>366.8</td>\n",
       "      <td>491.052632</td>\n",
       "      <td>613.363636</td>\n",
       "    </tr>\n",
       "    <tr>\n",
       "      <th>12</th>\n",
       "      <td>Raven Creek</td>\n",
       "      <td>1:35.54</td>\n",
       "      <td>9554</td>\n",
       "      <td>0</td>\n",
       "      <td>1</td>\n",
       "      <td>4</td>\n",
       "      <td>8</td>\n",
       "      <td>2</td>\n",
       "      <td>0.875000</td>\n",
       "      <td>34</td>\n",
       "      <td>369.0</td>\n",
       "      <td>488.833333</td>\n",
       "      <td>609.222222</td>\n",
       "    </tr>\n",
       "  </tbody>\n",
       "</table>\n",
       "</div>"
      ],
      "text/plain": [
       "        Horse Name Final_Time  Final_Time_Hund  Gender  Firsts  Seconds  \\\n",
       "25  Accountability    1:34.39             9439       0       2        0   \n",
       "12     Raven Creek    1:35.54             9554       0       1        4   \n",
       "\n",
       "    Starts  Thirds  PercentWin  Date  ThreeF       FourF       FiveF  \n",
       "25      13       3    0.384615    59   366.8  491.052632  613.363636  \n",
       "12       8       2    0.875000    34   369.0  488.833333  609.222222  "
      ]
     },
     "execution_count": 65,
     "metadata": {},
     "output_type": "execute_result"
    }
   ],
   "source": [
    "#Shuffling the sample so the horses aren't ordered by race. \n",
    "horsey_shuf = horsey.sample(frac = 1)\n",
    "horsey_shuf.head(2)"
   ]
  },
  {
   "cell_type": "code",
   "execution_count": 66,
   "metadata": {
    "hidden": true
   },
   "outputs": [
    {
     "data": {
      "text/html": [
       "<div>\n",
       "<style scoped>\n",
       "    .dataframe tbody tr th:only-of-type {\n",
       "        vertical-align: middle;\n",
       "    }\n",
       "\n",
       "    .dataframe tbody tr th {\n",
       "        vertical-align: top;\n",
       "    }\n",
       "\n",
       "    .dataframe thead th {\n",
       "        text-align: right;\n",
       "    }\n",
       "</style>\n",
       "<table border=\"1\" class=\"dataframe\">\n",
       "  <thead>\n",
       "    <tr style=\"text-align: right;\">\n",
       "      <th></th>\n",
       "      <th>Gender</th>\n",
       "      <th>Firsts</th>\n",
       "      <th>Seconds</th>\n",
       "      <th>Starts</th>\n",
       "      <th>Thirds</th>\n",
       "      <th>PercentWin</th>\n",
       "      <th>Date</th>\n",
       "      <th>ThreeF</th>\n",
       "      <th>FourF</th>\n",
       "      <th>FiveF</th>\n",
       "    </tr>\n",
       "  </thead>\n",
       "  <tbody>\n",
       "    <tr>\n",
       "      <th>0</th>\n",
       "      <td>0</td>\n",
       "      <td>0</td>\n",
       "      <td>0</td>\n",
       "      <td>5</td>\n",
       "      <td>1</td>\n",
       "      <td>0.2</td>\n",
       "      <td>28</td>\n",
       "      <td>366.500000</td>\n",
       "      <td>490.000000</td>\n",
       "      <td>614.909091</td>\n",
       "    </tr>\n",
       "    <tr>\n",
       "      <th>1</th>\n",
       "      <td>0</td>\n",
       "      <td>0</td>\n",
       "      <td>2</td>\n",
       "      <td>4</td>\n",
       "      <td>0</td>\n",
       "      <td>0.5</td>\n",
       "      <td>35</td>\n",
       "      <td>386.666667</td>\n",
       "      <td>506.714286</td>\n",
       "      <td>622.666667</td>\n",
       "    </tr>\n",
       "  </tbody>\n",
       "</table>\n",
       "</div>"
      ],
      "text/plain": [
       "   Gender  Firsts  Seconds  Starts  Thirds  PercentWin  Date      ThreeF  \\\n",
       "0       0       0        0       5       1         0.2    28  366.500000   \n",
       "1       0       0        2       4       0         0.5    35  386.666667   \n",
       "\n",
       "        FourF       FiveF  \n",
       "0  490.000000  614.909091  \n",
       "1  506.714286  622.666667  "
      ]
     },
     "execution_count": 66,
     "metadata": {},
     "output_type": "execute_result"
    }
   ],
   "source": [
    "##This is the original, non shuffled data.\n",
    "ogy = horsey['Final_Time_Hund']\n",
    "ogx = horsey.drop('Final_Time',1).drop('Final_Time_Hund',1).drop('Horse Name',1)\n",
    "\n",
    "ogx.head(2)"
   ]
  },
  {
   "cell_type": "code",
   "execution_count": 67,
   "metadata": {
    "hidden": true
   },
   "outputs": [
    {
     "data": {
      "text/html": [
       "<div>\n",
       "<style scoped>\n",
       "    .dataframe tbody tr th:only-of-type {\n",
       "        vertical-align: middle;\n",
       "    }\n",
       "\n",
       "    .dataframe tbody tr th {\n",
       "        vertical-align: top;\n",
       "    }\n",
       "\n",
       "    .dataframe thead th {\n",
       "        text-align: right;\n",
       "    }\n",
       "</style>\n",
       "<table border=\"1\" class=\"dataframe\">\n",
       "  <thead>\n",
       "    <tr style=\"text-align: right;\">\n",
       "      <th></th>\n",
       "      <th>Gender</th>\n",
       "      <th>Firsts</th>\n",
       "      <th>Seconds</th>\n",
       "      <th>Starts</th>\n",
       "      <th>Thirds</th>\n",
       "      <th>PercentWin</th>\n",
       "      <th>Date</th>\n",
       "      <th>ThreeF</th>\n",
       "      <th>FourF</th>\n",
       "      <th>FiveF</th>\n",
       "    </tr>\n",
       "  </thead>\n",
       "  <tbody>\n",
       "    <tr>\n",
       "      <th>25</th>\n",
       "      <td>0</td>\n",
       "      <td>2</td>\n",
       "      <td>0</td>\n",
       "      <td>13</td>\n",
       "      <td>3</td>\n",
       "      <td>0.384615</td>\n",
       "      <td>59</td>\n",
       "      <td>366.8</td>\n",
       "      <td>491.052632</td>\n",
       "      <td>613.363636</td>\n",
       "    </tr>\n",
       "    <tr>\n",
       "      <th>12</th>\n",
       "      <td>0</td>\n",
       "      <td>1</td>\n",
       "      <td>4</td>\n",
       "      <td>8</td>\n",
       "      <td>2</td>\n",
       "      <td>0.875000</td>\n",
       "      <td>34</td>\n",
       "      <td>369.0</td>\n",
       "      <td>488.833333</td>\n",
       "      <td>609.222222</td>\n",
       "    </tr>\n",
       "  </tbody>\n",
       "</table>\n",
       "</div>"
      ],
      "text/plain": [
       "    Gender  Firsts  Seconds  Starts  Thirds  PercentWin  Date  ThreeF  \\\n",
       "25       0       2        0      13       3    0.384615    59   366.8   \n",
       "12       0       1        4       8       2    0.875000    34   369.0   \n",
       "\n",
       "         FourF       FiveF  \n",
       "25  491.052632  613.363636  \n",
       "12  488.833333  609.222222  "
      ]
     },
     "execution_count": 67,
     "metadata": {},
     "output_type": "execute_result"
    }
   ],
   "source": [
    "##This is the shuffled data\n",
    "y = horsey_shuf['Final_Time_Hund']    #extract dependent variable\n",
    "X = horsey_shuf.drop('Final_Time',1).drop('Final_Time_Hund',1).drop('Horse Name',1)    #remove it from the data and keep everything else\n",
    "#This could be where you do transformation on particular variables (if you choose to)\n",
    "\n",
    "X.head(2)"
   ]
  },
  {
   "cell_type": "markdown",
   "metadata": {
    "heading_collapsed": true
   },
   "source": [
    "## OLS and sklearn Linear Regressions"
   ]
  },
  {
   "cell_type": "markdown",
   "metadata": {
    "heading_collapsed": true,
    "hidden": true
   },
   "source": [
    "#### OLS: least squares regression"
   ]
  },
  {
   "cell_type": "code",
   "execution_count": 71,
   "metadata": {
    "hidden": true
   },
   "outputs": [
    {
     "data": {
      "text/html": [
       "<table class=\"simpletable\">\n",
       "<caption>OLS Regression Results</caption>\n",
       "<tr>\n",
       "  <th>Dep. Variable:</th>     <td>Final_Time_Hund</td> <th>  R-squared:         </th> <td>   0.554</td>\n",
       "</tr>\n",
       "<tr>\n",
       "  <th>Model:</th>                   <td>OLS</td>       <th>  Adj. R-squared:    </th> <td>   0.459</td>\n",
       "</tr>\n",
       "<tr>\n",
       "  <th>Method:</th>             <td>Least Squares</td>  <th>  F-statistic:       </th> <td>   5.845</td>\n",
       "</tr>\n",
       "<tr>\n",
       "  <th>Date:</th>             <td>Tue, 24 Apr 2018</td> <th>  Prob (F-statistic):</th> <td>1.16e-05</td>\n",
       "</tr>\n",
       "<tr>\n",
       "  <th>Time:</th>                 <td>23:17:53</td>     <th>  Log-Likelihood:    </th> <td> -365.93</td>\n",
       "</tr>\n",
       "<tr>\n",
       "  <th>No. Observations:</th>      <td>    58</td>      <th>  AIC:               </th> <td>   753.9</td>\n",
       "</tr>\n",
       "<tr>\n",
       "  <th>Df Residuals:</th>          <td>    47</td>      <th>  BIC:               </th> <td>   776.5</td>\n",
       "</tr>\n",
       "<tr>\n",
       "  <th>Df Model:</th>              <td>    10</td>      <th>                     </th>     <td> </td>   \n",
       "</tr>\n",
       "<tr>\n",
       "  <th>Covariance Type:</th>      <td>nonrobust</td>    <th>                     </th>     <td> </td>   \n",
       "</tr>\n",
       "</table>\n",
       "<table class=\"simpletable\">\n",
       "<tr>\n",
       "       <td></td>         <th>coef</th>     <th>std err</th>      <th>t</th>      <th>P>|t|</th>  <th>[0.025</th>    <th>0.975]</th>  \n",
       "</tr>\n",
       "<tr>\n",
       "  <th>const</th>      <td> 3976.9672</td> <td> 2345.456</td> <td>    1.696</td> <td> 0.097</td> <td> -741.482</td> <td> 8695.416</td>\n",
       "</tr>\n",
       "<tr>\n",
       "  <th>Gender</th>     <td>  189.7125</td> <td>   43.276</td> <td>    4.384</td> <td> 0.000</td> <td>  102.653</td> <td>  276.772</td>\n",
       "</tr>\n",
       "<tr>\n",
       "  <th>Firsts</th>     <td>  -64.1826</td> <td>   26.006</td> <td>   -2.468</td> <td> 0.017</td> <td> -116.500</td> <td>  -11.865</td>\n",
       "</tr>\n",
       "<tr>\n",
       "  <th>Seconds</th>    <td>  -17.4127</td> <td>   20.401</td> <td>   -0.854</td> <td> 0.398</td> <td>  -58.455</td> <td>   23.629</td>\n",
       "</tr>\n",
       "<tr>\n",
       "  <th>Starts</th>     <td>    4.8819</td> <td>    8.257</td> <td>    0.591</td> <td> 0.557</td> <td>  -11.729</td> <td>   21.493</td>\n",
       "</tr>\n",
       "<tr>\n",
       "  <th>Thirds</th>     <td>   -9.2903</td> <td>   21.988</td> <td>   -0.423</td> <td> 0.675</td> <td>  -53.525</td> <td>   34.944</td>\n",
       "</tr>\n",
       "<tr>\n",
       "  <th>PercentWin</th> <td>   27.4039</td> <td>  141.240</td> <td>    0.194</td> <td> 0.847</td> <td> -256.733</td> <td>  311.541</td>\n",
       "</tr>\n",
       "<tr>\n",
       "  <th>Date</th>       <td>   -1.7254</td> <td>    1.540</td> <td>   -1.120</td> <td> 0.268</td> <td>   -4.823</td> <td>    1.372</td>\n",
       "</tr>\n",
       "<tr>\n",
       "  <th>ThreeF</th>     <td>    2.9990</td> <td>    3.772</td> <td>    0.795</td> <td> 0.431</td> <td>   -4.588</td> <td>   10.586</td>\n",
       "</tr>\n",
       "<tr>\n",
       "  <th>FourF</th>      <td>    4.8587</td> <td>    3.961</td> <td>    1.227</td> <td> 0.226</td> <td>   -3.109</td> <td>   12.827</td>\n",
       "</tr>\n",
       "<tr>\n",
       "  <th>FiveF</th>      <td>    3.5210</td> <td>    4.212</td> <td>    0.836</td> <td> 0.407</td> <td>   -4.953</td> <td>   11.995</td>\n",
       "</tr>\n",
       "</table>\n",
       "<table class=\"simpletable\">\n",
       "<tr>\n",
       "  <th>Omnibus:</th>       <td> 6.385</td> <th>  Durbin-Watson:     </th> <td>   2.252</td>\n",
       "</tr>\n",
       "<tr>\n",
       "  <th>Prob(Omnibus):</th> <td> 0.041</td> <th>  Jarque-Bera (JB):  </th> <td>   5.653</td>\n",
       "</tr>\n",
       "<tr>\n",
       "  <th>Skew:</th>          <td> 0.747</td> <th>  Prob(JB):          </th> <td>  0.0592</td>\n",
       "</tr>\n",
       "<tr>\n",
       "  <th>Kurtosis:</th>      <td> 3.327</td> <th>  Cond. No.          </th> <td>1.06e+05</td>\n",
       "</tr>\n",
       "</table>"
      ],
      "text/plain": [
       "<class 'statsmodels.iolib.summary.Summary'>\n",
       "\"\"\"\n",
       "                            OLS Regression Results                            \n",
       "==============================================================================\n",
       "Dep. Variable:        Final_Time_Hund   R-squared:                       0.554\n",
       "Model:                            OLS   Adj. R-squared:                  0.459\n",
       "Method:                 Least Squares   F-statistic:                     5.845\n",
       "Date:                Tue, 24 Apr 2018   Prob (F-statistic):           1.16e-05\n",
       "Time:                        23:17:53   Log-Likelihood:                -365.93\n",
       "No. Observations:                  58   AIC:                             753.9\n",
       "Df Residuals:                      47   BIC:                             776.5\n",
       "Df Model:                          10                                         \n",
       "Covariance Type:            nonrobust                                         \n",
       "==============================================================================\n",
       "                 coef    std err          t      P>|t|      [0.025      0.975]\n",
       "------------------------------------------------------------------------------\n",
       "const       3976.9672   2345.456      1.696      0.097    -741.482    8695.416\n",
       "Gender       189.7125     43.276      4.384      0.000     102.653     276.772\n",
       "Firsts       -64.1826     26.006     -2.468      0.017    -116.500     -11.865\n",
       "Seconds      -17.4127     20.401     -0.854      0.398     -58.455      23.629\n",
       "Starts         4.8819      8.257      0.591      0.557     -11.729      21.493\n",
       "Thirds        -9.2903     21.988     -0.423      0.675     -53.525      34.944\n",
       "PercentWin    27.4039    141.240      0.194      0.847    -256.733     311.541\n",
       "Date          -1.7254      1.540     -1.120      0.268      -4.823       1.372\n",
       "ThreeF         2.9990      3.772      0.795      0.431      -4.588      10.586\n",
       "FourF          4.8587      3.961      1.227      0.226      -3.109      12.827\n",
       "FiveF          3.5210      4.212      0.836      0.407      -4.953      11.995\n",
       "==============================================================================\n",
       "Omnibus:                        6.385   Durbin-Watson:                   2.252\n",
       "Prob(Omnibus):                  0.041   Jarque-Bera (JB):                5.653\n",
       "Skew:                           0.747   Prob(JB):                       0.0592\n",
       "Kurtosis:                       3.327   Cond. No.                     1.06e+05\n",
       "==============================================================================\n",
       "\n",
       "Warnings:\n",
       "[1] Standard Errors assume that the covariance matrix of the errors is correctly specified.\n",
       "[2] The condition number is large, 1.06e+05. This might indicate that there are\n",
       "strong multicollinearity or other numerical problems.\n",
       "\"\"\""
      ]
     },
     "execution_count": 71,
     "metadata": {},
     "output_type": "execute_result"
    }
   ],
   "source": [
    "#Gotta add the constant... without it my r^2 was 1.0!\n",
    "X = sm.add_constant(X)\n",
    "#Creating the model\n",
    "lin_model = sm.OLS(y,X)\n",
    "# Fitting the model to the training set\n",
    "fit_lin = lin_model.fit()\n",
    "# Print summary statistics of the model's performance\n",
    "fit_lin.summary()"
   ]
  },
  {
   "cell_type": "code",
   "execution_count": 55,
   "metadata": {
    "hidden": true
   },
   "outputs": [
    {
     "data": {
      "image/png": "[encoded data removed]",
      "text/plain": [
       "<matplotlib.figure.Figure at 0x1c11c3e908>"
      ]
     },
     "metadata": {},
     "output_type": "display_data"
    }
   ],
   "source": [
    "# Using statsmodels to plot the residuals\n",
    "##This is pretty common for plotting how well your model is doing!\n",
    "fit.resid.plot(style='o', figsize=(12,8));"
   ]
  },
  {
   "cell_type": "markdown",
   "metadata": {
    "heading_collapsed": true,
    "hidden": true
   },
   "source": [
    "#### Sklearn Regression"
   ]
  },
  {
   "cell_type": "code",
   "execution_count": 140,
   "metadata": {
    "hidden": true
   },
   "outputs": [
    {
     "data": {
      "text/plain": [
       "0.5542825689928705"
      ]
     },
     "execution_count": 140,
     "metadata": {},
     "output_type": "execute_result"
    }
   ],
   "source": [
    "lr = LinearRegression()\n",
    "lr.fit(X,y)\n",
    "\n",
    "# Print out the R^2 for the model against the full dataset\n",
    "lr.score(X,y)"
   ]
  },
  {
   "cell_type": "markdown",
   "metadata": {
    "heading_collapsed": true
   },
   "source": [
    "## Train-Test (OLS and Sklearn)"
   ]
  },
  {
   "cell_type": "markdown",
   "metadata": {
    "heading_collapsed": true,
    "hidden": true
   },
   "source": [
    "### Train-Test with OLS"
   ]
  },
  {
   "cell_type": "code",
   "execution_count": 73,
   "metadata": {
    "hidden": true,
    "scrolled": true
   },
   "outputs": [
    {
     "data": {
      "text/html": [
       "<table class=\"simpletable\">\n",
       "<caption>OLS Regression Results</caption>\n",
       "<tr>\n",
       "  <th>Dep. Variable:</th>     <td>Final_Time_Hund</td> <th>  R-squared:         </th> <td>   0.647</td>\n",
       "</tr>\n",
       "<tr>\n",
       "  <th>Model:</th>                   <td>OLS</td>       <th>  Adj. R-squared:    </th> <td>   0.525</td>\n",
       "</tr>\n",
       "<tr>\n",
       "  <th>Method:</th>             <td>Least Squares</td>  <th>  F-statistic:       </th> <td>   5.310</td>\n",
       "</tr>\n",
       "<tr>\n",
       "  <th>Date:</th>             <td>Tue, 24 Apr 2018</td> <th>  Prob (F-statistic):</th> <td>0.000195</td>\n",
       "</tr>\n",
       "<tr>\n",
       "  <th>Time:</th>                 <td>23:24:56</td>     <th>  Log-Likelihood:    </th> <td> -247.39</td>\n",
       "</tr>\n",
       "<tr>\n",
       "  <th>No. Observations:</th>      <td>    40</td>      <th>  AIC:               </th> <td>   516.8</td>\n",
       "</tr>\n",
       "<tr>\n",
       "  <th>Df Residuals:</th>          <td>    29</td>      <th>  BIC:               </th> <td>   535.4</td>\n",
       "</tr>\n",
       "<tr>\n",
       "  <th>Df Model:</th>              <td>    10</td>      <th>                     </th>     <td> </td>   \n",
       "</tr>\n",
       "<tr>\n",
       "  <th>Covariance Type:</th>      <td>nonrobust</td>    <th>                     </th>     <td> </td>   \n",
       "</tr>\n",
       "</table>\n",
       "<table class=\"simpletable\">\n",
       "<tr>\n",
       "       <td></td>         <th>coef</th>     <th>std err</th>      <th>t</th>      <th>P>|t|</th>  <th>[0.025</th>    <th>0.975]</th>  \n",
       "</tr>\n",
       "<tr>\n",
       "  <th>const</th>      <td> 2961.2139</td> <td> 3137.983</td> <td>    0.944</td> <td> 0.353</td> <td>-3456.682</td> <td> 9379.110</td>\n",
       "</tr>\n",
       "<tr>\n",
       "  <th>Gender</th>     <td>  186.4109</td> <td>   54.571</td> <td>    3.416</td> <td> 0.002</td> <td>   74.801</td> <td>  298.020</td>\n",
       "</tr>\n",
       "<tr>\n",
       "  <th>Firsts</th>     <td>  -42.3103</td> <td>   32.234</td> <td>   -1.313</td> <td> 0.200</td> <td> -108.236</td> <td>   23.616</td>\n",
       "</tr>\n",
       "<tr>\n",
       "  <th>Seconds</th>    <td>  -25.6573</td> <td>   26.224</td> <td>   -0.978</td> <td> 0.336</td> <td>  -79.291</td> <td>   27.976</td>\n",
       "</tr>\n",
       "<tr>\n",
       "  <th>Starts</th>     <td>    2.8773</td> <td>   12.059</td> <td>    0.239</td> <td> 0.813</td> <td>  -21.787</td> <td>   27.541</td>\n",
       "</tr>\n",
       "<tr>\n",
       "  <th>Thirds</th>     <td>   -6.0065</td> <td>   33.020</td> <td>   -0.182</td> <td> 0.857</td> <td>  -73.539</td> <td>   61.526</td>\n",
       "</tr>\n",
       "<tr>\n",
       "  <th>PercentWin</th> <td>   -5.2576</td> <td>  210.464</td> <td>   -0.025</td> <td> 0.980</td> <td> -435.705</td> <td>  425.189</td>\n",
       "</tr>\n",
       "<tr>\n",
       "  <th>Date</th>       <td>   -2.6909</td> <td>    1.897</td> <td>   -1.418</td> <td> 0.167</td> <td>   -6.572</td> <td>    1.190</td>\n",
       "</tr>\n",
       "<tr>\n",
       "  <th>ThreeF</th>     <td>    3.8084</td> <td>    4.304</td> <td>    0.885</td> <td> 0.384</td> <td>   -4.994</td> <td>   12.611</td>\n",
       "</tr>\n",
       "<tr>\n",
       "  <th>FourF</th>      <td>    4.1291</td> <td>    4.390</td> <td>    0.941</td> <td> 0.355</td> <td>   -4.849</td> <td>   13.107</td>\n",
       "</tr>\n",
       "<tr>\n",
       "  <th>FiveF</th>      <td>    5.3155</td> <td>    5.533</td> <td>    0.961</td> <td> 0.345</td> <td>   -6.000</td> <td>   16.631</td>\n",
       "</tr>\n",
       "</table>\n",
       "<table class=\"simpletable\">\n",
       "<tr>\n",
       "  <th>Omnibus:</th>       <td> 3.084</td> <th>  Durbin-Watson:     </th> <td>   2.238</td>\n",
       "</tr>\n",
       "<tr>\n",
       "  <th>Prob(Omnibus):</th> <td> 0.214</td> <th>  Jarque-Bera (JB):  </th> <td>   1.957</td>\n",
       "</tr>\n",
       "<tr>\n",
       "  <th>Skew:</th>          <td> 0.320</td> <th>  Prob(JB):          </th> <td>   0.376</td>\n",
       "</tr>\n",
       "<tr>\n",
       "  <th>Kurtosis:</th>      <td> 2.125</td> <th>  Cond. No.          </th> <td>1.26e+05</td>\n",
       "</tr>\n",
       "</table>"
      ],
      "text/plain": [
       "<class 'statsmodels.iolib.summary.Summary'>\n",
       "\"\"\"\n",
       "                            OLS Regression Results                            \n",
       "==============================================================================\n",
       "Dep. Variable:        Final_Time_Hund   R-squared:                       0.647\n",
       "Model:                            OLS   Adj. R-squared:                  0.525\n",
       "Method:                 Least Squares   F-statistic:                     5.310\n",
       "Date:                Tue, 24 Apr 2018   Prob (F-statistic):           0.000195\n",
       "Time:                        23:24:56   Log-Likelihood:                -247.39\n",
       "No. Observations:                  40   AIC:                             516.8\n",
       "Df Residuals:                      29   BIC:                             535.4\n",
       "Df Model:                          10                                         \n",
       "Covariance Type:            nonrobust                                         \n",
       "==============================================================================\n",
       "                 coef    std err          t      P>|t|      [0.025      0.975]\n",
       "------------------------------------------------------------------------------\n",
       "const       2961.2139   3137.983      0.944      0.353   -3456.682    9379.110\n",
       "Gender       186.4109     54.571      3.416      0.002      74.801     298.020\n",
       "Firsts       -42.3103     32.234     -1.313      0.200    -108.236      23.616\n",
       "Seconds      -25.6573     26.224     -0.978      0.336     -79.291      27.976\n",
       "Starts         2.8773     12.059      0.239      0.813     -21.787      27.541\n",
       "Thirds        -6.0065     33.020     -0.182      0.857     -73.539      61.526\n",
       "PercentWin    -5.2576    210.464     -0.025      0.980    -435.705     425.189\n",
       "Date          -2.6909      1.897     -1.418      0.167      -6.572       1.190\n",
       "ThreeF         3.8084      4.304      0.885      0.384      -4.994      12.611\n",
       "FourF          4.1291      4.390      0.941      0.355      -4.849      13.107\n",
       "FiveF          5.3155      5.533      0.961      0.345      -6.000      16.631\n",
       "==============================================================================\n",
       "Omnibus:                        3.084   Durbin-Watson:                   2.238\n",
       "Prob(Omnibus):                  0.214   Jarque-Bera (JB):                1.957\n",
       "Skew:                           0.320   Prob(JB):                        0.376\n",
       "Kurtosis:                       2.125   Cond. No.                     1.26e+05\n",
       "==============================================================================\n",
       "\n",
       "Warnings:\n",
       "[1] Standard Errors assume that the covariance matrix of the errors is correctly specified.\n",
       "[2] The condition number is large, 1.26e+05. This might indicate that there are\n",
       "strong multicollinearity or other numerical problems.\n",
       "\"\"\""
      ]
     },
     "execution_count": 73,
     "metadata": {},
     "output_type": "execute_result"
    }
   ],
   "source": [
    "##How does this test?? I'm confused. \n",
    "X_train, X_test, y_train, y_test = train_test_split(X,y, test_size=0.3)\n",
    "\n",
    "train_model = sm.OLS(y_train, X_train)\n",
    "fit_train = train_model.fit()\n",
    "fit_train.summary()"
   ]
  },
  {
   "cell_type": "markdown",
   "metadata": {
    "heading_collapsed": true,
    "hidden": true
   },
   "source": [
    "### Train-Test with sklearn"
   ]
  },
  {
   "cell_type": "markdown",
   "metadata": {
    "heading_collapsed": true,
    "hidden": true
   },
   "source": [
    "#### Train-test split"
   ]
  },
  {
   "cell_type": "code",
   "execution_count": 144,
   "metadata": {
    "hidden": true
   },
   "outputs": [],
   "source": [
    "#Re-establish X and y without coefficient\n",
    "y = horsey_shuf['Final_Time_Hund']    #extract dependent variable\n",
    "X = horsey_shuf.drop('Final_Time',1).drop('Final_Time_Hund',1).drop('Horse Name',1) "
   ]
  },
  {
   "cell_type": "code",
   "execution_count": 145,
   "metadata": {
    "hidden": true
   },
   "outputs": [
    {
     "data": {
      "text/plain": [
       "0.20976122872882585"
      ]
     },
     "execution_count": 145,
     "metadata": {},
     "output_type": "execute_result"
    }
   ],
   "source": [
    "lr_train = LinearRegression()\n",
    "# Split the data into training and test sets\n",
    "\n",
    "X_train, X_test, y_train, y_test = train_test_split(X, y, test_size=0.3)\n",
    "# Fit the model against the training data\n",
    "#Training data X and y gathered from above. \n",
    "\n",
    "lr_train.fit(X_train, y_train)\n",
    "# Evaluate the model against the testing data\n",
    "\n",
    "lr_train.score(X_test, y_test)\n",
    "#R^2"
   ]
  },
  {
   "cell_type": "markdown",
   "metadata": {
    "heading_collapsed": true,
    "hidden": true
   },
   "source": [
    "#### K-test split"
   ]
  },
  {
   "cell_type": "code",
   "execution_count": 148,
   "metadata": {
    "hidden": true
   },
   "outputs": [
    {
     "name": "stdout",
     "output_type": "stream",
     "text": [
      "[-94856.22256731 -28283.76005653 -35942.27584586]\n",
      "[-2.82674756  0.36636037  0.21545641]\n"
     ]
    }
   ],
   "source": [
    "lr_ktest = LinearRegression()\n",
    "meansquared = cross_val_score(lr_ktest, X, y, cv=3, scoring='neg_mean_squared_error')\n",
    "rsquare = cross_val_score(lr_ktest, X, y, cv=3, scoring = 'r2')\n",
    "\n",
    "\n",
    "## Printing the mean-squared-error and rsquare for each of the folds. \n",
    "print(meansquared)\n",
    "print(rsquare)\n"
   ]
  },
  {
   "cell_type": "markdown",
   "metadata": {
    "heading_collapsed": true
   },
   "source": [
    "## Train-Test (Regularization)"
   ]
  },
  {
   "cell_type": "code",
   "execution_count": 165,
   "metadata": {
    "hidden": true
   },
   "outputs": [],
   "source": [
    "#Re-establish X and y without coefficient\n",
    "y = horsey_shuf['Final_Time_Hund']    #extract dependent variable\n",
    "X = horsey_shuf.drop('Final_Time',1).drop('Final_Time_Hund',1).drop('Horse Name',1) \n",
    "\n",
    "X_train, X_test, y_train, y_test = train_test_split(X, y, test_size=0.3)\n"
   ]
  },
  {
   "cell_type": "markdown",
   "metadata": {
    "heading_collapsed": true,
    "hidden": true
   },
   "source": [
    "### Lasso"
   ]
  },
  {
   "cell_type": "code",
   "execution_count": 166,
   "metadata": {
    "hidden": true
   },
   "outputs": [
    {
     "data": {
      "text/plain": [
       "0.569829418742227"
      ]
     },
     "execution_count": 166,
     "metadata": {},
     "output_type": "execute_result"
    }
   ],
   "source": [
    "#Lowering coeficients of insignificant features. \n",
    "model = Lasso(1e-1)\n",
    "fit = model.fit(X_train, y_train)\n",
    "fit.score(X_train, y_train)"
   ]
  },
  {
   "cell_type": "code",
   "execution_count": 167,
   "metadata": {
    "hidden": true,
    "scrolled": true
   },
   "outputs": [
    {
     "data": {
      "text/plain": [
       "0.4437341595589107"
      ]
     },
     "execution_count": 167,
     "metadata": {},
     "output_type": "execute_result"
    }
   ],
   "source": [
    "lcv = LassoCV(cv=5)\n",
    "lcv.fit(X, y)\n",
    "lcv.score(X_test, y_test)"
   ]
  },
  {
   "cell_type": "code",
   "execution_count": 168,
   "metadata": {
    "hidden": true
   },
   "outputs": [
    {
     "data": {
      "image/png": "[encoded data removed]",
      "text/plain": [
       "<matplotlib.figure.Figure at 0x1c1955d978>"
      ]
     },
     "metadata": {},
     "output_type": "display_data"
    },
    {
     "data": {
      "text/plain": [
       "0.5542823067762507"
      ]
     },
     "execution_count": 168,
     "metadata": {},
     "output_type": "execute_result"
    }
   ],
   "source": [
    "lasso = Lasso(alpha=1e-2)\n",
    "lasso_coef = lasso.fit(X, y).coef_\n",
    "_ = plt.plot(range(len(X.columns)), lasso_coef)\n",
    "_ = plt.xticks(range(len(X.columns)), X.columns, rotation=45)\n",
    "_ = plt.ylabel('Coefficients')\n",
    "plt.show()\n",
    "lasso.score(X,y)"
   ]
  },
  {
   "cell_type": "markdown",
   "metadata": {
    "heading_collapsed": true,
    "hidden": true
   },
   "source": [
    "### Ridge"
   ]
  },
  {
   "cell_type": "code",
   "execution_count": 169,
   "metadata": {
    "hidden": true
   },
   "outputs": [
    {
     "data": {
      "text/plain": [
       "0.5696879624960887"
      ]
     },
     "execution_count": 169,
     "metadata": {},
     "output_type": "execute_result"
    }
   ],
   "source": [
    "model = Ridge(1e-1)\n",
    "fit = model.fit(X_train, y_train)\n",
    "fit.score(X_train, y_train)"
   ]
  },
  {
   "cell_type": "code",
   "execution_count": 170,
   "metadata": {
    "hidden": true
   },
   "outputs": [
    {
     "data": {
      "text/plain": [
       "0.4339237166309848"
      ]
     },
     "execution_count": 170,
     "metadata": {},
     "output_type": "execute_result"
    }
   ],
   "source": [
    "rcv = RidgeCV(cv=10)\n",
    "rcv.fit(X, y)\n",
    "rcv.score(X_test, y_test)"
   ]
  },
  {
   "cell_type": "code",
   "execution_count": 171,
   "metadata": {
    "hidden": true
   },
   "outputs": [
    {
     "data": {
      "image/png": "[encoded data removed]",
      "text/plain": [
       "<matplotlib.figure.Figure at 0x1c1851ca20>"
      ]
     },
     "metadata": {},
     "output_type": "display_data"
    },
    {
     "data": {
      "text/plain": [
       "0.5542823742622965"
      ]
     },
     "execution_count": 171,
     "metadata": {},
     "output_type": "execute_result"
    }
   ],
   "source": [
    "ridge = Ridge(alpha=1e-2)\n",
    "ridge_coef = ridge.fit(X, y).coef_\n",
    "_ = plt.plot(range(len(X.columns)), ridge_coef)\n",
    "_ = plt.xticks(range(len(X.columns)), X.columns, rotation=45)\n",
    "_ = plt.ylabel('Coefficients')\n",
    "plt.show()\n",
    "ridge.score(X,y)"
   ]
  },
  {
   "cell_type": "markdown",
   "metadata": {
    "hidden": true
   },
   "source": [
    "### Elastic-Net"
   ]
  },
  {
   "cell_type": "code",
   "execution_count": 172,
   "metadata": {
    "hidden": true
   },
   "outputs": [
    {
     "data": {
      "text/plain": [
       "0.5609871275842901"
      ]
     },
     "execution_count": 172,
     "metadata": {},
     "output_type": "execute_result"
    }
   ],
   "source": [
    "model = ElasticNet(1e-1, l1_ratio=.5)\n",
    "fit = model.fit(X_train, y_train)\n",
    "fit.score(X_train, y_train)"
   ]
  },
  {
   "cell_type": "code",
   "execution_count": 173,
   "metadata": {
    "hidden": true
   },
   "outputs": [
    {
     "data": {
      "text/plain": [
       "0.1981137509649974"
      ]
     },
     "execution_count": 173,
     "metadata": {},
     "output_type": "execute_result"
    }
   ],
   "source": [
    "encv = ElasticNetCV(cv=10)\n",
    "encv.fit(X, y)\n",
    "encv.score(X_test, y_test)"
   ]
  },
  {
   "cell_type": "code",
   "execution_count": 174,
   "metadata": {
    "hidden": true,
    "scrolled": true
   },
   "outputs": [
    {
     "data": {
      "image/png": "[encoded data removed]",
      "text/plain": [
       "<matplotlib.figure.Figure at 0x1c199eb5f8>"
      ]
     },
     "metadata": {},
     "output_type": "display_data"
    },
    {
     "data": {
      "text/plain": [
       "0.5541403955335199"
      ]
     },
     "execution_count": 174,
     "metadata": {},
     "output_type": "execute_result"
    }
   ],
   "source": [
    "elastic = ElasticNet(alpha=1e-2)\n",
    "elastic_coef = elastic.fit(X, y).coef_\n",
    "_ = plt.plot(range(len(X.columns)), elastic_coef)\n",
    "_ = plt.xticks(range(len(X.columns)), X.columns, rotation=45)\n",
    "_ = plt.ylabel('Coefficients')\n",
    "plt.show()\n",
    "elastic.score(X,y)"
   ]
  },
  {
   "cell_type": "markdown",
   "metadata": {
    "heading_collapsed": true
   },
   "source": [
    "## Running a polynomial regression "
   ]
  },
  {
   "cell_type": "code",
   "execution_count": 179,
   "metadata": {
    "hidden": true
   },
   "outputs": [
    {
     "name": "stderr",
     "output_type": "stream",
     "text": [
      "/Users/vicky/anaconda3/lib/python3.6/site-packages/sklearn/linear_model/coordinate_descent.py:491: ConvergenceWarning: Objective did not converge. You might want to increase the number of iterations. Fitting data with very small alpha may cause precision problems.\n",
      "  ConvergenceWarning)\n"
     ]
    },
    {
     "data": {
      "text/plain": [
       "0.048883062855741836"
      ]
     },
     "execution_count": 179,
     "metadata": {},
     "output_type": "execute_result"
    }
   ],
   "source": [
    "est = make_pipeline(PolynomialFeatures(2), ElasticNetCV(l1_ratio = .5))\n",
    "est.fit(X_train, y_train)\n",
    "est.score(X_test,y_test)"
   ]
  },
  {
   "cell_type": "code",
   "execution_count": null,
   "metadata": {
    "hidden": true
   },
   "outputs": [],
   "source": [
    "###Doesn't seem too good..."
   ]
  }
 ],
 "metadata": {
  "kernelspec": {
   "display_name": "Python 3",
   "language": "python",
   "name": "python3"
  },
  "language_info": {
   "codemirror_mode": {
    "name": "ipython",
    "version": 3
   },
   "file_extension": ".py",
   "mimetype": "text/x-python",
   "name": "python",
   "nbconvert_exporter": "python",
   "pygments_lexer": "ipython3",
   "version": "3.6.4"
  }
 },
 "nbformat": 4,
 "nbformat_minor": 2
}
