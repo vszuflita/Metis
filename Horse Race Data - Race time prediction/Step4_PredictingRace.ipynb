{
 "cells": [
  {
   "cell_type": "code",
   "execution_count": null,
   "metadata": {},
   "outputs": [],
   "source": [
    "horselinkdic = {'Lady Lemon Drop': 'https://www.equibase.com/profiles/Results.cfm?type=Horse&refno=9856748&registry=T&rbt=TB',\n",
    "                'Curlins Prize' : 'http://www.equibase.com/profiles/Results.cfm?type=Horse&refno=9926226&registry=T',\n",
    "                'Luminoso' : 'http://www.equibase.com/profiles/Results.cfm?type=Horse&refno=9912098&registry=T&rbt=TB',\n",
    "                'Party Dancer' : 'http://www.equibase.com/profiles/Results.cfm?type=Horse&refno=9889062&registry=T&rbt=TB',\n",
    "                'Bring on the Band' : 'http://www.equibase.com/profiles/Results.cfm?type=Horse&refno=9931512&registry=T',\n",
    "                'Rockin Ready' : 'http://www.equibase.com/profiles/Results.cfm?type=Horse&refno=9871008&registry=T&rbt=TB',\n",
    "                'Rattle' : 'http://www.equibase.com/profiles/Results.cfm?type=Horse&refno=9887428&registry=T&rbt=TB',\n",
    "                'Curlins Journey' : 'http://www.equibase.com/profiles/Results.cfm?type=Horse&refno=9900138&registry=T',\n",
    "                'Heaven Escape' : 'http://www.equibase.com/profiles/Results.cfm?type=Horse&refno=9855403&registry=T',\n",
    "                'Into Glamour' : 'http://www.equibase.com/profiles/Results.cfm?type=Horse&refno=9889321&registry=T',\n",
    "                'Aha' : 'http://www.equibase.com/profiles/Results.cfm?type=Horse&refno=9905998&registry=T&rbt=TB',\n",
    "                'Unaffordable U': 'http://www.equibase.com/profiles/Results.cfm?type=Horse&refno=9946902&registry=T',\n",
    "                'Fashion Brand' : 'http://www.equibase.com/profiles/Results.cfm?type=Horse&refno=9890273&registry=T',\n",
    "                'Spiel':'http://www.equibase.com/profiles/Results.cfm?type=Horse&refno=9909045&registry=T&rbt=TB'}\n",
    "                "
   ]
  }
 ],
 "metadata": {
  "kernelspec": {
   "display_name": "Python 3",
   "language": "python",
   "name": "python3"
  },
  "language_info": {
   "codemirror_mode": {
    "name": "ipython",
    "version": 3
   },
   "file_extension": ".py",
   "mimetype": "text/x-python",
   "name": "python",
   "nbconvert_exporter": "python",
   "pygments_lexer": "ipython3",
   "version": "3.6.4"
  },
  "toc": {
   "base_numbering": 1,
   "nav_menu": {},
   "number_sections": true,
   "sideBar": true,
   "skip_h1_title": false,
   "title_cell": "Table of Contents",
   "title_sidebar": "Contents",
   "toc_cell": false,
   "toc_position": {},
   "toc_section_display": true,
   "toc_window_display": false
  }
 },
 "nbformat": 4,
 "nbformat_minor": 2
}
