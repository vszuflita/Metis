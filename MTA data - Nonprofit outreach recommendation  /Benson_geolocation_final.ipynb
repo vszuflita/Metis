{
 "cells": [
  {
   "cell_type": "code",
   "execution_count": 1,
   "metadata": {},
   "outputs": [],
   "source": [
    "#Initial Imports\n",
    "import pandas as pd\n",
    "import numpy as np\n",
    "import matplotlib.pyplot as plt\n",
    "import seaborn as sns\n",
    "import datetime as dt\n",
    "import glob\n",
    "import os\n",
    "import googlemaps"
   ]
  },
  {
   "cell_type": "code",
   "execution_count": 2,
   "metadata": {},
   "outputs": [],
   "source": [
    "# Read NYC turntable for the month of march, from march 3rd to march 30th (4weeks)\n",
    "#df = pd.read_csv(\"NYCT180310.csv\")\n",
    "path =r'/Users/mayamidzik/metis/01-benson' # use your path\n",
    "all_files = glob.glob(os.path.join(path, \"NYCT*.csv\"))\n",
    "all_files\n",
    "df = pd.concat((pd.read_csv(f) for f in all_files))\n",
    "df.columns = df.columns.str.strip()\n",
    "df;"
   ]
  },
  {
   "cell_type": "code",
   "execution_count": 5,
   "metadata": {},
   "outputs": [
    {
     "data": {
      "text/plain": [
       "array(['59 ST', '5 AV/59 ST', '57 ST-7 AV', '49 ST', 'TIMES SQ-42 ST',\n",
       "       '34 ST-HERALD SQ', '28 ST', '23 ST', '14 ST-UNION SQ', '8 ST-NYU'],\n",
       "      dtype=object)"
      ]
     },
     "execution_count": 5,
     "metadata": {},
     "output_type": "execute_result"
    }
   ],
   "source": [
    "stations = df[\"STATION\"].unique()\n",
    "stations[:10]"
   ]
  },
  {
   "cell_type": "markdown",
   "metadata": {},
   "source": [
    "## Get Station Zipcode"
   ]
  },
  {
   "cell_type": "code",
   "execution_count": null,
   "metadata": {},
   "outputs": [],
   "source": [
    "#fetch zipcode from geocode API for each station\n",
    "stations = stations + \" station, NY\"\n",
    "def getzipcode(ser):\n",
    "    station_dict = dict()\n",
    "    for station in ser:\n",
    "        try:\n",
    "            zipcode = gmaps.geocode(station)[0][\"address_components\"][-1]['long_name']\n",
    "            station_dict[station] = zipcode\n",
    "            if len(station_dict) % 50 == 0:\n",
    "                print(\"index =\", len(station_dict), \"zipcode =\", zipcode)\n",
    "        except IndexError:\n",
    "            print(\"index error at index=\", len(station_dict))\n",
    "            pass\n",
    "    return station_dict\n",
    "station_dict = getzipcode(stations)"
   ]
  },
  {
   "cell_type": "code",
   "execution_count": null,
   "metadata": {},
   "outputs": [],
   "source": [
    "# save dictionary as text\n",
    "import csv\n",
    "f = open(\"station_dict.txt\",\"w\")\n",
    "f.write( str(station_dict) )\n",
    "f.close()"
   ]
  },
  {
   "cell_type": "code",
   "execution_count": null,
   "metadata": {},
   "outputs": [],
   "source": [
    "#Write Dictionary to CSV file\n",
    "\n",
    "#Convert Dictionary to Dataframe, convert non-zipcodes to NaN, zipcodes to integers\n",
    "zipcode_df = pd.DataFrame(list(station_dict.items()), columns=['STATION', 'zipcode'])\n",
    "latlong_df = pd.DataFrame(list(latlong_dict.items()), columns=['STATION', 'latlong'])\n",
    "# ****** where trouble begins\n",
    "#zipcode_df[\"STATION\"] = zipcode_df[\"STATION\"].str.replace(\" stations, NY\",\"\")\n",
    "zipcode_df[\"STATION\"] = zipcode_df[\"STATION\"].replace(\"\\sstation,\\sNY\",\"\", regex = True)\n",
    "zipcode_df.head()"
   ]
  },
  {
   "cell_type": "code",
   "execution_count": null,
   "metadata": {},
   "outputs": [],
   "source": [
    "#fix some of the missing/incorrect zipcodes\n",
    "zipcode_df[\"zipcode\"] = pd.to_numeric(zipcode_df[\"zipcode\"],errors='coerce',downcast='integer')\n",
    "\n",
    "# Find assigned values (google geocode could not locate the zipcode, or wrongly identifies the zipcode)\n",
    "unassigned = zipcode_df[(zipcode_df.zipcode.isnull()) | (zipcode_df.zipcode < 10000)]\n",
    "unassigned"
   ]
  },
  {
   "cell_type": "code",
   "execution_count": null,
   "metadata": {},
   "outputs": [],
   "source": [
    "#Assign mislocated or missing zipcodes manually\n",
    "zipcode_df.iloc[0,1] = 11207.0\n",
    "zipcode_df.iloc[4,1] = 10018.0\n",
    "zipcode_df.iloc[8,1] = 10003.0\n",
    "zipcode_df.iloc[10,1] = 10012.0\n",
    "zipcode_df.iloc[16,1] = 10002.0\n",
    "zipcode_df.iloc[41,1] = 11217.0\n",
    "zipcode_df.iloc[61,1] = 11219.0\n",
    "zipcode_df.iloc[67,1] = 10019.0\n",
    "zipcode_df.iloc[78,1] = 11207.0\n",
    "zipcode_df.iloc[87,1] = 11430.0\n",
    "zipcode_df.iloc[107,1] = 11418.0\n",
    "zipcode_df.iloc[129,1] = 10023.0\n",
    "zipcode_df.iloc[152,1] = 11416.0\n",
    "zipcode_df.iloc[190,1] = 11375.0\n",
    "zipcode_df.iloc[193,1] = 11415.0\n",
    "zipcode_df.iloc[229,1] = 11432.0\n",
    "#skip new jersey stations & lackawanna\n",
    "zipcode_df.iloc[245,1] = 10001.0\n",
    "#new jersey ewark c\n",
    "zipcode_df.iloc[258,1] = 10040.0\n",
    "zipcode_df.iloc[324,1] = 11101.0\n",
    "zipcode_df.iloc[330,1] = 11377.0\n",
    "zipcode_df.iloc[334,1] = 11372.0\n",
    "zipcode_df.iloc[352,1] = 11212.0\n",
    "#RIT-MANHATTA don't know\n",
    "\n",
    "# unassigned = zipcode_df[(zipcode_df.zipcode.isnull()) | (zipcode_df.zipcode < 10000)]\n",
    "# unassigned"
   ]
  },
  {
   "cell_type": "code",
   "execution_count": null,
   "metadata": {},
   "outputs": [],
   "source": [
    "#write to csv\n",
    "zipcode_df.zipcode = zipcode_df.zipcode.astype(\"int64\")\n",
    "#zipcode_df.info()"
   ]
  },
  {
   "cell_type": "code",
   "execution_count": null,
   "metadata": {},
   "outputs": [],
   "source": [
    "#Save the zipcode dataframe to CSV file\n",
    "zipcode_df.to_csv(\"zipcode_df.csv\")"
   ]
  },
  {
   "cell_type": "markdown",
   "metadata": {},
   "source": [
    "## Get station coordinates"
   ]
  },
  {
   "cell_type": "code",
   "execution_count": null,
   "metadata": {},
   "outputs": [],
   "source": [
    "# Fetch lat long data from goeocode API\n",
    "stations = stations + \" station, NY\"\n",
    "def getlatlong(ser):\n",
    "    latlong_dict = dict()\n",
    "    for station in ser:\n",
    "        try:\n",
    "            latlong = gmaps.geocode(station)[0][\"geometry\"][\"location\"]\n",
    "            latlong_dict[station] = latlong\n",
    "            if len(latlong_dict) % 50 == 0:\n",
    "                print(\"index =\", len(latlong_dict), \"latlong =\", latlong)\n",
    "        except IndexError:\n",
    "            print(\"index error at index=\", len(latlong_dict))\n",
    "            pass\n",
    "    return latlong_dict\n",
    "latlong_dict = getlatlong(stations)"
   ]
  },
  {
   "cell_type": "code",
   "execution_count": null,
   "metadata": {},
   "outputs": [],
   "source": [
    "# save dictionary as text\n",
    "import csv\n",
    "f = open(\"latlong_dict.txt\",\"w\")\n",
    "f.write( str(station_dict) )\n",
    "f.close()"
   ]
  },
  {
   "cell_type": "code",
   "execution_count": null,
   "metadata": {},
   "outputs": [],
   "source": [
    "#Write Dictionary to CSV file\n",
    "latlong_df = pd.DataFrame.from_dict(latlong_dict).T\n",
    "#latlong_df[\"STATION\"] = latlong_df.index\n",
    "latlong_df.reset_index(level=latlong_df.index.names, inplace=True)\n",
    "latlong_df = latlong_df.rename(columns={\"index\": \"STATION\"})\n",
    "latlong_df[\"STATION\"]= latlong_df[\"STATION\"].replace(\"\\sstation,\\sNY\",\"\", regex = True)\n",
    "latlong_df.lng.describe()"
   ]
  }
 ],
 "metadata": {
  "kernelspec": {
   "display_name": "Python 3",
   "language": "python",
   "name": "python3"
  },
  "language_info": {
   "codemirror_mode": {
    "name": "ipython",
    "version": 3
   },
   "file_extension": ".py",
   "mimetype": "text/x-python",
   "name": "python",
   "nbconvert_exporter": "python",
   "pygments_lexer": "ipython3",
   "version": "3.6.4"
  }
 },
 "nbformat": 4,
 "nbformat_minor": 2
}
