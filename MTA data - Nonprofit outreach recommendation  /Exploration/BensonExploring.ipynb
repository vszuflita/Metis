{
 "cells": [
  {
   "cell_type": "code",
   "execution_count": 5,
   "metadata": {},
   "outputs": [],
   "source": [
    "import pandas as pd"
   ]
  },
  {
   "cell_type": "code",
   "execution_count": 6,
   "metadata": {},
   "outputs": [],
   "source": [
    "import numpy as np"
   ]
  },
  {
   "cell_type": "code",
   "execution_count": 8,
   "metadata": {},
   "outputs": [],
   "source": [
    "df = pd.read_csv('Turnstile_Usage_Data__2018.csv')"
   ]
  },
  {
   "cell_type": "code",
   "execution_count": 10,
   "metadata": {},
   "outputs": [
    {
     "data": {
      "text/html": [
       "<div>\n",
       "<style scoped>\n",
       "    .dataframe tbody tr th:only-of-type {\n",
       "        vertical-align: middle;\n",
       "    }\n",
       "\n",
       "    .dataframe tbody tr th {\n",
       "        vertical-align: top;\n",
       "    }\n",
       "\n",
       "    .dataframe thead th {\n",
       "        text-align: right;\n",
       "    }\n",
       "</style>\n",
       "<table border=\"1\" class=\"dataframe\">\n",
       "  <thead>\n",
       "    <tr style=\"text-align: right;\">\n",
       "      <th></th>\n",
       "      <th>C/A</th>\n",
       "      <th>Unit</th>\n",
       "      <th>SCP</th>\n",
       "      <th>Station</th>\n",
       "      <th>Line Name</th>\n",
       "      <th>Division</th>\n",
       "      <th>Date</th>\n",
       "      <th>Time</th>\n",
       "      <th>Description</th>\n",
       "      <th>Entries</th>\n",
       "      <th>Exits</th>\n",
       "    </tr>\n",
       "  </thead>\n",
       "  <tbody>\n",
       "    <tr>\n",
       "      <th>0</th>\n",
       "      <td>A002</td>\n",
       "      <td>R051</td>\n",
       "      <td>02-00-00</td>\n",
       "      <td>59 ST</td>\n",
       "      <td>NQR456W</td>\n",
       "      <td>BMT</td>\n",
       "      <td>12/23/2017</td>\n",
       "      <td>03:00:00</td>\n",
       "      <td>REGULAR</td>\n",
       "      <td>6455840</td>\n",
       "      <td>2184987</td>\n",
       "    </tr>\n",
       "    <tr>\n",
       "      <th>1</th>\n",
       "      <td>A002</td>\n",
       "      <td>R051</td>\n",
       "      <td>02-00-00</td>\n",
       "      <td>59 ST</td>\n",
       "      <td>NQR456W</td>\n",
       "      <td>BMT</td>\n",
       "      <td>12/23/2017</td>\n",
       "      <td>07:00:00</td>\n",
       "      <td>REGULAR</td>\n",
       "      <td>6455856</td>\n",
       "      <td>2184995</td>\n",
       "    </tr>\n",
       "    <tr>\n",
       "      <th>2</th>\n",
       "      <td>A002</td>\n",
       "      <td>R051</td>\n",
       "      <td>02-00-00</td>\n",
       "      <td>59 ST</td>\n",
       "      <td>NQR456W</td>\n",
       "      <td>BMT</td>\n",
       "      <td>12/23/2017</td>\n",
       "      <td>11:00:00</td>\n",
       "      <td>REGULAR</td>\n",
       "      <td>6455899</td>\n",
       "      <td>2185082</td>\n",
       "    </tr>\n",
       "    <tr>\n",
       "      <th>3</th>\n",
       "      <td>A002</td>\n",
       "      <td>R051</td>\n",
       "      <td>02-00-00</td>\n",
       "      <td>59 ST</td>\n",
       "      <td>NQR456W</td>\n",
       "      <td>BMT</td>\n",
       "      <td>12/23/2017</td>\n",
       "      <td>15:00:00</td>\n",
       "      <td>REGULAR</td>\n",
       "      <td>6456038</td>\n",
       "      <td>2185156</td>\n",
       "    </tr>\n",
       "    <tr>\n",
       "      <th>4</th>\n",
       "      <td>A002</td>\n",
       "      <td>R051</td>\n",
       "      <td>02-00-00</td>\n",
       "      <td>59 ST</td>\n",
       "      <td>NQR456W</td>\n",
       "      <td>BMT</td>\n",
       "      <td>12/23/2017</td>\n",
       "      <td>19:00:00</td>\n",
       "      <td>REGULAR</td>\n",
       "      <td>6456327</td>\n",
       "      <td>2185197</td>\n",
       "    </tr>\n",
       "  </tbody>\n",
       "</table>\n",
       "</div>"
      ],
      "text/plain": [
       "    C/A  Unit       SCP Station Line Name Division        Date      Time  \\\n",
       "0  A002  R051  02-00-00   59 ST   NQR456W      BMT  12/23/2017  03:00:00   \n",
       "1  A002  R051  02-00-00   59 ST   NQR456W      BMT  12/23/2017  07:00:00   \n",
       "2  A002  R051  02-00-00   59 ST   NQR456W      BMT  12/23/2017  11:00:00   \n",
       "3  A002  R051  02-00-00   59 ST   NQR456W      BMT  12/23/2017  15:00:00   \n",
       "4  A002  R051  02-00-00   59 ST   NQR456W      BMT  12/23/2017  19:00:00   \n",
       "\n",
       "  Description  Entries  \\\n",
       "0     REGULAR  6455840   \n",
       "1     REGULAR  6455856   \n",
       "2     REGULAR  6455899   \n",
       "3     REGULAR  6456038   \n",
       "4     REGULAR  6456327   \n",
       "\n",
       "   Exits                                                       \n",
       "0                                            2184987           \n",
       "1                                            2184995           \n",
       "2                                            2185082           \n",
       "3                                            2185156           \n",
       "4                                            2185197           "
      ]
     },
     "execution_count": 10,
     "metadata": {},
     "output_type": "execute_result"
    }
   ],
   "source": [
    "df.head(5)"
   ]
  },
  {
   "cell_type": "code",
   "execution_count": 41,
   "metadata": {
    "scrolled": true
   },
   "outputs": [
    {
     "name": "stdout",
     "output_type": "stream",
     "text": [
      "                      Entries  \\\n",
      "Station                         \n",
      "104 ST           5.387320e+08   \n",
      "HIGH ST          4.603918e+08   \n",
      "183 ST           4.488149e+08   \n",
      "EASTCHSTER/DYRE  4.219337e+08   \n",
      "138/GRAND CONC   3.327810e+08   \n",
      "163 ST-AMSTERDM  3.288125e+08   \n",
      "1 AV             3.050309e+08   \n",
      "57 ST-7 AV       2.994426e+08   \n",
      "18 AV            2.608624e+08   \n",
      "6 AV             2.451182e+08   \n",
      "116 ST-COLUMBIA  2.032489e+08   \n",
      "PROSPECT PARK    2.002446e+08   \n",
      "57 ST            1.757314e+08   \n",
      "DEKALB AV        1.701156e+08   \n",
      "5 AVE            1.608934e+08   \n",
      "167 ST           1.510165e+08   \n",
      "42 ST-PORT AUTH  1.504154e+08   \n",
      "FLATBUSH AV-B.C  1.466638e+08   \n",
      "72 ST            1.439107e+08   \n",
      "170 ST           1.430281e+08   \n",
      "\n",
      "                 Exits                                                       \n",
      "Station                                                                      \n",
      "104 ST                                                3.917052e+08           \n",
      "HIGH ST                                               6.194909e+08           \n",
      "183 ST                                                4.676614e+08           \n",
      "EASTCHSTER/DYRE                                       4.559601e+08           \n",
      "138/GRAND CONC                                        3.213078e+08           \n",
      "163 ST-AMSTERDM                                       1.127686e+08           \n",
      "1 AV                                                  1.632403e+08           \n",
      "57 ST-7 AV                                            2.194483e+08           \n",
      "18 AV                                                 1.496939e+08           \n",
      "6 AV                                                  2.424370e+08           \n",
      "116 ST-COLUMBIA                                       4.346851e+07           \n",
      "PROSPECT PARK                                         1.026590e+08           \n",
      "57 ST                                                 1.324694e+08           \n",
      "DEKALB AV                                             1.017567e+08           \n",
      "5 AVE                                                 8.332713e+07           \n",
      "167 ST                                                7.358959e+07           \n",
      "42 ST-PORT AUTH                                       1.228859e+08           \n",
      "FLATBUSH AV-B.C                                       1.073121e+08           \n",
      "72 ST                                                 1.884690e+08           \n",
      "170 ST                                                1.413069e+08           \n"
     ]
    }
   ],
   "source": [
    "df_grouped_station = df.groupby(['Station']).mean().sort_values('Entries', ascending = False)\n",
    "print(df_grouped_station.head(20))"
   ]
  },
  {
   "cell_type": "code",
   "execution_count": 43,
   "metadata": {},
   "outputs": [
    {
     "name": "stdout",
     "output_type": "stream",
     "text": [
      "                              Entries  \\\n",
      "Station        Time                     \n",
      "HIGH ST        08:35:31  9.162898e+08   \n",
      "               08:17:34  9.162792e+08   \n",
      "104 ST         10:16:52  7.893430e+08   \n",
      "               08:17:41  7.893383e+08   \n",
      "               09:07:34  7.893323e+08   \n",
      "34 ST-PENN STA 04:36:22  7.850949e+08   \n",
      "CANAL ST       07:17:46  6.904178e+08   \n",
      "               08:51:18  6.903320e+08   \n",
      "57 ST-7 AV     08:17:56  6.880860e+08   \n",
      "               10:30:39  6.880846e+08   \n",
      "               08:35:52  6.880845e+08   \n",
      "               09:03:36  6.880696e+08   \n",
      "               11:04:40  6.880682e+08   \n",
      "               07:54:41  6.880681e+08   \n",
      "18 AV          14:22:37  6.536281e+08   \n",
      "               11:15:19  6.536279e+08   \n",
      "               06:32:13  6.536260e+08   \n",
      "               08:16:48  6.536211e+08   \n",
      "23 ST          08:04:36  6.169763e+08   \n",
      "86 ST          10:16:39  5.472924e+08   \n",
      "\n",
      "                         Exits                                                       \n",
      "Station        Time                                                                  \n",
      "HIGH ST        08:35:31                                       1.232394e+09           \n",
      "               08:17:34                                       1.232390e+09           \n",
      "104 ST         10:16:52                                       6.347844e+08           \n",
      "               08:17:41                                       6.347839e+08           \n",
      "               09:07:34                                       6.347834e+08           \n",
      "34 ST-PENN STA 04:36:22                                       5.649085e+08           \n",
      "CANAL ST       07:17:46                                       1.265283e+09           \n",
      "               08:51:18                                       1.265226e+09           \n",
      "57 ST-7 AV     08:17:56                                       5.101043e+08           \n",
      "               10:30:39                                       5.101040e+08           \n",
      "               08:35:52                                       5.101038e+08           \n",
      "               09:03:36                                       5.100985e+08           \n",
      "               11:04:40                                       5.100980e+08           \n",
      "               07:54:41                                       5.100978e+08           \n",
      "18 AV          14:22:37                                       4.567699e+08           \n",
      "               11:15:19                                       4.567699e+08           \n",
      "               06:32:13                                       4.567698e+08           \n",
      "               08:16:48                                       4.567697e+08           \n",
      "23 ST          08:04:36                                       6.490217e+08           \n",
      "86 ST          10:16:39                                       2.371199e+08           \n"
     ]
    }
   ],
   "source": [
    "df_grouped_time = df.groupby(['Station','Time']).mean().sort_values('Entries', ascending = False)\n",
    "print(df_grouped_time.head(20))"
   ]
  },
  {
   "cell_type": "code",
   "execution_count": null,
   "metadata": {},
   "outputs": [],
   "source": [
    "#Figure out how to sort by station, and find the mean number of entries"
   ]
  },
  {
   "cell_type": "code",
   "execution_count": null,
   "metadata": {},
   "outputs": [],
   "source": [
    "#Find the mean number of exits"
   ]
  },
  {
   "cell_type": "code",
   "execution_count": null,
   "metadata": {},
   "outputs": [],
   "source": [
    "#Figure out how to find the highest time of day for those stations"
   ]
  },
  {
   "cell_type": "code",
   "execution_count": null,
   "metadata": {},
   "outputs": [],
   "source": [
    "#Don't forget women who code! Look up stations by those exit points. "
   ]
  },
  {
   "cell_type": "code",
   "execution_count": null,
   "metadata": {},
   "outputs": [],
   "source": [
    "#What about students in technical hs? School time TOD? "
   ]
  }
 ],
 "metadata": {
  "kernelspec": {
   "display_name": "Python 3",
   "language": "python",
   "name": "python3"
  },
  "language_info": {
   "codemirror_mode": {
    "name": "ipython",
    "version": 3
   },
   "file_extension": ".py",
   "mimetype": "text/x-python",
   "name": "python",
   "nbconvert_exporter": "python",
   "pygments_lexer": "ipython3",
   "version": "3.6.4"
  }
 },
 "nbformat": 4,
 "nbformat_minor": 2
}
