{
 "cells": [
  {
   "cell_type": "markdown",
   "metadata": {},
   "source": [
    "## Import"
   ]
  },
  {
   "cell_type": "code",
   "execution_count": 1,
   "metadata": {},
   "outputs": [],
   "source": [
    "from selenium import webdriver \n",
    "from selenium.webdriver.common.keys import Keys\n",
    "import requests\n",
    "from bs4 import BeautifulSoup \n",
    "import re\n",
    "import pandas as pd \n",
    "import os \n",
    "import time\n",
    "import datetime\n",
    "import csv\n",
    "import numpy as np\n",
    "import matplotlib.pyplot as plt\n",
    "import seaborn as sns"
   ]
  },
  {
   "cell_type": "markdown",
   "metadata": {},
   "source": [
    "## Scraping Pages"
   ]
  },
  {
   "cell_type": "code",
   "execution_count": 2,
   "metadata": {},
   "outputs": [],
   "source": [
    "#launch url\n",
    "chromedriver = \"/Users/vicky/Downloads/chromedriver\" # path to the chromedriver executable\n",
    "os.environ[\"webdriver.chrome.driver\"] = chromedriver"
   ]
  },
  {
   "cell_type": "code",
   "execution_count": 13,
   "metadata": {},
   "outputs": [],
   "source": [
    "kidshows = {#'SesameStreet': 'https://www.letssingit.com/sesame-street-3k3zj/lyrics', \n",
    "#  'Wiggles': 'https://www.letssingit.com/the-wiggles-z5jb5', \n",
    "#  'YoGabbaGabba': 'https://www.letssingit.com/yo-gabba-gabba-f5cvf/lyrics', \n",
    "#  'Barney': 'https://www.letssingit.com/barney-6569v', \n",
    "#  'Dora': 'https://www.letssingit.com/dora-the-explorer-32q46/lyrics', \n",
    "#  'SpongeBob': 'https://www.letssingit.com/spongebob-squarepants-vqclr',\n",
    "'SpongeBob' :'http://www.azlyricdb.com/artist/Spongebob-Squarepants-21635'}\n",
    " "
   ]
  },
  {
   "cell_type": "code",
   "execution_count": 89,
   "metadata": {
    "scrolled": false
   },
   "outputs": [
    {
     "name": "stdout",
     "output_type": "stream",
     "text": [
      "SpongeBob\n"
     ]
    },
    {
     "ename": "AttributeError",
     "evalue": "'str' object has no attribute 'append'",
     "output_type": "error",
     "traceback": [
      "\u001b[0;31m---------------------------------------------------------------------------\u001b[0m",
      "\u001b[0;31mAttributeError\u001b[0m                            Traceback (most recent call last)",
      "\u001b[0;32m<ipython-input-89-7bcb79b628c8>\u001b[0m in \u001b[0;36m<module>\u001b[0;34m()\u001b[0m\n\u001b[1;32m     27\u001b[0m         \u001b[0;32mfor\u001b[0m \u001b[0mitems\u001b[0m \u001b[0;32min\u001b[0m \u001b[0msoupsong\u001b[0m\u001b[0;34m.\u001b[0m\u001b[0mfindAll\u001b[0m\u001b[0;34m(\u001b[0m\u001b[0;34m'li'\u001b[0m\u001b[0;34m)\u001b[0m\u001b[0;34m:\u001b[0m\u001b[0;34m\u001b[0m\u001b[0m\n\u001b[1;32m     28\u001b[0m             \u001b[0;32mif\u001b[0m \u001b[0mheader\u001b[0m \u001b[0;32min\u001b[0m \u001b[0mspongebob\u001b[0m\u001b[0;34m:\u001b[0m\u001b[0;34m\u001b[0m\u001b[0m\n\u001b[0;32m---> 29\u001b[0;31m                 \u001b[0mspongebob\u001b[0m\u001b[0;34m[\u001b[0m\u001b[0mheader\u001b[0m\u001b[0;34m]\u001b[0m\u001b[0;34m.\u001b[0m\u001b[0mappend\u001b[0m\u001b[0;34m(\u001b[0m\u001b[0mitems\u001b[0m\u001b[0;34m.\u001b[0m\u001b[0mgetText\u001b[0m\u001b[0;34m(\u001b[0m\u001b[0;34m)\u001b[0m\u001b[0;34m)\u001b[0m\u001b[0;34m\u001b[0m\u001b[0m\n\u001b[0m\u001b[1;32m     30\u001b[0m             \u001b[0;32melse\u001b[0m\u001b[0;34m:\u001b[0m\u001b[0;34m\u001b[0m\u001b[0m\n\u001b[1;32m     31\u001b[0m                 \u001b[0mspongebob\u001b[0m\u001b[0;34m[\u001b[0m\u001b[0mheader\u001b[0m\u001b[0;34m]\u001b[0m \u001b[0;34m=\u001b[0m \u001b[0mitems\u001b[0m\u001b[0;34m.\u001b[0m\u001b[0mgetText\u001b[0m\u001b[0;34m(\u001b[0m\u001b[0;34m)\u001b[0m\u001b[0;34m\u001b[0m\u001b[0m\n",
      "\u001b[0;31mAttributeError\u001b[0m: 'str' object has no attribute 'append'"
     ]
    }
   ],
   "source": [
    "spongebob = {}\n",
    "\n",
    "for key, value in kidshows.items():   \n",
    "    \n",
    "    print(key) \n",
    "    \n",
    "    soup=BeautifulSoup(requests.get(value).text, \"lxml\")\n",
    "    \n",
    "    for link in soup.findAll('a', attrs={'href': re.compile(\"/lyrics\")}):\n",
    "        l = (link.get('href'))\n",
    "        ### Getting each of the song links from the main page...\n",
    "        \n",
    "        soupsong = BeautifulSoup(requests.get('http://www.azlyricdb.com' + l).text, \"lxml\")\n",
    "        \n",
    "#         s = soupsong.find(id='lrc')\n",
    "#         while getattr(s, 'name') != 'style':\n",
    "#             s = s.next\n",
    "#         spongebob.append(s)\n",
    "        \n",
    "#         for line in soupsong.findAll('li'):\n",
    "#             print(line)\n",
    "#             lyric = (line.get('li'))\n",
    "#             spongebob.append(line)\n",
    "        \n",
    "        header = soupsong.find('h1').getText()\n",
    "        \n",
    "        for items in soupsong.findAll('li'):\n",
    "            if header in spongebob:\n",
    "                spongebob[header].append(items.getText())\n",
    "            else:\n",
    "                spongebob[header] = items.getText()\n",
    "                ### HOW TO ADD THE TEXT TO THE DICTIONARY. \n",
    "                \n",
    "                \n",
    "#         spongebob[head] = soupsong.findAll('li').getText()\n",
    "        \n",
    "        \n",
    "#             if line.find('style'):\n",
    "#                 break\n",
    "#             else:\n",
    "#                 spongesong.append(line)\n",
    "#             if 'style' not in lyric:\n",
    "#                 spongesong.append(lyric)\n",
    "                \n",
    "        time.sleep(2)\n",
    "\n",
    "    #songs=[song for song in songlist.find_all('href')]\n",
    "    \n",
    "    \n",
    "# <li>The data you want</li>\n",
    "    \n",
    "    "
   ]
  },
  {
   "cell_type": "code",
   "execution_count": 90,
   "metadata": {
    "scrolled": true
   },
   "outputs": [
    {
     "data": {
      "text/plain": [
       "{'Spongebob Squarepants - Bob Esponja Lyrics': '- їEstбn listos, Chicos?'}"
      ]
     },
     "execution_count": 90,
     "metadata": {},
     "output_type": "execute_result"
    }
   ],
   "source": [
    "spongebob"
   ]
  },
  {
   "cell_type": "code",
   "execution_count": null,
   "metadata": {},
   "outputs": [],
   "source": [
    "   resultstable=soupresults.find_all(class_='table-hover')[1]\n",
    "\n",
    "    rows=[row for row in resultstable.find_all('tr')]\n",
    "    rows=rows[1:5]\n",
    "\n",
    "\n",
    "    horseywins={}\n",
    "    for row in rows:\n",
    "        items=row.find_all('td')\n",
    "        for entries in items:\n",
    "            splitsies = entries.text.split(':')\n",
    "            horseywins[splitsies[0]] = (splitsies[1])\n",
    "            horseywins['Horse Name'] = (key)    \n",
    "    \n",
    "    \n",
    "    horseywinnings.append(horseywins)\n",
    "    \n",
    "    time.sleep(1)\n",
    "    \n",
    "    python_button_Workouts = jesustakethewheel.find_element_by_id('Hworkouts') \n",
    "    python_button_Workouts.click() \n",
    "    time.sleep(.5)\n",
    "    \n",
    "    python_button_seemore = jesustakethewheel.find_element_by_link_text('SEE MORE WORKOUTS')\n",
    "    python_button_seemore.click()\n",
    "    time.sleep(.5)\n",
    "    \n",
    "    soupworkout=BeautifulSoup(jesustakethewheel.page_source, \"lxml\")\n",
    "    \n",
    "    workouttable=soupworkout.find(class_='resultTable') \n",
    "\n",
    "    #horseyworkouts=[]\n",
    "    for row in workouttable.find_all('tr')[1:]:\n",
    "        items=row.find_all('td')\n",
    "        Track = items[0].text\n",
    "        Date = items[1].text\n",
    "        Course = items[2].text\n",
    "        Distance = items[3].text\n",
    "        if len(items[4].text) <6:\n",
    "            tp = datetime.datetime.strptime(items[4].text,'%S.%f')\n",
    "        else:\n",
    "            tp = datetime.datetime.strptime(items[4].text,'%M:%S.%f')\n",
    "        Time = tp.second*10+tp.minute*600+tp.microsecond//100000\n",
    "        Note = items[5].text\n",
    "        Rank = items[6].text\n",
    "        rowdict= {'Horse Name': key,'Course' :Course,'Track' :Track,'Date':Date ,'Course' :Course ,'Distance' :Distance,'Time_tenths_second':Time,'Note':Note,'Rank':Rank}\n",
    "        horseyworkouts.append(rowdict)\n",
    "            \n",
    "    time.sleep(1)"
   ]
  }
 ],
 "metadata": {
  "kernelspec": {
   "display_name": "Python 3",
   "language": "python",
   "name": "python3"
  },
  "language_info": {
   "codemirror_mode": {
    "name": "ipython",
    "version": 3
   },
   "file_extension": ".py",
   "mimetype": "text/x-python",
   "name": "python",
   "nbconvert_exporter": "python",
   "pygments_lexer": "ipython3",
   "version": "3.6.4"
  },
  "toc": {
   "base_numbering": 1,
   "nav_menu": {},
   "number_sections": true,
   "sideBar": true,
   "skip_h1_title": false,
   "title_cell": "Table of Contents",
   "title_sidebar": "Contents",
   "toc_cell": false,
   "toc_position": {},
   "toc_section_display": true,
   "toc_window_display": false
  }
 },
 "nbformat": 4,
 "nbformat_minor": 2
}
