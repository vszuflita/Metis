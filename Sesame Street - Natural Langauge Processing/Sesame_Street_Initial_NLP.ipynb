{
 "cells": [
  {
   "cell_type": "markdown",
   "metadata": {},
   "source": [
    "# NLP with NLTK (.. and a little sklearn) \n",
    "\n",
    "Natural Language Processing with Natural Language Toolkit (`NLTK`): est. 2001\n",
    "\n",
    "[nltk](http://www.nltk.org/) is a Python package for NLP."
   ]
  },
  {
   "cell_type": "markdown",
   "metadata": {},
   "source": [
    "TOKENIZATION: (nltk tokenize) <br>\n",
    "POS TAGGING: (nltk pos_tag, word blob tags) <br>\n",
    "SENTIMENT ANALYSIS: (word blob) <br>\n",
    "STEMMING: (nlkt stem) <br>\n",
    "WORD COUNTS: (nltk word_counts) <br>\n",
    "CHUNKING: (nltk chunking) <br>\n"
   ]
  },
  {
   "cell_type": "markdown",
   "metadata": {},
   "source": [
    "* GOAL:*\n",
    "- Total number of different words\n",
    "- Word repetition count\n",
    "- Count of words starting with a specific letter\n",
    "- Number of time letters or numbers are mentioned\n",
    "- Count of pronouns\n",
    "- Number of words outside of early childhood vocabulary. \n",
    "- How many characters invovled?\n",
    "- Any way to count self regulation? Kindness?\n",
    "- Rhyming? Counting phonemes.\n",
    "- Words per minute?"
   ]
  },
  {
   "cell_type": "code",
   "execution_count": 1,
   "metadata": {},
   "outputs": [],
   "source": [
    "from __future__ import print_function"
   ]
  },
  {
   "cell_type": "code",
   "execution_count": 24,
   "metadata": {},
   "outputs": [],
   "source": [
    "#!pip install nltk\n",
    "import nltk\n",
    "import pandas as pd"
   ]
  },
  {
   "cell_type": "markdown",
   "metadata": {},
   "source": [
    "Much of NLTK depends on additional data which you'll have to download. Use `nltk.download()` to get at least the following:\n",
    "\n",
    " * averaged_perceptron_tagger (in models)\n",
    " * maxent_treebank_pos_tagger (in models)\n",
    " * punkt (in models)\n",
    " * maxent_ne_chunk (in models)\n",
    " * words (in corpora)\n",
    "\n",
    "You can install these and continue without restarting your kernel."
   ]
  },
  {
   "cell_type": "code",
   "execution_count": 25,
   "metadata": {},
   "outputs": [
    {
     "name": "stdout",
     "output_type": "stream",
     "text": [
      "showing info https://raw.githubusercontent.com/nltk/nltk_data/gh-pages/index.xml\n"
     ]
    },
    {
     "ename": "SystemExit",
     "evalue": "0",
     "output_type": "error",
     "traceback": [
      "An exception has occurred, use %tb to see the full traceback.\n",
      "\u001b[0;31mSystemExit\u001b[0m\u001b[0;31m:\u001b[0m 0\n"
     ]
    },
    {
     "name": "stderr",
     "output_type": "stream",
     "text": [
      "/Users/vicky/anaconda3/lib/python3.6/site-packages/IPython/core/interactiveshell.py:2918: UserWarning: To exit: use 'exit', 'quit', or Ctrl-D.\n",
      "  warn(\"To exit: use 'exit', 'quit', or Ctrl-D.\", stacklevel=1)\n"
     ]
    }
   ],
   "source": [
    "nltk.download()"
   ]
  },
  {
   "cell_type": "markdown",
   "metadata": {},
   "source": [
    "## Sentence tokenization"
   ]
  },
  {
   "cell_type": "code",
   "execution_count": 3,
   "metadata": {},
   "outputs": [
    {
     "name": "stdout",
     "output_type": "stream",
     "text": [
      "['Skin!', 'Covered all over with beautiful skin\\nSkin!', \"Covered all over from ankle to chin\\nLovely skin on kneeses and noses and ev'rywhere\\nSkin on tummies and toeses and under your hair it's even there\\nOh skin!\", 'Wonderful colors and beautiful tones\\nSkin!', \"Think of without it you're nothing but bones\\nSkin is ever so lovely no matter the color you're in\\nLet's hear it for skin\\n\\nBeautiful skin\\n\\nSkin!\", 'Covered all over with beautiful skin\\nSkin!', \"Covered all over from ankle to chin\\nWithout skin for touching and rubbing how much we'd miss\\nThere'd be no hands for shaking and scrubbing\\nAnd just think of this no cheeks to kiss\\nOh skin!\", 'Wonderful colors and beautiful tones\\nSkin!', \"Keeping the rain off our muscles and bones\\nSkin is ever so lovely no matter the color you're in\\nLet's hear it for skin\\nBeautiful skin\"]\n"
     ]
    }
   ],
   "source": [
    "from nltk.tokenize import sent_tokenize\n",
    "\n",
    "text = \"\"\"Skin!\n",
    "Covered all over with beautiful skin\n",
    "Skin!\n",
    "Covered all over from ankle to chin\n",
    "Lovely skin on kneeses and noses and ev'rywhere\n",
    "Skin on tummies and toeses and under your hair it's even there\n",
    "Oh skin!\n",
    "Wonderful colors and beautiful tones\n",
    "Skin!\n",
    "Think of without it you're nothing but bones\n",
    "Skin is ever so lovely no matter the color you're in\n",
    "Let's hear it for skin\n",
    "\n",
    "Beautiful skin\n",
    "\n",
    "Skin!\n",
    "Covered all over with beautiful skin\n",
    "Skin!\n",
    "Covered all over from ankle to chin\n",
    "Without skin for touching and rubbing how much we'd miss\n",
    "There'd be no hands for shaking and scrubbing\n",
    "And just think of this no cheeks to kiss\n",
    "Oh skin!\n",
    "Wonderful colors and beautiful tones\n",
    "Skin!\n",
    "Keeping the rain off our muscles and bones\n",
    "Skin is ever so lovely no matter the color you're in\n",
    "Let's hear it for skin\n",
    "Beautiful skin\"\"\"\n",
    "\n",
    "sentences = sent_tokenize(text)\n",
    "print(sentences)\n"
   ]
  },
  {
   "cell_type": "markdown",
   "metadata": {},
   "source": [
    "## Word tokenization"
   ]
  },
  {
   "cell_type": "code",
   "execution_count": 4,
   "metadata": {},
   "outputs": [
    {
     "data": {
      "text/plain": [
       "['Covered', 'all', 'over', 'with', 'beautiful', 'skin', 'Skin', '!']"
      ]
     },
     "execution_count": 4,
     "metadata": {},
     "output_type": "execute_result"
    }
   ],
   "source": [
    "# TreebankWordTokenizer assumes that our input has already been segmented into sentences..\n",
    "## Seperates from punctuation. \n",
    "\n",
    "from nltk.tokenize import TreebankWordTokenizer\n",
    "tokenizer = TreebankWordTokenizer()\n",
    "tokenizer.tokenize(sentences[5])"
   ]
  },
  {
   "cell_type": "code",
   "execution_count": 5,
   "metadata": {},
   "outputs": [
    {
     "data": {
      "text/plain": [
       "['Covered', 'all', 'over', 'with', 'beautiful', 'skin', 'Skin', '!']"
      ]
     },
     "execution_count": 5,
     "metadata": {},
     "output_type": "execute_result"
    }
   ],
   "source": [
    "from nltk.tokenize import word_tokenize\n",
    "words = word_tokenize(sentences[5])\n",
    "words"
   ]
  },
  {
   "cell_type": "code",
   "execution_count": 6,
   "metadata": {},
   "outputs": [
    {
     "data": {
      "text/plain": [
       "['Covered', 'all', 'over', 'with', 'beautiful', 'skin', 'Skin', '!']"
      ]
     },
     "execution_count": 6,
     "metadata": {},
     "output_type": "execute_result"
    }
   ],
   "source": [
    "from nltk.tokenize import wordpunct_tokenize\n",
    "wordpunct_tokenize(sentences[5])"
   ]
  },
  {
   "cell_type": "markdown",
   "metadata": {},
   "source": [
    "Demo of different tokenizers: http://text-processing.com/demo/tokenize/"
   ]
  },
  {
   "cell_type": "markdown",
   "metadata": {},
   "source": [
    "## Part of speech tagging"
   ]
  },
  {
   "cell_type": "code",
   "execution_count": 7,
   "metadata": {},
   "outputs": [
    {
     "name": "stdout",
     "output_type": "stream",
     "text": [
      "[('Skin', 'NN'), ('!', '.')]\n",
      "[('Covered', 'NNP'), ('all', 'DT'), ('over', 'IN'), ('with', 'IN'), ('beautiful', 'JJ'), ('skin', 'NN'), ('Skin', 'NNP'), ('!', '.')]\n",
      "[('Covered', 'NNP'), ('all', 'DT'), ('over', 'IN'), ('from', 'IN'), ('ankle', 'NN'), ('to', 'TO'), ('chin', 'VB'), ('Lovely', 'RB'), ('skin', 'VBN'), ('on', 'IN'), ('kneeses', 'NNS'), ('and', 'CC'), ('noses', 'NNS'), ('and', 'CC'), (\"ev'rywhere\", 'JJ'), ('Skin', 'NNP'), ('on', 'IN'), ('tummies', 'NNS'), ('and', 'CC'), ('toeses', 'NNS'), ('and', 'CC'), ('under', 'IN'), ('your', 'PRP$'), ('hair', 'NN'), ('it', 'PRP'), (\"'s\", 'VBZ'), ('even', 'RB'), ('there', 'EX'), ('Oh', 'NNP'), ('skin', 'NN'), ('!', '.')]\n",
      "[('Wonderful', 'JJ'), ('colors', 'NNS'), ('and', 'CC'), ('beautiful', 'JJ'), ('tones', 'NNS'), ('Skin', 'NNP'), ('!', '.')]\n",
      "[('Think', 'NN'), ('of', 'IN'), ('without', 'IN'), ('it', 'PRP'), ('you', 'PRP'), (\"'re\", 'VBP'), ('nothing', 'NN'), ('but', 'CC'), ('bones', 'NNS'), ('Skin', 'NNP'), ('is', 'VBZ'), ('ever', 'RB'), ('so', 'RB'), ('lovely', 'JJ'), ('no', 'DT'), ('matter', 'NN'), ('the', 'DT'), ('color', 'NN'), ('you', 'PRP'), (\"'re\", 'VBP'), ('in', 'IN'), ('Let', 'NNP'), (\"'s\", 'POS'), ('hear', 'VB'), ('it', 'PRP'), ('for', 'IN'), ('skin', 'JJ'), ('Beautiful', 'NNP'), ('skin', 'NN'), ('Skin', 'NNP'), ('!', '.')]\n",
      "[('Covered', 'NNP'), ('all', 'DT'), ('over', 'IN'), ('with', 'IN'), ('beautiful', 'JJ'), ('skin', 'NN'), ('Skin', 'NNP'), ('!', '.')]\n",
      "[('Covered', 'NNP'), ('all', 'DT'), ('over', 'IN'), ('from', 'IN'), ('ankle', 'NN'), ('to', 'TO'), ('chin', 'VB'), ('Without', 'NNP'), ('skin', 'NN'), ('for', 'IN'), ('touching', 'VBG'), ('and', 'CC'), ('rubbing', 'VBG'), ('how', 'WRB'), ('much', 'JJ'), ('we', 'PRP'), (\"'d\", 'MD'), ('miss', 'VB'), ('There', 'EX'), (\"'d\", 'MD'), ('be', 'VB'), ('no', 'DT'), ('hands', 'NNS'), ('for', 'IN'), ('shaking', 'VBG'), ('and', 'CC'), ('scrubbing', 'VBG'), ('And', 'CC'), ('just', 'RB'), ('think', 'VB'), ('of', 'IN'), ('this', 'DT'), ('no', 'DT'), ('cheeks', 'NN'), ('to', 'TO'), ('kiss', 'VB'), ('Oh', 'NNP'), ('skin', 'NN'), ('!', '.')]\n",
      "[('Wonderful', 'JJ'), ('colors', 'NNS'), ('and', 'CC'), ('beautiful', 'JJ'), ('tones', 'NNS'), ('Skin', 'NNP'), ('!', '.')]\n",
      "[('Keeping', 'VBG'), ('the', 'DT'), ('rain', 'NN'), ('off', 'IN'), ('our', 'PRP$'), ('muscles', 'NNS'), ('and', 'CC'), ('bones', 'NNS'), ('Skin', 'NNP'), ('is', 'VBZ'), ('ever', 'RB'), ('so', 'RB'), ('lovely', 'JJ'), ('no', 'DT'), ('matter', 'NN'), ('the', 'DT'), ('color', 'NN'), ('you', 'PRP'), (\"'re\", 'VBP'), ('in', 'IN'), ('Let', 'NNP'), (\"'s\", 'POS'), ('hear', 'VB'), ('it', 'PRP'), ('for', 'IN'), ('skin', 'JJ'), ('Beautiful', 'NNP'), ('skin', 'NN')]\n"
     ]
    }
   ],
   "source": [
    "from nltk.tag import pos_tag\n",
    "\n",
    "for i in sentences:\n",
    "    words=pos_tag(word_tokenize(i))\n",
    "    print(words)"
   ]
  },
  {
   "cell_type": "markdown",
   "metadata": {},
   "source": [
    "### Some of POS tags: \n",
    "WP: wh-pronoun (\"who\", \"what\")  \n",
    "VBZ: verb, 3rd person sing. present (\"takes\")  \n",
    "VBG: verb, gerund/present participle (\"taking\")  \n",
    "TO: to (\"to go\", \"to him\")   \n",
    "DT: determiner (\"the\", \"this\")  \n",
    "NN: noun, singular or mass (\"door\")  \n",
    ".: Punctuation (\".\", \"?\")  \n",
    "\n",
    "- [All tags](http://www.ling.upenn.edu/courses/Fall_2003/ling001/penn_treebank_pos.html)\n",
    "- [Breakdown](https://stackoverflow.com/questions/15388831/what-are-all-possible-pos-tags-of-nltk)"
   ]
  },
  {
   "cell_type": "markdown",
   "metadata": {},
   "source": [
    "## Chunking\n",
    "Extracting phrases"
   ]
  },
  {
   "cell_type": "code",
   "execution_count": 8,
   "metadata": {},
   "outputs": [
    {
     "name": "stdout",
     "output_type": "stream",
     "text": [
      "(S (GPE Skin/NN) !/.)\n",
      "(S\n",
      "  (GPE Covered/NNP)\n",
      "  all/DT\n",
      "  over/IN\n",
      "  with/IN\n",
      "  beautiful/JJ\n",
      "  skin/NN\n",
      "  (PERSON Skin/NNP)\n",
      "  !/.)\n",
      "(S\n",
      "  (GPE Covered/NNP)\n",
      "  all/DT\n",
      "  over/IN\n",
      "  from/IN\n",
      "  ankle/NN\n",
      "  to/TO\n",
      "  chin/VB\n",
      "  Lovely/RB\n",
      "  skin/VBN\n",
      "  on/IN\n",
      "  kneeses/NNS\n",
      "  and/CC\n",
      "  noses/NNS\n",
      "  and/CC\n",
      "  ev'rywhere/JJ\n",
      "  Skin/NNP\n",
      "  on/IN\n",
      "  tummies/NNS\n",
      "  and/CC\n",
      "  toeses/NNS\n",
      "  and/CC\n",
      "  under/IN\n",
      "  your/PRP$\n",
      "  hair/NN\n",
      "  it/PRP\n",
      "  's/VBZ\n",
      "  even/RB\n",
      "  there/EX\n",
      "  Oh/NNP\n",
      "  skin/NN\n",
      "  !/.)\n",
      "(S\n",
      "  (GPE Wonderful/JJ)\n",
      "  colors/NNS\n",
      "  and/CC\n",
      "  beautiful/JJ\n",
      "  tones/NNS\n",
      "  (PERSON Skin/NNP)\n",
      "  !/.)\n",
      "(S\n",
      "  Think/NN\n",
      "  of/IN\n",
      "  without/IN\n",
      "  it/PRP\n",
      "  you/PRP\n",
      "  're/VBP\n",
      "  nothing/NN\n",
      "  but/CC\n",
      "  bones/NNS\n",
      "  (PERSON Skin/NNP)\n",
      "  is/VBZ\n",
      "  ever/RB\n",
      "  so/RB\n",
      "  lovely/JJ\n",
      "  no/DT\n",
      "  matter/NN\n",
      "  the/DT\n",
      "  color/NN\n",
      "  you/PRP\n",
      "  're/VBP\n",
      "  in/IN\n",
      "  (GPE Let/NNP)\n",
      "  's/POS\n",
      "  hear/VB\n",
      "  it/PRP\n",
      "  for/IN\n",
      "  skin/JJ\n",
      "  Beautiful/NNP\n",
      "  skin/NN\n",
      "  (PERSON Skin/NNP)\n",
      "  !/.)\n",
      "(S\n",
      "  (GPE Covered/NNP)\n",
      "  all/DT\n",
      "  over/IN\n",
      "  with/IN\n",
      "  beautiful/JJ\n",
      "  skin/NN\n",
      "  (PERSON Skin/NNP)\n",
      "  !/.)\n",
      "(S\n",
      "  (GPE Covered/NNP)\n",
      "  all/DT\n",
      "  over/IN\n",
      "  from/IN\n",
      "  ankle/NN\n",
      "  to/TO\n",
      "  chin/VB\n",
      "  (PERSON Without/NNP)\n",
      "  skin/NN\n",
      "  for/IN\n",
      "  touching/VBG\n",
      "  and/CC\n",
      "  rubbing/VBG\n",
      "  how/WRB\n",
      "  much/JJ\n",
      "  we/PRP\n",
      "  'd/MD\n",
      "  miss/VB\n",
      "  There/EX\n",
      "  'd/MD\n",
      "  be/VB\n",
      "  no/DT\n",
      "  hands/NNS\n",
      "  for/IN\n",
      "  shaking/VBG\n",
      "  and/CC\n",
      "  scrubbing/VBG\n",
      "  And/CC\n",
      "  just/RB\n",
      "  think/VB\n",
      "  of/IN\n",
      "  this/DT\n",
      "  no/DT\n",
      "  cheeks/NN\n",
      "  to/TO\n",
      "  kiss/VB\n",
      "  Oh/NNP\n",
      "  skin/NN\n",
      "  !/.)\n",
      "(S\n",
      "  (GPE Wonderful/JJ)\n",
      "  colors/NNS\n",
      "  and/CC\n",
      "  beautiful/JJ\n",
      "  tones/NNS\n",
      "  (PERSON Skin/NNP)\n",
      "  !/.)\n",
      "(S\n",
      "  Keeping/VBG\n",
      "  the/DT\n",
      "  rain/NN\n",
      "  off/IN\n",
      "  our/PRP$\n",
      "  muscles/NNS\n",
      "  and/CC\n",
      "  bones/NNS\n",
      "  (PERSON Skin/NNP)\n",
      "  is/VBZ\n",
      "  ever/RB\n",
      "  so/RB\n",
      "  lovely/JJ\n",
      "  no/DT\n",
      "  matter/NN\n",
      "  the/DT\n",
      "  color/NN\n",
      "  you/PRP\n",
      "  're/VBP\n",
      "  in/IN\n",
      "  (GPE Let/NNP)\n",
      "  's/POS\n",
      "  hear/VB\n",
      "  it/PRP\n",
      "  for/IN\n",
      "  skin/JJ\n",
      "  Beautiful/NNP\n",
      "  skin/NN)\n"
     ]
    }
   ],
   "source": [
    "## the 'named entity' chunker!  ne_chunk utilizes \n",
    "\n",
    "from nltk.chunk import ne_chunk\n",
    "\n",
    "for i in sentences:\n",
    "    words = word_tokenize(i)\n",
    "    tags = pos_tag(words)\n",
    "    tree = ne_chunk(tags)\n",
    "    print(tree)"
   ]
  },
  {
   "cell_type": "code",
   "execution_count": 31,
   "metadata": {},
   "outputs": [],
   "source": [
    "tree.draw()"
   ]
  },
  {
   "cell_type": "markdown",
   "metadata": {},
   "source": [
    "# TextBlob"
   ]
  },
  {
   "cell_type": "code",
   "execution_count": 9,
   "metadata": {},
   "outputs": [],
   "source": [
    "#!pip install textblob\n",
    "# \n",
    "from textblob import TextBlob\n",
    "\n",
    "sesame = TextBlob(text)"
   ]
  },
  {
   "cell_type": "code",
   "execution_count": 10,
   "metadata": {},
   "outputs": [
    {
     "data": {
      "text/plain": [
       "[('Skin', 'NN'),\n",
       " ('Covered', 'NNP'),\n",
       " ('all', 'DT'),\n",
       " ('over', 'IN'),\n",
       " ('with', 'IN'),\n",
       " ('beautiful', 'JJ'),\n",
       " ('skin', 'NN'),\n",
       " ('Skin', 'NNP'),\n",
       " ('Covered', 'NNP'),\n",
       " ('all', 'DT'),\n",
       " ('over', 'IN'),\n",
       " ('from', 'IN'),\n",
       " ('ankle', 'NN'),\n",
       " ('to', 'TO'),\n",
       " ('chin', 'VB'),\n",
       " ('Lovely', 'RB'),\n",
       " ('skin', 'VBN'),\n",
       " ('on', 'IN'),\n",
       " ('kneeses', 'NNS'),\n",
       " ('and', 'CC'),\n",
       " ('noses', 'NNS'),\n",
       " ('and', 'CC'),\n",
       " (\"ev'rywhere\", 'JJ'),\n",
       " ('Skin', 'NNP'),\n",
       " ('on', 'IN'),\n",
       " ('tummies', 'NNS'),\n",
       " ('and', 'CC'),\n",
       " ('toeses', 'NNS'),\n",
       " ('and', 'CC'),\n",
       " ('under', 'IN'),\n",
       " ('your', 'PRP$'),\n",
       " ('hair', 'NN'),\n",
       " ('it', 'PRP'),\n",
       " (\"'s\", 'VBZ'),\n",
       " ('even', 'RB'),\n",
       " ('there', 'EX'),\n",
       " ('Oh', 'NNP'),\n",
       " ('skin', 'NN'),\n",
       " ('Wonderful', 'JJ'),\n",
       " ('colors', 'NNS'),\n",
       " ('and', 'CC'),\n",
       " ('beautiful', 'JJ'),\n",
       " ('tones', 'NNS'),\n",
       " ('Skin', 'NNP'),\n",
       " ('Think', 'NN'),\n",
       " ('of', 'IN'),\n",
       " ('without', 'IN'),\n",
       " ('it', 'PRP'),\n",
       " ('you', 'PRP'),\n",
       " (\"'re\", 'VBP'),\n",
       " ('nothing', 'NN'),\n",
       " ('but', 'CC'),\n",
       " ('bones', 'NNS'),\n",
       " ('Skin', 'NNP'),\n",
       " ('is', 'VBZ'),\n",
       " ('ever', 'RB'),\n",
       " ('so', 'RB'),\n",
       " ('lovely', 'JJ'),\n",
       " ('no', 'DT'),\n",
       " ('matter', 'NN'),\n",
       " ('the', 'DT'),\n",
       " ('color', 'NN'),\n",
       " ('you', 'PRP'),\n",
       " (\"'re\", 'VBP'),\n",
       " ('in', 'IN'),\n",
       " ('Let', 'NNP'),\n",
       " (\"'s\", 'POS'),\n",
       " ('hear', 'VB'),\n",
       " ('it', 'PRP'),\n",
       " ('for', 'IN'),\n",
       " ('skin', 'JJ'),\n",
       " ('Beautiful', 'NNP'),\n",
       " ('skin', 'NN'),\n",
       " ('Skin', 'NNP'),\n",
       " ('Covered', 'NNP'),\n",
       " ('all', 'DT'),\n",
       " ('over', 'IN'),\n",
       " ('with', 'IN'),\n",
       " ('beautiful', 'JJ'),\n",
       " ('skin', 'NN'),\n",
       " ('Skin', 'NNP'),\n",
       " ('Covered', 'NNP'),\n",
       " ('all', 'DT'),\n",
       " ('over', 'IN'),\n",
       " ('from', 'IN'),\n",
       " ('ankle', 'NN'),\n",
       " ('to', 'TO'),\n",
       " ('chin', 'VB'),\n",
       " ('Without', 'NNP'),\n",
       " ('skin', 'NN'),\n",
       " ('for', 'IN'),\n",
       " ('touching', 'VBG'),\n",
       " ('and', 'CC'),\n",
       " ('rubbing', 'VBG'),\n",
       " ('how', 'WRB'),\n",
       " ('much', 'JJ'),\n",
       " ('we', 'PRP'),\n",
       " (\"'d\", 'MD'),\n",
       " ('miss', 'VB'),\n",
       " ('There', 'EX'),\n",
       " (\"'d\", 'MD'),\n",
       " ('be', 'VB'),\n",
       " ('no', 'DT'),\n",
       " ('hands', 'NNS'),\n",
       " ('for', 'IN'),\n",
       " ('shaking', 'VBG'),\n",
       " ('and', 'CC'),\n",
       " ('scrubbing', 'VBG'),\n",
       " ('And', 'CC'),\n",
       " ('just', 'RB'),\n",
       " ('think', 'VB'),\n",
       " ('of', 'IN'),\n",
       " ('this', 'DT'),\n",
       " ('no', 'DT'),\n",
       " ('cheeks', 'NN'),\n",
       " ('to', 'TO'),\n",
       " ('kiss', 'VB'),\n",
       " ('Oh', 'NNP'),\n",
       " ('skin', 'NN'),\n",
       " ('Wonderful', 'JJ'),\n",
       " ('colors', 'NNS'),\n",
       " ('and', 'CC'),\n",
       " ('beautiful', 'JJ'),\n",
       " ('tones', 'NNS'),\n",
       " ('Skin', 'NNP'),\n",
       " ('Keeping', 'VBG'),\n",
       " ('the', 'DT'),\n",
       " ('rain', 'NN'),\n",
       " ('off', 'IN'),\n",
       " ('our', 'PRP$'),\n",
       " ('muscles', 'NNS'),\n",
       " ('and', 'CC'),\n",
       " ('bones', 'NNS'),\n",
       " ('Skin', 'NNP'),\n",
       " ('is', 'VBZ'),\n",
       " ('ever', 'RB'),\n",
       " ('so', 'RB'),\n",
       " ('lovely', 'JJ'),\n",
       " ('no', 'DT'),\n",
       " ('matter', 'NN'),\n",
       " ('the', 'DT'),\n",
       " ('color', 'NN'),\n",
       " ('you', 'PRP'),\n",
       " (\"'re\", 'VBP'),\n",
       " ('in', 'IN'),\n",
       " ('Let', 'NNP'),\n",
       " (\"'s\", 'POS'),\n",
       " ('hear', 'VB'),\n",
       " ('it', 'PRP'),\n",
       " ('for', 'IN'),\n",
       " ('skin', 'JJ'),\n",
       " ('Beautiful', 'NNP'),\n",
       " ('skin', 'NN')]"
      ]
     },
     "execution_count": 10,
     "metadata": {},
     "output_type": "execute_result"
    }
   ],
   "source": [
    "sesame.tags"
   ]
  },
  {
   "cell_type": "code",
   "execution_count": 11,
   "metadata": {},
   "outputs": [
    {
     "data": {
      "text/plain": [
       "WordList(['skin', 'covered', 'beautiful skin', 'skin', 'covered', 'lovely skin', 'skin', 'oh', 'wonderful', 'beautiful tones', 'skin', 'think', 'skin', 'beautiful', 'skin', 'covered', 'beautiful skin', 'skin', 'covered', 'oh', 'wonderful', 'beautiful tones', 'skin', 'keeping', 'skin', 'beautiful'])"
      ]
     },
     "execution_count": 11,
     "metadata": {},
     "output_type": "execute_result"
    }
   ],
   "source": [
    "sesame.noun_phrases"
   ]
  },
  {
   "cell_type": "markdown",
   "metadata": {},
   "source": [
    "###  How do you really feel?    TextBlob:  Sentiment Analysis"
   ]
  },
  {
   "cell_type": "code",
   "execution_count": 12,
   "metadata": {},
   "outputs": [
    {
     "data": {
      "text/plain": [
       "Sentiment(polarity=0.7865384615384615, subjectivity=0.8423076923076922)"
      ]
     },
     "execution_count": 12,
     "metadata": {},
     "output_type": "execute_result"
    }
   ],
   "source": [
    "TextBlob(text).sentiment"
   ]
  },
  {
   "cell_type": "code",
   "execution_count": 13,
   "metadata": {},
   "outputs": [
    {
     "data": {
      "text/plain": [
       "[Sentence(\"Skin!\"), Sentence(\"Covered all over with beautiful skin\n",
       " Skin!\"), Sentence(\"Covered all over from ankle to chin\n",
       " Lovely skin on kneeses and noses and ev'rywhere\n",
       " Skin on tummies and toeses and under your hair it's even there\n",
       " Oh skin!\"), Sentence(\"Wonderful colors and beautiful tones\n",
       " Skin!\"), Sentence(\"Think of without it you're nothing but bones\n",
       " Skin is ever so lovely no matter the color you're in\n",
       " Let's hear it for skin\n",
       " \n",
       " Beautiful skin\n",
       " \n",
       " Skin!\"), Sentence(\"Covered all over with beautiful skin\n",
       " Skin!\"), Sentence(\"Covered all over from ankle to chin\n",
       " Without skin for touching and rubbing how much we'd miss\n",
       " There'd be no hands for shaking and scrubbing\n",
       " And just think of this no cheeks to kiss\n",
       " Oh skin!\"), Sentence(\"Wonderful colors and beautiful tones\n",
       " Skin!\"), Sentence(\"Keeping the rain off our muscles and bones\n",
       " Skin is ever so lovely no matter the color you're in\n",
       " Let's hear it for skin\n",
       " Beautiful skin\")]"
      ]
     },
     "execution_count": 13,
     "metadata": {},
     "output_type": "execute_result"
    }
   ],
   "source": [
    "sesame.sentences"
   ]
  },
  {
   "cell_type": "code",
   "execution_count": 14,
   "metadata": {},
   "outputs": [
    {
     "data": {
      "text/plain": [
       "WordList(['Skin', 'Covered', 'all', 'over', 'with', 'beautiful', 'skin', 'Skin', 'Covered', 'all', 'over', 'from', 'ankle', 'to', 'chin', 'Lovely', 'skin', 'on', 'kneeses', 'and', 'noses', 'and', \"ev'rywhere\", 'Skin', 'on', 'tummies', 'and', 'toeses', 'and', 'under', 'your', 'hair', 'it', \"'s\", 'even', 'there', 'Oh', 'skin', 'Wonderful', 'colors', 'and', 'beautiful', 'tones', 'Skin', 'Think', 'of', 'without', 'it', 'you', \"'re\", 'nothing', 'but', 'bones', 'Skin', 'is', 'ever', 'so', 'lovely', 'no', 'matter', 'the', 'color', 'you', \"'re\", 'in', 'Let', \"'s\", 'hear', 'it', 'for', 'skin', 'Beautiful', 'skin', 'Skin', 'Covered', 'all', 'over', 'with', 'beautiful', 'skin', 'Skin', 'Covered', 'all', 'over', 'from', 'ankle', 'to', 'chin', 'Without', 'skin', 'for', 'touching', 'and', 'rubbing', 'how', 'much', 'we', \"'d\", 'miss', 'There', \"'d\", 'be', 'no', 'hands', 'for', 'shaking', 'and', 'scrubbing', 'And', 'just', 'think', 'of', 'this', 'no', 'cheeks', 'to', 'kiss', 'Oh', 'skin', 'Wonderful', 'colors', 'and', 'beautiful', 'tones', 'Skin', 'Keeping', 'the', 'rain', 'off', 'our', 'muscles', 'and', 'bones', 'Skin', 'is', 'ever', 'so', 'lovely', 'no', 'matter', 'the', 'color', 'you', \"'re\", 'in', 'Let', \"'s\", 'hear', 'it', 'for', 'skin', 'Beautiful', 'skin'])"
      ]
     },
     "execution_count": 14,
     "metadata": {},
     "output_type": "execute_result"
    }
   ],
   "source": [
    "sesame.words"
   ]
  },
  {
   "cell_type": "code",
   "execution_count": 15,
   "metadata": {},
   "outputs": [
    {
     "data": {
      "text/plain": [
       "WordList(['Skin'])"
      ]
     },
     "execution_count": 15,
     "metadata": {},
     "output_type": "execute_result"
    }
   ],
   "source": [
    "sesame.sentences[0].words"
   ]
  },
  {
   "cell_type": "markdown",
   "metadata": {},
   "source": [
    "### Stemming"
   ]
  },
  {
   "cell_type": "code",
   "execution_count": 16,
   "metadata": {},
   "outputs": [
    {
     "name": "stdout",
     "output_type": "stream",
     "text": [
      "skin\n",
      "cover\n",
      "all\n",
      "over\n",
      "with\n",
      "beauti\n",
      "skin\n",
      "skin\n",
      "cover\n",
      "all\n",
      "over\n",
      "from\n",
      "ankl\n",
      "to\n",
      "chin\n",
      "love\n",
      "skin\n",
      "on\n",
      "knees\n",
      "and\n",
      "nose\n",
      "and\n",
      "ev'rywher\n",
      "skin\n",
      "on\n",
      "tummi\n",
      "and\n",
      "toes\n",
      "and\n",
      "under\n",
      "your\n",
      "hair\n",
      "it\n",
      "'s\n",
      "even\n",
      "there\n",
      "Oh\n",
      "skin\n",
      "wonder\n",
      "color\n",
      "and\n",
      "beauti\n",
      "tone\n",
      "skin\n",
      "think\n",
      "of\n",
      "without\n",
      "it\n",
      "you\n",
      "'re\n",
      "noth\n",
      "but\n",
      "bone\n",
      "skin\n",
      "is\n",
      "ever\n",
      "so\n",
      "love\n",
      "no\n",
      "matter\n",
      "the\n",
      "color\n",
      "you\n",
      "'re\n",
      "in\n",
      "let\n",
      "'s\n",
      "hear\n",
      "it\n",
      "for\n",
      "skin\n",
      "beauti\n",
      "skin\n",
      "skin\n",
      "cover\n",
      "all\n",
      "over\n",
      "with\n",
      "beauti\n",
      "skin\n",
      "skin\n",
      "cover\n",
      "all\n",
      "over\n",
      "from\n",
      "ankl\n",
      "to\n",
      "chin\n",
      "without\n",
      "skin\n",
      "for\n",
      "touch\n",
      "and\n",
      "rub\n",
      "how\n",
      "much\n",
      "we\n",
      "'d\n",
      "miss\n",
      "there\n",
      "'d\n",
      "be\n",
      "no\n",
      "hand\n",
      "for\n",
      "shake\n",
      "and\n",
      "scrub\n",
      "and\n",
      "just\n",
      "think\n",
      "of\n",
      "thi\n",
      "no\n",
      "cheek\n",
      "to\n",
      "kiss\n",
      "Oh\n",
      "skin\n",
      "wonder\n",
      "color\n",
      "and\n",
      "beauti\n",
      "tone\n",
      "skin\n",
      "keep\n",
      "the\n",
      "rain\n",
      "off\n",
      "our\n",
      "muscl\n",
      "and\n",
      "bone\n",
      "skin\n",
      "is\n",
      "ever\n",
      "so\n",
      "love\n",
      "no\n",
      "matter\n",
      "the\n",
      "color\n",
      "you\n",
      "'re\n",
      "in\n",
      "let\n",
      "'s\n",
      "hear\n",
      "it\n",
      "for\n",
      "skin\n",
      "beauti\n",
      "skin\n"
     ]
    }
   ],
   "source": [
    "stemmer = nltk.stem.porter.PorterStemmer()\n",
    "for word in TextBlob(text).words:\n",
    "    print(stemmer.stem(word))"
   ]
  },
  {
   "cell_type": "markdown",
   "metadata": {},
   "source": [
    "To see different nltk stemmers in effect:\n",
    "http://text-processing.com/demo/stem/"
   ]
  },
  {
   "cell_type": "code",
   "execution_count": 21,
   "metadata": {},
   "outputs": [
    {
     "data": {
      "text/plain": [
       "dict_items([('skin', 19), ('covered', 4), ('all', 4), ('over', 4), ('with', 2), ('beautiful', 6), ('from', 2), ('ankle', 2), ('to', 3), ('chin', 2), ('lovely', 3), ('on', 2), ('kneeses', 1), ('and', 10), ('noses', 1), (\"ev'rywhere\", 1), ('tummies', 1), ('toeses', 1), ('under', 1), ('your', 1), ('hair', 1), ('it', 4), ('s', 3), ('even', 1), ('there', 2), ('oh', 2), ('wonderful', 2), ('colors', 2), ('tones', 2), ('think', 2), ('of', 2), ('without', 2), ('you', 3), ('re', 3), ('nothing', 1), ('but', 1), ('bones', 2), ('is', 2), ('ever', 2), ('so', 2), ('no', 4), ('matter', 2), ('the', 3), ('color', 2), ('in', 2), ('let', 2), ('hear', 2), ('for', 4), ('touching', 1), ('rubbing', 1), ('how', 1), ('much', 1), ('we', 1), ('d', 2), ('miss', 1), ('be', 1), ('hands', 1), ('shaking', 1), ('scrubbing', 1), ('just', 1), ('this', 1), ('cheeks', 1), ('kiss', 1), ('keeping', 1), ('rain', 1), ('off', 1), ('our', 1), ('muscles', 1)])"
      ]
     },
     "execution_count": 21,
     "metadata": {},
     "output_type": "execute_result"
    }
   ],
   "source": [
    "sesame.word_counts.items()"
   ]
  },
  {
   "cell_type": "code",
   "execution_count": 17,
   "metadata": {},
   "outputs": [
    {
     "name": "stdout",
     "output_type": "stream",
     "text": [
      "           skin 19\n",
      "        covered 4\n",
      "            all 4\n",
      "           over 4\n",
      "           with 2\n",
      "      beautiful 6\n",
      "           from 2\n",
      "          ankle 2\n",
      "             to 3\n",
      "           chin 2\n",
      "         lovely 3\n",
      "             on 2\n",
      "        kneeses 1\n",
      "            and 10\n",
      "          noses 1\n",
      "     ev'rywhere 1\n",
      "        tummies 1\n",
      "         toeses 1\n",
      "          under 1\n",
      "           your 1\n",
      "           hair 1\n",
      "             it 4\n",
      "              s 3\n",
      "           even 1\n",
      "          there 2\n",
      "             oh 2\n",
      "      wonderful 2\n",
      "         colors 2\n",
      "          tones 2\n",
      "          think 2\n",
      "             of 2\n",
      "        without 2\n",
      "            you 3\n",
      "             re 3\n",
      "        nothing 1\n",
      "            but 1\n",
      "          bones 2\n",
      "             is 2\n",
      "           ever 2\n",
      "             so 2\n",
      "             no 4\n",
      "         matter 2\n",
      "            the 3\n",
      "          color 2\n",
      "             in 2\n",
      "            let 2\n",
      "           hear 2\n",
      "            for 4\n",
      "       touching 1\n",
      "        rubbing 1\n",
      "            how 1\n",
      "           much 1\n",
      "             we 1\n",
      "              d 2\n",
      "           miss 1\n",
      "             be 1\n",
      "          hands 1\n",
      "        shaking 1\n",
      "      scrubbing 1\n",
      "           just 1\n",
      "           this 1\n",
      "         cheeks 1\n",
      "           kiss 1\n",
      "        keeping 1\n",
      "           rain 1\n",
      "            off 1\n",
      "            our 1\n",
      "        muscles 1\n"
     ]
    }
   ],
   "source": [
    "for word, count in sesame.word_counts.items():\n",
    "    print(\"%15s %i\" % (word, count))"
   ]
  },
  {
   "cell_type": "code",
   "execution_count": null,
   "metadata": {},
   "outputs": [],
   "source": [
    "def get_count(item):\n",
    "    return item[1]\n",
    "\n",
    "for word, count in sorted(gatsby.word_counts.items(), key=get_count, reverse=True):\n",
    "    print(\"%15s %i\" % (word, count))"
   ]
  },
  {
   "cell_type": "markdown",
   "metadata": {},
   "source": [
    "## Movie Reviews \n",
    "(without stopwords!)"
   ]
  },
  {
   "cell_type": "code",
   "execution_count": null,
   "metadata": {},
   "outputs": [],
   "source": [
    "#nltk.download()"
   ]
  },
  {
   "cell_type": "code",
   "execution_count": 27,
   "metadata": {},
   "outputs": [
    {
     "name": "stdout",
     "output_type": "stream",
     "text": [
      "['plot : two teen couples go to a church party , drink and then drive . they get into an accident . one of the guys dies , but his girlfriend continues to see him in her life , and has nightmares . what \\' s the deal ? watch the movie and \" sorta \" find out . . . critique : a mind - fuck movie for the teen generation that touches on a very cool idea , but presents it in a very bad package . which is what makes this review an even harder one to write , since i generally applaud films which attempt to break the mold , mess with your head and such ( lost highway & memento ) , but there are good and bad ways of making all types of films , and these folks just didn \\' t snag this one correctly . they seem to have taken this pretty neat concept , but executed it terribly . so what are the problems with the movie ? well , its main problem is that it \\' s simply too jumbled . it starts off \" normal \" but then downshifts into this \" fantasy \" world in which you , as an audience member , have no idea what \\' s going on . there are dreams , there are characters coming back from the dead , there are others who look like the dead , there are strange apparitions , there are disappearances , there are a looooot of chase scenes , there are tons of weird things that happen , and most of it is simply not explained . now i personally don \\' t mind trying to unravel a film every now and then , but when all it does is give me the same clue over and over again , i get kind of fed up after a while , which is this film \\' s biggest problem . it \\' s obviously got this big secret to hide , but it seems to want to hide it completely until its final five minutes . and do they make things entertaining , thrilling or even engaging , in the meantime ? not really . the sad part is that the arrow and i both dig on flicks like this , so we actually figured most of it out by the half - way point , so all of the strangeness after that did start to make a little bit of sense , but it still didn \\' t the make the film all that more entertaining . i guess the bottom line with movies like this is that you should always make sure that the audience is \" into it \" even before they are given the secret password to enter your world of understanding . i mean , showing melissa sagemiller running away from visions for about 20 minutes throughout the movie is just plain lazy ! ! okay , we get it . . . there are people chasing her and we don \\' t know who they are . do we really need to see it over and over again ? how about giving us different scenes offering further insight into all of the strangeness going down in the movie ? apparently , the studio took this film away from its director and chopped it up themselves , and it shows . there might \\' ve been a pretty decent teen mind - fuck movie in here somewhere , but i guess \" the suits \" decided that turning it into a music video with little edge , would make more sense . the actors are pretty good for the most part , although wes bentley just seemed to be playing the exact same character that he did in american beauty , only in a new neighborhood . but my biggest kudos go out to sagemiller , who holds her own throughout the entire film , and actually has you feeling her character \\' s unraveling . overall , the film doesn \\' t stick because it doesn \\' t entertain , it \\' s confusing , it rarely excites and it feels pretty redundant for most of its runtime , despite a pretty cool ending and explanation to all of the craziness that came before it . oh , and by the way , this is not a horror or teen slasher flick . . . it \\' s just packaged to look that way because someone is apparently assuming that the genre is still hot with the kids . it also wrapped production two years ago and has been sitting on the shelves ever since . whatever . . . skip it ! where \\' s joblo coming from ? a nightmare of elm street 3 ( 7 / 10 ) - blair witch 2 ( 7 / 10 ) - the crow ( 9 / 10 ) - the crow : salvation ( 4 / 10 ) - lost highway ( 10 / 10 ) - memento ( 10 / 10 ) - the others ( 9 / 10 ) - stir of echoes ( 8 / 10 )']\n"
     ]
    }
   ],
   "source": [
    "import nltk\n",
    "from textblob import TextBlob\n",
    "from nltk.corpus import movie_reviews\n",
    "\n",
    "fileids = movie_reviews.fileids()[:100]\n",
    "doc_words = [movie_reviews.words(fileid) for fileid in fileids]\n",
    "documents = [' '.join(words) for words in doc_words]\n",
    "print(documents[0:1])"
   ]
  },
  {
   "cell_type": "markdown",
   "metadata": {},
   "source": [
    "##### Top bigrams in reviews"
   ]
  },
  {
   "cell_type": "code",
   "execution_count": 29,
   "metadata": {},
   "outputs": [
    {
     "name": "stdout",
     "output_type": "stream",
     "text": [
      "     special effects 20\n",
      "         ghosts mars 18\n",
      "         first movie 14\n",
      "           prinze jr 12\n",
      "         monkey bone 12\n",
      "         even though 11\n",
      "           hong kong 11\n",
      "        fight scenes 11\n",
      "            want see 10\n",
      "           van damme 10\n",
      "         jackie chan 10\n",
      "         every scene 10\n",
      "         movies like 9\n",
      "          romeo must 9\n",
      "            must die 9\n",
      "            big john 9\n",
      "              sci fi 9\n",
      "           years ago 8\n",
      "         sounds like 8\n",
      "         screen time 8\n",
      "      john carpenter 8\n",
      "           two hours 8\n",
      "            year old 8\n",
      "         action film 8\n",
      "         big gorilla 8\n",
      "            one best 8\n",
      "      freddie prinze 8\n",
      "           dr moreau 8\n",
      "               ho ho 8\n",
      "         spice girls 8\n"
     ]
    }
   ],
   "source": [
    "from nltk.util import ngrams\n",
    "\n",
    "from collections import Counter\n",
    "from operator import itemgetter\n",
    "\n",
    "from nltk.corpus import stopwords\n",
    "stop = stopwords.words('english')\n",
    "stop += ['.', ',', '(', ')', \"'\", '\"']\n",
    "stop = set(stop)\n",
    "\n",
    "counter = Counter()\n",
    "\n",
    "n = 2\n",
    "for doc in documents:\n",
    "    words = TextBlob(doc).words\n",
    "    words = [w for w in words if w not in stop]\n",
    "    bigrams = ngrams(words, n)\n",
    "    counter += Counter(bigrams)\n",
    "\n",
    "for phrase, count in counter.most_common(30):\n",
    "    print('%20s %i' % (\" \".join(phrase), count))"
   ]
  },
  {
   "cell_type": "markdown",
   "metadata": {},
   "source": [
    "### Using Sklearn With Text\n",
    "SKlearn can quantify text for modeling applications\n",
    "\n",
    "Another option is `spaCy`, which is performance optimized for real-time applications. `NLTK` is much slower, but more full-featured."
   ]
  },
  {
   "cell_type": "markdown",
   "metadata": {
    "collapsed": true
   },
   "source": [
    "CountVectorizer:  Convert a collection of text documents to a matrix of token counts\n",
    "This implementation produces a sparse representation.\n"
   ]
  },
  {
   "cell_type": "code",
   "execution_count": 30,
   "metadata": {},
   "outputs": [
    {
     "name": "stdout",
     "output_type": "stream",
     "text": [
      "['above', 'above all', 'all', 'all to', 'be', 'be true', 'come', 'come to', 'denmark', 'in', 'in the', 'is', 'is rotten', 'it', 'it should', 'of', 'of denmark', 'own', 'own self', 'rotten', 'rotten in', 'self', 'self be', 'should', 'should come', 'something', 'something is', 'state', 'state of', 'that', 'that it', 'the', 'the state', 'thine', 'thine own', 'this', 'this above', 'to', 'to thine', 'to this', 'true']\n"
     ]
    }
   ],
   "source": [
    "from sklearn.feature_extraction.text import CountVectorizer\n",
    "\n",
    "text = ['That it should come to this!', 'This above all: to thine own self be true.', 'Something is rotten in the state of Denmark.']\n",
    "\n",
    "# CountVectorizer is a class; so `vectorizer` below represents an instance of that object.\n",
    "vectorizer = CountVectorizer(ngram_range=(1,2))\n",
    "\n",
    "# call `fit` to build the vocabulary\n",
    "vectorizer.fit(text)\n",
    "\n",
    "# then, use `get_feature_names` to return the tokens\n",
    "print(vectorizer.get_feature_names())\n",
    "\n",
    "# finally, call `transform` to convert text to a bag of words\n",
    "x = vectorizer.transform(text)"
   ]
  },
  {
   "cell_type": "code",
   "execution_count": 31,
   "metadata": {},
   "outputs": [
    {
     "name": "stdout",
     "output_type": "stream",
     "text": [
      "Sparse Matrix\n",
      "<class 'scipy.sparse.csr.csr_matrix'>\n",
      "  (0, 6)\t1\n",
      "  (0, 7)\t1\n",
      "  (0, 13)\t1\n",
      "  (0, 14)\t1\n",
      "  (0, 23)\t1\n",
      "  (0, 24)\t1\n",
      "  (0, 29)\t1\n",
      "  (0, 30)\t1\n",
      "  (0, 35)\t1\n",
      "  (0, 37)\t1\n",
      "  (0, 39)\t1\n",
      "  (1, 0)\t1\n",
      "  (1, 1)\t1\n",
      "  (1, 2)\t1\n",
      "  (1, 3)\t1\n",
      "  (1, 4)\t1\n",
      "  (1, 5)\t1\n",
      "  (1, 17)\t1\n",
      "  (1, 18)\t1\n",
      "  (1, 21)\t1\n",
      "  (1, 22)\t1\n",
      "  (1, 33)\t1\n",
      "  (1, 34)\t1\n",
      "  (1, 35)\t1\n",
      "  (1, 36)\t1\n",
      "  (1, 37)\t1\n",
      "  (1, 38)\t1\n",
      "  (1, 40)\t1\n",
      "  (2, 8)\t1\n",
      "  (2, 9)\t1\n",
      "  (2, 10)\t1\n",
      "  (2, 11)\t1\n",
      "  (2, 12)\t1\n",
      "  (2, 15)\t1\n",
      "  (2, 16)\t1\n",
      "  (2, 19)\t1\n",
      "  (2, 20)\t1\n",
      "  (2, 25)\t1\n",
      "  (2, 26)\t1\n",
      "  (2, 27)\t1\n",
      "  (2, 28)\t1\n",
      "  (2, 31)\t1\n",
      "  (2, 32)\t1\n",
      "Matrix\n",
      "<class 'numpy.ndarray'>\n",
      "[[0 0 0 0 0 0 1 1 0 0 0 0 0 1 1 0 0 0 0 0 0 0 0 1 1 0 0 0 0 1 1 0 0 0 0 1\n",
      "  0 1 0 1 0]\n",
      " [1 1 1 1 1 1 0 0 0 0 0 0 0 0 0 0 0 1 1 0 0 1 1 0 0 0 0 0 0 0 0 0 0 1 1 1\n",
      "  1 1 1 0 1]\n",
      " [0 0 0 0 0 0 0 0 1 1 1 1 1 0 0 1 1 0 0 1 1 0 0 0 0 1 1 1 1 0 0 1 1 0 0 0\n",
      "  0 0 0 0 0]]\n"
     ]
    }
   ],
   "source": [
    "print('Sparse Matrix')\n",
    "# A compressed version; the \"sparse\" matrix.\n",
    "print(type(x))\n",
    "print(x)\n",
    "\n",
    "print ('Matrix')\n",
    "x_back = x.toarray()\n",
    "print(type(x_back))\n",
    "print(x_back)"
   ]
  },
  {
   "cell_type": "code",
   "execution_count": 32,
   "metadata": {},
   "outputs": [
    {
     "data": {
      "text/html": [
       "<div>\n",
       "<style scoped>\n",
       "    .dataframe tbody tr th:only-of-type {\n",
       "        vertical-align: middle;\n",
       "    }\n",
       "\n",
       "    .dataframe tbody tr th {\n",
       "        vertical-align: top;\n",
       "    }\n",
       "\n",
       "    .dataframe thead th {\n",
       "        text-align: right;\n",
       "    }\n",
       "</style>\n",
       "<table border=\"1\" class=\"dataframe\">\n",
       "  <thead>\n",
       "    <tr style=\"text-align: right;\">\n",
       "      <th></th>\n",
       "      <th>above</th>\n",
       "      <th>above all</th>\n",
       "      <th>all</th>\n",
       "      <th>all to</th>\n",
       "      <th>be</th>\n",
       "      <th>be true</th>\n",
       "      <th>come</th>\n",
       "      <th>come to</th>\n",
       "      <th>denmark</th>\n",
       "      <th>in</th>\n",
       "      <th>...</th>\n",
       "      <th>the</th>\n",
       "      <th>the state</th>\n",
       "      <th>thine</th>\n",
       "      <th>thine own</th>\n",
       "      <th>this</th>\n",
       "      <th>this above</th>\n",
       "      <th>to</th>\n",
       "      <th>to thine</th>\n",
       "      <th>to this</th>\n",
       "      <th>true</th>\n",
       "    </tr>\n",
       "  </thead>\n",
       "  <tbody>\n",
       "    <tr>\n",
       "      <th>0</th>\n",
       "      <td>0</td>\n",
       "      <td>0</td>\n",
       "      <td>0</td>\n",
       "      <td>0</td>\n",
       "      <td>0</td>\n",
       "      <td>0</td>\n",
       "      <td>1</td>\n",
       "      <td>1</td>\n",
       "      <td>0</td>\n",
       "      <td>0</td>\n",
       "      <td>...</td>\n",
       "      <td>0</td>\n",
       "      <td>0</td>\n",
       "      <td>0</td>\n",
       "      <td>0</td>\n",
       "      <td>1</td>\n",
       "      <td>0</td>\n",
       "      <td>1</td>\n",
       "      <td>0</td>\n",
       "      <td>1</td>\n",
       "      <td>0</td>\n",
       "    </tr>\n",
       "    <tr>\n",
       "      <th>1</th>\n",
       "      <td>1</td>\n",
       "      <td>1</td>\n",
       "      <td>1</td>\n",
       "      <td>1</td>\n",
       "      <td>1</td>\n",
       "      <td>1</td>\n",
       "      <td>0</td>\n",
       "      <td>0</td>\n",
       "      <td>0</td>\n",
       "      <td>0</td>\n",
       "      <td>...</td>\n",
       "      <td>0</td>\n",
       "      <td>0</td>\n",
       "      <td>1</td>\n",
       "      <td>1</td>\n",
       "      <td>1</td>\n",
       "      <td>1</td>\n",
       "      <td>1</td>\n",
       "      <td>1</td>\n",
       "      <td>0</td>\n",
       "      <td>1</td>\n",
       "    </tr>\n",
       "    <tr>\n",
       "      <th>2</th>\n",
       "      <td>0</td>\n",
       "      <td>0</td>\n",
       "      <td>0</td>\n",
       "      <td>0</td>\n",
       "      <td>0</td>\n",
       "      <td>0</td>\n",
       "      <td>0</td>\n",
       "      <td>0</td>\n",
       "      <td>1</td>\n",
       "      <td>1</td>\n",
       "      <td>...</td>\n",
       "      <td>1</td>\n",
       "      <td>1</td>\n",
       "      <td>0</td>\n",
       "      <td>0</td>\n",
       "      <td>0</td>\n",
       "      <td>0</td>\n",
       "      <td>0</td>\n",
       "      <td>0</td>\n",
       "      <td>0</td>\n",
       "      <td>0</td>\n",
       "    </tr>\n",
       "  </tbody>\n",
       "</table>\n",
       "<p>3 rows × 41 columns</p>\n",
       "</div>"
      ],
      "text/plain": [
       "   above  above all  all  all to  be  be true  come  come to  denmark  in  \\\n",
       "0      0          0    0       0   0        0     1        1        0   0   \n",
       "1      1          1    1       1   1        1     0        0        0   0   \n",
       "2      0          0    0       0   0        0     0        0        1   1   \n",
       "\n",
       "   ...   the  the state  thine  thine own  this  this above  to  to thine  \\\n",
       "0  ...     0          0      0          0     1           0   1         0   \n",
       "1  ...     0          0      1          1     1           1   1         1   \n",
       "2  ...     1          1      0          0     0           0   0         0   \n",
       "\n",
       "   to this  true  \n",
       "0        1     0  \n",
       "1        0     1  \n",
       "2        0     0  \n",
       "\n",
       "[3 rows x 41 columns]"
      ]
     },
     "execution_count": 32,
     "metadata": {},
     "output_type": "execute_result"
    }
   ],
   "source": [
    "pd.DataFrame(x_back, columns=vectorizer.get_feature_names())"
   ]
  },
  {
   "cell_type": "code",
   "execution_count": 33,
   "metadata": {},
   "outputs": [],
   "source": [
    "#### TF: frequency in this document\n",
    "#### IDF: inverse frequency in the corpus\n",
    "\n",
    "import numpy as np\n",
    "from sklearn.feature_extraction.text import TfidfVectorizer \n",
    "from sklearn.naive_bayes import MultinomialNB\n",
    "\n",
    "vectorizer = TfidfVectorizer(stop_words=\"english\", ngram_range=(1,2))\n",
    "doc_vectors = vectorizer.fit_transform(documents) # remember, this is our movie review dataset\n",
    "\n",
    "classes = np.array(['pos']*50 + ['neg']*50)\n",
    "\n",
    "\n",
    "model = MultinomialNB().fit(doc_vectors, classes)"
   ]
  },
  {
   "cell_type": "code",
   "execution_count": 34,
   "metadata": {},
   "outputs": [
    {
     "ename": "NameError",
     "evalue": "name 'GATSBY_TEXT' is not defined",
     "output_type": "error",
     "traceback": [
      "\u001b[0;31m---------------------------------------------------------------------------\u001b[0m",
      "\u001b[0;31mNameError\u001b[0m                                 Traceback (most recent call last)",
      "\u001b[0;32m<ipython-input-34-ee9a41421a4a>\u001b[0m in \u001b[0;36m<module>\u001b[0;34m()\u001b[0m\n\u001b[0;32m----> 1\u001b[0;31m \u001b[0mprint\u001b[0m\u001b[0;34m(\u001b[0m\u001b[0mGATSBY_TEXT\u001b[0m\u001b[0;34m)\u001b[0m\u001b[0;34m\u001b[0m\u001b[0m\n\u001b[0m",
      "\u001b[0;31mNameError\u001b[0m: name 'GATSBY_TEXT' is not defined"
     ]
    }
   ],
   "source": [
    "print(GATSBY_TEXT)"
   ]
  },
  {
   "cell_type": "code",
   "execution_count": 35,
   "metadata": {},
   "outputs": [
    {
     "ename": "NameError",
     "evalue": "name 'GATSBY_TEXT' is not defined",
     "output_type": "error",
     "traceback": [
      "\u001b[0;31m---------------------------------------------------------------------------\u001b[0m",
      "\u001b[0;31mNameError\u001b[0m                                 Traceback (most recent call last)",
      "\u001b[0;32m<ipython-input-35-44fa1c76910d>\u001b[0m in \u001b[0;36m<module>\u001b[0;34m()\u001b[0m\n\u001b[0;32m----> 1\u001b[0;31m \u001b[0mgatsby_vector\u001b[0m \u001b[0;34m=\u001b[0m \u001b[0mvectorizer\u001b[0m\u001b[0;34m.\u001b[0m\u001b[0mtransform\u001b[0m\u001b[0;34m(\u001b[0m\u001b[0;34m[\u001b[0m\u001b[0mGATSBY_TEXT\u001b[0m\u001b[0;34m]\u001b[0m\u001b[0;34m)\u001b[0m\u001b[0;34m\u001b[0m\u001b[0m\n\u001b[0m\u001b[1;32m      2\u001b[0m \u001b[0mmodel\u001b[0m\u001b[0;34m.\u001b[0m\u001b[0mpredict\u001b[0m\u001b[0;34m(\u001b[0m\u001b[0mgatsby_vector\u001b[0m\u001b[0;34m)\u001b[0m\u001b[0;34m\u001b[0m\u001b[0m\n",
      "\u001b[0;31mNameError\u001b[0m: name 'GATSBY_TEXT' is not defined"
     ]
    }
   ],
   "source": [
    "gatsby_vector = vectorizer.transform([GATSBY_TEXT])\n",
    "model.predict(gatsby_vector)"
   ]
  },
  {
   "cell_type": "code",
   "execution_count": null,
   "metadata": {},
   "outputs": [],
   "source": []
  }
 ],
 "metadata": {
  "anaconda-cloud": {},
  "kernelspec": {
   "display_name": "Python 3",
   "language": "python",
   "name": "python3"
  },
  "language_info": {
   "codemirror_mode": {
    "name": "ipython",
    "version": 3
   },
   "file_extension": ".py",
   "mimetype": "text/x-python",
   "name": "python",
   "nbconvert_exporter": "python",
   "pygments_lexer": "ipython3",
   "version": "3.6.4"
  },
  "toc": {
   "base_numbering": 1,
   "nav_menu": {
    "height": "228px",
    "width": "252px"
   },
   "number_sections": false,
   "sideBar": false,
   "skip_h1_title": false,
   "title_cell": "Table of Contents",
   "title_sidebar": "Contents",
   "toc_cell": false,
   "toc_position": {},
   "toc_section_display": "block",
   "toc_window_display": false
  }
 },
 "nbformat": 4,
 "nbformat_minor": 1
}
