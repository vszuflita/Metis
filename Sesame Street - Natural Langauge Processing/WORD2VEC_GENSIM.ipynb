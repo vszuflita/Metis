{
 "cells": [
  {
   "cell_type": "markdown",
   "metadata": {},
   "source": [
    "# WORD2VEC\n",
    "\n",
    "## Working with Word2Vec with Gensim\n"
   ]
  },
  {
   "cell_type": "markdown",
   "metadata": {},
   "source": [
    "### Objectives\n",
    "- Visualize word vectorization\n",
    "- Prepare gensim environment\n",
    "- Fit word2vec models\n",
    "- Interpret latent variables/vectors\n",
    "- Find similar words and word pairs\n",
    "- Use externally-trained matrices of latent features"
   ]
  },
  {
   "cell_type": "markdown",
   "metadata": {},
   "source": [
    "We have been working with a number of techniques and tools that help us navigate the world of NLP. For example, we have CountVectorizer:"
   ]
  },
  {
   "cell_type": "code",
   "execution_count": 1,
   "metadata": {},
   "outputs": [
    {
     "data": {
      "text/html": [
       "<div>\n",
       "<style scoped>\n",
       "    .dataframe tbody tr th:only-of-type {\n",
       "        vertical-align: middle;\n",
       "    }\n",
       "\n",
       "    .dataframe tbody tr th {\n",
       "        vertical-align: top;\n",
       "    }\n",
       "\n",
       "    .dataframe thead th {\n",
       "        text-align: right;\n",
       "    }\n",
       "</style>\n",
       "<table border=\"1\" class=\"dataframe\">\n",
       "  <thead>\n",
       "    <tr style=\"text-align: right;\">\n",
       "      <th></th>\n",
       "      <th>above</th>\n",
       "      <th>above all</th>\n",
       "      <th>all</th>\n",
       "      <th>all to</th>\n",
       "      <th>be</th>\n",
       "      <th>be true</th>\n",
       "      <th>come</th>\n",
       "      <th>come to</th>\n",
       "      <th>denmark</th>\n",
       "      <th>in</th>\n",
       "      <th>...</th>\n",
       "      <th>the</th>\n",
       "      <th>the state</th>\n",
       "      <th>thine</th>\n",
       "      <th>thine own</th>\n",
       "      <th>this</th>\n",
       "      <th>this above</th>\n",
       "      <th>to</th>\n",
       "      <th>to thine</th>\n",
       "      <th>to this</th>\n",
       "      <th>true</th>\n",
       "    </tr>\n",
       "  </thead>\n",
       "  <tbody>\n",
       "    <tr>\n",
       "      <th>0</th>\n",
       "      <td>0</td>\n",
       "      <td>0</td>\n",
       "      <td>0</td>\n",
       "      <td>0</td>\n",
       "      <td>0</td>\n",
       "      <td>0</td>\n",
       "      <td>1</td>\n",
       "      <td>1</td>\n",
       "      <td>0</td>\n",
       "      <td>0</td>\n",
       "      <td>...</td>\n",
       "      <td>0</td>\n",
       "      <td>0</td>\n",
       "      <td>0</td>\n",
       "      <td>0</td>\n",
       "      <td>1</td>\n",
       "      <td>0</td>\n",
       "      <td>1</td>\n",
       "      <td>0</td>\n",
       "      <td>1</td>\n",
       "      <td>0</td>\n",
       "    </tr>\n",
       "    <tr>\n",
       "      <th>1</th>\n",
       "      <td>1</td>\n",
       "      <td>1</td>\n",
       "      <td>1</td>\n",
       "      <td>1</td>\n",
       "      <td>1</td>\n",
       "      <td>1</td>\n",
       "      <td>0</td>\n",
       "      <td>0</td>\n",
       "      <td>0</td>\n",
       "      <td>0</td>\n",
       "      <td>...</td>\n",
       "      <td>0</td>\n",
       "      <td>0</td>\n",
       "      <td>1</td>\n",
       "      <td>1</td>\n",
       "      <td>1</td>\n",
       "      <td>1</td>\n",
       "      <td>1</td>\n",
       "      <td>1</td>\n",
       "      <td>0</td>\n",
       "      <td>1</td>\n",
       "    </tr>\n",
       "    <tr>\n",
       "      <th>2</th>\n",
       "      <td>0</td>\n",
       "      <td>0</td>\n",
       "      <td>0</td>\n",
       "      <td>0</td>\n",
       "      <td>0</td>\n",
       "      <td>0</td>\n",
       "      <td>0</td>\n",
       "      <td>0</td>\n",
       "      <td>1</td>\n",
       "      <td>1</td>\n",
       "      <td>...</td>\n",
       "      <td>1</td>\n",
       "      <td>1</td>\n",
       "      <td>0</td>\n",
       "      <td>0</td>\n",
       "      <td>0</td>\n",
       "      <td>0</td>\n",
       "      <td>0</td>\n",
       "      <td>0</td>\n",
       "      <td>0</td>\n",
       "      <td>0</td>\n",
       "    </tr>\n",
       "  </tbody>\n",
       "</table>\n",
       "<p>3 rows × 40 columns</p>\n",
       "</div>"
      ],
      "text/plain": [
       "   above  above all  all  all to  be  be true  come  come to  denmark  in  \\\n",
       "0      0          0    0       0   0        0     1        1        0   0   \n",
       "1      1          1    1       1   1        1     0        0        0   0   \n",
       "2      0          0    0       0   0        0     0        0        1   1   \n",
       "\n",
       "   ...   the  the state  thine  thine own  this  this above  to  to thine  \\\n",
       "0  ...     0          0      0          0     1           0   1         0   \n",
       "1  ...     0          0      1          1     1           1   1         1   \n",
       "2  ...     1          1      0          0     0           0   0         0   \n",
       "\n",
       "   to this  true  \n",
       "0        1     0  \n",
       "1        0     1  \n",
       "2        0     0  \n",
       "\n",
       "[3 rows x 40 columns]"
      ]
     },
     "execution_count": 1,
     "metadata": {},
     "output_type": "execute_result"
    }
   ],
   "source": [
    "%matplotlib inline\n",
    "import pandas as pd\n",
    "from sklearn.feature_extraction.text import CountVectorizer\n",
    "import seaborn as sns  \n",
    "import numpy as np\n",
    "import matplotlib.pyplot as plt\n",
    "\n",
    "text = ['That is should come to this!', 'This above all: to thine own self be true.', 'Something is rotten in the state of Denmark.']\n",
    "vectorizer = CountVectorizer(ngram_range=(1,2))\n",
    "\n",
    "vectorizer.fit(text)\n",
    "x = vectorizer.transform(text)\n",
    "x_back = x.toarray()\n",
    "\n",
    "pd.DataFrame(x_back, columns=vectorizer.get_feature_names())"
   ]
  },
  {
   "cell_type": "markdown",
   "metadata": {},
   "source": [
    ">An Adverse Traits abou the Bag of Words model: Word Context & semantic meaning does not play a role.\n",
    "\n",
    "\n",
    ">But then came Word2Vec!\n",
    "\n",
    ">We will see that with Word2Vec, context does play a role and it can decipher relationships between words."
   ]
  },
  {
   "cell_type": "code",
   "execution_count": 2,
   "metadata": {},
   "outputs": [
    {
     "data": {
      "image/png": "[encoded data removed]",
      "text/plain": [
       "<matplotlib.figure.Figure at 0x1130870b8>"
      ]
     },
     "metadata": {},
     "output_type": "display_data"
    }
   ],
   "source": [
    "words = ['king','queen', 'man', 'woman']  \n",
    "\n",
    "vectors = np.array([[0.6,   0.8], \n",
    "                    [0.8, 0.6],\n",
    "                   [.2,.4],[.4,.2]]\n",
    "                 ) \n",
    "\n",
    "plt.plot(vectors[:,0], vectors[:,1], 'o')  \n",
    "plt.xlim(0, 1.5)  \n",
    "plt.ylim(0, 1.5)  \n",
    "for word, x, y in zip(words, vectors[:,0], vectors[:,1]):  \n",
    "    plt.annotate(word, (x, y), size=12)"
   ]
  },
  {
   "cell_type": "markdown",
   "metadata": {},
   "source": [
    "More examples:\n",
    "![](https://www.tensorflow.org/images/linear-relationships.png)"
   ]
  },
  {
   "cell_type": "markdown",
   "metadata": {},
   "source": [
    "## First things first :\n",
    "\n",
    "**1) Install Gensim: **\n",
    "\n",
    "pip install gensim\n",
    "\n",
    "**  2)  Make sure cython is installed ? **\n",
    "\n",
    "cython -V\n",
    "\n",
    "(if no cython):\n",
    "\n",
    "pip install cython\n",
    "\n",
    "\n",
    "** 3) test (Run the sample code in following cell) **\n"
   ]
  },
  {
   "cell_type": "code",
   "execution_count": 3,
   "metadata": {},
   "outputs": [
    {
     "name": "stdout",
     "output_type": "stream",
     "text": [
      "[['will', 'this', 'work?', \"i'm\", 'not', 'sure.', 'if', 'not', 'go', 'to', 'step', '#4', '(above)']]\n"
     ]
    }
   ],
   "source": [
    "import gensim\n",
    "documents = [\"Will this work?  I'm not sure.  If not go to step #4 (above)\"]\n",
    "texts = [[word for word in document.lower().split()]\n",
    "         for document in documents]\n",
    "\n",
    "\n",
    "print (texts)\n",
    "model = gensim.models.Word2Vec(texts, size=100, window=5, min_count=1, workers=4,sg=1)"
   ]
  },
  {
   "cell_type": "markdown",
   "metadata": {},
   "source": [
    "\n",
    "**4) If you see the following error : \"UserWarning: C extension not loaded for Word2Vec\"**\n",
    "\n",
    "\n",
    "Do the following:\n",
    "\n",
    "1.  pip uninstall gensim\n",
    "2.  pip uninstall scipy \n",
    "\n",
    "3. pip install --no-cache-dir scipy==0.15.1\n",
    "4. pip install --no-cache-dir gensim==0.12.1\n",
    "\n",
    "\n",
    "**Refer to the following:** https://groups.google.com/forum/#!topic/gensim/isBqIhrw9mk"
   ]
  },
  {
   "cell_type": "code",
   "execution_count": 4,
   "metadata": {},
   "outputs": [],
   "source": [
    "# A 'Gensim' example: \n",
    "\n",
    "documents = [\"Human machine interface for lab abc computer applications\",\n",
    "             \"A survey of user opinion of computer system response time\",\n",
    "             \"The EPS user interface management system\",\n",
    "             \"System and human system engineering testing of EPS\",\n",
    "              \"Relation of user perceived response time to error measurement\",\n",
    "              \"The generation of random binary unordered trees\",\n",
    "              \"The intersection graph of paths in trees\",\n",
    "              \"Graph minors IV Widths of trees and well quasi ordering\",\n",
    "              \"Graph minors A survey\"]"
   ]
  },
  {
   "cell_type": "markdown",
   "metadata": {},
   "source": [
    "## Word2Vec Preprocessing\n",
    "\n",
    "1. Tokenization   \n",
    "2. Remove stop words    \n",
    "3. Convert to lowercase     \n",
    "4. Others: stemming.. "
   ]
  },
  {
   "cell_type": "code",
   "execution_count": 6,
   "metadata": {
    "run_control": {
     "marked": true
    }
   },
   "outputs": [
    {
     "name": "stdout",
     "output_type": "stream",
     "text": [
      "[['human', 'machine', 'interface', 'lab', 'abc', 'computer', 'applications'], ['survey', 'user', 'opinion', 'computer', 'system', 'response', 'time'], ['eps', 'user', 'interface', 'management', 'system'], ['system', 'human', 'system', 'engineering', 'testing', 'eps'], ['relation', 'user', 'perceived', 'response', 'time', 'error', 'measurement'], ['generation', 'random', 'binary', 'unordered', 'trees'], ['intersection', 'graph', 'paths', 'trees'], ['graph', 'minors', 'iv', 'widths', 'trees', 'well', 'quasi', 'ordering'], ['graph', 'minors', 'survey']]\n"
     ]
    }
   ],
   "source": [
    "### COULD BE USED TO FIND WHICH WORDS ARE OUTSIDE OF THE 300???\n",
    "\n",
    "# The type of input that Word2Vec is looking for.. \n",
    "stoplist = set('for a of the and to in'.split())\n",
    "texts = [[word for word in document.lower().split() if word not in stoplist]\n",
    "         for document in documents]\n",
    "\n",
    "print (texts)"
   ]
  },
  {
   "cell_type": "markdown",
   "metadata": {},
   "source": [
    "###  2: Word Representation\n",
    "\n",
    "Learn a continuous representation of words.\n",
    "Each word (w) is associated with it's own word vector"
   ]
  },
  {
   "cell_type": "code",
   "execution_count": 9,
   "metadata": {},
   "outputs": [],
   "source": [
    "import gensim  # using skip-gram\n",
    "model = gensim.models.Word2Vec(texts, size=100, window=5, min_count=1, workers=2, sg=1)\n",
    "##Size = # of themes. \n",
    "##Window = max distance between current and predicted word within a sentence. \n",
    "##Alpha = initial learning rate, gradient decents... a higher alpha may improve more quickly. Too high could be bad though!\n",
    "##workers = n jobs. Number of cores on your machine.\n",
    "##min_count = ignore words with a total frequency higher...\n",
    "##sg= training algorithm. If sg=1 skip-gram is employed. "
   ]
  },
  {
   "cell_type": "markdown",
   "metadata": {},
   "source": [
    "[See Wiki on arguments](https://en.wikipedia.org/wiki/Word2vec)\n",
    "\n",
    "A Word2vec model can be trained with hierarchical softmax and/or negative sampling. To approximate the conditional log-likelihood a model seeks to maximize, the hierarchical softmax method uses a Huffman tree to reduce calculation. The negative sampling method, on the other hand, approaches the maximization problem by minimizing the log-likelihood of sampled negative instances. According to the authors, hierarchical softmax works better for infrequent words while negative sampling works better for frequent words and better with low dimensional vectors. As training epochs increase, hierarchical softmax stops being useful.\n",
    "\n",
    "The size of the context window determines how many words before and after a given word would be included as context words of the given word. The recommended value is 10 for skip-gram and 5 for CBOW."
   ]
  },
  {
   "cell_type": "code",
   "execution_count": 10,
   "metadata": {},
   "outputs": [
    {
     "data": {
      "text/plain": [
       "[('human', <gensim.models.keyedvectors.Vocab at 0x10bd4db38>),\n",
       " ('machine', <gensim.models.keyedvectors.Vocab at 0x10bd4dd68>),\n",
       " ('interface', <gensim.models.keyedvectors.Vocab at 0x116fd75c0>),\n",
       " ('lab', <gensim.models.keyedvectors.Vocab at 0x117079da0>),\n",
       " ('abc', <gensim.models.keyedvectors.Vocab at 0x117079358>),\n",
       " ('computer', <gensim.models.keyedvectors.Vocab at 0x117079438>),\n",
       " ('applications', <gensim.models.keyedvectors.Vocab at 0x1170793c8>)]"
      ]
     },
     "execution_count": 10,
     "metadata": {},
     "output_type": "execute_result"
    }
   ],
   "source": [
    "# take a look at vocab\n",
    "list(model.wv.vocab.items())[:7]"
   ]
  },
  {
   "cell_type": "code",
   "execution_count": 12,
   "metadata": {},
   "outputs": [
    {
     "name": "stdout",
     "output_type": "stream",
     "text": [
      "[-1.9285802e-04  1.3810166e-03  3.8193651e-03  5.5688848e-05\n",
      " -3.6429199e-03 -9.2570327e-04 -3.5730741e-04  2.3620075e-03\n",
      " -1.7290349e-03  2.1598670e-03 -2.5919692e-03 -1.5695589e-03\n",
      " -2.5393939e-04 -3.3594372e-03 -4.2818440e-03  1.8896997e-03\n",
      " -1.8224779e-03  3.3509298e-03  2.7632331e-03  3.3835461e-03\n",
      " -4.6467767e-03  2.5389486e-03 -3.5241051e-03  3.6548134e-03\n",
      " -3.7572446e-04  3.9254301e-03 -1.3791159e-04 -3.4109005e-03\n",
      " -4.8054676e-04  3.4480700e-03 -4.5486153e-03  1.0148939e-03\n",
      " -4.3545174e-04 -1.5083039e-03  1.7822874e-03  4.2164879e-04\n",
      "  8.2484522e-04 -2.2940205e-03 -1.4256607e-03  3.5381988e-03\n",
      "  3.0657130e-03  1.4284333e-03  2.9826227e-03 -3.9310330e-03\n",
      "  1.5537190e-03 -1.0557568e-03 -3.0376341e-03 -2.3719128e-03\n",
      "  8.0046651e-04 -4.5846333e-03 -2.9804283e-03 -2.7413475e-03\n",
      " -1.8361523e-03  2.5917214e-04 -1.3490518e-03 -1.9340572e-03\n",
      " -3.9162347e-03 -2.9250965e-03  4.0880977e-03  4.2026518e-03\n",
      "  2.9052205e-03  5.2758838e-05  3.4243613e-03  3.4538521e-03\n",
      "  2.6513971e-03 -2.7919407e-03 -3.1950749e-03 -1.7721771e-03\n",
      " -6.2184763e-04  1.1684989e-03  4.3617808e-03 -1.3979401e-04\n",
      "  2.0214170e-03 -2.7586364e-03  6.1922747e-04  2.0220384e-03\n",
      " -1.6809450e-03  1.5985956e-03 -4.3169088e-03  1.1462385e-03\n",
      " -4.7949636e-03  2.7424088e-03 -2.0625684e-03  2.6848018e-03\n",
      " -1.2325859e-04  7.8261096e-04 -1.9975940e-03 -4.1351570e-03\n",
      " -3.7814444e-03 -1.7148063e-03  3.0848270e-03 -5.1827525e-04\n",
      "  2.5288030e-03 -1.7885717e-03 -2.2369060e-03 -3.5090584e-03\n",
      " -2.8915505e-03 -3.8280066e-03 -1.7103510e-03  4.7248886e-03]\n"
     ]
    },
    {
     "name": "stderr",
     "output_type": "stream",
     "text": [
      "/Users/vicky/anaconda3/lib/python3.6/site-packages/ipykernel_launcher.py:2: DeprecationWarning: Call to deprecated `__getitem__` (Method will be removed in 4.0.0, use self.wv.__getitem__() instead).\n",
      "  \n"
     ]
    }
   ],
   "source": [
    "#  and voila, we have our word vector \n",
    "# The VxN, 100 of the row associated with the word \"trees\". \n",
    "print (model['trees'])"
   ]
  },
  {
   "cell_type": "markdown",
   "metadata": {},
   "source": [
    "###  What do we have? Word Embeddings \n",
    "\n",
    "**A word embedding W : words → ℝn **\n",
    "\n",
    "The output above is the result of 'word' projections in a latent space\n",
    "of N dimensions, (N ~ size of NN layer we chose).     \n",
    "Our float values above represent the coordinates for the word 'computer' in our 100-dimensional space!\n",
    "\n",
    "Our high dimensional vectors stand in place for words.    \n",
    "Note, that these dimensions are encoding 'latent' properties for 'computer' (such that 'queen' will be geometrically closer to 'king' than it would to be to (let's say) 'computer'. \n",
    "\n",
    "Word Embeddings are useful because:\n",
    "\n",
    "1.  We can measure the semantic similarity between two words\n",
    "2.  We can use these word vectors as features for various NLP supervised learning tasks (such as classification, sentiment analysis). "
   ]
  },
  {
   "cell_type": "markdown",
   "metadata": {},
   "source": [
    "### 3:  Skip-Gram Methods &  CBOW Methods : \n",
    "\n",
    "#### Skip-Gram example sentence:\n",
    "\n",
    ">\"We are on the cusp of deep learning for the masses\"\n",
    "\n",
    "For Context Window = 2:\n",
    "-- How many words around it are you considering for context?\n",
    "\n",
    "*We could get the following training examples: (Where target word is __underlined__) *\n",
    "\n",
    "\n",
    "__We__ are on \n",
    "\n",
    "We __are__ on the\n",
    "\n",
    "We are __on__ the cusp\n",
    "\n",
    "\n",
    "#### What's happening underneath the hood?:\n",
    "We have input of skip-gram is a single word (Wi) **'learning'**, we will determine the probability of seeing the words (Wo) : 'of','deep', 'for','the'.\n",
    "\n",
    "1. Transform our vobabulary into a 'bag of indices'\n",
    "\n",
    "2. One-hot encode (input vectors) \n",
    "\n",
    "3. Randomly initialize the Weight Vectors\n",
    "\n",
    "4. Get dot product: (Input vector.InputWeightMatrix) ~ (this is just the weight vector for 'learning')\n",
    "\n",
    "5. Get dot product:  ('learning' weight vector).(Output Weight Matrix) \n",
    "\n",
    "6. Calculate Softmax probabilities:\n",
    "    - What is the probability of 'seeing' the word 'deep' given that we've seen the word 'learning'?  -- >  Using SGD together with softmax regression, we will maximize the probability for 'deep' \n",
    "    - P(Wo|Wi) = (exp(Wi.Wo)/ sum(exp(Wi.Woj)   (sum~ sum of all Woj for all j in Vocabulary)\n",
    "\n",
    "7. As always, we update our Weight matrix to reduce our errors:\n",
    "    - Wi=Wi-a*ej*Wo\n",
    "\n",
    "8. Repeat...\n",
    "\n",
    "\n",
    "<img src='img/skip_gram.png'/>"
   ]
  },
  {
   "cell_type": "markdown",
   "metadata": {},
   "source": [
    "\n",
    "### CBOW: \n",
    "\n",
    "\n",
    "CBOW: very similiar model with the inputs & outputs reversed.  The input layer consists of our word window \n",
    "\n",
    "<img src='img/CBOW.png'/>\n",
    "\n"
   ]
  },
  {
   "cell_type": "markdown",
   "metadata": {},
   "source": [
    "### Let's work with a corpus from NLTK"
   ]
  },
  {
   "cell_type": "code",
   "execution_count": 17,
   "metadata": {},
   "outputs": [],
   "source": [
    "# WARNING: Use Scroll bar with NLTK download... or else?\n",
    "import nltk\n",
    "\n",
    "# nltk.download()"
   ]
  },
  {
   "cell_type": "code",
   "execution_count": 19,
   "metadata": {},
   "outputs": [],
   "source": [
    "# Build corpus from \n",
    "import os\n",
    "from nltk.corpus import stopwords\n",
    "\n",
    "stop = stopwords.words('english')\n",
    "stop+=['?','!','.',',',':',';']\n",
    "\n",
    "#creating our iterator\n",
    "\n",
    "\n",
    "# An Illustration.. \n",
    "\n",
    "import os\n",
    "\n",
    "class MySentences(object):\n",
    "    # a memory-friendly way to load a large corpora\n",
    "     def __init__(self, dirname):\n",
    "            self.dirname = dirname\n",
    " \n",
    "     def __iter__(self):\n",
    "        # iterate through all file names in our directory\n",
    "         for fname in os.listdir(self.dirname):\n",
    "                for line in open(os.path.join(self.dirname, fname), encoding=\"ISO-8859-1\"):\n",
    "                    word=line.lower().split()\n",
    "                    if word not in stop:\n",
    "                        yield word\n",
    "\n",
    "sentences = MySentences('/Users/vicky/nltk_data/corpora/gutenberg') \n",
    "model = gensim.models.Word2Vec(sentences,size=100,min_count=3,workers=4)"
   ]
  },
  {
   "cell_type": "code",
   "execution_count": 20,
   "metadata": {},
   "outputs": [
    {
     "name": "stderr",
     "output_type": "stream",
     "text": [
      "/Users/vicky/anaconda3/lib/python3.6/site-packages/ipykernel_launcher.py:1: DeprecationWarning: Call to deprecated `most_similar` (Method will be removed in 4.0.0, use self.wv.most_similar() instead).\n",
      "  \"\"\"Entry point for launching an IPython kernel.\n"
     ]
    },
    {
     "data": {
      "text/plain": [
       "[('heaven', 0.6541830897331238),\n",
       " ('judah,', 0.640622079372406),\n",
       " ('whole', 0.640110194683075),\n",
       " ('earth,', 0.6383094787597656),\n",
       " ('egypt,', 0.6316820383071899),\n",
       " ('israel.', 0.6271293759346008),\n",
       " ('south', 0.6190887689590454),\n",
       " ('peor,', 0.6067415475845337)]"
      ]
     },
     "execution_count": 20,
     "metadata": {},
     "output_type": "execute_result"
    }
   ],
   "source": [
    "model.most_similar('the' ,topn=8)\n",
    "## The words that are most related to \"the\"j"
   ]
  },
  {
   "cell_type": "code",
   "execution_count": null,
   "metadata": {},
   "outputs": [],
   "source": [
    "# Similarity\n",
    "\n",
    "model.similarity('man','flower')"
   ]
  },
  {
   "cell_type": "code",
   "execution_count": 23,
   "metadata": {},
   "outputs": [
    {
     "name": "stderr",
     "output_type": "stream",
     "text": [
      "/Users/vicky/anaconda3/lib/python3.6/site-packages/ipykernel_launcher.py:5: DeprecationWarning: Call to deprecated `n_similarity` (Method will be removed in 4.0.0, use self.wv.n_similarity() instead).\n",
      "  \"\"\"\n"
     ]
    },
    {
     "data": {
      "text/plain": [
       "0.8630180160265807"
      ]
     },
     "execution_count": 23,
     "metadata": {},
     "output_type": "execute_result"
    }
   ],
   "source": [
    "# Compute cosine_similarity\n",
    "#Looking at the angle between the two lines connecting the two words. Who cares how far apart they are! Just how parallel they are!\n",
    "#Ie. dog is to dog like cat is to cats. \n",
    "\n",
    "model.n_similarity(['dog', 'dogs'], ['cat', 'cats'])"
   ]
  },
  {
   "cell_type": "code",
   "execution_count": null,
   "metadata": {},
   "outputs": [],
   "source": [
    "model.doesnt_match(\"rabbit cow raven turtle\".split())"
   ]
  },
  {
   "cell_type": "markdown",
   "metadata": {},
   "source": [
    "\n",
    "### If you want to refine your model, you'll need more data:\n",
    "#### Let's work with Google's pre-trained [Word2Vect Model](https://drive.google.com/file/d/0B7XkCwpI5KDYNlNUTTlSS21pQmM/edit)"
   ]
  },
  {
   "cell_type": "code",
   "execution_count": null,
   "metadata": {
    "collapsed": true
   },
   "outputs": [],
   "source": [
    "import os\n",
    "\n",
    "# Setup nltk corpora path and Google Word2Vec location\n",
    "google_vec_file = '/Users/jb/Downloads/GoogleNews-vectors-negative300.bin'"
   ]
  },
  {
   "cell_type": "code",
   "execution_count": null,
   "metadata": {},
   "outputs": [],
   "source": [
    "model = gensim.models.KeyedVectors.load_word2vec_format(google_vec_file, binary=True)"
   ]
  },
  {
   "cell_type": "code",
   "execution_count": null,
   "metadata": {},
   "outputs": [],
   "source": [
    "model.most_similar('king' ,topn=4)"
   ]
  },
  {
   "cell_type": "code",
   "execution_count": null,
   "metadata": {},
   "outputs": [],
   "source": [
    "model.most_similar('president' ,topn=4)"
   ]
  },
  {
   "cell_type": "code",
   "execution_count": null,
   "metadata": {},
   "outputs": [],
   "source": [
    "model.n_similarity(['king', 'man'], ['queen', 'woman'])"
   ]
  },
  {
   "cell_type": "markdown",
   "metadata": {},
   "source": [
    "Other very cool methods!:      \n",
    "\n",
    "\n",
    "Doc2Vec extends the word2vec algorithm to larger blocks of texts (paragraphs, documents, articles):    \n",
    "- https://radimrehurek.com/gensim/models/doc2vec.html\n",
    "- http://learningaboutdata.blogspot.com/2014/06/plotting-word-embedding-using-tsne-with.html\n",
    "- https://districtdatalabs.silvrback.com/modern-methods-for-sentiment-analysis\n",
    "- https://radimrehurek.com/gensim/models/word2vec.html\n",
    "- https://www.tensorflow.org/tutorials/word2vec"
   ]
  },
  {
   "cell_type": "markdown",
   "metadata": {},
   "source": [
    "###   Some things to keep in Mind when using Word2Vec:\n",
    "\n",
    "Word2vec requires a lot of data to train.\n",
    "\n",
    "As we've illustrated, you can download pretrained vectors. However, if you would need to train your own data \n",
    "you will need a lot of it!  (Think Millions of words) \n"
   ]
  }
 ],
 "metadata": {
  "anaconda-cloud": {},
  "kernelspec": {
   "display_name": "Python 3",
   "language": "python",
   "name": "python3"
  },
  "language_info": {
   "codemirror_mode": {
    "name": "ipython",
    "version": 3
   },
   "file_extension": ".py",
   "mimetype": "text/x-python",
   "name": "python",
   "nbconvert_exporter": "python",
   "pygments_lexer": "ipython3",
   "version": "3.6.4"
  },
  "toc": {
   "base_numbering": 1,
   "nav_menu": {
    "height": "246px",
    "width": "252px"
   },
   "number_sections": false,
   "sideBar": false,
   "skip_h1_title": false,
   "title_cell": "Table of Contents",
   "title_sidebar": "Contents",
   "toc_cell": false,
   "toc_position": {},
   "toc_section_display": "block",
   "toc_window_display": false
  }
 },
 "nbformat": 4,
 "nbformat_minor": 2
}
